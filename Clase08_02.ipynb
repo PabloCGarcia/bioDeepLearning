{
  "nbformat": 4,
  "nbformat_minor": 0,
  "metadata": {
    "colab": {
      "name": "Clase08-02.ipynb",
      "provenance": [],
      "collapsed_sections": [],
      "authorship_tag": "ABX9TyNAW0tumjlnsDOc1eC1PEfy",
      "include_colab_link": true
    },
    "kernelspec": {
      "display_name": "Python 3",
      "name": "python3"
    }
  },
  "cells": [
    {
      "cell_type": "markdown",
      "metadata": {
        "id": "view-in-github",
        "colab_type": "text"
      },
      "source": [
        "<a href=\"https://colab.research.google.com/github/PabloCGarcia/bioDeepLearning/blob/main/Clase08_02.ipynb\" target=\"_parent\"><img src=\"https://colab.research.google.com/assets/colab-badge.svg\" alt=\"Open In Colab\"/></a>"
      ]
    },
    {
      "cell_type": "markdown",
      "metadata": {
        "id": "dY9isCLX1Qca"
      },
      "source": [
        "Clase de introducción de deepchem, experimentos con deep learning con datasets conocidos"
      ]
    },
    {
      "cell_type": "code",
      "metadata": {
        "colab": {
          "base_uri": "https://localhost:8080/"
        },
        "id": "WEFWsZon0nhZ",
        "outputId": "9323ce49-8030-4efd-fb4a-6bb62465d4f4"
      },
      "source": [
        "!pip install -q condacolab\r\n",
        "import condacolab\r\n",
        "condacolab.install()"
      ],
      "execution_count": 2,
      "outputs": [
        {
          "output_type": "stream",
          "text": [
            "⏬ Downloading https://github.com/jaimergp/miniforge/releases/latest/download/Mambaforge-colab-Linux-x86_64.sh...\n",
            "📦 Installing...\n",
            "📌 Adjusting configuration...\n",
            "🩹 Patching environment...\n",
            "⏲ Done in 0:00:31\n",
            "🔁 Restarting kernel...\n"
          ],
          "name": "stdout"
        }
      ]
    },
    {
      "cell_type": "code",
      "metadata": {
        "colab": {
          "base_uri": "https://localhost:8080/"
        },
        "id": "w74Ud-zN4Tg2",
        "outputId": "8d6677f1-ea47-404f-84ac-3a3244be5bdf"
      },
      "source": [
        "import condacolab\r\n",
        "condacolab.check()"
      ],
      "execution_count": 1,
      "outputs": [
        {
          "output_type": "stream",
          "text": [
            "✨🍰✨ Everything looks OK!\n"
          ],
          "name": "stdout"
        }
      ]
    },
    {
      "cell_type": "code",
      "metadata": {
        "colab": {
          "base_uri": "https://localhost:8080/"
        },
        "id": "TjkIrQwEvLSF",
        "outputId": "c0d8e946-1b13-4ab7-fe2c-93c89424419d"
      },
      "source": [
        "!conda install -y -c rdkit rdkit==2020.09.2"
      ],
      "execution_count": 2,
      "outputs": [
        {
          "output_type": "stream",
          "text": [
            "Collecting package metadata (current_repodata.json): - \b\b\\ \b\b| \b\b/ \b\b- \b\b\\ \b\b| \b\b/ \b\b- \b\b\\ \b\b| \b\b/ \b\b- \b\b\\ \b\b| \b\b/ \b\b- \b\b\\ \b\b| \b\b/ \b\b- \b\b\\ \b\b| \b\b/ \b\b- \b\b\\ \b\b| \b\b/ \b\b- \b\b\\ \b\b| \b\b/ \b\b- \b\b\\ \b\b| \b\b/ \b\b- \b\b\\ \b\b| \b\b/ \b\b- \b\b\\ \b\b| \b\b/ \b\b- \b\b\\ \b\b| \b\b/ \b\b- \b\b\\ \b\b| \b\b/ \b\b- \b\b\\ \b\b| \b\b/ \b\b- \b\b\\ \b\b| \b\b/ \b\b- \b\b\\ \b\b| \b\b/ \b\b- \b\bdone\n",
            "Solving environment: | \b\bfailed with initial frozen solve. Retrying with flexible solve.\n",
            "Collecting package metadata (repodata.json): - \b\b\\ \b\b| \b\b/ \b\b- \b\b\\ \b\b| \b\b/ \b\b- \b\b\\ \b\b| \b\b/ \b\b- \b\b\\ \b\b| \b\b/ \b\b- \b\b\\ \b\b| \b\b/ \b\b- \b\b\\ \b\b| \b\b/ \b\b- \b\b\\ \b\b| \b\b/ \b\b- \b\b\\ \b\b| \b\b/ \b\b- \b\b\\ \b\b| \b\b/ \b\b- \b\b\\ \b\b| \b\b/ \b\b- \b\b\\ \b\b| \b\b/ \b\b- \b\b\\ \b\b| \b\b/ \b\b- \b\b\\ \b\b| \b\b/ \b\b- \b\b\\ \b\b| \b\b/ \b\b- \b\b\\ \b\b| \b\b/ \b\b- \b\b\\ \b\b| \b\b/ \b\b- \b\b\\ \b\b| \b\b/ \b\b- \b\b\\ \b\b| \b\b/ \b\b- \b\b\\ \b\b| \b\b/ \b\b- \b\b\\ \b\b| \b\b/ \b\b- \b\b\\ \b\b| \b\b/ \b\b- \b\b\\ \b\b| \b\b/ \b\b- \b\b\\ \b\b| \b\b/ \b\b- \b\b\\ \b\b| \b\b/ \b\b- \b\b\\ \b\b| \b\b/ \b\b- \b\b\\ \b\b| \b\b/ \b\b- \b\b\\ \b\b| \b\b/ \b\b- \b\b\\ \b\b| \b\b/ \b\b- \b\b\\ \b\b| \b\b/ \b\b- \b\b\\ \b\b| \b\b/ \b\b- \b\b\\ \b\b| \b\b/ \b\b- \b\b\\ \b\b| \b\b/ \b\b- \b\b\\ \b\b| \b\b/ \b\b- \b\b\\ \b\b| \b\b/ \b\b- \b\b\\ \b\b| \b\b/ \b\b- \b\b\\ \b\b| \b\b/ \b\b- \b\b\\ \b\b| \b\b/ \b\b- \b\b\\ \b\b| \b\b/ \b\b- \b\b\\ \b\b| \b\b/ \b\b- \b\b\\ \b\b| \b\b/ \b\b- \b\b\\ \b\b| \b\b/ \b\b- \b\b\\ \b\b| \b\b/ \b\b- \b\b\\ \b\b| \b\b/ \b\b- \b\b\\ \b\b| \b\b/ \b\b- \b\b\\ \b\b| \b\b/ \b\b- \b\b\\ \b\b| \b\b/ \b\b- \b\b\\ \b\b| \b\b/ \b\b- \b\b\\ \b\b| \b\b/ \b\b- \b\b\\ \b\b| \b\b/ \b\b- \b\bdone\n",
            "Solving environment: | \b\b/ \b\b- \b\b\\ \b\b| \b\b/ \b\b- \b\b\\ \b\b| \b\b/ \b\b- \b\b\\ \b\b| \b\b/ \b\b- \b\b\\ \b\b| \b\b/ \b\b- \b\b\\ \b\b| \b\b/ \b\b- \b\b\\ \b\b| \b\b/ \b\b- \b\b\\ \b\b| \b\b/ \b\b- \b\b\\ \b\b| \b\b/ \b\b- \b\b\\ \b\b| \b\b/ \b\b- \b\b\\ \b\b| \b\b/ \b\b- \b\b\\ \b\b| \b\b/ \b\b- \b\b\\ \b\b| \b\b/ \b\b- \b\b\\ \b\b| \b\b/ \b\b- \b\b\\ \b\b| \b\b/ \b\b- \b\b\\ \b\b| \b\b/ \b\b- \b\b\\ \b\b| \b\b/ \b\b- \b\b\\ \b\b| \b\b/ \b\b- \b\b\\ \b\b| \b\b/ \b\b- \b\b\\ \b\b| \b\b/ \b\b- \b\b\\ \b\b| \b\b/ \b\b- \b\b\\ \b\b| \b\b/ \b\b- \b\b\\ \b\b| \b\b/ \b\b- \b\b\\ \b\b| \b\b/ \b\b- \b\b\\ \b\b| \b\b/ \b\b- \b\b\\ \b\b| \b\b/ \b\b- \b\b\\ \b\b| \b\b/ \b\b- \b\b\\ \b\b| \b\b/ \b\b- \b\b\\ \b\b| \b\b/ \b\b- \b\b\\ \b\b| \b\b/ \b\b- \b\b\\ \b\b| \b\b/ \b\b- \b\b\\ \b\b| \b\b/ \b\b- \b\b\\ \b\b| \b\b/ \b\b- \b\b\\ \b\b| \b\b/ \b\b- \b\b\\ \b\b| \b\b/ \b\b- \b\b\\ \b\b| \b\b/ \b\bfailed with initial frozen solve. Retrying with flexible solve.\n",
            "Solving environment: \\ \b\b| \b\b/ \b\b- \b\b\\ \b\b| \b\b/ \b\b- \b\b\\ \b\b| \b\b/ \b\b- \b\b\\ \b\b| \b\b/ \b\b- \b\b\\ \b\b| \b\b/ \b\b- \b\b\\ \b\b| \b\b/ \b\b- \b\b\\ \b\b| \b\b/ \b\b- \b\b\\ \b\b| \b\b/ \b\b- \b\b\\ \b\b| \b\b/ \b\b- \b\b\\ \b\b| \b\b/ \b\b- \b\b\\ \b\b| \b\b/ \b\b- \b\b\\ \b\b| \b\b/ \b\b- \b\b\\ \b\b| \b\b/ \b\b- \b\b\\ \b\b| \b\b/ \b\b- \b\b\\ \b\b| \b\b/ \b\b- \b\b\\ \b\b| \b\b/ \b\b- \b\b\\ \b\b| \b\b/ \b\b- \b\b\\ \b\b| \b\b/ \b\b- \b\b\\ \b\b| \b\b/ \b\b- \b\b\\ \b\b| \b\b/ \b\b- \b\b\\ \b\b| \b\b/ \b\b- \b\b\\ \b\b| \b\b/ \b\b- \b\b\\ \b\b| \b\b/ \b\b- \b\b\\ \b\b| \b\b/ \b\b- \b\b\\ \b\b| \b\b/ \b\b- \b\b\\ \b\b| \b\b/ \b\b- \b\b\\ \b\b| \b\b/ \b\b- \b\b\\ \b\b| \b\b/ \b\b- \b\b\\ \b\b| \b\b/ \b\b- \b\b\\ \b\b| \b\b/ \b\b- \b\b\\ \b\b| \b\b/ \b\b- \b\b\\ \b\b| \b\b/ \b\b- \b\b\\ \b\b| \b\b/ \b\b- \b\b\\ \b\b| \b\b/ \b\b- \b\b\\ \b\b| \b\b/ \b\b- \b\b\\ \b\b| \b\b/ \b\b- \b\b\\ \b\b| \b\b/ \b\b- \b\b\\ \b\b| \b\b/ \b\b- \b\b\\ \b\b| \b\b/ \b\b- \b\b\\ \b\b| \b\bdone\n",
            "\n",
            "## Package Plan ##\n",
            "\n",
            "  environment location: /usr/local\n",
            "\n",
            "  added / updated specs:\n",
            "    - rdkit==2020.09.2\n",
            "\n",
            "\n",
            "The following packages will be downloaded:\n",
            "\n",
            "    package                    |            build\n",
            "    ---------------------------|-----------------\n",
            "    boost-1.74.0               |   py37h6dcda5c_3         342 KB  conda-forge\n",
            "    boost-cpp-1.74.0           |       h9d3c048_1        16.3 MB  conda-forge\n",
            "    brotlipy-0.7.0             |py37h5e8e339_1001         341 KB  conda-forge\n",
            "    cairo-1.16.0               |    h7979940_1007         1.5 MB  conda-forge\n",
            "    certifi-2020.12.5          |   py37h89c1867_1         143 KB  conda-forge\n",
            "    cffi-1.14.5                |   py37hc58025e_0         225 KB  conda-forge\n",
            "    chardet-4.0.0              |   py37h89c1867_1         204 KB  conda-forge\n",
            "    conda-4.9.2                |   py37h89c1867_0         3.0 MB  conda-forge\n",
            "    conda-package-handling-1.7.2|   py37hb5d75c8_0         915 KB  conda-forge\n",
            "    cryptography-3.4.4         |   py37hf1a17b8_0         636 KB  conda-forge\n",
            "    cycler-0.10.0              |             py_2           9 KB  conda-forge\n",
            "    fontconfig-2.13.1          |    hba837de_1004         344 KB  conda-forge\n",
            "    freetype-2.10.4            |       h0708190_1         890 KB  conda-forge\n",
            "    gettext-0.19.8.1           |    h0b5b191_1005         3.6 MB  conda-forge\n",
            "    jpeg-9d                    |       h36c2ea0_0         264 KB  conda-forge\n",
            "    kiwisolver-1.3.1           |   py37h2527ec5_1          78 KB  conda-forge\n",
            "    lcms2-2.12                 |       hddcbb42_0         443 KB  conda-forge\n",
            "    libblas-3.9.0              |       8_openblas          11 KB  conda-forge\n",
            "    libcblas-3.9.0             |       8_openblas          11 KB  conda-forge\n",
            "    libgfortran-ng-9.3.0       |      hff62375_18          22 KB  conda-forge\n",
            "    libgfortran5-9.3.0         |      hff62375_18         2.0 MB  conda-forge\n",
            "    libglib-2.66.7             |       h1f3bc88_0         3.0 MB  conda-forge\n",
            "    liblapack-3.9.0            |       8_openblas          11 KB  conda-forge\n",
            "    libopenblas-0.3.12         |pthreads_h4812303_1         8.9 MB  conda-forge\n",
            "    libpng-1.6.37              |       h21135ba_2         306 KB  conda-forge\n",
            "    libtiff-4.2.0              |       hdc55705_0         633 KB  conda-forge\n",
            "    libuuid-2.32.1             |    h7f98852_1000          28 KB  conda-forge\n",
            "    libwebp-base-1.2.0         |       h7f98852_0         808 KB  conda-forge\n",
            "    libxcb-1.13                |    h7f98852_1003         395 KB  conda-forge\n",
            "    mamba-0.7.6                |   py37h0f36c0c_0         627 KB  conda-forge\n",
            "    matplotlib-base-3.3.4      |   py37h0c9df89_0         6.7 MB  conda-forge\n",
            "    numpy-1.20.1               |   py37haa41c4c_0         5.8 MB  conda-forge\n",
            "    olefile-0.46               |     pyh9f0ad1d_1          32 KB  conda-forge\n",
            "    openssl-1.1.1j             |       h7f98852_0         2.1 MB  conda-forge\n",
            "    pandas-1.2.2               |   py37hdc94413_0        11.7 MB  conda-forge\n",
            "    pcre-8.44                  |       he1b5a44_0         261 KB  conda-forge\n",
            "    pillow-8.1.0               |   py37h4600e1f_2         671 KB  conda-forge\n",
            "    pixman-0.40.0              |       h36c2ea0_0         627 KB  conda-forge\n",
            "    pthread-stubs-0.4          |    h36c2ea0_1001           5 KB  conda-forge\n",
            "    pycairo-1.20.0             |   py37h01af8b0_1          77 KB  conda-forge\n",
            "    pycosat-0.6.3              |py37h5e8e339_1006         107 KB  conda-forge\n",
            "    pyparsing-2.4.7            |     pyh9f0ad1d_0          60 KB  conda-forge\n",
            "    pysocks-1.7.1              |   py37h89c1867_3          27 KB  conda-forge\n",
            "    python-3.7.10              |hffdb5ce_100_cpython        57.3 MB  conda-forge\n",
            "    python-dateutil-2.8.1      |             py_0         220 KB  conda-forge\n",
            "    python_abi-3.7             |          1_cp37m           4 KB  conda-forge\n",
            "    pytz-2021.1                |     pyhd8ed1ab_0         239 KB  conda-forge\n",
            "    rdkit-2020.09.2            |   py37h713bca6_0        25.7 MB  conda-forge\n",
            "    reportlab-3.5.60           |   py37h69800bb_0         2.5 MB  conda-forge\n",
            "    ruamel_yaml-0.15.80        |py37h5e8e339_1004         270 KB  conda-forge\n",
            "    setuptools-49.6.0          |   py37h89c1867_3         947 KB  conda-forge\n",
            "    sqlalchemy-1.3.23          |   py37h5e8e339_0         1.8 MB  conda-forge\n",
            "    tornado-6.1                |   py37h5e8e339_1         646 KB  conda-forge\n",
            "    xorg-kbproto-1.0.7         |    h7f98852_1002          27 KB  conda-forge\n",
            "    xorg-libice-1.0.10         |       h516909a_0          57 KB  conda-forge\n",
            "    xorg-libsm-1.2.3           |    h84519dc_1000          25 KB  conda-forge\n",
            "    xorg-libx11-1.6.12         |       h516909a_0         917 KB  conda-forge\n",
            "    xorg-libxau-1.0.9          |       h7f98852_0          13 KB  conda-forge\n",
            "    xorg-libxdmcp-1.1.3        |       h7f98852_0          19 KB  conda-forge\n",
            "    xorg-libxext-1.3.4         |       h516909a_0          51 KB  conda-forge\n",
            "    xorg-libxrender-0.9.10     |    h516909a_1002          31 KB  conda-forge\n",
            "    xorg-renderproto-0.11.1    |    h14c3975_1002           8 KB  conda-forge\n",
            "    xorg-xextproto-7.3.0       |    h7f98852_1002          28 KB  conda-forge\n",
            "    xorg-xproto-7.0.31         |    h7f98852_1007          73 KB  conda-forge\n",
            "    ------------------------------------------------------------\n",
            "                                           Total:       164.9 MB\n",
            "\n",
            "The following NEW packages will be INSTALLED:\n",
            "\n",
            "  boost              conda-forge/linux-64::boost-1.74.0-py37h6dcda5c_3\n",
            "  boost-cpp          conda-forge/linux-64::boost-cpp-1.74.0-h9d3c048_1\n",
            "  cairo              conda-forge/linux-64::cairo-1.16.0-h7979940_1007\n",
            "  cycler             conda-forge/noarch::cycler-0.10.0-py_2\n",
            "  fontconfig         conda-forge/linux-64::fontconfig-2.13.1-hba837de_1004\n",
            "  freetype           conda-forge/linux-64::freetype-2.10.4-h0708190_1\n",
            "  gettext            conda-forge/linux-64::gettext-0.19.8.1-h0b5b191_1005\n",
            "  jpeg               conda-forge/linux-64::jpeg-9d-h36c2ea0_0\n",
            "  kiwisolver         conda-forge/linux-64::kiwisolver-1.3.1-py37h2527ec5_1\n",
            "  lcms2              conda-forge/linux-64::lcms2-2.12-hddcbb42_0\n",
            "  libblas            conda-forge/linux-64::libblas-3.9.0-8_openblas\n",
            "  libcblas           conda-forge/linux-64::libcblas-3.9.0-8_openblas\n",
            "  libgfortran-ng     conda-forge/linux-64::libgfortran-ng-9.3.0-hff62375_18\n",
            "  libgfortran5       conda-forge/linux-64::libgfortran5-9.3.0-hff62375_18\n",
            "  libglib            conda-forge/linux-64::libglib-2.66.7-h1f3bc88_0\n",
            "  liblapack          conda-forge/linux-64::liblapack-3.9.0-8_openblas\n",
            "  libopenblas        conda-forge/linux-64::libopenblas-0.3.12-pthreads_h4812303_1\n",
            "  libpng             conda-forge/linux-64::libpng-1.6.37-h21135ba_2\n",
            "  libtiff            conda-forge/linux-64::libtiff-4.2.0-hdc55705_0\n",
            "  libuuid            conda-forge/linux-64::libuuid-2.32.1-h7f98852_1000\n",
            "  libwebp-base       conda-forge/linux-64::libwebp-base-1.2.0-h7f98852_0\n",
            "  libxcb             conda-forge/linux-64::libxcb-1.13-h7f98852_1003\n",
            "  matplotlib-base    conda-forge/linux-64::matplotlib-base-3.3.4-py37h0c9df89_0\n",
            "  numpy              conda-forge/linux-64::numpy-1.20.1-py37haa41c4c_0\n",
            "  olefile            conda-forge/noarch::olefile-0.46-pyh9f0ad1d_1\n",
            "  pandas             conda-forge/linux-64::pandas-1.2.2-py37hdc94413_0\n",
            "  pcre               conda-forge/linux-64::pcre-8.44-he1b5a44_0\n",
            "  pillow             conda-forge/linux-64::pillow-8.1.0-py37h4600e1f_2\n",
            "  pixman             conda-forge/linux-64::pixman-0.40.0-h36c2ea0_0\n",
            "  pthread-stubs      conda-forge/linux-64::pthread-stubs-0.4-h36c2ea0_1001\n",
            "  pycairo            conda-forge/linux-64::pycairo-1.20.0-py37h01af8b0_1\n",
            "  pyparsing          conda-forge/noarch::pyparsing-2.4.7-pyh9f0ad1d_0\n",
            "  python-dateutil    conda-forge/noarch::python-dateutil-2.8.1-py_0\n",
            "  pytz               conda-forge/noarch::pytz-2021.1-pyhd8ed1ab_0\n",
            "  rdkit              conda-forge/linux-64::rdkit-2020.09.2-py37h713bca6_0\n",
            "  reportlab          conda-forge/linux-64::reportlab-3.5.60-py37h69800bb_0\n",
            "  sqlalchemy         conda-forge/linux-64::sqlalchemy-1.3.23-py37h5e8e339_0\n",
            "  tornado            conda-forge/linux-64::tornado-6.1-py37h5e8e339_1\n",
            "  xorg-kbproto       conda-forge/linux-64::xorg-kbproto-1.0.7-h7f98852_1002\n",
            "  xorg-libice        conda-forge/linux-64::xorg-libice-1.0.10-h516909a_0\n",
            "  xorg-libsm         conda-forge/linux-64::xorg-libsm-1.2.3-h84519dc_1000\n",
            "  xorg-libx11        conda-forge/linux-64::xorg-libx11-1.6.12-h516909a_0\n",
            "  xorg-libxau        conda-forge/linux-64::xorg-libxau-1.0.9-h7f98852_0\n",
            "  xorg-libxdmcp      conda-forge/linux-64::xorg-libxdmcp-1.1.3-h7f98852_0\n",
            "  xorg-libxext       conda-forge/linux-64::xorg-libxext-1.3.4-h516909a_0\n",
            "  xorg-libxrender    conda-forge/linux-64::xorg-libxrender-0.9.10-h516909a_1002\n",
            "  xorg-renderproto   conda-forge/linux-64::xorg-renderproto-0.11.1-h14c3975_1002\n",
            "  xorg-xextproto     conda-forge/linux-64::xorg-xextproto-7.3.0-h7f98852_1002\n",
            "  xorg-xproto        conda-forge/linux-64::xorg-xproto-7.0.31-h7f98852_1007\n",
            "\n",
            "The following packages will be UPDATED:\n",
            "\n",
            "  certifi                          2020.12.5-py36h5fab9bb_0 --> 2020.12.5-py37h89c1867_1\n",
            "  cffi                                1.14.4-py36hc120d54_1 --> 1.14.5-py37hc58025e_0\n",
            "  chardet                              4.0.0-py36h5fab9bb_0 --> 4.0.0-py37h89c1867_1\n",
            "  cryptography                         3.3.1-py36h0a59100_0 --> 3.4.4-py37hf1a17b8_0\n",
            "  openssl                                 1.1.1i-h7f98852_0 --> 1.1.1j-h7f98852_0\n",
            "  pycosat                           0.6.3-py36he6145b8_1005 --> 0.6.3-py37h5e8e339_1006\n",
            "  pysocks                              1.7.1-py36h9880bd3_2 --> 1.7.1-py37h89c1867_3\n",
            "  python                          3.6.12-hffdb5ce_0_cpython --> 3.7.10-hffdb5ce_100_cpython\n",
            "  python_abi                                    3.6-1_cp36m --> 3.7-1_cp37m\n",
            "  ruamel_yaml                     0.15.80-py36he6145b8_1003 --> 0.15.80-py37h5e8e339_1004\n",
            "  setuptools                          49.6.0-py36h9880bd3_2 --> 49.6.0-py37h89c1867_3\n",
            "\n",
            "The following packages will be DOWNGRADED:\n",
            "\n",
            "  brotlipy                          0.7.0-py36he6145b8_1001 --> 0.7.0-py37h5e8e339_1001\n",
            "  conda                                4.9.2-py36h5fab9bb_0 --> 4.9.2-py37h89c1867_0\n",
            "  conda-package-han~                   1.7.2-py36he6145b8_0 --> 1.7.2-py37hb5d75c8_0\n",
            "  mamba                                0.7.6-py36hb90a75f_0 --> 0.7.6-py37h0f36c0c_0\n",
            "\n",
            "\n",
            "\n",
            "Downloading and Extracting Packages\n",
            "python-dateutil-2.8. | 220 KB    | : 100% 1.0/1 [00:00<00:00,  5.20it/s]                \n",
            "pytz-2021.1          | 239 KB    | : 100% 1.0/1 [00:00<00:00,  6.89it/s]\n",
            "xorg-libice-1.0.10   | 57 KB     | : 100% 1.0/1 [00:00<00:00, 18.15it/s]\n",
            "xorg-libxext-1.3.4   | 51 KB     | : 100% 1.0/1 [00:00<00:00, 19.00it/s]\n",
            "xorg-renderproto-0.1 | 8 KB      | : 100% 1.0/1 [00:00<00:00, 22.58it/s]\n",
            "pthread-stubs-0.4    | 5 KB      | : 100% 1.0/1 [00:00<00:00, 22.48it/s]\n",
            "libgfortran5-9.3.0   | 2.0 MB    | : 100% 1.0/1 [00:00<00:00,  2.11it/s]\n",
            "olefile-0.46         | 32 KB     | : 100% 1.0/1 [00:00<00:00, 20.83it/s]\n",
            "conda-package-handli | 915 KB    | : 100% 1.0/1 [00:00<00:00,  5.51it/s]\n",
            "boost-cpp-1.74.0     | 16.3 MB   | : 100% 1.0/1 [00:05<00:00,  5.98s/it]\n",
            "xorg-libxrender-0.9. | 31 KB     | : 100% 1.0/1 [00:00<00:00, 21.05it/s]\n",
            "python_abi-3.7       | 4 KB      | : 100% 1.0/1 [00:00<00:00, 23.97it/s]\n",
            "openssl-1.1.1j       | 2.1 MB    | : 100% 1.0/1 [00:00<00:00,  2.68it/s]\n",
            "xorg-libxdmcp-1.1.3  | 19 KB     | : 100% 1.0/1 [00:00<00:00, 26.36it/s]\n",
            "pcre-8.44            | 261 KB    | : 100% 1.0/1 [00:00<00:00,  8.51it/s]\n",
            "liblapack-3.9.0      | 11 KB     | : 100% 1.0/1 [00:00<00:00, 18.05it/s]\n",
            "setuptools-49.6.0    | 947 KB    | : 100% 1.0/1 [00:00<00:00,  3.78it/s]\n",
            "libglib-2.66.7       | 3.0 MB    | : 100% 1.0/1 [00:00<00:00,  1.47it/s]\n",
            "pysocks-1.7.1        | 27 KB     | : 100% 1.0/1 [00:00<00:00, 22.79it/s]\n",
            "sqlalchemy-1.3.23    | 1.8 MB    | : 100% 1.0/1 [00:00<00:00,  2.02it/s]\n",
            "ruamel_yaml-0.15.80  | 270 KB    | : 100% 1.0/1 [00:00<00:00,  9.50it/s]\n",
            "libuuid-2.32.1       | 28 KB     | : 100% 1.0/1 [00:00<00:00, 25.63it/s]\n",
            "cairo-1.16.0         | 1.5 MB    | : 100% 1.0/1 [00:00<00:00,  2.70it/s]\n",
            "conda-4.9.2          | 3.0 MB    | : 100% 1.0/1 [00:00<00:00,  1.50it/s]\n",
            "matplotlib-base-3.3. | 6.7 MB    | : 100% 1.0/1 [00:01<00:00,  1.23s/it]\n",
            "xorg-xproto-7.0.31   | 73 KB     | : 100% 1.0/1 [00:00<00:00, 17.67it/s]\n",
            "libpng-1.6.37        | 306 KB    | : 100% 1.0/1 [00:00<00:00,  9.37it/s]\n",
            "freetype-2.10.4      | 890 KB    | : 100% 1.0/1 [00:00<00:00,  5.20it/s]\n",
            "libxcb-1.13          | 395 KB    | : 100% 1.0/1 [00:00<00:00,  7.07it/s]\n",
            "libblas-3.9.0        | 11 KB     | : 100% 1.0/1 [00:00<00:00, 27.02it/s]\n",
            "cryptography-3.4.4   | 636 KB    | : 100% 1.0/1 [00:00<00:00,  4.78it/s]\n",
            "cffi-1.14.5          | 225 KB    | : 100% 1.0/1 [00:00<00:00, 11.87it/s]\n",
            "kiwisolver-1.3.1     | 78 KB     | : 100% 1.0/1 [00:00<00:00, 16.62it/s]\n",
            "jpeg-9d              | 264 KB    | : 100% 1.0/1 [00:00<00:00,  9.66it/s]\n",
            "libcblas-3.9.0       | 11 KB     | : 100% 1.0/1 [00:00<00:00, 22.40it/s]\n",
            "fontconfig-2.13.1    | 344 KB    | : 100% 1.0/1 [00:00<00:00,  8.85it/s]\n",
            "python-3.7.10        | 57.3 MB   | : 100% 1.0/1 [00:07<00:00,  7.92s/it]               \n",
            "libgfortran-ng-9.3.0 | 22 KB     | : 100% 1.0/1 [00:00<00:00, 19.73it/s]\n",
            "rdkit-2020.09.2      | 25.7 MB   | : 100% 1.0/1 [00:04<00:00,  4.35s/it]\n",
            "libtiff-4.2.0        | 633 KB    | : 100% 1.0/1 [00:00<00:00,  6.23it/s]\n",
            "gettext-0.19.8.1     | 3.6 MB    | : 100% 1.0/1 [00:00<00:00,  1.13it/s]\n",
            "libwebp-base-1.2.0   | 808 KB    | : 100% 1.0/1 [00:00<00:00,  5.27it/s]\n",
            "libopenblas-0.3.12   | 8.9 MB    | : 100% 1.0/1 [00:01<00:00,  1.71s/it]\n",
            "xorg-libx11-1.6.12   | 917 KB    | : 100% 1.0/1 [00:00<00:00,  4.89it/s]\n",
            "pycosat-0.6.3        | 107 KB    | : 100% 1.0/1 [00:00<00:00, 18.45it/s]\n",
            "boost-1.74.0         | 342 KB    | : 100% 1.0/1 [00:00<00:00,  6.98it/s]\n",
            "certifi-2020.12.5    | 143 KB    | : 100% 1.0/1 [00:00<00:00, 18.93it/s]\n",
            "brotlipy-0.7.0       | 341 KB    | : 100% 1.0/1 [00:00<00:00, 11.01it/s]\n",
            "xorg-libsm-1.2.3     | 25 KB     | : 100% 1.0/1 [00:00<00:00, 23.24it/s]\n",
            "reportlab-3.5.60     | 2.5 MB    | : 100% 1.0/1 [00:00<00:00,  2.09it/s]\n",
            "mamba-0.7.6          | 627 KB    | : 100% 1.0/1 [00:00<00:00,  6.72it/s]\n",
            "numpy-1.20.1         | 5.8 MB    | : 100% 1.0/1 [00:01<00:00,  1.40s/it]\n",
            "chardet-4.0.0        | 204 KB    | : 100% 1.0/1 [00:00<00:00, 10.28it/s]\n",
            "xorg-xextproto-7.3.0 | 28 KB     | : 100% 1.0/1 [00:00<00:00, 20.70it/s]\n",
            "xorg-kbproto-1.0.7   | 27 KB     | : 100% 1.0/1 [00:00<00:00, 21.47it/s]\n",
            "xorg-libxau-1.0.9    | 13 KB     | : 100% 1.0/1 [00:00<00:00, 25.60it/s]\n",
            "cycler-0.10.0        | 9 KB      | : 100% 1.0/1 [00:00<00:00, 23.58it/s]\n",
            "pixman-0.40.0        | 627 KB    | : 100% 1.0/1 [00:00<00:00,  6.62it/s]\n",
            "pillow-8.1.0         | 671 KB    | : 100% 1.0/1 [00:00<00:00,  5.60it/s]\n",
            "pycairo-1.20.0       | 77 KB     | : 100% 1.0/1 [00:00<00:00, 18.74it/s]\n",
            "pandas-1.2.2         | 11.7 MB   | : 100% 1.0/1 [00:02<00:00,  2.65s/it]\n",
            "lcms2-2.12           | 443 KB    | : 100% 1.0/1 [00:00<00:00,  8.85it/s]\n",
            "tornado-6.1          | 646 KB    | : 100% 1.0/1 [00:00<00:00,  4.95it/s]\n",
            "pyparsing-2.4.7      | 60 KB     | : 100% 1.0/1 [00:00<00:00, 20.53it/s]\n",
            "Preparing transaction: - \b\b\\ \b\b| \b\b/ \b\b- \b\b\\ \b\b| \b\b/ \b\b- \b\b\\ \b\b| \b\b/ \b\bdone\n",
            "Verifying transaction: \\ \b\b| \b\b/ \b\b- \b\b\\ \b\b| \b\b/ \b\b- \b\b\\ \b\b| \b\b/ \b\b- \b\b\\ \b\b| \b\b/ \b\b- \b\b\\ \b\b| \b\b/ \b\b- \b\b\\ \b\b| \b\b/ \b\b- \b\b\\ \b\b| \b\b/ \b\b- \b\b\\ \b\b| \b\b/ \b\b- \b\b\\ \b\b| \b\b/ \b\b- \b\b\\ \b\b| \b\b/ \b\b- \b\b\\ \b\b| \b\b/ \b\bdone\n",
            "Executing transaction: \\ \b\b| \b\b/ \b\b- \b\b\\ \b\b| \b\b/ \b\b- \b\b\\ \b\b| \b\b/ \b\b- \b\b\\ \b\b| \b\b/ \b\b- \b\b\\ \b\b| \b\b/ \b\b- \b\b\\ \b\b| \b\b/ \b\b- \b\b\\ \b\b| \b\b/ \b\b- \b\b\\ \b\b| \b\b/ \b\b- \b\b\\ \b\b| \b\b/ \b\b- \b\b\\ \b\b| \b\b/ \b\b- \b\b\\ \b\b| \b\b/ \b\bdone\n"
          ],
          "name": "stdout"
        }
      ]
    },
    {
      "cell_type": "code",
      "metadata": {
        "id": "NFLGdrpUw06b"
      },
      "source": [
        "!strings /usr/lib/x86_64-linux-gnu/libstdc++.so.6 | grep GLIBC"
      ],
      "execution_count": null,
      "outputs": []
    },
    {
      "cell_type": "code",
      "metadata": {
        "id": "HRvYbxuz69lG"
      },
      "source": [
        "!conda install -y -c conda-forge openmm\r\n",
        "!conda install -y -c omnia pdbfixer"
      ],
      "execution_count": null,
      "outputs": []
    },
    {
      "cell_type": "code",
      "metadata": {
        "id": "H6hspo3dAlRR"
      },
      "source": [
        "import sys\r\n",
        "sys.path.insert(0, \"/usr/local/lib/python3.7/site-packages/\")"
      ],
      "execution_count": null,
      "outputs": []
    },
    {
      "cell_type": "code",
      "metadata": {
        "id": "1IRsHRf48tv-"
      },
      "source": [
        "import rdkit"
      ],
      "execution_count": null,
      "outputs": []
    },
    {
      "cell_type": "code",
      "metadata": {
        "id": "lkAppvay5hN4"
      },
      "source": [
        "from rdkit.DataStructs import cDataStructs"
      ],
      "execution_count": null,
      "outputs": []
    },
    {
      "cell_type": "code",
      "metadata": {
        "id": "2BP6M3Uz2wZ1"
      },
      "source": [
        "!pip install --pre deepchem"
      ],
      "execution_count": null,
      "outputs": []
    },
    {
      "cell_type": "code",
      "metadata": {
        "id": "sAj3Fs5e2xzt"
      },
      "source": [
        "import deepchem as dc\r\n",
        "dc.__version__"
      ],
      "execution_count": null,
      "outputs": []
    },
    {
      "cell_type": "code",
      "metadata": {
        "id": "ry2ZCSm04Ylh"
      },
      "source": [
        "tasks, datasets, transformers = dc.molnet.load_tox21(featurizer='ECFP')\r\n",
        "train_dataset, valid_dataset, test_dataset = datasets\r\n",
        "print(train_dataset)"
      ],
      "execution_count": null,
      "outputs": []
    },
    {
      "cell_type": "code",
      "metadata": {
        "id": "NV7F4ksJ6SbB"
      },
      "source": [
        "transformers"
      ],
      "execution_count": null,
      "outputs": []
    },
    {
      "cell_type": "code",
      "metadata": {
        "id": "9M2KWDTm6w9L"
      },
      "source": [
        "model = dc.models.MultitaskClassifier(n_tasks=12, n_features=1024, layer_sizes=[1000, 1000], dropout=[0.3, 0.3])"
      ],
      "execution_count": null,
      "outputs": []
    },
    {
      "cell_type": "code",
      "metadata": {
        "id": "eKgTNuZyuHIB"
      },
      "source": [
        "print(model.model.summary())"
      ],
      "execution_count": null,
      "outputs": []
    },
    {
      "cell_type": "code",
      "metadata": {
        "id": "XmeEKQxRuKB6"
      },
      "source": [
        "from keras.utils.vis_utils import plot_model\r\n",
        "plot_model(model.model,show_shapes=True, show_layer_names=True)"
      ],
      "execution_count": null,
      "outputs": []
    },
    {
      "cell_type": "code",
      "metadata": {
        "id": "3D9b980h8STG"
      },
      "source": [
        "import numpy as np\r\n",
        "\r\n",
        "model.fit(train_dataset, nb_epoch=30)\r\n",
        "metric = dc.metrics.Metric(dc.metrics.roc_auc_score)\r\n",
        "print('training set score:', model.evaluate(train_dataset, [metric], transformers))\r\n",
        "print('test set score:', model.evaluate(valid_dataset, [metric], transformers))"
      ],
      "execution_count": null,
      "outputs": []
    },
    {
      "cell_type": "code",
      "metadata": {
        "id": "EdhSL6bSE-7E"
      },
      "source": [
        "params_dict = {\r\n",
        "    'n_tasks': [len(tasks)],\r\n",
        "    'n_features': [1024],\r\n",
        "    'layer_sizes': [[500], [1000], [1000, 1000]],\r\n",
        "    'dropouts': [0.2, 0.5],\r\n",
        "    'learning_rate': [0.001, 0.0001]\r\n",
        "}\r\n",
        "optimizer = dc.hyper.GridHyperparamOpt(dc.models.MultitaskClassifier)\r\n",
        "metric = dc.metrics.Metric(dc.metrics.roc_auc_score)\r\n",
        "best_model, best_hyperparams, all_results = optimizer.hyperparam_search(\r\n",
        "        params_dict, train_dataset, valid_dataset, metric, transformers)"
      ],
      "execution_count": null,
      "outputs": []
    },
    {
      "cell_type": "code",
      "metadata": {
        "id": "1zm6uZWA9Atz"
      },
      "source": [
        "all_results"
      ],
      "execution_count": null,
      "outputs": []
    },
    {
      "cell_type": "code",
      "metadata": {
        "id": "gqBAy__S8t6B"
      },
      "source": [
        "best_hyperparams"
      ],
      "execution_count": null,
      "outputs": []
    },
    {
      "cell_type": "code",
      "metadata": {
        "colab": {
          "background_save": true
        },
        "id": "ZvnmD0R9FFIv"
      },
      "source": [
        "model = dc.models.MultitaskClassifier(n_tasks=len(tasks),\r\n",
        "                                      n_features=1024,\r\n",
        "                                      layer_sizes=[1000],\r\n",
        "                                      dropouts=0.2,\r\n",
        "                                      learning_rate=0.0001)\r\n",
        "callback = dc.models.ValidationCallback(valid_dataset, 1000, metric)\r\n",
        "model.fit(train_dataset, nb_epoch=50, callbacks=callback)"
      ],
      "execution_count": null,
      "outputs": []
    },
    {
      "cell_type": "code",
      "metadata": {
        "id": "fIDxVXgAFXvi"
      },
      "source": [
        "learning_rate = dc.models.optimizers.ExponentialDecay(0.0002, 0.9, 1000)\r\n",
        "model = dc.models.MultitaskClassifier(n_tasks=len(tasks),\r\n",
        "                                      n_features=1024,\r\n",
        "                                      layer_sizes=[1000],\r\n",
        "                                      dropouts=0.2,\r\n",
        "                                      learning_rate=learning_rate)\r\n",
        "model.fit(train_dataset, nb_epoch=50, callbacks=callback)"
      ],
      "execution_count": null,
      "outputs": []
    },
    {
      "cell_type": "markdown",
      "metadata": {
        "id": "4i0ztN9W0sEI"
      },
      "source": [
        ""
      ]
    }
  ]
}