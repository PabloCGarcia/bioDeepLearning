{
  "nbformat": 4,
  "nbformat_minor": 0,
  "metadata": {
    "accelerator": "GPU",
    "colab": {
      "name": "demo-nf.ipynb",
      "provenance": [],
      "collapsed_sections": [],
      "authorship_tag": "ABX9TyNQr+3K1TpLDAJ8Wh5Bu9yb",
      "include_colab_link": true
    },
    "kernelspec": {
      "display_name": "Python 3",
      "name": "python3"
    }
  },
  "cells": [
    {
      "cell_type": "markdown",
      "metadata": {
        "id": "view-in-github",
        "colab_type": "text"
      },
      "source": [
        "<a href=\"https://colab.research.google.com/github/PabloCGarcia/bioDeepLearning/blob/main/demo_nf.ipynb\" target=\"_parent\"><img src=\"https://colab.research.google.com/assets/colab-badge.svg\" alt=\"Open In Colab\"/></a>"
      ]
    },
    {
      "cell_type": "code",
      "metadata": {
        "colab": {
          "base_uri": "https://localhost:8080/"
        },
        "id": "hvi-YXjEs7Af",
        "outputId": "bf294434-fdbe-4e23-9893-3c055c586d7f"
      },
      "source": [
        "!curl -Lo conda_installer.py https://raw.githubusercontent.com/deepchem/deepchem/master/scripts/colab_install.py\r\n",
        "import conda_installer\r\n",
        "conda_installer.install()\r\n",
        "!/root/miniconda/bin/conda info -e"
      ],
      "execution_count": null,
      "outputs": [
        {
          "output_type": "stream",
          "text": [
            "  % Total    % Received % Xferd  Average Speed   Time    Time     Time  Current\n",
            "                                 Dload  Upload   Total   Spent    Left  Speed\n",
            "100  3501  100  3501    0     0   8644      0 --:--:-- --:--:-- --:--:--  8623\n"
          ],
          "name": "stdout"
        },
        {
          "output_type": "stream",
          "text": [
            "add /root/miniconda/lib/python3.7/site-packages to PYTHONPATH\n",
            "python version: 3.7.10\n",
            "fetching installer from https://repo.continuum.io/miniconda/Miniconda3-latest-Linux-x86_64.sh\n",
            "done\n",
            "installing miniconda to /root/miniconda\n",
            "done\n",
            "installing rdkit, openmm, pdbfixer\n",
            "added conda-forge to channels\n",
            "added omnia to channels\n"
          ],
          "name": "stderr"
        }
      ]
    },
    {
      "cell_type": "code",
      "metadata": {
        "colab": {
          "base_uri": "https://localhost:8080/",
          "height": 188
        },
        "id": "6FYgLMk4_f3J",
        "outputId": "b2031b0a-b038-4c16-eb82-55cd6dd9d121"
      },
      "source": [
        "!pip install --pre deepchem\r\n",
        "import deepchem\r\n",
        "deepchem.__version__"
      ],
      "execution_count": null,
      "outputs": [
        {
          "output_type": "stream",
          "text": [
            "Requirement already satisfied: deepchem in /usr/local/lib/python3.7/dist-packages (2.5.0.dev20210311184720)\n",
            "Requirement already satisfied: pandas in /usr/local/lib/python3.7/dist-packages (from deepchem) (1.1.5)\n",
            "Requirement already satisfied: scikit-learn in /usr/local/lib/python3.7/dist-packages (from deepchem) (0.22.2.post1)\n",
            "Requirement already satisfied: numpy in /usr/local/lib/python3.7/dist-packages (from deepchem) (1.19.5)\n",
            "Requirement already satisfied: joblib in /usr/local/lib/python3.7/dist-packages (from deepchem) (1.0.1)\n",
            "Requirement already satisfied: scipy in /usr/local/lib/python3.7/dist-packages (from deepchem) (1.4.1)\n",
            "Requirement already satisfied: pytz>=2017.2 in /usr/local/lib/python3.7/dist-packages (from pandas->deepchem) (2018.9)\n",
            "Requirement already satisfied: python-dateutil>=2.7.3 in /usr/local/lib/python3.7/dist-packages (from pandas->deepchem) (2.8.1)\n",
            "Requirement already satisfied: six>=1.5 in /usr/local/lib/python3.7/dist-packages (from python-dateutil>=2.7.3->pandas->deepchem) (1.15.0)\n"
          ],
          "name": "stdout"
        },
        {
          "output_type": "execute_result",
          "data": {
            "application/vnd.google.colaboratory.intrinsic+json": {
              "type": "string"
            },
            "text/plain": [
              "'2.5.0.dev'"
            ]
          },
          "metadata": {
            "tags": []
          },
          "execution_count": 3
        }
      ]
    },
    {
      "cell_type": "code",
      "metadata": {
        "colab": {
          "base_uri": "https://localhost:8080/"
        },
        "id": "wBnjnd8e_laF",
        "outputId": "5753994b-bea4-412f-811d-996d4105f275"
      },
      "source": [
        "!pip install selfies==1.0.2"
      ],
      "execution_count": null,
      "outputs": [
        {
          "output_type": "stream",
          "text": [
            "Requirement already satisfied: selfies==1.0.2 in /usr/local/lib/python3.7/dist-packages (1.0.2)\n"
          ],
          "name": "stdout"
        }
      ]
    },
    {
      "cell_type": "code",
      "metadata": {
        "id": "JTgoTy8z_rDh"
      },
      "source": [
        "\r\n",
        "import numpy as np\r\n",
        "import matplotlib.pyplot as plt\r\n",
        "import seaborn as sns\r\n",
        "import pandas as pd\r\n",
        "import os\r\n",
        "\r\n",
        "import deepchem as dc\r\n",
        "from deepchem.models.normalizing_flows import NormalizingFlow, NormalizingFlowModel\r\n",
        "from deepchem.models.optimizers import Adam\r\n",
        "from deepchem.data import NumpyDataset\r\n",
        "from deepchem.splits import RandomSplitter\r\n",
        "from deepchem.molnet import load_tox21\r\n",
        "\r\n",
        "import rdkit\r\n",
        "from rdkit.Chem import Draw\r\n",
        "\r\n",
        "from IPython.display import Image, display\r\n",
        "\r\n",
        "import selfies as sf\r\n",
        "\r\n",
        "import tensorflow as tf\r\n",
        "import tensorflow_probability as tfp\r\n",
        "\r\n",
        "tfd = tfp.distributions\r\n",
        "tfb = tfp.bijectors\r\n",
        "tfk = tf.keras\r\n",
        "\r\n",
        "tfk.backend.set_floatx('float64')"
      ],
      "execution_count": null,
      "outputs": []
    },
    {
      "cell_type": "code",
      "metadata": {
        "id": "yhiDaxyY_wq8"
      },
      "source": [
        "tasks, datasets, transformers = dc.molnet.load_qm9(featurizer='ECFP')\r\n",
        "df = pd.DataFrame(data={'smiles': datasets[0].ids})"
      ],
      "execution_count": null,
      "outputs": []
    },
    {
      "cell_type": "code",
      "metadata": {
        "id": "zzFvYVxH_xjR"
      },
      "source": [
        "data = df[['smiles']].sample(2500, random_state=50)"
      ],
      "execution_count": null,
      "outputs": []
    },
    {
      "cell_type": "code",
      "metadata": {
        "colab": {
          "base_uri": "https://localhost:8080/"
        },
        "id": "RnuUzrBD_xs6",
        "outputId": "c89cad21-0baf-4499-bc3d-ff727335b771"
      },
      "source": [
        "sf.set_semantic_constraints()  # reset constraints\r\n",
        "constraints = sf.get_semantic_constraints()\r\n",
        "constraints['?'] = 3\r\n",
        "\r\n",
        "sf.set_semantic_constraints(constraints)\r\n",
        "constraints"
      ],
      "execution_count": null,
      "outputs": [
        {
          "output_type": "execute_result",
          "data": {
            "text/plain": [
              "{'?': 3,\n",
              " 'Br': 1,\n",
              " 'C': 4,\n",
              " 'C+1': 5,\n",
              " 'C-1': 3,\n",
              " 'Cl': 1,\n",
              " 'F': 1,\n",
              " 'H': 1,\n",
              " 'I': 1,\n",
              " 'N': 3,\n",
              " 'N+1': 4,\n",
              " 'N-1': 2,\n",
              " 'O': 2,\n",
              " 'O+1': 3,\n",
              " 'O-1': 1,\n",
              " 'P': 7,\n",
              " 'P+1': 8,\n",
              " 'P-1': 6,\n",
              " 'S': 6,\n",
              " 'S+1': 7,\n",
              " 'S-1': 5}"
            ]
          },
          "metadata": {
            "tags": []
          },
          "execution_count": 35
        }
      ]
    },
    {
      "cell_type": "code",
      "metadata": {
        "id": "r0tN3Yt6_xxn"
      },
      "source": [
        "def preprocess_smiles(smiles):\r\n",
        "  return sf.encoder(smiles)  \r\n",
        "\r\n",
        "data['selfies'] = data['smiles'].apply(preprocess_smiles)"
      ],
      "execution_count": null,
      "outputs": []
    },
    {
      "cell_type": "code",
      "metadata": {
        "id": "t7xh36XU_x1o",
        "colab": {
          "base_uri": "https://localhost:8080/",
          "height": 204
        },
        "outputId": "f12eb4cf-808e-4866-88d2-99b4b4df8acc"
      },
      "source": [
        "data['len'] = data['smiles'].apply(lambda x: len(x))\r\n",
        "data.sort_values(by='len').head()"
      ],
      "execution_count": null,
      "outputs": [
        {
          "output_type": "execute_result",
          "data": {
            "text/html": [
              "<div>\n",
              "<style scoped>\n",
              "    .dataframe tbody tr th:only-of-type {\n",
              "        vertical-align: middle;\n",
              "    }\n",
              "\n",
              "    .dataframe tbody tr th {\n",
              "        vertical-align: top;\n",
              "    }\n",
              "\n",
              "    .dataframe thead th {\n",
              "        text-align: right;\n",
              "    }\n",
              "</style>\n",
              "<table border=\"1\" class=\"dataframe\">\n",
              "  <thead>\n",
              "    <tr style=\"text-align: right;\">\n",
              "      <th></th>\n",
              "      <th>smiles</th>\n",
              "      <th>selfies</th>\n",
              "      <th>len</th>\n",
              "    </tr>\n",
              "  </thead>\n",
              "  <tbody>\n",
              "    <tr>\n",
              "      <th>7577</th>\n",
              "      <td>[H]c1nnn([H])c1[H]</td>\n",
              "      <td>[Hexpl][C][N][=N][N][Branch1_1][C][Hexpl][C][E...</td>\n",
              "      <td>18</td>\n",
              "    </tr>\n",
              "    <tr>\n",
              "      <th>3938</th>\n",
              "      <td>[H][N-]C1=NNON=C1[H]</td>\n",
              "      <td>[Hexpl][N-expl][C][=N][N][O][N][=C][Ring1][Bra...</td>\n",
              "      <td>20</td>\n",
              "    </tr>\n",
              "    <tr>\n",
              "      <th>10014</th>\n",
              "      <td>[H]C#Cc1noc([H])c1[H]</td>\n",
              "      <td>[Hexpl][C][#C][C][=N][O][C][Branch1_1][C][Hexp...</td>\n",
              "      <td>21</td>\n",
              "    </tr>\n",
              "    <tr>\n",
              "      <th>26869</th>\n",
              "      <td>[H]c1oc(=O)c(=O)oc1[H]</td>\n",
              "      <td>[Hexpl][C][O][C][Branch1_2][C][=O][C][Branch1_...</td>\n",
              "      <td>22</td>\n",
              "    </tr>\n",
              "    <tr>\n",
              "      <th>104198</th>\n",
              "      <td>[H]C(=O)c1nonc([H])c1=O</td>\n",
              "      <td>[Hexpl][C][Branch1_2][C][=O][C][=N][O][N][=C][...</td>\n",
              "      <td>23</td>\n",
              "    </tr>\n",
              "  </tbody>\n",
              "</table>\n",
              "</div>"
            ],
            "text/plain": [
              "                         smiles  ... len\n",
              "7577         [H]c1nnn([H])c1[H]  ...  18\n",
              "3938       [H][N-]C1=NNON=C1[H]  ...  20\n",
              "10014     [H]C#Cc1noc([H])c1[H]  ...  21\n",
              "26869    [H]c1oc(=O)c(=O)oc1[H]  ...  22\n",
              "104198  [H]C(=O)c1nonc([H])c1=O  ...  23\n",
              "\n",
              "[5 rows x 3 columns]"
            ]
          },
          "metadata": {
            "tags": []
          },
          "execution_count": 37
        }
      ]
    },
    {
      "cell_type": "code",
      "metadata": {
        "id": "1sIdiobHQK90"
      },
      "source": [
        "filtro = data[data[\"selfies\"].str.contains(\"\\.\") ].index\r\n",
        "data.drop(index=filtro, inplace=True)"
      ],
      "execution_count": null,
      "outputs": []
    },
    {
      "cell_type": "code",
      "metadata": {
        "id": "E-wIwSbQ_x53"
      },
      "source": [
        "selfies_list = np.asanyarray(data.selfies)\r\n",
        "selfies_alphabet = sf.get_alphabet_from_selfies(selfies_list)\r\n",
        "selfies_alphabet.add('[nop]')  # Add the \"no operation\" symbol as a padding character\r\n",
        "i=0\r\n",
        "while len(selfies_alphabet)!=65:\r\n",
        "    i+=1\r\n",
        "    selfies_alphabet.add('[nop' + str(i)+']')\r\n",
        "selfies_alphabet = list(sorted(selfies_alphabet))\r\n",
        "largest_selfie_len = max(sf.len_selfies(s) for s in selfies_list)"
      ],
      "execution_count": null,
      "outputs": []
    },
    {
      "cell_type": "code",
      "metadata": {
        "id": "rwbEKf5mL4bz"
      },
      "source": [
        "def selfies_to_hot(selfie, largest_selfie_len, alphabet):\r\n",
        "    \"\"\"Go from a single selfies string to a one-hot encoding.\r\n",
        "    \"\"\"\r\n",
        "    #print(selfie)\r\n",
        "    symbol_to_int = dict((c, i) for i, c in enumerate(alphabet))\r\n",
        "\r\n",
        "    # pad with [nop]\r\n",
        "    selfie += '[nop]' * (largest_selfie_len - sf.len_selfies(selfie))\r\n",
        "\r\n",
        "    # integer encode\r\n",
        "    symbol_list = sf.split_selfies(selfie)\r\n",
        "    integer_encoded = [symbol_to_int[symbol] for symbol in symbol_list]\r\n",
        "\r\n",
        "    # one hot-encode the integer encoded selfie\r\n",
        "    onehot_encoded = list()\r\n",
        "    for index in integer_encoded:\r\n",
        "        letter = [0] * len(alphabet)\r\n",
        "        letter[index] = 1\r\n",
        "        onehot_encoded.append(letter)\r\n",
        "\r\n",
        "    return integer_encoded, np.array(onehot_encoded)\r\n",
        "\r\n",
        "\r\n",
        "def multiple_selfies_to_hot(selfies_list, largest_molecule_len, alphabet):\r\n",
        "    \"\"\"Convert a list of selfies strings to a one-hot encoding\r\n",
        "    \"\"\"\r\n",
        "\r\n",
        "    hot_list = []\r\n",
        "    for s in selfies_list:\r\n",
        "        _, onehot_encoded = selfies_to_hot(s, largest_molecule_len, alphabet)\r\n",
        "        hot_list.append(onehot_encoded)\r\n",
        "    return np.array(hot_list)"
      ],
      "execution_count": null,
      "outputs": []
    },
    {
      "cell_type": "code",
      "metadata": {
        "id": "qJFDrbg-AK0r"
      },
      "source": [
        "onehots = multiple_selfies_to_hot(selfies_list, largest_selfie_len, selfies_alphabet)"
      ],
      "execution_count": null,
      "outputs": []
    },
    {
      "cell_type": "code",
      "metadata": {
        "colab": {
          "base_uri": "https://localhost:8080/"
        },
        "id": "-25HR39nV_1A",
        "outputId": "8aaf95ae-9a21-406a-c8e9-c58c595adc9b"
      },
      "source": [
        "largest_selfie_len"
      ],
      "execution_count": null,
      "outputs": [
        {
          "output_type": "execute_result",
          "data": {
            "text/plain": [
              "65"
            ]
          },
          "metadata": {
            "tags": []
          },
          "execution_count": 87
        }
      ]
    },
    {
      "cell_type": "code",
      "metadata": {
        "colab": {
          "base_uri": "https://localhost:8080/"
        },
        "id": "r6jFIniRV_u9",
        "outputId": "3766920d-6eff-4696-aef3-0d58ee01d4eb"
      },
      "source": [
        "len(selfies_alphabet)"
      ],
      "execution_count": null,
      "outputs": [
        {
          "output_type": "execute_result",
          "data": {
            "text/plain": [
              "65"
            ]
          },
          "metadata": {
            "tags": []
          },
          "execution_count": 88
        }
      ]
    },
    {
      "cell_type": "code",
      "metadata": {
        "colab": {
          "base_uri": "https://localhost:8080/"
        },
        "id": "-MFiOc2vT1x3",
        "outputId": "3bb7fdbc-e911-4edf-9875-f4487b805a4d"
      },
      "source": [
        "onehots.shape"
      ],
      "execution_count": null,
      "outputs": [
        {
          "output_type": "execute_result",
          "data": {
            "text/plain": [
              "(2498, 65, 65)"
            ]
          },
          "metadata": {
            "tags": []
          },
          "execution_count": 89
        }
      ]
    },
    {
      "cell_type": "code",
      "metadata": {
        "id": "XoupIBFjAK75"
      },
      "source": [
        "\r\n",
        "input_tensor = tf.convert_to_tensor(onehots, dtype='float64')\r\n",
        "noise_tensor = tf.random.uniform(shape=input_tensor.shape, minval=0, maxval=1, dtype='float64')\r\n",
        "dequantized_data = tf.add(input_tensor, noise_tensor)"
      ],
      "execution_count": null,
      "outputs": []
    },
    {
      "cell_type": "code",
      "metadata": {
        "id": "VbOcxTg0ALNE",
        "colab": {
          "base_uri": "https://localhost:8080/"
        },
        "outputId": "e5b6bc30-a038-4f86-f541-1fb6b463ddb0"
      },
      "source": [
        "ds = NumpyDataset(dequantized_data)  # Create a DeepChem dataset\r\n",
        "splitter = RandomSplitter()\r\n",
        "train, val, test = splitter.train_valid_test_split(dataset=ds, seed=42)\r\n",
        "train_idx, val_idx, test_idx = splitter.split(dataset=ds, seed=42)\r\n",
        "\r\n",
        "dim = len(train.X[0])  # length of one-hot encoded vectors\r\n",
        "train.X.shape  # 2000 samples, N-dimensional one-hot vectors that represent molecules"
      ],
      "execution_count": null,
      "outputs": [
        {
          "output_type": "execute_result",
          "data": {
            "text/plain": [
              "(1998, 65, 65)"
            ]
          },
          "metadata": {
            "tags": []
          },
          "execution_count": 91
        }
      ]
    },
    {
      "cell_type": "code",
      "metadata": {
        "id": "cVLiLhSdAXLY"
      },
      "source": [
        "\r\n",
        "# SMILES strings of training data\r\n",
        "train_smiles = data['smiles'].iloc[train_idx].values"
      ],
      "execution_count": null,
      "outputs": []
    },
    {
      "cell_type": "code",
      "metadata": {
        "id": "GwHHN6AjAW8j"
      },
      "source": [
        "\r\n",
        "base_dist = tfd.MultivariateNormalDiag(loc=np.zeros(dim), scale_diag=np.ones(dim))\r\n",
        "\r\n",
        "if dim % 2 == 0:\r\n",
        "    permutation = tf.cast(np.concatenate((np.arange(dim / 2, dim), np.arange(0, dim / 2))),\r\n",
        "                                  tf.int32)\r\n",
        "else:\r\n",
        "    permutation = tf.cast(np.concatenate((np.arange(dim / 2 + 1, dim), np.arange(0, dim / 2))), tf.int32)"
      ],
      "execution_count": null,
      "outputs": []
    },
    {
      "cell_type": "code",
      "metadata": {
        "colab": {
          "base_uri": "https://localhost:8080/"
        },
        "id": "frDD7shBVxjE",
        "outputId": "76805980-48a1-4f82-d61f-d219fff320e2"
      },
      "source": [
        "dim"
      ],
      "execution_count": null,
      "outputs": [
        {
          "output_type": "execute_result",
          "data": {
            "text/plain": [
              "65"
            ]
          },
          "metadata": {
            "tags": []
          },
          "execution_count": 94
        }
      ]
    },
    {
      "cell_type": "code",
      "metadata": {
        "id": "RXABX3QrAkT2"
      },
      "source": [
        "num_layers = 8\r\n",
        "flow_layers = []\r\n",
        "\r\n",
        "Made = tfb.AutoregressiveNetwork(params=2,\r\n",
        "                                 hidden_units=[512, 512], activation='relu')\r\n",
        "\r\n",
        "for i in range(num_layers):\r\n",
        "    flow_layers.append(        \r\n",
        "        (tfb.MaskedAutoregressiveFlow(shift_and_log_scale_fn=Made)\r\n",
        "    ))\r\n",
        "\r\n",
        "    permutation = tf.cast(np.random.permutation(np.arange(0, dim)), tf.int32)\r\n",
        "    \r\n",
        "    flow_layers.append(tfb.Permute(permutation=permutation))\r\n",
        "    \r\n",
        "#     if (i + 1) % int(2) == 0:\r\n",
        "#         flow_layers.append(tfb.BatchNormalization())"
      ],
      "execution_count": null,
      "outputs": []
    },
    {
      "cell_type": "code",
      "metadata": {
        "id": "aPPdgbWTAkak",
        "colab": {
          "base_uri": "https://localhost:8080/"
        },
        "outputId": "e089162d-f3e9-439d-e3a5-fb156d69efcd"
      },
      "source": [
        "%%time\r\n",
        "nf = NormalizingFlow(base_distribution=base_dist,\r\n",
        "                    flow_layers=flow_layers)\r\n",
        "samples = nf.flow.sample(5)"
      ],
      "execution_count": null,
      "outputs": [
        {
          "output_type": "stream",
          "text": [
            "CPU times: user 4.06 s, sys: 194 ms, total: 4.26 s\n",
            "Wall time: 3.91 s\n"
          ],
          "name": "stdout"
        }
      ]
    },
    {
      "cell_type": "code",
      "metadata": {
        "id": "vnABrnedAkc6"
      },
      "source": [
        "nfm = NormalizingFlowModel(nf, learning_rate=1e-4, batch_size=128)"
      ],
      "execution_count": null,
      "outputs": []
    },
    {
      "cell_type": "code",
      "metadata": {
        "id": "YuYU29d4Akfl"
      },
      "source": [
        "losses = []\r\n",
        "val_losses = []"
      ],
      "execution_count": null,
      "outputs": []
    },
    {
      "cell_type": "code",
      "metadata": {
        "id": "Wh5L7r_yAkhk",
        "colab": {
          "base_uri": "https://localhost:8080/"
        },
        "outputId": "567a04ba-7916-4591-b731-63329dbe8086"
      },
      "source": [
        "%%time\r\n",
        "max_epochs = 20 # maximum number of epochs of the training\r\n",
        "\r\n",
        "for epoch in range(max_epochs):\r\n",
        "  print(\"Epoca:\", epoch)\r\n",
        "  loss = nfm.fit(train, nb_epoch=1, all_losses=losses)\r\n",
        "  val_loss = nfm.create_nll(val.X)\r\n",
        "  val_losses.append(val_loss.numpy())"
      ],
      "execution_count": null,
      "outputs": [
        {
          "output_type": "stream",
          "text": [
            "WARNING:tensorflow:Model was constructed with shape (None, 65) for input KerasTensor(type_spec=TensorSpec(shape=(None, 65), dtype=tf.float64, name='input_2'), name='input_2', description=\"created by layer 'input_2'\"), but it was called on an input with incompatible shape (1, 128, 65, 65).\n",
            "WARNING:tensorflow:Model was constructed with shape (None, 65) for input KerasTensor(type_spec=TensorSpec(shape=(None, 65), dtype=tf.float64, name='input_2'), name='input_2', description=\"created by layer 'input_2'\"), but it was called on an input with incompatible shape (1, 128, 65, 65).\n",
            "WARNING:tensorflow:Model was constructed with shape (None, 65) for input KerasTensor(type_spec=TensorSpec(shape=(None, 65), dtype=tf.float64, name='input_2'), name='input_2', description=\"created by layer 'input_2'\"), but it was called on an input with incompatible shape (1, 128, 65, 65).\n",
            "WARNING:tensorflow:Model was constructed with shape (None, 65) for input KerasTensor(type_spec=TensorSpec(shape=(None, 65), dtype=tf.float64, name='input_2'), name='input_2', description=\"created by layer 'input_2'\"), but it was called on an input with incompatible shape (1, 128, 65, 65).\n",
            "WARNING:tensorflow:Model was constructed with shape (None, 65) for input KerasTensor(type_spec=TensorSpec(shape=(None, 65), dtype=tf.float64, name='input_2'), name='input_2', description=\"created by layer 'input_2'\"), but it was called on an input with incompatible shape (1, 128, 65, 65).\n",
            "WARNING:tensorflow:Model was constructed with shape (None, 65) for input KerasTensor(type_spec=TensorSpec(shape=(None, 65), dtype=tf.float64, name='input_2'), name='input_2', description=\"created by layer 'input_2'\"), but it was called on an input with incompatible shape (1, 128, 65, 65).\n",
            "WARNING:tensorflow:Model was constructed with shape (None, 65) for input KerasTensor(type_spec=TensorSpec(shape=(None, 65), dtype=tf.float64, name='input_2'), name='input_2', description=\"created by layer 'input_2'\"), but it was called on an input with incompatible shape (1, 128, 65, 65).\n",
            "WARNING:tensorflow:Model was constructed with shape (None, 65) for input KerasTensor(type_spec=TensorSpec(shape=(None, 65), dtype=tf.float64, name='input_2'), name='input_2', description=\"created by layer 'input_2'\"), but it was called on an input with incompatible shape (1, 128, 65, 65).\n",
            "WARNING:tensorflow:Model was constructed with shape (None, 65) for input KerasTensor(type_spec=TensorSpec(shape=(None, 65), dtype=tf.float64, name='input_2'), name='input_2', description=\"created by layer 'input_2'\"), but it was called on an input with incompatible shape (1, 128, 65, 65).\n",
            "WARNING:tensorflow:Model was constructed with shape (None, 65) for input KerasTensor(type_spec=TensorSpec(shape=(None, 65), dtype=tf.float64, name='input_2'), name='input_2', description=\"created by layer 'input_2'\"), but it was called on an input with incompatible shape (1, 128, 65, 65).\n",
            "WARNING:tensorflow:Model was constructed with shape (None, 65) for input KerasTensor(type_spec=TensorSpec(shape=(None, 65), dtype=tf.float64, name='input_2'), name='input_2', description=\"created by layer 'input_2'\"), but it was called on an input with incompatible shape (1, 128, 65, 65).\n",
            "WARNING:tensorflow:Model was constructed with shape (None, 65) for input KerasTensor(type_spec=TensorSpec(shape=(None, 65), dtype=tf.float64, name='input_2'), name='input_2', description=\"created by layer 'input_2'\"), but it was called on an input with incompatible shape (1, 128, 65, 65).\n",
            "WARNING:tensorflow:Model was constructed with shape (None, 65) for input KerasTensor(type_spec=TensorSpec(shape=(None, 65), dtype=tf.float64, name='input_2'), name='input_2', description=\"created by layer 'input_2'\"), but it was called on an input with incompatible shape (1, 128, 65, 65).\n",
            "WARNING:tensorflow:Model was constructed with shape (None, 65) for input KerasTensor(type_spec=TensorSpec(shape=(None, 65), dtype=tf.float64, name='input_2'), name='input_2', description=\"created by layer 'input_2'\"), but it was called on an input with incompatible shape (1, 128, 65, 65).\n",
            "WARNING:tensorflow:Model was constructed with shape (None, 65) for input KerasTensor(type_spec=TensorSpec(shape=(None, 65), dtype=tf.float64, name='input_2'), name='input_2', description=\"created by layer 'input_2'\"), but it was called on an input with incompatible shape (1, 128, 65, 65).\n",
            "WARNING:tensorflow:Model was constructed with shape (None, 65) for input KerasTensor(type_spec=TensorSpec(shape=(None, 65), dtype=tf.float64, name='input_2'), name='input_2', description=\"created by layer 'input_2'\"), but it was called on an input with incompatible shape (1, 128, 65, 65).\n",
            "WARNING:tensorflow:Model was constructed with shape (None, 65) for input KerasTensor(type_spec=TensorSpec(shape=(None, 65), dtype=tf.float64, name='input_2'), name='input_2', description=\"created by layer 'input_2'\"), but it was called on an input with incompatible shape (1, 128, 65, 65).\n",
            "WARNING:tensorflow:Model was constructed with shape (None, 65) for input KerasTensor(type_spec=TensorSpec(shape=(None, 65), dtype=tf.float64, name='input_2'), name='input_2', description=\"created by layer 'input_2'\"), but it was called on an input with incompatible shape (1, 128, 65, 65).\n",
            "WARNING:tensorflow:Model was constructed with shape (None, 65) for input KerasTensor(type_spec=TensorSpec(shape=(None, 65), dtype=tf.float64, name='input_2'), name='input_2', description=\"created by layer 'input_2'\"), but it was called on an input with incompatible shape (1, 128, 65, 65).\n",
            "WARNING:tensorflow:Model was constructed with shape (None, 65) for input KerasTensor(type_spec=TensorSpec(shape=(None, 65), dtype=tf.float64, name='input_2'), name='input_2', description=\"created by layer 'input_2'\"), but it was called on an input with incompatible shape (1, 128, 65, 65).\n",
            "WARNING:tensorflow:Model was constructed with shape (None, 65) for input KerasTensor(type_spec=TensorSpec(shape=(None, 65), dtype=tf.float64, name='input_2'), name='input_2', description=\"created by layer 'input_2'\"), but it was called on an input with incompatible shape (1, 128, 65, 65).\n",
            "WARNING:tensorflow:Model was constructed with shape (None, 65) for input KerasTensor(type_spec=TensorSpec(shape=(None, 65), dtype=tf.float64, name='input_2'), name='input_2', description=\"created by layer 'input_2'\"), but it was called on an input with incompatible shape (1, 128, 65, 65).\n",
            "WARNING:tensorflow:Model was constructed with shape (None, 65) for input KerasTensor(type_spec=TensorSpec(shape=(None, 65), dtype=tf.float64, name='input_2'), name='input_2', description=\"created by layer 'input_2'\"), but it was called on an input with incompatible shape (1, 128, 65, 65).\n",
            "WARNING:tensorflow:Model was constructed with shape (None, 65) for input KerasTensor(type_spec=TensorSpec(shape=(None, 65), dtype=tf.float64, name='input_2'), name='input_2', description=\"created by layer 'input_2'\"), but it was called on an input with incompatible shape (1, 128, 65, 65).\n",
            "WARNING:tensorflow:Model was constructed with shape (None, 65) for input KerasTensor(type_spec=TensorSpec(shape=(None, 65), dtype=tf.float64, name='input_2'), name='input_2', description=\"created by layer 'input_2'\"), but it was called on an input with incompatible shape (1, 128, 65, 65).\n",
            "WARNING:tensorflow:Model was constructed with shape (None, 65) for input KerasTensor(type_spec=TensorSpec(shape=(None, 65), dtype=tf.float64, name='input_2'), name='input_2', description=\"created by layer 'input_2'\"), but it was called on an input with incompatible shape (1, 128, 65, 65).\n",
            "WARNING:tensorflow:Model was constructed with shape (None, 65) for input KerasTensor(type_spec=TensorSpec(shape=(None, 65), dtype=tf.float64, name='input_2'), name='input_2', description=\"created by layer 'input_2'\"), but it was called on an input with incompatible shape (1, 128, 65, 65).\n",
            "WARNING:tensorflow:Model was constructed with shape (None, 65) for input KerasTensor(type_spec=TensorSpec(shape=(None, 65), dtype=tf.float64, name='input_2'), name='input_2', description=\"created by layer 'input_2'\"), but it was called on an input with incompatible shape (1, 128, 65, 65).\n",
            "WARNING:tensorflow:Model was constructed with shape (None, 65) for input KerasTensor(type_spec=TensorSpec(shape=(None, 65), dtype=tf.float64, name='input_2'), name='input_2', description=\"created by layer 'input_2'\"), but it was called on an input with incompatible shape (1, 128, 65, 65).\n",
            "WARNING:tensorflow:Model was constructed with shape (None, 65) for input KerasTensor(type_spec=TensorSpec(shape=(None, 65), dtype=tf.float64, name='input_2'), name='input_2', description=\"created by layer 'input_2'\"), but it was called on an input with incompatible shape (1, 128, 65, 65).\n",
            "WARNING:tensorflow:Model was constructed with shape (None, 65) for input KerasTensor(type_spec=TensorSpec(shape=(None, 65), dtype=tf.float64, name='input_2'), name='input_2', description=\"created by layer 'input_2'\"), but it was called on an input with incompatible shape (1, 128, 65, 65).\n",
            "WARNING:tensorflow:Model was constructed with shape (None, 65) for input KerasTensor(type_spec=TensorSpec(shape=(None, 65), dtype=tf.float64, name='input_2'), name='input_2', description=\"created by layer 'input_2'\"), but it was called on an input with incompatible shape (1, 128, 65, 65).\n"
          ],
          "name": "stdout"
        }
      ]
    },
    {
      "cell_type": "code",
      "metadata": {
        "id": "TPLuSLOOAkk-",
        "colab": {
          "base_uri": "https://localhost:8080/",
          "height": 265
        },
        "outputId": "fe0b02d1-e5c5-4eeb-d4f4-7ecf45c38858"
      },
      "source": [
        "f, ax = plt.subplots()\r\n",
        "ax.scatter(range(len(losses)), losses, label='train loss')\r\n",
        "ax.scatter(range(len(val_losses)), val_losses, label='val loss')\r\n",
        "plt.legend(loc='upper right');"
      ],
      "execution_count": null,
      "outputs": [
        {
          "output_type": "display_data",
          "data": {
            "image/png": "[encoded data removed]",
            "text/plain": [
              "<Figure size 432x288 with 1 Axes>"
            ]
          },
          "metadata": {
            "tags": [],
            "needs_background": "light"
          }
        }
      ]
    },
    {
      "cell_type": "code",
      "metadata": {
        "id": "KZde3wKFAknl"
      },
      "source": [
        "generated_samples = nfm.flow.sample(50)  # generative modeling\r\n",
        "log_probs = nfm.flow.log_prob(generated_samples)  # probability density estimation"
      ],
      "execution_count": null,
      "outputs": []
    },
    {
      "cell_type": "code",
      "metadata": {
        "id": "sEzJtSNSBBhJ",
        "colab": {
          "base_uri": "https://localhost:8080/",
          "height": 197
        },
        "outputId": "f9fd5011-3178-478b-e2d6-60848bc0d912"
      },
      "source": [
        "mols = tf.math.floor(generated_samples)  # quantize data\r\n",
        "mols = tf.clip_by_value(mols, 0, 1)  # Set negative values to 0 and values > 1 to 1\r\n",
        "mols_list = mols.numpy().tolist()\r\n",
        "\r\n",
        "# Add padding characters if needed\r\n",
        "for mol in mols_list:\r\n",
        "  for i in range(largest_selfie_len):\r\n",
        "    row = mol[len(selfies_alphabet) * i: len(selfies_alphabet) * (i + 1)]\r\n",
        "    if all(elem == 0 for elem in row):\r\n",
        "      mol[len(selfies_alphabet) * (i+1) - 1] = 1"
      ],
      "execution_count": null,
      "outputs": [
        {
          "output_type": "error",
          "ename": "IndexError",
          "evalue": "ignored",
          "traceback": [
            "\u001b[0;31m---------------------------------------------------------------------------\u001b[0m",
            "\u001b[0;31mIndexError\u001b[0m                                Traceback (most recent call last)",
            "\u001b[0;32m<ipython-input-102-dc477f26cc02>\u001b[0m in \u001b[0;36m<module>\u001b[0;34m()\u001b[0m\n\u001b[1;32m      8\u001b[0m     \u001b[0mrow\u001b[0m \u001b[0;34m=\u001b[0m \u001b[0mmol\u001b[0m\u001b[0;34m[\u001b[0m\u001b[0mlen\u001b[0m\u001b[0;34m(\u001b[0m\u001b[0mselfies_alphabet\u001b[0m\u001b[0;34m)\u001b[0m \u001b[0;34m*\u001b[0m \u001b[0mi\u001b[0m\u001b[0;34m:\u001b[0m \u001b[0mlen\u001b[0m\u001b[0;34m(\u001b[0m\u001b[0mselfies_alphabet\u001b[0m\u001b[0;34m)\u001b[0m \u001b[0;34m*\u001b[0m \u001b[0;34m(\u001b[0m\u001b[0mi\u001b[0m \u001b[0;34m+\u001b[0m \u001b[0;36m1\u001b[0m\u001b[0;34m)\u001b[0m\u001b[0;34m]\u001b[0m\u001b[0;34m\u001b[0m\u001b[0;34m\u001b[0m\u001b[0m\n\u001b[1;32m      9\u001b[0m     \u001b[0;32mif\u001b[0m \u001b[0mall\u001b[0m\u001b[0;34m(\u001b[0m\u001b[0melem\u001b[0m \u001b[0;34m==\u001b[0m \u001b[0;36m0\u001b[0m \u001b[0;32mfor\u001b[0m \u001b[0melem\u001b[0m \u001b[0;32min\u001b[0m \u001b[0mrow\u001b[0m\u001b[0;34m)\u001b[0m\u001b[0;34m:\u001b[0m\u001b[0;34m\u001b[0m\u001b[0;34m\u001b[0m\u001b[0m\n\u001b[0;32m---> 10\u001b[0;31m       \u001b[0mmol\u001b[0m\u001b[0;34m[\u001b[0m\u001b[0mlen\u001b[0m\u001b[0;34m(\u001b[0m\u001b[0mselfies_alphabet\u001b[0m\u001b[0;34m)\u001b[0m \u001b[0;34m*\u001b[0m \u001b[0;34m(\u001b[0m\u001b[0mi\u001b[0m\u001b[0;34m+\u001b[0m\u001b[0;36m1\u001b[0m\u001b[0;34m)\u001b[0m \u001b[0;34m-\u001b[0m \u001b[0;36m1\u001b[0m\u001b[0;34m]\u001b[0m \u001b[0;34m=\u001b[0m \u001b[0;36m1\u001b[0m\u001b[0;34m\u001b[0m\u001b[0;34m\u001b[0m\u001b[0m\n\u001b[0m",
            "\u001b[0;31mIndexError\u001b[0m: list assignment index out of range"
          ]
        }
      ]
    },
    {
      "cell_type": "code",
      "metadata": {
        "id": "D-qiWfpFBBnb"
      },
      "source": [
        "mols = sf.multiple_hot_to_selfies(mols_list, largest_selfie_len, selfies_alphabet)"
      ],
      "execution_count": null,
      "outputs": []
    },
    {
      "cell_type": "code",
      "metadata": {
        "id": "9dNFeW6ABBpb"
      },
      "source": [
        "from rdkit import RDLogger  \r\n",
        "from rdkit import Chem\r\n",
        "RDLogger.DisableLog('rdApp.*')  # suppress error messages\r\n",
        "\r\n",
        "valid_count = 0\r\n",
        "valid_selfies, invalid_selfies = [], []\r\n",
        "for idx, selfies in enumerate(mols):\r\n",
        "  try:\r\n",
        "    if Chem.MolFromSmiles(sf.decoder(mols[idx]), sanitize=True) is not None:\r\n",
        "        valid_count += 1\r\n",
        "        valid_selfies.append(selfies)\r\n",
        "    else:\r\n",
        "      invalid_selfies.append(selfies)\r\n",
        "  except Exception:\r\n",
        "    pass\r\n",
        "print('%.2f' % (valid_count / len(mols)),  '% of generated samples are valid molecules.')"
      ],
      "execution_count": null,
      "outputs": []
    },
    {
      "cell_type": "code",
      "metadata": {
        "id": "CXwcr7xZBBsV"
      },
      "source": [
        "gen_mols = [Chem.MolFromSmiles(sf.decoder(vs)) for vs in valid_selfies]"
      ],
      "execution_count": null,
      "outputs": []
    },
    {
      "cell_type": "code",
      "metadata": {
        "id": "ZPd5cWUPBBvR"
      },
      "source": [
        "\r\n",
        "def display_images(filenames):\r\n",
        "    \"\"\"Helper to pretty-print images.\"\"\"\r\n",
        "    for file in filenames:\r\n",
        "      display(Image(file))\r\n",
        "\r\n",
        "def mols_to_pngs(mols, basename=\"generated_mol\"):\r\n",
        "    \"\"\"Helper to write RDKit mols to png files.\"\"\"\r\n",
        "    filenames = []\r\n",
        "    for i, mol in enumerate(mols):\r\n",
        "        filename = \"%s%d.png\" % (basename, i)\r\n",
        "        Draw.MolToFile(mol, filename)\r\n",
        "        filenames.append(filename)\r\n",
        "    return filenames"
      ],
      "execution_count": null,
      "outputs": []
    },
    {
      "cell_type": "code",
      "metadata": {
        "id": "TJDN-orSBY_s"
      },
      "source": [
        "\r\n",
        "display_mols = []\r\n",
        "for i in range(10):\r\n",
        "  display_mols.append(gen_mols[i])\r\n",
        "\r\n",
        "display_images(mols_to_pngs(display_mols))"
      ],
      "execution_count": null,
      "outputs": []
    },
    {
      "cell_type": "code",
      "metadata": {
        "id": "W9jM-pMMBhbr"
      },
      "source": [
        "from rdkit.Chem.Fingerprints.FingerprintMols import FingerprintMol\r\n",
        "from rdkit.DataStructs import FingerprintSimilarity\r\n",
        "from IPython.display import display\r\n",
        "\r\n",
        "def tanimoto_similarity(database_mols, query_mol):\r\n",
        "    \"\"\"Compare generated molecules to database by Tanimoto similarity.\"\"\"\r\n",
        "    # convert Mol to datastructure type\r\n",
        "    fps = [FingerprintMol(m) for m in database_mols]\r\n",
        "    \r\n",
        "    # set a query molecule to compare against database\r\n",
        "    query = FingerprintMol(query_mol)\r\n",
        "    \r\n",
        "    similarities = []\r\n",
        "    \r\n",
        "    # loop through to find Tanimoto similarity\r\n",
        "    for idx, f in enumerate(fps):\r\n",
        "        # tuple: (idx, similarity)\r\n",
        "        similarities.append((idx, FingerprintSimilarity(query, f)))\r\n",
        "    \r\n",
        "    # sort sim using the similarities\r\n",
        "    similarities.sort(key=lambda x:x[1], reverse=True)\r\n",
        "    \r\n",
        "    return similarities"
      ],
      "execution_count": null,
      "outputs": []
    },
    {
      "cell_type": "code",
      "metadata": {
        "id": "A97aFdNLBhjh"
      },
      "source": [
        "train_mols = [Chem.MolFromSmiles(smiles) for smiles in train_smiles]"
      ],
      "execution_count": null,
      "outputs": []
    },
    {
      "cell_type": "code",
      "metadata": {
        "id": "-ziC61E3Bhmr"
      },
      "source": [
        "# change the second argument to compare different generated molecules to QM9\r\n",
        "tanimoto_scores = tanimoto_similarity(train_mols, gen_mols[3])\r\n",
        "similar_mols = []"
      ],
      "execution_count": null,
      "outputs": []
    },
    {
      "cell_type": "code",
      "metadata": {
        "id": "TSSeDv2RBqcE"
      },
      "source": [
        "for idx, ts in tanimoto_scores[:3]:\r\n",
        "    print(round(ts, 3))\r\n",
        "    similar_mols.append(train_mols[idx])\r\n",
        "\r\n",
        "display_images(mols_to_pngs(similar_mols, 'qm9_mol'))"
      ],
      "execution_count": null,
      "outputs": []
    }
  ]
}