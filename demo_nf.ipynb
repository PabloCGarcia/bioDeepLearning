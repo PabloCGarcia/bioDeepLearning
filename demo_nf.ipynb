{
  "nbformat": 4,
  "nbformat_minor": 0,
  "metadata": {
    "accelerator": "GPU",
    "colab": {
      "name": "demo-nf.ipynb",
      "provenance": [],
      "collapsed_sections": [],
      "authorship_tag": "ABX9TyMSSaul4SwwF8S/X5xp2TnX",
      "include_colab_link": true
    },
    "kernelspec": {
      "display_name": "Python 3",
      "name": "python3"
    }
  },
  "cells": [
    {
      "cell_type": "markdown",
      "metadata": {
        "id": "view-in-github",
        "colab_type": "text"
      },
      "source": [
        "<a href=\"https://colab.research.google.com/github/PabloCGarcia/bioDeepLearning/blob/main/demo_nf.ipynb\" target=\"_parent\"><img src=\"https://colab.research.google.com/assets/colab-badge.svg\" alt=\"Open In Colab\"/></a>"
      ]
    },
    {
      "cell_type": "code",
      "metadata": {
        "colab": {
          "base_uri": "https://localhost:8080/"
        },
        "id": "hvi-YXjEs7Af",
        "outputId": "ce18c96b-9883-4acf-ab81-1adcd4a9bad8"
      },
      "source": [
        "!curl -Lo conda_installer.py https://raw.githubusercontent.com/deepchem/deepchem/master/scripts/colab_install.py\r\n",
        "import conda_installer\r\n",
        "conda_installer.install()\r\n",
        "!/root/miniconda/bin/conda info -e"
      ],
      "execution_count": null,
      "outputs": [
        {
          "output_type": "stream",
          "text": [
            "  % Total    % Received % Xferd  Average Speed   Time    Time     Time  Current\n",
            "                                 Dload  Upload   Total   Spent    Left  Speed\n",
            "\r  0     0    0     0    0     0      0      0 --:--:-- --:--:-- --:--:--     0\r100  3501  100  3501    0     0  38900      0 --:--:-- --:--:-- --:--:-- 38900\n"
          ],
          "name": "stdout"
        },
        {
          "output_type": "stream",
          "text": [
            "add /root/miniconda/lib/python3.7/site-packages to PYTHONPATH\n",
            "python version: 3.7.10\n",
            "fetching installer from https://repo.continuum.io/miniconda/Miniconda3-latest-Linux-x86_64.sh\n",
            "done\n",
            "installing miniconda to /root/miniconda\n",
            "done\n",
            "installing rdkit, openmm, pdbfixer\n",
            "added conda-forge to channels\n",
            "added omnia to channels\n",
            "done\n",
            "conda packages installation finished!\n"
          ],
          "name": "stderr"
        },
        {
          "output_type": "stream",
          "text": [
            "# conda environments:\n",
            "#\n",
            "base                  *  /root/miniconda\n",
            "\n"
          ],
          "name": "stdout"
        }
      ]
    },
    {
      "cell_type": "code",
      "metadata": {
        "colab": {
          "base_uri": "https://localhost:8080/",
          "height": 276
        },
        "id": "6FYgLMk4_f3J",
        "outputId": "0045231f-bf3e-4b46-cee9-0181aaee0388"
      },
      "source": [
        "!pip install --pre deepchem\r\n",
        "import deepchem\r\n",
        "deepchem.__version__"
      ],
      "execution_count": null,
      "outputs": [
        {
          "output_type": "stream",
          "text": [
            "Collecting deepchem\n",
            "\u001b[?25l  Downloading https://files.pythonhosted.org/packages/8e/94/7241850da391fc5a3174dc914a82f7fd5f59356e722f7267982d39c8c95f/deepchem-2.5.0.dev20210317060500-py3-none-any.whl (552kB)\n",
            "\r\u001b[K     |▋                               | 10kB 23.9MB/s eta 0:00:01\r\u001b[K     |█▏                              | 20kB 31.8MB/s eta 0:00:01\r\u001b[K     |█▉                              | 30kB 22.8MB/s eta 0:00:01\r\u001b[K     |██▍                             | 40kB 26.3MB/s eta 0:00:01\r\u001b[K     |███                             | 51kB 27.2MB/s eta 0:00:01\r\u001b[K     |███▋                            | 61kB 29.5MB/s eta 0:00:01\r\u001b[K     |████▏                           | 71kB 20.0MB/s eta 0:00:01\r\u001b[K     |████▊                           | 81kB 20.8MB/s eta 0:00:01\r\u001b[K     |█████▍                          | 92kB 19.2MB/s eta 0:00:01\r\u001b[K     |██████                          | 102kB 19.2MB/s eta 0:00:01\r\u001b[K     |██████▌                         | 112kB 19.2MB/s eta 0:00:01\r\u001b[K     |███████▏                        | 122kB 19.2MB/s eta 0:00:01\r\u001b[K     |███████▊                        | 133kB 19.2MB/s eta 0:00:01\r\u001b[K     |████████▎                       | 143kB 19.2MB/s eta 0:00:01\r\u001b[K     |█████████                       | 153kB 19.2MB/s eta 0:00:01\r\u001b[K     |█████████▌                      | 163kB 19.2MB/s eta 0:00:01\r\u001b[K     |██████████                      | 174kB 19.2MB/s eta 0:00:01\r\u001b[K     |██████████▊                     | 184kB 19.2MB/s eta 0:00:01\r\u001b[K     |███████████▎                    | 194kB 19.2MB/s eta 0:00:01\r\u001b[K     |███████████▉                    | 204kB 19.2MB/s eta 0:00:01\r\u001b[K     |████████████▌                   | 215kB 19.2MB/s eta 0:00:01\r\u001b[K     |█████████████                   | 225kB 19.2MB/s eta 0:00:01\r\u001b[K     |█████████████▋                  | 235kB 19.2MB/s eta 0:00:01\r\u001b[K     |██████████████▎                 | 245kB 19.2MB/s eta 0:00:01\r\u001b[K     |██████████████▉                 | 256kB 19.2MB/s eta 0:00:01\r\u001b[K     |███████████████▍                | 266kB 19.2MB/s eta 0:00:01\r\u001b[K     |████████████████                | 276kB 19.2MB/s eta 0:00:01\r\u001b[K     |████████████████▋               | 286kB 19.2MB/s eta 0:00:01\r\u001b[K     |█████████████████▏              | 296kB 19.2MB/s eta 0:00:01\r\u001b[K     |█████████████████▉              | 307kB 19.2MB/s eta 0:00:01\r\u001b[K     |██████████████████▍             | 317kB 19.2MB/s eta 0:00:01\r\u001b[K     |███████████████████             | 327kB 19.2MB/s eta 0:00:01\r\u001b[K     |███████████████████▋            | 337kB 19.2MB/s eta 0:00:01\r\u001b[K     |████████████████████▏           | 348kB 19.2MB/s eta 0:00:01\r\u001b[K     |████████████████████▊           | 358kB 19.2MB/s eta 0:00:01\r\u001b[K     |█████████████████████▍          | 368kB 19.2MB/s eta 0:00:01\r\u001b[K     |██████████████████████          | 378kB 19.2MB/s eta 0:00:01\r\u001b[K     |██████████████████████▌         | 389kB 19.2MB/s eta 0:00:01\r\u001b[K     |███████████████████████▏        | 399kB 19.2MB/s eta 0:00:01\r\u001b[K     |███████████████████████▊        | 409kB 19.2MB/s eta 0:00:01\r\u001b[K     |████████████████████████▎       | 419kB 19.2MB/s eta 0:00:01\r\u001b[K     |█████████████████████████       | 430kB 19.2MB/s eta 0:00:01\r\u001b[K     |█████████████████████████▌      | 440kB 19.2MB/s eta 0:00:01\r\u001b[K     |██████████████████████████      | 450kB 19.2MB/s eta 0:00:01\r\u001b[K     |██████████████████████████▊     | 460kB 19.2MB/s eta 0:00:01\r\u001b[K     |███████████████████████████▎    | 471kB 19.2MB/s eta 0:00:01\r\u001b[K     |███████████████████████████▉    | 481kB 19.2MB/s eta 0:00:01\r\u001b[K     |████████████████████████████▌   | 491kB 19.2MB/s eta 0:00:01\r\u001b[K     |█████████████████████████████   | 501kB 19.2MB/s eta 0:00:01\r\u001b[K     |█████████████████████████████▋  | 512kB 19.2MB/s eta 0:00:01\r\u001b[K     |██████████████████████████████▎ | 522kB 19.2MB/s eta 0:00:01\r\u001b[K     |██████████████████████████████▉ | 532kB 19.2MB/s eta 0:00:01\r\u001b[K     |███████████████████████████████▍| 542kB 19.2MB/s eta 0:00:01\r\u001b[K     |████████████████████████████████| 552kB 19.2MB/s \n",
            "\u001b[?25hRequirement already satisfied: joblib in /usr/local/lib/python3.7/dist-packages (from deepchem) (1.0.1)\n",
            "Requirement already satisfied: scikit-learn in /usr/local/lib/python3.7/dist-packages (from deepchem) (0.22.2.post1)\n",
            "Requirement already satisfied: numpy in /usr/local/lib/python3.7/dist-packages (from deepchem) (1.19.5)\n",
            "Requirement already satisfied: scipy in /usr/local/lib/python3.7/dist-packages (from deepchem) (1.4.1)\n",
            "Requirement already satisfied: pandas in /usr/local/lib/python3.7/dist-packages (from deepchem) (1.1.5)\n",
            "Requirement already satisfied: pytz>=2017.2 in /usr/local/lib/python3.7/dist-packages (from pandas->deepchem) (2018.9)\n",
            "Requirement already satisfied: python-dateutil>=2.7.3 in /usr/local/lib/python3.7/dist-packages (from pandas->deepchem) (2.8.1)\n",
            "Requirement already satisfied: six>=1.5 in /usr/local/lib/python3.7/dist-packages (from python-dateutil>=2.7.3->pandas->deepchem) (1.15.0)\n",
            "Installing collected packages: deepchem\n",
            "Successfully installed deepchem-2.5.0.dev20210317060500\n"
          ],
          "name": "stdout"
        },
        {
          "output_type": "execute_result",
          "data": {
            "application/vnd.google.colaboratory.intrinsic+json": {
              "type": "string"
            },
            "text/plain": [
              "'2.5.0.dev'"
            ]
          },
          "metadata": {
            "tags": []
          },
          "execution_count": 2
        }
      ]
    },
    {
      "cell_type": "code",
      "metadata": {
        "colab": {
          "base_uri": "https://localhost:8080/"
        },
        "id": "wBnjnd8e_laF",
        "outputId": "99ac3589-d8f0-4c81-f362-c1f1df014255"
      },
      "source": [
        "!pip install selfies"
      ],
      "execution_count": null,
      "outputs": [
        {
          "output_type": "stream",
          "text": [
            "Collecting selfies==1.0.2\n",
            "  Downloading https://files.pythonhosted.org/packages/58/1b/d82fe9ea4c7713c5270205d6a434ad9c470bf1e906b4e260069dcaf9170a/selfies-1.0.2-py3-none-any.whl\n",
            "Installing collected packages: selfies\n",
            "Successfully installed selfies-1.0.2\n"
          ],
          "name": "stdout"
        }
      ]
    },
    {
      "cell_type": "code",
      "metadata": {
        "id": "JTgoTy8z_rDh"
      },
      "source": [
        "\r\n",
        "import numpy as np\r\n",
        "import matplotlib.pyplot as plt\r\n",
        "import seaborn as sns\r\n",
        "import pandas as pd\r\n",
        "import os\r\n",
        "\r\n",
        "import deepchem as dc\r\n",
        "from deepchem.models.normalizing_flows import NormalizingFlow, NormalizingFlowModel\r\n",
        "from deepchem.models.optimizers import Adam\r\n",
        "from deepchem.data import NumpyDataset\r\n",
        "from deepchem.splits import RandomSplitter\r\n",
        "from deepchem.molnet import load_tox21\r\n",
        "\r\n",
        "import rdkit\r\n",
        "from rdkit.Chem import Draw\r\n",
        "\r\n",
        "from IPython.display import Image, display\r\n",
        "\r\n",
        "import selfies as sf\r\n",
        "\r\n",
        "import tensorflow as tf\r\n",
        "import tensorflow_probability as tfp\r\n",
        "\r\n",
        "tfd = tfp.distributions\r\n",
        "tfb = tfp.bijectors\r\n",
        "tfk = tf.keras\r\n",
        "\r\n",
        "tfk.backend.set_floatx('float64')"
      ],
      "execution_count": null,
      "outputs": []
    },
    {
      "cell_type": "code",
      "metadata": {
        "colab": {
          "background_save": true
        },
        "id": "yhiDaxyY_wq8"
      },
      "source": [
        "tasks, datasets, transformers = dc.molnet.load_qm9(featurizer='ECFP')\r\n",
        "df = pd.DataFrame(data={'smiles': datasets[0].ids})"
      ],
      "execution_count": null,
      "outputs": []
    },
    {
      "cell_type": "code",
      "metadata": {
        "colab": {
          "background_save": true
        },
        "id": "zzFvYVxH_xjR"
      },
      "source": [
        "data = df[['smiles']].sample(2500, random_state=50)"
      ],
      "execution_count": null,
      "outputs": []
    },
    {
      "cell_type": "code",
      "metadata": {
        "colab": {
          "background_save": true
        },
        "id": "SHfkj_tA6oKh",
        "outputId": "ae2c2df5-c320-464d-9a82-dbe891c0635b"
      },
      "source": [
        "data.head()"
      ],
      "execution_count": null,
      "outputs": [
        {
          "output_type": "execute_result",
          "data": {
            "text/html": [
              "<div>\n",
              "<style scoped>\n",
              "    .dataframe tbody tr th:only-of-type {\n",
              "        vertical-align: middle;\n",
              "    }\n",
              "\n",
              "    .dataframe tbody tr th {\n",
              "        vertical-align: top;\n",
              "    }\n",
              "\n",
              "    .dataframe thead th {\n",
              "        text-align: right;\n",
              "    }\n",
              "</style>\n",
              "<table border=\"1\" class=\"dataframe\">\n",
              "  <thead>\n",
              "    <tr style=\"text-align: right;\">\n",
              "      <th></th>\n",
              "      <th>smiles</th>\n",
              "    </tr>\n",
              "  </thead>\n",
              "  <tbody>\n",
              "    <tr>\n",
              "      <th>3670</th>\n",
              "      <td>[H]C1=C([H])C2(N([H])C(=O)N1[H])C([H])([H])C2(...</td>\n",
              "    </tr>\n",
              "    <tr>\n",
              "      <th>12694</th>\n",
              "      <td>[H]C([H])([H])OC12C([H])([H])C3(C([H])([H])[H]...</td>\n",
              "    </tr>\n",
              "    <tr>\n",
              "      <th>7790</th>\n",
              "      <td>[H]OC([H])([H])C([H])(O[H])C([H])([H])C([H])(C...</td>\n",
              "    </tr>\n",
              "    <tr>\n",
              "      <th>23035</th>\n",
              "      <td>[H]C#CC1([H])[NH+](C([H])([H])C([H])=O)C([H])(...</td>\n",
              "    </tr>\n",
              "    <tr>\n",
              "      <th>9969</th>\n",
              "      <td>[H]/N=C(/N(C([H])=O)C([H])([H])C([H])([H])[H])...</td>\n",
              "    </tr>\n",
              "  </tbody>\n",
              "</table>\n",
              "</div>"
            ],
            "text/plain": [
              "                                                  smiles\n",
              "3670   [H]C1=C([H])C2(N([H])C(=O)N1[H])C([H])([H])C2(...\n",
              "12694  [H]C([H])([H])OC12C([H])([H])C3(C([H])([H])[H]...\n",
              "7790   [H]OC([H])([H])C([H])(O[H])C([H])([H])C([H])(C...\n",
              "23035  [H]C#CC1([H])[NH+](C([H])([H])C([H])=O)C([H])(...\n",
              "9969   [H]/N=C(/N(C([H])=O)C([H])([H])C([H])([H])[H])..."
            ]
          },
          "metadata": {
            "tags": []
          },
          "execution_count": 0
        }
      ]
    },
    {
      "cell_type": "code",
      "metadata": {
        "colab": {
          "background_save": true
        },
        "id": "RnuUzrBD_xs6",
        "outputId": "7c076ef9-0fff-4536-eb0d-d8ad0c5fac6c"
      },
      "source": [
        "sf.set_semantic_constraints()  # reset constraints\r\n",
        "constraints = sf.get_semantic_constraints()\r\n",
        "constraints['?'] = 3\r\n",
        "\r\n",
        "sf.set_semantic_constraints(constraints)\r\n",
        "constraints"
      ],
      "execution_count": null,
      "outputs": [
        {
          "output_type": "execute_result",
          "data": {
            "text/plain": [
              "{'?': 3,\n",
              " 'Br': 1,\n",
              " 'C': 4,\n",
              " 'C+1': 5,\n",
              " 'C-1': 3,\n",
              " 'Cl': 1,\n",
              " 'F': 1,\n",
              " 'H': 1,\n",
              " 'I': 1,\n",
              " 'N': 3,\n",
              " 'N+1': 4,\n",
              " 'N-1': 2,\n",
              " 'O': 2,\n",
              " 'O+1': 3,\n",
              " 'O-1': 1,\n",
              " 'P': 7,\n",
              " 'P+1': 8,\n",
              " 'P-1': 6,\n",
              " 'S': 6,\n",
              " 'S+1': 7,\n",
              " 'S-1': 5}"
            ]
          },
          "metadata": {
            "tags": []
          },
          "execution_count": 0
        }
      ]
    },
    {
      "cell_type": "code",
      "metadata": {
        "id": "r0tN3Yt6_xxn"
      },
      "source": [
        "def preprocess_smiles(smiles):\r\n",
        "  return sf.encoder(smiles)  \r\n",
        "\r\n",
        "data['selfies'] = data['smiles'].apply(preprocess_smiles)"
      ],
      "execution_count": null,
      "outputs": []
    },
    {
      "cell_type": "code",
      "metadata": {
        "colab": {
          "base_uri": "https://localhost:8080/",
          "height": 204
        },
        "id": "tekja8yi9Fif",
        "outputId": "115607ee-051d-4ae9-ec70-d65818d94f50"
      },
      "source": [
        "data.head()"
      ],
      "execution_count": null,
      "outputs": [
        {
          "output_type": "execute_result",
          "data": {
            "text/html": [
              "<div>\n",
              "<style scoped>\n",
              "    .dataframe tbody tr th:only-of-type {\n",
              "        vertical-align: middle;\n",
              "    }\n",
              "\n",
              "    .dataframe tbody tr th {\n",
              "        vertical-align: top;\n",
              "    }\n",
              "\n",
              "    .dataframe thead th {\n",
              "        text-align: right;\n",
              "    }\n",
              "</style>\n",
              "<table border=\"1\" class=\"dataframe\">\n",
              "  <thead>\n",
              "    <tr style=\"text-align: right;\">\n",
              "      <th></th>\n",
              "      <th>smiles</th>\n",
              "      <th>selfies</th>\n",
              "    </tr>\n",
              "  </thead>\n",
              "  <tbody>\n",
              "    <tr>\n",
              "      <th>3670</th>\n",
              "      <td>[H]C1=C([H])C2(N([H])C(=O)N1[H])C([H])([H])C2(...</td>\n",
              "      <td>[Hexpl][C][=C][Branch1_1][C][Hexpl][C][Branch1...</td>\n",
              "    </tr>\n",
              "    <tr>\n",
              "      <th>12694</th>\n",
              "      <td>[H]C([H])([H])OC12C([H])([H])C3(C([H])([H])[H]...</td>\n",
              "      <td>[Hexpl][C][Branch1_1][C][Hexpl][Branch1_1][C][...</td>\n",
              "    </tr>\n",
              "    <tr>\n",
              "      <th>7790</th>\n",
              "      <td>[H]OC([H])([H])C([H])(O[H])C([H])([H])C([H])(C...</td>\n",
              "      <td>[Hexpl][O][C][Branch1_1][C][Hexpl][Branch1_1][...</td>\n",
              "    </tr>\n",
              "    <tr>\n",
              "      <th>23035</th>\n",
              "      <td>[H]C#CC1([H])[NH+](C([H])([H])C([H])=O)C([H])(...</td>\n",
              "      <td>[Hexpl][C][#C][C][Branch1_1][C][Hexpl][NH+expl...</td>\n",
              "    </tr>\n",
              "    <tr>\n",
              "      <th>9969</th>\n",
              "      <td>[H]/N=C(/N(C([H])=O)C([H])([H])C([H])([H])[H])...</td>\n",
              "      <td>[Hexpl][/N][=C][Branch2_1][Ring1][Branch2_1][/...</td>\n",
              "    </tr>\n",
              "  </tbody>\n",
              "</table>\n",
              "</div>"
            ],
            "text/plain": [
              "                                                  smiles                                            selfies\n",
              "3670   [H]C1=C([H])C2(N([H])C(=O)N1[H])C([H])([H])C2(...  [Hexpl][C][=C][Branch1_1][C][Hexpl][C][Branch1...\n",
              "12694  [H]C([H])([H])OC12C([H])([H])C3(C([H])([H])[H]...  [Hexpl][C][Branch1_1][C][Hexpl][Branch1_1][C][...\n",
              "7790   [H]OC([H])([H])C([H])(O[H])C([H])([H])C([H])(C...  [Hexpl][O][C][Branch1_1][C][Hexpl][Branch1_1][...\n",
              "23035  [H]C#CC1([H])[NH+](C([H])([H])C([H])=O)C([H])(...  [Hexpl][C][#C][C][Branch1_1][C][Hexpl][NH+expl...\n",
              "9969   [H]/N=C(/N(C([H])=O)C([H])([H])C([H])([H])[H])...  [Hexpl][/N][=C][Branch2_1][Ring1][Branch2_1][/..."
            ]
          },
          "metadata": {
            "tags": []
          },
          "execution_count": 10
        }
      ]
    },
    {
      "cell_type": "code",
      "metadata": {
        "colab": {
          "base_uri": "https://localhost:8080/",
          "height": 204
        },
        "id": "t7xh36XU_x1o",
        "outputId": "cc663a8c-31c2-45d7-f3a5-6937cc805252"
      },
      "source": [
        "data['len'] = data['smiles'].apply(lambda x: len(x))\r\n",
        "data.sort_values(by='len').head()"
      ],
      "execution_count": null,
      "outputs": [
        {
          "output_type": "execute_result",
          "data": {
            "text/html": [
              "<div>\n",
              "<style scoped>\n",
              "    .dataframe tbody tr th:only-of-type {\n",
              "        vertical-align: middle;\n",
              "    }\n",
              "\n",
              "    .dataframe tbody tr th {\n",
              "        vertical-align: top;\n",
              "    }\n",
              "\n",
              "    .dataframe thead th {\n",
              "        text-align: right;\n",
              "    }\n",
              "</style>\n",
              "<table border=\"1\" class=\"dataframe\">\n",
              "  <thead>\n",
              "    <tr style=\"text-align: right;\">\n",
              "      <th></th>\n",
              "      <th>smiles</th>\n",
              "      <th>selfies</th>\n",
              "      <th>len</th>\n",
              "    </tr>\n",
              "  </thead>\n",
              "  <tbody>\n",
              "    <tr>\n",
              "      <th>42125</th>\n",
              "      <td>N#CC#CC#CC#N</td>\n",
              "      <td>[N][#C][C][#C][C][#C][C][#N]</td>\n",
              "      <td>12</td>\n",
              "    </tr>\n",
              "    <tr>\n",
              "      <th>71623</th>\n",
              "      <td>O=c1nc(F)nno1</td>\n",
              "      <td>[O][=C][N][=C][Branch1_1][C][F][N][=N][O][Ring...</td>\n",
              "      <td>13</td>\n",
              "    </tr>\n",
              "    <tr>\n",
              "      <th>38660</th>\n",
              "      <td>[H]N([H])c1nnon1</td>\n",
              "      <td>[Hexpl][N][Branch1_1][C][Hexpl][C][N][=N][O][N...</td>\n",
              "      <td>16</td>\n",
              "    </tr>\n",
              "    <tr>\n",
              "      <th>1194</th>\n",
              "      <td>[H]n1nnc(C#N)nc1=O</td>\n",
              "      <td>[Hexpl][N][N][=N][C][Branch1_1][Ring1][C][#N][...</td>\n",
              "      <td>18</td>\n",
              "    </tr>\n",
              "    <tr>\n",
              "      <th>80720</th>\n",
              "      <td>N=N.[H]N=CNC(=O)C#N</td>\n",
              "      <td>[N][=N].[Hexpl][N][=C][N][C][Branch1_2][C][=O]...</td>\n",
              "      <td>19</td>\n",
              "    </tr>\n",
              "  </tbody>\n",
              "</table>\n",
              "</div>"
            ],
            "text/plain": [
              "                    smiles  ... len\n",
              "42125         N#CC#CC#CC#N  ...  12\n",
              "71623        O=c1nc(F)nno1  ...  13\n",
              "38660     [H]N([H])c1nnon1  ...  16\n",
              "1194    [H]n1nnc(C#N)nc1=O  ...  18\n",
              "80720  N=N.[H]N=CNC(=O)C#N  ...  19\n",
              "\n",
              "[5 rows x 3 columns]"
            ]
          },
          "metadata": {
            "tags": []
          },
          "execution_count": 11
        }
      ]
    },
    {
      "cell_type": "code",
      "metadata": {
        "id": "1sIdiobHQK90"
      },
      "source": [
        "filtro = data[data[\"selfies\"].str.contains(\"\\.\") ].index\r\n",
        "data.drop(index=filtro, inplace=True)"
      ],
      "execution_count": null,
      "outputs": []
    },
    {
      "cell_type": "code",
      "metadata": {
        "id": "FMy-2Q411trS"
      },
      "source": [
        "selfies_list=data.selfies.to_list()"
      ],
      "execution_count": null,
      "outputs": []
    },
    {
      "cell_type": "code",
      "metadata": {
        "id": "E-wIwSbQ_x53"
      },
      "source": [
        "#selfies_list = np.asanyarray(data.selfies)\r\n",
        "selfies_alphabet = sf.get_alphabet_from_selfies(selfies_list)\r\n",
        "selfies_alphabet.add('[nop]')  # Add the \"no operation\" symbol as a padding character\r\n",
        "#i=0\r\n",
        "#while len(selfies_alphabet)!=65:\r\n",
        "#    i+=1\r\n",
        "#    selfies_alphabet.add('[nop' + str(i)+']')\r\n",
        "selfies_alphabet = list(sorted(selfies_alphabet))\r\n",
        "symbol_to_idx = {s: i for i, s in enumerate(selfies_alphabet)}\r\n",
        "largest_selfie_len = max(sf.len_selfies(s) for s in selfies_list)"
      ],
      "execution_count": null,
      "outputs": []
    },
    {
      "cell_type": "code",
      "metadata": {
        "id": "n94CR7AL7mUZ"
      },
      "source": [
        "idx_to_symbol = {i: s for i, s in enumerate(selfies_alphabet)}"
      ],
      "execution_count": null,
      "outputs": []
    },
    {
      "cell_type": "code",
      "metadata": {
        "id": "rwbEKf5mL4bz"
      },
      "source": [
        "#def selfies_to_hot(selfie, largest_selfie_len, alphabet):\r\n",
        "#    \"\"\"Go from a single selfies string to a one-hot encoding.\r\n",
        "#    \"\"\"\r\n",
        "#    #print(selfie)\r\n",
        "#    symbol_to_int = dict((c, i) for i, c in enumerate(alphabet))\r\n",
        "#\r\n",
        "#    # pad with [nop]\r\n",
        "#    selfie += '[nop]' * (largest_selfie_len - sf.len_selfies(selfie))\r\n",
        "#\r\n",
        "#    # integer encode\r\n",
        "#    symbol_list = sf.split_selfies(selfie)\r\n",
        "#    integer_encoded = [symbol_to_int[symbol] for symbol in symbol_list]\r\n",
        "#\r\n",
        "#    # one hot-encode the integer encoded selfie\r\n",
        "#    onehot_encoded = list()\r\n",
        "#    for index in integer_encoded:\r\n",
        "#        letter = [0] * len(alphabet)\r\n",
        "#        letter[index] = 1\r\n",
        "#        onehot_encoded.append(letter)\r\n",
        "#\r\n",
        "#    return integer_encoded, np.array(onehot_encoded)\r\n",
        "#\r\n",
        "#\r\n",
        "#def multiple_selfies_to_hot(selfies_list, largest_molecule_len, alphabet):\r\n",
        "#    \"\"\"Convert a list of selfies strings to a one-hot encoding\r\n",
        "#    \"\"\"\r\n",
        "#\r\n",
        "#    hot_list = []\r\n",
        "#    for s in selfies_list:\r\n",
        "#        _, onehot_encoded = selfies_to_hot(s, largest_molecule_len, alphabet)\r\n",
        "#        hot_list.append(onehot_encoded)\r\n",
        "#    return np.array(hot_list)"
      ],
      "execution_count": null,
      "outputs": []
    },
    {
      "cell_type": "code",
      "metadata": {
        "colab": {
          "base_uri": "https://localhost:8080/"
        },
        "id": "UgAZuYJK-lQN",
        "outputId": "03589ee4-6e77-4ff3-e720-7e524c3a8bc4"
      },
      "source": [
        "selfies_alphabet"
      ],
      "execution_count": null,
      "outputs": [
        {
          "output_type": "execute_result",
          "data": {
            "text/plain": [
              "['[#C]',\n",
              " '[#N]',\n",
              " '[/C]',\n",
              " '[/Hexpl]',\n",
              " '[/N]',\n",
              " '[/O]',\n",
              " '[=C]',\n",
              " '[=N+expl]',\n",
              " '[=N]',\n",
              " '[=O]',\n",
              " '[Branch1_1]',\n",
              " '[Branch1_2]',\n",
              " '[Branch1_3]',\n",
              " '[Branch2_1]',\n",
              " '[Branch2_2]',\n",
              " '[Branch2_3]',\n",
              " '[C+expl]',\n",
              " '[C-expl]',\n",
              " '[CH+expl]',\n",
              " '[C]',\n",
              " '[Expl=Ring1]',\n",
              " '[Expl=Ring2]',\n",
              " '[Expl\\\\Ring2]',\n",
              " '[F]',\n",
              " '[Hexpl]',\n",
              " '[N+expl]',\n",
              " '[N-expl]',\n",
              " '[NH+expl]',\n",
              " '[NH2+expl]',\n",
              " '[NHexpl]',\n",
              " '[N]',\n",
              " '[O-expl]',\n",
              " '[O]',\n",
              " '[P]',\n",
              " '[Ring1]',\n",
              " '[Ring2]',\n",
              " '[S]',\n",
              " '[\\\\C-expl]',\n",
              " '[\\\\C]',\n",
              " '[\\\\Hexpl]',\n",
              " '[\\\\N]',\n",
              " '[nop]']"
            ]
          },
          "metadata": {
            "tags": []
          },
          "execution_count": 16
        }
      ]
    },
    {
      "cell_type": "code",
      "metadata": {
        "id": "qJFDrbg-AK0r"
      },
      "source": [
        "onehots = sf.batch_selfies_to_flat_hot(  selfies_list, symbol_to_idx, largest_selfie_len)"
      ],
      "execution_count": null,
      "outputs": []
    },
    {
      "cell_type": "code",
      "metadata": {
        "colab": {
          "base_uri": "https://localhost:8080/"
        },
        "id": "-25HR39nV_1A",
        "outputId": "6f7ec088-0d6b-4143-9042-0799bf51705b"
      },
      "source": [
        "largest_selfie_len"
      ],
      "execution_count": null,
      "outputs": [
        {
          "output_type": "execute_result",
          "data": {
            "text/plain": [
              "62"
            ]
          },
          "metadata": {
            "tags": []
          },
          "execution_count": 18
        }
      ]
    },
    {
      "cell_type": "code",
      "metadata": {
        "colab": {
          "base_uri": "https://localhost:8080/"
        },
        "id": "r6jFIniRV_u9",
        "outputId": "d0548f04-33bd-484b-8c95-d2baf094dbe6"
      },
      "source": [
        "len(selfies_alphabet)"
      ],
      "execution_count": null,
      "outputs": [
        {
          "output_type": "execute_result",
          "data": {
            "text/plain": [
              "42"
            ]
          },
          "metadata": {
            "tags": []
          },
          "execution_count": 19
        }
      ]
    },
    {
      "cell_type": "code",
      "metadata": {
        "id": "XoupIBFjAK75"
      },
      "source": [
        "input_tensor = tf.convert_to_tensor(onehots, dtype='float64')\r\n",
        "noise_tensor = tf.random.uniform(shape=input_tensor.shape, minval=0, maxval=1, dtype='float64')\r\n",
        "dequantized_data = tf.add(input_tensor, noise_tensor)"
      ],
      "execution_count": null,
      "outputs": []
    },
    {
      "cell_type": "code",
      "metadata": {
        "colab": {
          "base_uri": "https://localhost:8080/"
        },
        "id": "VbOcxTg0ALNE",
        "outputId": "ddec1578-ba11-46df-f6db-136fb973bf7c"
      },
      "source": [
        "ds = NumpyDataset(dequantized_data)  # Create a DeepChem dataset\r\n",
        "splitter = RandomSplitter()\r\n",
        "train, val, test = splitter.train_valid_test_split(dataset=ds, seed=42)\r\n",
        "train_idx, val_idx, test_idx = splitter.split(dataset=ds, seed=42)\r\n",
        "\r\n",
        "dim = len(train.X[0])  # length of one-hot encoded vectors\r\n",
        "train.X.shape  # 2000 samples, N-dimensional one-hot vectors that represent molecules"
      ],
      "execution_count": null,
      "outputs": [
        {
          "output_type": "execute_result",
          "data": {
            "text/plain": [
              "(1996, 2604)"
            ]
          },
          "metadata": {
            "tags": []
          },
          "execution_count": 21
        }
      ]
    },
    {
      "cell_type": "code",
      "metadata": {
        "id": "cVLiLhSdAXLY"
      },
      "source": [
        "# SMILES strings of training data\r\n",
        "train_smiles = data['smiles'].iloc[train_idx].values"
      ],
      "execution_count": null,
      "outputs": []
    },
    {
      "cell_type": "code",
      "metadata": {
        "id": "GwHHN6AjAW8j"
      },
      "source": [
        "base_dist = tfd.MultivariateNormalDiag(loc=np.zeros(dim), scale_diag=np.ones(dim))\r\n",
        "\r\n",
        "if dim % 2 == 0:\r\n",
        "    permutation = tf.cast(np.concatenate((np.arange(dim / 2, dim), np.arange(0, dim / 2))),\r\n",
        "                                  tf.int32)\r\n",
        "else:\r\n",
        "    permutation = tf.cast(np.concatenate((np.arange(dim / 2 + 1, dim), np.arange(0, dim / 2))), tf.int32)"
      ],
      "execution_count": null,
      "outputs": []
    },
    {
      "cell_type": "code",
      "metadata": {
        "colab": {
          "base_uri": "https://localhost:8080/"
        },
        "id": "frDD7shBVxjE",
        "outputId": "0706b251-7778-4a08-e609-ce6dffd09ed6"
      },
      "source": [
        "dim"
      ],
      "execution_count": null,
      "outputs": [
        {
          "output_type": "execute_result",
          "data": {
            "text/plain": [
              "2604"
            ]
          },
          "metadata": {
            "tags": []
          },
          "execution_count": 24
        }
      ]
    },
    {
      "cell_type": "code",
      "metadata": {
        "id": "RXABX3QrAkT2"
      },
      "source": [
        "num_layers = 8\r\n",
        "flow_layers = []\r\n",
        "\r\n",
        "Made = tfb.AutoregressiveNetwork(params=2,\r\n",
        "                                 hidden_units=[512, 512], activation='relu')\r\n",
        "\r\n",
        "for i in range(num_layers):\r\n",
        "    flow_layers.append(        \r\n",
        "        (tfb.MaskedAutoregressiveFlow(shift_and_log_scale_fn=Made)\r\n",
        "    ))\r\n",
        "\r\n",
        "    permutation = tf.cast(np.random.permutation(np.arange(0, dim)), tf.int32)\r\n",
        "    \r\n",
        "    flow_layers.append(tfb.Permute(permutation=permutation))\r\n",
        "    \r\n",
        "#     if (i + 1) % int(2) == 0:\r\n",
        "#         flow_layers.append(tfb.BatchNormalization())"
      ],
      "execution_count": null,
      "outputs": []
    },
    {
      "cell_type": "code",
      "metadata": {
        "colab": {
          "base_uri": "https://localhost:8080/"
        },
        "id": "aPPdgbWTAkak",
        "outputId": "68cedbe4-3983-49fe-e477-f1dee76211f0"
      },
      "source": [
        "%%time\r\n",
        "nf = NormalizingFlow(base_distribution=base_dist,\r\n",
        "                    flow_layers=flow_layers)\r\n",
        "samples = nf.flow.sample(5)"
      ],
      "execution_count": null,
      "outputs": [
        {
          "output_type": "stream",
          "text": [
            "CPU times: user 1min 30s, sys: 2.12 s, total: 1min 32s\n",
            "Wall time: 1min 34s\n"
          ],
          "name": "stdout"
        }
      ]
    },
    {
      "cell_type": "code",
      "metadata": {
        "id": "vnABrnedAkc6"
      },
      "source": [
        "nfm = NormalizingFlowModel(nf, learning_rate=1e-4, batch_size=128)"
      ],
      "execution_count": null,
      "outputs": []
    },
    {
      "cell_type": "code",
      "metadata": {
        "id": "YuYU29d4Akfl"
      },
      "source": [
        "losses = []\r\n",
        "val_losses = []"
      ],
      "execution_count": null,
      "outputs": []
    },
    {
      "cell_type": "code",
      "metadata": {
        "colab": {
          "base_uri": "https://localhost:8080/"
        },
        "id": "Wh5L7r_yAkhk",
        "outputId": "585f5266-bae3-4957-f144-a99a6413211e"
      },
      "source": [
        "%%time\r\n",
        "max_epochs = 20 # maximum number of epochs of the training\r\n",
        "\r\n",
        "for epoch in range(max_epochs):\r\n",
        "  print(\"Epoca:\", epoch)\r\n",
        "  loss = nfm.fit(train, nb_epoch=1, all_losses=losses)\r\n",
        "  val_loss = nfm.create_nll(val.X)\r\n",
        "  val_losses.append(val_loss.numpy())"
      ],
      "execution_count": null,
      "outputs": [
        {
          "output_type": "stream",
          "text": [
            "Epoca: 0\n",
            "WARNING:tensorflow:Model was constructed with shape (None, 2604) for input KerasTensor(type_spec=TensorSpec(shape=(None, 2604), dtype=tf.float64, name='input_1'), name='input_1', description=\"created by layer 'input_1'\"), but it was called on an input with incompatible shape (1, 128, 2604).\n",
            "WARNING:tensorflow:Model was constructed with shape (None, 2604) for input KerasTensor(type_spec=TensorSpec(shape=(None, 2604), dtype=tf.float64, name='input_1'), name='input_1', description=\"created by layer 'input_1'\"), but it was called on an input with incompatible shape (1, 128, 2604).\n",
            "WARNING:tensorflow:Model was constructed with shape (None, 2604) for input KerasTensor(type_spec=TensorSpec(shape=(None, 2604), dtype=tf.float64, name='input_1'), name='input_1', description=\"created by layer 'input_1'\"), but it was called on an input with incompatible shape (1, 128, 2604).\n",
            "WARNING:tensorflow:Model was constructed with shape (None, 2604) for input KerasTensor(type_spec=TensorSpec(shape=(None, 2604), dtype=tf.float64, name='input_1'), name='input_1', description=\"created by layer 'input_1'\"), but it was called on an input with incompatible shape (1, 128, 2604).\n",
            "WARNING:tensorflow:Model was constructed with shape (None, 2604) for input KerasTensor(type_spec=TensorSpec(shape=(None, 2604), dtype=tf.float64, name='input_1'), name='input_1', description=\"created by layer 'input_1'\"), but it was called on an input with incompatible shape (1, 128, 2604).\n",
            "WARNING:tensorflow:Model was constructed with shape (None, 2604) for input KerasTensor(type_spec=TensorSpec(shape=(None, 2604), dtype=tf.float64, name='input_1'), name='input_1', description=\"created by layer 'input_1'\"), but it was called on an input with incompatible shape (1, 128, 2604).\n",
            "WARNING:tensorflow:Model was constructed with shape (None, 2604) for input KerasTensor(type_spec=TensorSpec(shape=(None, 2604), dtype=tf.float64, name='input_1'), name='input_1', description=\"created by layer 'input_1'\"), but it was called on an input with incompatible shape (1, 128, 2604).\n",
            "WARNING:tensorflow:Model was constructed with shape (None, 2604) for input KerasTensor(type_spec=TensorSpec(shape=(None, 2604), dtype=tf.float64, name='input_1'), name='input_1', description=\"created by layer 'input_1'\"), but it was called on an input with incompatible shape (1, 128, 2604).\n",
            "WARNING:tensorflow:Model was constructed with shape (None, 2604) for input KerasTensor(type_spec=TensorSpec(shape=(None, 2604), dtype=tf.float64, name='input_1'), name='input_1', description=\"created by layer 'input_1'\"), but it was called on an input with incompatible shape (1, 128, 2604).\n",
            "WARNING:tensorflow:Model was constructed with shape (None, 2604) for input KerasTensor(type_spec=TensorSpec(shape=(None, 2604), dtype=tf.float64, name='input_1'), name='input_1', description=\"created by layer 'input_1'\"), but it was called on an input with incompatible shape (1, 128, 2604).\n",
            "WARNING:tensorflow:Model was constructed with shape (None, 2604) for input KerasTensor(type_spec=TensorSpec(shape=(None, 2604), dtype=tf.float64, name='input_1'), name='input_1', description=\"created by layer 'input_1'\"), but it was called on an input with incompatible shape (1, 128, 2604).\n",
            "WARNING:tensorflow:Model was constructed with shape (None, 2604) for input KerasTensor(type_spec=TensorSpec(shape=(None, 2604), dtype=tf.float64, name='input_1'), name='input_1', description=\"created by layer 'input_1'\"), but it was called on an input with incompatible shape (1, 128, 2604).\n",
            "WARNING:tensorflow:Model was constructed with shape (None, 2604) for input KerasTensor(type_spec=TensorSpec(shape=(None, 2604), dtype=tf.float64, name='input_1'), name='input_1', description=\"created by layer 'input_1'\"), but it was called on an input with incompatible shape (1, 128, 2604).\n",
            "WARNING:tensorflow:Model was constructed with shape (None, 2604) for input KerasTensor(type_spec=TensorSpec(shape=(None, 2604), dtype=tf.float64, name='input_1'), name='input_1', description=\"created by layer 'input_1'\"), but it was called on an input with incompatible shape (1, 128, 2604).\n",
            "WARNING:tensorflow:Model was constructed with shape (None, 2604) for input KerasTensor(type_spec=TensorSpec(shape=(None, 2604), dtype=tf.float64, name='input_1'), name='input_1', description=\"created by layer 'input_1'\"), but it was called on an input with incompatible shape (1, 128, 2604).\n",
            "WARNING:tensorflow:Model was constructed with shape (None, 2604) for input KerasTensor(type_spec=TensorSpec(shape=(None, 2604), dtype=tf.float64, name='input_1'), name='input_1', description=\"created by layer 'input_1'\"), but it was called on an input with incompatible shape (1, 128, 2604).\n",
            "WARNING:tensorflow:Model was constructed with shape (None, 2604) for input KerasTensor(type_spec=TensorSpec(shape=(None, 2604), dtype=tf.float64, name='input_1'), name='input_1', description=\"created by layer 'input_1'\"), but it was called on an input with incompatible shape (1, 128, 2604).\n",
            "WARNING:tensorflow:Model was constructed with shape (None, 2604) for input KerasTensor(type_spec=TensorSpec(shape=(None, 2604), dtype=tf.float64, name='input_1'), name='input_1', description=\"created by layer 'input_1'\"), but it was called on an input with incompatible shape (1, 128, 2604).\n",
            "WARNING:tensorflow:Model was constructed with shape (None, 2604) for input KerasTensor(type_spec=TensorSpec(shape=(None, 2604), dtype=tf.float64, name='input_1'), name='input_1', description=\"created by layer 'input_1'\"), but it was called on an input with incompatible shape (1, 128, 2604).\n",
            "WARNING:tensorflow:Model was constructed with shape (None, 2604) for input KerasTensor(type_spec=TensorSpec(shape=(None, 2604), dtype=tf.float64, name='input_1'), name='input_1', description=\"created by layer 'input_1'\"), but it was called on an input with incompatible shape (1, 128, 2604).\n",
            "WARNING:tensorflow:Model was constructed with shape (None, 2604) for input KerasTensor(type_spec=TensorSpec(shape=(None, 2604), dtype=tf.float64, name='input_1'), name='input_1', description=\"created by layer 'input_1'\"), but it was called on an input with incompatible shape (1, 128, 2604).\n",
            "WARNING:tensorflow:Model was constructed with shape (None, 2604) for input KerasTensor(type_spec=TensorSpec(shape=(None, 2604), dtype=tf.float64, name='input_1'), name='input_1', description=\"created by layer 'input_1'\"), but it was called on an input with incompatible shape (1, 128, 2604).\n",
            "WARNING:tensorflow:Model was constructed with shape (None, 2604) for input KerasTensor(type_spec=TensorSpec(shape=(None, 2604), dtype=tf.float64, name='input_1'), name='input_1', description=\"created by layer 'input_1'\"), but it was called on an input with incompatible shape (1, 128, 2604).\n",
            "WARNING:tensorflow:Model was constructed with shape (None, 2604) for input KerasTensor(type_spec=TensorSpec(shape=(None, 2604), dtype=tf.float64, name='input_1'), name='input_1', description=\"created by layer 'input_1'\"), but it was called on an input with incompatible shape (1, 128, 2604).\n",
            "WARNING:tensorflow:Model was constructed with shape (None, 2604) for input KerasTensor(type_spec=TensorSpec(shape=(None, 2604), dtype=tf.float64, name='input_1'), name='input_1', description=\"created by layer 'input_1'\"), but it was called on an input with incompatible shape (1, 128, 2604).\n",
            "WARNING:tensorflow:Model was constructed with shape (None, 2604) for input KerasTensor(type_spec=TensorSpec(shape=(None, 2604), dtype=tf.float64, name='input_1'), name='input_1', description=\"created by layer 'input_1'\"), but it was called on an input with incompatible shape (1, 128, 2604).\n",
            "WARNING:tensorflow:Model was constructed with shape (None, 2604) for input KerasTensor(type_spec=TensorSpec(shape=(None, 2604), dtype=tf.float64, name='input_1'), name='input_1', description=\"created by layer 'input_1'\"), but it was called on an input with incompatible shape (1, 128, 2604).\n",
            "WARNING:tensorflow:Model was constructed with shape (None, 2604) for input KerasTensor(type_spec=TensorSpec(shape=(None, 2604), dtype=tf.float64, name='input_1'), name='input_1', description=\"created by layer 'input_1'\"), but it was called on an input with incompatible shape (1, 128, 2604).\n",
            "WARNING:tensorflow:Model was constructed with shape (None, 2604) for input KerasTensor(type_spec=TensorSpec(shape=(None, 2604), dtype=tf.float64, name='input_1'), name='input_1', description=\"created by layer 'input_1'\"), but it was called on an input with incompatible shape (1, 128, 2604).\n",
            "WARNING:tensorflow:Model was constructed with shape (None, 2604) for input KerasTensor(type_spec=TensorSpec(shape=(None, 2604), dtype=tf.float64, name='input_1'), name='input_1', description=\"created by layer 'input_1'\"), but it was called on an input with incompatible shape (1, 128, 2604).\n",
            "WARNING:tensorflow:Model was constructed with shape (None, 2604) for input KerasTensor(type_spec=TensorSpec(shape=(None, 2604), dtype=tf.float64, name='input_1'), name='input_1', description=\"created by layer 'input_1'\"), but it was called on an input with incompatible shape (1, 128, 2604).\n",
            "WARNING:tensorflow:Model was constructed with shape (None, 2604) for input KerasTensor(type_spec=TensorSpec(shape=(None, 2604), dtype=tf.float64, name='input_1'), name='input_1', description=\"created by layer 'input_1'\"), but it was called on an input with incompatible shape (1, 128, 2604).\n",
            "Epoca: 1\n",
            "Epoca: 2\n",
            "Epoca: 3\n",
            "Epoca: 4\n",
            "Epoca: 5\n",
            "Epoca: 6\n",
            "Epoca: 7\n",
            "Epoca: 8\n",
            "Epoca: 9\n",
            "Epoca: 10\n",
            "Epoca: 11\n",
            "Epoca: 12\n",
            "Epoca: 13\n",
            "Epoca: 14\n",
            "Epoca: 15\n",
            "Epoca: 16\n",
            "Epoca: 17\n",
            "Epoca: 18\n",
            "Epoca: 19\n",
            "CPU times: user 27.9 s, sys: 7.75 s, total: 35.7 s\n",
            "Wall time: 1min 49s\n"
          ],
          "name": "stdout"
        }
      ]
    },
    {
      "cell_type": "code",
      "metadata": {
        "colab": {
          "base_uri": "https://localhost:8080/",
          "height": 269
        },
        "id": "TPLuSLOOAkk-",
        "outputId": "d0108258-dad0-4134-df09-cecef89a8970"
      },
      "source": [
        "f, ax = plt.subplots()\r\n",
        "ax.scatter(range(len(losses)), losses, label='train loss')\r\n",
        "ax.scatter(range(len(val_losses)), val_losses, label='val loss')\r\n",
        "plt.legend(loc='upper right');"
      ],
      "execution_count": null,
      "outputs": [
        {
          "output_type": "display_data",
          "data": {
            "image/png": "[encoded data removed]",
            "text/plain": [
              "<Figure size 432x288 with 1 Axes>"
            ]
          },
          "metadata": {
            "tags": [],
            "needs_background": "light"
          }
        }
      ]
    },
    {
      "cell_type": "code",
      "metadata": {
        "id": "KZde3wKFAknl"
      },
      "source": [
        "generated_samples = nfm.flow.sample(5)  # generative modeling\r\n",
        "log_probs = nfm.flow.log_prob(generated_samples)  # probability density estimation"
      ],
      "execution_count": null,
      "outputs": []
    },
    {
      "cell_type": "code",
      "metadata": {
        "id": "sEzJtSNSBBhJ"
      },
      "source": [
        "mols = tf.math.floor(generated_samples)  # quantize data\r\n",
        "mols = tf.clip_by_value(mols, 0, 1)  # Set negative values to 0 and values > 1 to 1\r\n",
        "mols_list = mols.numpy().tolist()\r\n",
        "\r\n",
        "# Add padding characters if needed\r\n",
        "for mol in mols_list:\r\n",
        "  for i in range(largest_selfie_len):\r\n",
        "    row = mol[len(selfies_alphabet) * i: len(selfies_alphabet) * (i + 1)]\r\n",
        "    if all(elem == 0 for elem in row):\r\n",
        "      try:\r\n",
        "        mol[len(selfies_alphabet) * (i+1) - 1] = 1\r\n",
        "      except:\r\n",
        "        #print(\"descarto los nopx que había agregado\")\r\n",
        "        pass"
      ],
      "execution_count": null,
      "outputs": []
    },
    {
      "cell_type": "code",
      "metadata": {
        "id": "D-qiWfpFBBnb"
      },
      "source": [
        "mols = sf.batch_flat_hot_to_selfies(mols_list, selfies_alphabet)"
      ],
      "execution_count": null,
      "outputs": []
    },
    {
      "cell_type": "code",
      "metadata": {
        "id": "ZA7l32zDFLpI",
        "colab": {
          "base_uri": "https://localhost:8080/"
        },
        "outputId": "0d86cd1a-fe0e-4905-cb74-c6f24f9ea243"
      },
      "source": [
        "mols_list[1]"
      ],
      "execution_count": null,
      "outputs": [
        {
          "output_type": "execute_result",
          "data": {
            "text/plain": [
              "[0.0,\n",
              " 0.0,\n",
              " 0.0,\n",
              " 0.0,\n",
              " 0.0,\n",
              " 0.0,\n",
              " 0.0,\n",
              " 0.0,\n",
              " 0.0,\n",
              " 0.0,\n",
              " 0.0,\n",
              " 0.0,\n",
              " 0.0,\n",
              " 0.0,\n",
              " 0.0,\n",
              " 0.0,\n",
              " 0.0,\n",
              " 0.0,\n",
              " 1.0,\n",
              " 0.0,\n",
              " 0.0,\n",
              " 0.0,\n",
              " 0.0,\n",
              " 0.0,\n",
              " 1.0,\n",
              " 0.0,\n",
              " 0.0,\n",
              " 0.0,\n",
              " 0.0,\n",
              " 0.0,\n",
              " 0.0,\n",
              " 0.0,\n",
              " 0.0,\n",
              " 0.0,\n",
              " 0.0,\n",
              " 0.0,\n",
              " 0.0,\n",
              " 1.0,\n",
              " 0.0,\n",
              " 0.0,\n",
              " 0.0,\n",
              " 0.0,\n",
              " 0.0,\n",
              " 0.0,\n",
              " 0.0,\n",
              " 1.0,\n",
              " 0.0,\n",
              " 0.0,\n",
              " 0.0,\n",
              " 1.0,\n",
              " 0.0,\n",
              " 0.0,\n",
              " 0.0,\n",
              " 0.0,\n",
              " 0.0,\n",
              " 0.0,\n",
              " 0.0,\n",
              " 1.0,\n",
              " 0.0,\n",
              " 0.0,\n",
              " 0.0,\n",
              " 1.0,\n",
              " 0.0,\n",
              " 0.0,\n",
              " 0.0,\n",
              " 0.0,\n",
              " 0.0,\n",
              " 0.0,\n",
              " 0.0,\n",
              " 1.0,\n",
              " 0.0,\n",
              " 1.0,\n",
              " 0.0,\n",
              " 0.0,\n",
              " 1.0,\n",
              " 1.0,\n",
              " 0.0,\n",
              " 0.0,\n",
              " 0.0,\n",
              " 0.0,\n",
              " 0.0,\n",
              " 0.0,\n",
              " 0.0,\n",
              " 0.0,\n",
              " 1.0,\n",
              " 0.0,\n",
              " 0.0,\n",
              " 0.0,\n",
              " 0.0,\n",
              " 0.0,\n",
              " 0.0,\n",
              " 0.0,\n",
              " 0.0,\n",
              " 0.0,\n",
              " 1.0,\n",
              " 0.0,\n",
              " 0.0,\n",
              " 0.0,\n",
              " 0.0,\n",
              " 0.0,\n",
              " 1.0,\n",
              " 0.0,\n",
              " 0.0,\n",
              " 0.0,\n",
              " 0.0,\n",
              " 0.0,\n",
              " 0.0,\n",
              " 0.0,\n",
              " 0.0,\n",
              " 0.0,\n",
              " 1.0,\n",
              " 0.0,\n",
              " 0.0,\n",
              " 0.0,\n",
              " 0.0,\n",
              " 0.0,\n",
              " 0.0,\n",
              " 0.0,\n",
              " 0.0,\n",
              " 0.0,\n",
              " 0.0,\n",
              " 0.0,\n",
              " 0.0,\n",
              " 0.0,\n",
              " 1.0,\n",
              " 0.0,\n",
              " 0.0,\n",
              " 0.0,\n",
              " 0.0,\n",
              " 0.0,\n",
              " 0.0,\n",
              " 0.0,\n",
              " 0.0,\n",
              " 0.0,\n",
              " 1.0,\n",
              " 0.0,\n",
              " 1.0,\n",
              " 0.0,\n",
              " 0.0,\n",
              " 0.0,\n",
              " 0.0,\n",
              " 0.0,\n",
              " 0.0,\n",
              " 0.0,\n",
              " 0.0,\n",
              " 1.0,\n",
              " 0.0,\n",
              " 0.0,\n",
              " 0.0,\n",
              " 0.0,\n",
              " 0.0,\n",
              " 0.0,\n",
              " 0.0,\n",
              " 0.0,\n",
              " 0.0,\n",
              " 0.0,\n",
              " 0.0,\n",
              " 0.0,\n",
              " 0.0,\n",
              " 0.0,\n",
              " 0.0,\n",
              " 0.0,\n",
              " 0.0,\n",
              " 0.0,\n",
              " 0.0,\n",
              " 0.0,\n",
              " 0.0,\n",
              " 0.0,\n",
              " 0.0,\n",
              " 0.0,\n",
              " 0.0,\n",
              " 0.0,\n",
              " 0.0,\n",
              " 0.0,\n",
              " 0.0,\n",
              " 0.0,\n",
              " 0.0,\n",
              " 0.0,\n",
              " 0.0,\n",
              " 0.0,\n",
              " 0.0,\n",
              " 0.0,\n",
              " 0.0,\n",
              " 0.0,\n",
              " 0.0,\n",
              " 0.0,\n",
              " 1.0,\n",
              " 1.0,\n",
              " 0.0,\n",
              " 0.0,\n",
              " 0.0,\n",
              " 0.0,\n",
              " 0.0,\n",
              " 0.0,\n",
              " 0.0,\n",
              " 0.0,\n",
              " 0.0,\n",
              " 0.0,\n",
              " 0.0,\n",
              " 0.0,\n",
              " 0.0,\n",
              " 0.0,\n",
              " 0.0,\n",
              " 0.0,\n",
              " 0.0,\n",
              " 0.0,\n",
              " 0.0,\n",
              " 0.0,\n",
              " 0.0,\n",
              " 0.0,\n",
              " 0.0,\n",
              " 0.0,\n",
              " 1.0,\n",
              " 0.0,\n",
              " 0.0,\n",
              " 0.0,\n",
              " 0.0,\n",
              " 0.0,\n",
              " 0.0,\n",
              " 0.0,\n",
              " 0.0,\n",
              " 0.0,\n",
              " 0.0,\n",
              " 0.0,\n",
              " 0.0,\n",
              " 0.0,\n",
              " 0.0,\n",
              " 0.0,\n",
              " 0.0,\n",
              " 0.0,\n",
              " 0.0,\n",
              " 0.0,\n",
              " 0.0,\n",
              " 0.0,\n",
              " 0.0,\n",
              " 0.0,\n",
              " 0.0,\n",
              " 0.0,\n",
              " 0.0,\n",
              " 0.0,\n",
              " 0.0,\n",
              " 0.0,\n",
              " 0.0,\n",
              " 0.0,\n",
              " 0.0,\n",
              " 0.0,\n",
              " 0.0,\n",
              " 0.0,\n",
              " 0.0,\n",
              " 0.0,\n",
              " 0.0,\n",
              " 0.0,\n",
              " 0.0,\n",
              " 0.0,\n",
              " 0.0,\n",
              " 0.0,\n",
              " 0.0,\n",
              " 0.0,\n",
              " 0.0,\n",
              " 0.0,\n",
              " 0.0,\n",
              " 0.0,\n",
              " 1.0,\n",
              " 0.0,\n",
              " 0.0,\n",
              " 0.0,\n",
              " 0.0,\n",
              " 0.0,\n",
              " 0.0,\n",
              " 0.0,\n",
              " 0.0,\n",
              " 0.0,\n",
              " 0.0,\n",
              " 0.0,\n",
              " 0.0,\n",
              " 0.0,\n",
              " 1.0,\n",
              " 0.0,\n",
              " 0.0,\n",
              " 0.0,\n",
              " 0.0,\n",
              " 0.0,\n",
              " 1.0,\n",
              " 0.0,\n",
              " 0.0,\n",
              " 0.0,\n",
              " 0.0,\n",
              " 0.0,\n",
              " 0.0,\n",
              " 0.0,\n",
              " 0.0,\n",
              " 0.0,\n",
              " 0.0,\n",
              " 0.0,\n",
              " 0.0,\n",
              " 0.0,\n",
              " 0.0,\n",
              " 0.0,\n",
              " 0.0,\n",
              " 0.0,\n",
              " 0.0,\n",
              " 0.0,\n",
              " 0.0,\n",
              " 0.0,\n",
              " 0.0,\n",
              " 0.0,\n",
              " 0.0,\n",
              " 0.0,\n",
              " 0.0,\n",
              " 0.0,\n",
              " 0.0,\n",
              " 0.0,\n",
              " 0.0,\n",
              " 0.0,\n",
              " 0.0,\n",
              " 0.0,\n",
              " 0.0,\n",
              " 0.0,\n",
              " 0.0,\n",
              " 0.0,\n",
              " 0.0,\n",
              " 0.0,\n",
              " 0.0,\n",
              " 0.0,\n",
              " 0.0,\n",
              " 0.0,\n",
              " 0.0,\n",
              " 0.0,\n",
              " 0.0,\n",
              " 0.0,\n",
              " 0.0,\n",
              " 0.0,\n",
              " 0.0,\n",
              " 0.0,\n",
              " 0.0,\n",
              " 1,\n",
              " 0.0,\n",
              " 0.0,\n",
              " 1.0,\n",
              " 1.0,\n",
              " 0.0,\n",
              " 0.0,\n",
              " 0.0,\n",
              " 0.0,\n",
              " 0.0,\n",
              " 0.0,\n",
              " 0.0,\n",
              " 0.0,\n",
              " 0.0,\n",
              " 0.0,\n",
              " 1.0,\n",
              " 0.0,\n",
              " 0.0,\n",
              " 0.0,\n",
              " 0.0,\n",
              " 1.0,\n",
              " 0.0,\n",
              " 0.0,\n",
              " 0.0,\n",
              " 0.0,\n",
              " 0.0,\n",
              " 0.0,\n",
              " 0.0,\n",
              " 0.0,\n",
              " 0.0,\n",
              " 0.0,\n",
              " 0.0,\n",
              " 0.0,\n",
              " 0.0,\n",
              " 0.0,\n",
              " 0.0,\n",
              " 0.0,\n",
              " 0.0,\n",
              " 0.0,\n",
              " 0.0,\n",
              " 0.0,\n",
              " 0.0,\n",
              " 0.0,\n",
              " 0.0,\n",
              " 1.0,\n",
              " 0.0,\n",
              " 0.0,\n",
              " 0.0,\n",
              " 0.0,\n",
              " 0.0,\n",
              " 0.0,\n",
              " 0.0,\n",
              " 1.0,\n",
              " 0.0,\n",
              " 0.0,\n",
              " 0.0,\n",
              " 0.0,\n",
              " 0.0,\n",
              " 0.0,\n",
              " 0.0,\n",
              " 0.0,\n",
              " 0.0,\n",
              " 0.0,\n",
              " 0.0,\n",
              " 0.0,\n",
              " 0.0,\n",
              " 0.0,\n",
              " 0.0,\n",
              " 0.0,\n",
              " 0.0,\n",
              " 0.0,\n",
              " 0.0,\n",
              " 0.0,\n",
              " 0.0,\n",
              " 0.0,\n",
              " 0.0,\n",
              " 0.0,\n",
              " 0.0,\n",
              " 0.0,\n",
              " 0.0,\n",
              " 0.0,\n",
              " 0.0,\n",
              " 0.0,\n",
              " 0.0,\n",
              " 0.0,\n",
              " 0.0,\n",
              " 0.0,\n",
              " 0.0,\n",
              " 0.0,\n",
              " 0.0,\n",
              " 0.0,\n",
              " 0.0,\n",
              " 0.0,\n",
              " 0.0,\n",
              " 1.0,\n",
              " 0.0,\n",
              " 0.0,\n",
              " 0.0,\n",
              " 0.0,\n",
              " 1.0,\n",
              " 0.0,\n",
              " 0.0,\n",
              " 0.0,\n",
              " 0.0,\n",
              " 1.0,\n",
              " 0.0,\n",
              " 0.0,\n",
              " 0.0,\n",
              " 0.0,\n",
              " 0.0,\n",
              " 0.0,\n",
              " 1.0,\n",
              " 0.0,\n",
              " 0.0,\n",
              " 0.0,\n",
              " 0.0,\n",
              " 0.0,\n",
              " 0.0,\n",
              " 0.0,\n",
              " 0.0,\n",
              " 0.0,\n",
              " 0.0,\n",
              " 0.0,\n",
              " 0.0,\n",
              " 0.0,\n",
              " 0.0,\n",
              " 0.0,\n",
              " 0.0,\n",
              " 0.0,\n",
              " 0.0,\n",
              " 0.0,\n",
              " 0.0,\n",
              " 0.0,\n",
              " 0.0,\n",
              " 0.0,\n",
              " 0.0,\n",
              " 0.0,\n",
              " 1.0,\n",
              " 0.0,\n",
              " 0.0,\n",
              " 0.0,\n",
              " 0.0,\n",
              " 0.0,\n",
              " 0.0,\n",
              " 0.0,\n",
              " 0.0,\n",
              " 1.0,\n",
              " 0.0,\n",
              " 0.0,\n",
              " 0.0,\n",
              " 0.0,\n",
              " 0.0,\n",
              " 0.0,\n",
              " 0.0,\n",
              " 1.0,\n",
              " 0.0,\n",
              " 0.0,\n",
              " 0.0,\n",
              " 0.0,\n",
              " 0.0,\n",
              " 0.0,\n",
              " 1.0,\n",
              " 0.0,\n",
              " 0.0,\n",
              " 0.0,\n",
              " 0.0,\n",
              " 0.0,\n",
              " 0.0,\n",
              " 0.0,\n",
              " 0.0,\n",
              " 0.0,\n",
              " 0.0,\n",
              " 0.0,\n",
              " 0.0,\n",
              " 0.0,\n",
              " 0.0,\n",
              " 0.0,\n",
              " 0.0,\n",
              " 0.0,\n",
              " 0.0,\n",
              " 0.0,\n",
              " 1.0,\n",
              " 1.0,\n",
              " 0.0,\n",
              " 0.0,\n",
              " 0.0,\n",
              " 0.0,\n",
              " 0.0,\n",
              " 0.0,\n",
              " 0.0,\n",
              " 0.0,\n",
              " 0.0,\n",
              " 0.0,\n",
              " 1.0,\n",
              " 0.0,\n",
              " 0.0,\n",
              " 0.0,\n",
              " 0.0,\n",
              " 0.0,\n",
              " 0.0,\n",
              " 0.0,\n",
              " 0.0,\n",
              " 0.0,\n",
              " 1.0,\n",
              " 0.0,\n",
              " 0.0,\n",
              " 0.0,\n",
              " 0.0,\n",
              " 0.0,\n",
              " 0.0,\n",
              " 0.0,\n",
              " 0.0,\n",
              " 0.0,\n",
              " 0.0,\n",
              " 0.0,\n",
              " 0.0,\n",
              " 0.0,\n",
              " 0.0,\n",
              " 0.0,\n",
              " 0.0,\n",
              " 0.0,\n",
              " 0.0,\n",
              " 1.0,\n",
              " 0.0,\n",
              " 0.0,\n",
              " 0.0,\n",
              " 0.0,\n",
              " 0.0,\n",
              " 1.0,\n",
              " 0.0,\n",
              " 0.0,\n",
              " 0.0,\n",
              " 0.0,\n",
              " 0.0,\n",
              " 0.0,\n",
              " 1.0,\n",
              " 0.0,\n",
              " 0.0,\n",
              " 0.0,\n",
              " 0.0,\n",
              " 0.0,\n",
              " 0.0,\n",
              " 1.0,\n",
              " 0.0,\n",
              " 0.0,\n",
              " 0.0,\n",
              " 0.0,\n",
              " 0.0,\n",
              " 0.0,\n",
              " 0.0,\n",
              " 0.0,\n",
              " 0.0,\n",
              " 0.0,\n",
              " 0.0,\n",
              " 0.0,\n",
              " 0.0,\n",
              " 0.0,\n",
              " 0.0,\n",
              " 0.0,\n",
              " 0.0,\n",
              " 0.0,\n",
              " 0.0,\n",
              " 0.0,\n",
              " 0.0,\n",
              " 0.0,\n",
              " 0.0,\n",
              " 0.0,\n",
              " 0.0,\n",
              " 0.0,\n",
              " 0.0,\n",
              " 0.0,\n",
              " 0.0,\n",
              " 0.0,\n",
              " 0.0,\n",
              " 0.0,\n",
              " 0.0,\n",
              " 0.0,\n",
              " 0.0,\n",
              " 0.0,\n",
              " 0.0,\n",
              " 0.0,\n",
              " 0.0,\n",
              " 0.0,\n",
              " 0.0,\n",
              " 0.0,\n",
              " 0.0,\n",
              " 0.0,\n",
              " 0.0,\n",
              " 0.0,\n",
              " 0.0,\n",
              " 0.0,\n",
              " 0.0,\n",
              " 0.0,\n",
              " 0.0,\n",
              " 1,\n",
              " 0.0,\n",
              " 0.0,\n",
              " 0.0,\n",
              " 0.0,\n",
              " 0.0,\n",
              " 0.0,\n",
              " 0.0,\n",
              " 0.0,\n",
              " 0.0,\n",
              " 0.0,\n",
              " 1.0,\n",
              " 0.0,\n",
              " 0.0,\n",
              " 0.0,\n",
              " 0.0,\n",
              " 0.0,\n",
              " 0.0,\n",
              " 0.0,\n",
              " 0.0,\n",
              " 0.0,\n",
              " 0.0,\n",
              " 0.0,\n",
              " 0.0,\n",
              " 0.0,\n",
              " 0.0,\n",
              " 0.0,\n",
              " 0.0,\n",
              " 0.0,\n",
              " 0.0,\n",
              " 0.0,\n",
              " 0.0,\n",
              " 0.0,\n",
              " 0.0,\n",
              " 0.0,\n",
              " 0.0,\n",
              " 0.0,\n",
              " 0.0,\n",
              " 0.0,\n",
              " 0.0,\n",
              " 0.0,\n",
              " 0.0,\n",
              " 0.0,\n",
              " 0.0,\n",
              " 0.0,\n",
              " 0.0,\n",
              " 1.0,\n",
              " 0.0,\n",
              " 0.0,\n",
              " 0.0,\n",
              " 0.0,\n",
              " 0.0,\n",
              " 0.0,\n",
              " 0.0,\n",
              " 0.0,\n",
              " 0.0,\n",
              " 0.0,\n",
              " 0.0,\n",
              " 0.0,\n",
              " 0.0,\n",
              " 0.0,\n",
              " 0.0,\n",
              " 1.0,\n",
              " 0.0,\n",
              " 0.0,\n",
              " 0.0,\n",
              " 0.0,\n",
              " 1.0,\n",
              " 0.0,\n",
              " 0.0,\n",
              " 0.0,\n",
              " 0.0,\n",
              " 0.0,\n",
              " 0.0,\n",
              " 1.0,\n",
              " 0.0,\n",
              " 0.0,\n",
              " 0.0,\n",
              " 0.0,\n",
              " 0.0,\n",
              " 0.0,\n",
              " 0.0,\n",
              " 0.0,\n",
              " 0.0,\n",
              " 0.0,\n",
              " 1.0,\n",
              " 0.0,\n",
              " 0.0,\n",
              " 0.0,\n",
              " 0.0,\n",
              " 0.0,\n",
              " 0.0,\n",
              " 0.0,\n",
              " 0.0,\n",
              " 0.0,\n",
              " 0.0,\n",
              " 0.0,\n",
              " 0.0,\n",
              " 0.0,\n",
              " 1.0,\n",
              " 0.0,\n",
              " 0.0,\n",
              " 0.0,\n",
              " 0.0,\n",
              " 1.0,\n",
              " 0.0,\n",
              " 0.0,\n",
              " 0.0,\n",
              " 0.0,\n",
              " 0.0,\n",
              " 0.0,\n",
              " 0.0,\n",
              " 0.0,\n",
              " 0.0,\n",
              " 0.0,\n",
              " 0.0,\n",
              " 0.0,\n",
              " 0.0,\n",
              " 0.0,\n",
              " 0.0,\n",
              " 0.0,\n",
              " 0.0,\n",
              " 0.0,\n",
              " 0.0,\n",
              " 0.0,\n",
              " 0.0,\n",
              " 0.0,\n",
              " 0.0,\n",
              " 0.0,\n",
              " 0.0,\n",
              " 0.0,\n",
              " 0.0,\n",
              " 0.0,\n",
              " 0.0,\n",
              " 0.0,\n",
              " 0.0,\n",
              " 0.0,\n",
              " 0.0,\n",
              " 0.0,\n",
              " 0.0,\n",
              " 0.0,\n",
              " 1.0,\n",
              " 0.0,\n",
              " 0.0,\n",
              " 0.0,\n",
              " 0.0,\n",
              " 0.0,\n",
              " 0.0,\n",
              " 0.0,\n",
              " 0.0,\n",
              " 0.0,\n",
              " 1.0,\n",
              " 0.0,\n",
              " 0.0,\n",
              " 0.0,\n",
              " 0.0,\n",
              " 0.0,\n",
              " 0.0,\n",
              " 0.0,\n",
              " 0.0,\n",
              " 0.0,\n",
              " 0.0,\n",
              " 0.0,\n",
              " 0.0,\n",
              " 0.0,\n",
              " 0.0,\n",
              " 0.0,\n",
              " 0.0,\n",
              " 0.0,\n",
              " 0.0,\n",
              " 0.0,\n",
              " 0.0,\n",
              " 0.0,\n",
              " 0.0,\n",
              " 0.0,\n",
              " 0.0,\n",
              " 0.0,\n",
              " 0.0,\n",
              " 0.0,\n",
              " 0.0,\n",
              " 0.0,\n",
              " 0.0,\n",
              " 0.0,\n",
              " 0.0,\n",
              " 0.0,\n",
              " 0.0,\n",
              " 0.0,\n",
              " 0.0,\n",
              " 1.0,\n",
              " 0.0,\n",
              " 0.0,\n",
              " 0.0,\n",
              " 0.0,\n",
              " 0.0,\n",
              " 0.0,\n",
              " 0.0,\n",
              " 0.0,\n",
              " 0.0,\n",
              " 0.0,\n",
              " 0.0,\n",
              " 0.0,\n",
              " 0.0,\n",
              " 0.0,\n",
              " 0.0,\n",
              " 0.0,\n",
              " 0.0,\n",
              " 0.0,\n",
              " 0.0,\n",
              " 0.0,\n",
              " 0.0,\n",
              " 0.0,\n",
              " 0.0,\n",
              " 0.0,\n",
              " 0.0,\n",
              " 0.0,\n",
              " 0.0,\n",
              " 0.0,\n",
              " 0.0,\n",
              " 0.0,\n",
              " 0.0,\n",
              " 0.0,\n",
              " 1.0,\n",
              " 0.0,\n",
              " 0.0,\n",
              " 0.0,\n",
              " 1.0,\n",
              " 0.0,\n",
              " 0.0,\n",
              " 0.0,\n",
              " 0.0,\n",
              " 0.0,\n",
              " 0.0,\n",
              " 0.0,\n",
              " 0.0,\n",
              " 0.0,\n",
              " 1.0,\n",
              " 0.0,\n",
              " 0.0,\n",
              " 0.0,\n",
              " 0.0,\n",
              " 0.0,\n",
              " 0.0,\n",
              " 0.0,\n",
              " 0.0,\n",
              " 0.0,\n",
              " 0.0,\n",
              " 0.0,\n",
              " 0.0,\n",
              " 0.0,\n",
              " 0.0,\n",
              " 0.0,\n",
              " 0.0,\n",
              " 0.0,\n",
              " 0.0,\n",
              " 0.0,\n",
              " 0.0,\n",
              " 0.0,\n",
              " 0.0,\n",
              " 0.0,\n",
              " 0.0,\n",
              " 0.0,\n",
              " 0.0,\n",
              " 0.0,\n",
              " 0.0,\n",
              " 0.0,\n",
              " 0.0,\n",
              " 0.0,\n",
              " 0.0,\n",
              " 0.0,\n",
              " 0.0,\n",
              " 0.0,\n",
              " 0.0,\n",
              " 0.0,\n",
              " 0.0,\n",
              " 0.0,\n",
              " 0.0,\n",
              " 0.0,\n",
              " 0.0,\n",
              " 0.0,\n",
              " 0.0,\n",
              " 0.0,\n",
              " 0.0,\n",
              " 0.0,\n",
              " 0.0,\n",
              " 0.0,\n",
              " 0.0,\n",
              " 0.0,\n",
              " 0.0,\n",
              " 0.0,\n",
              " 0.0,\n",
              " 0.0,\n",
              " 0.0,\n",
              " 0.0,\n",
              " 0.0,\n",
              " 1,\n",
              " 1.0,\n",
              " 0.0,\n",
              " 0.0,\n",
              " 0.0,\n",
              " 0.0,\n",
              " 0.0,\n",
              " 0.0,\n",
              " 1.0,\n",
              " 0.0,\n",
              " 0.0,\n",
              " 1.0,\n",
              " 0.0,\n",
              " 0.0,\n",
              " 0.0,\n",
              " 1.0,\n",
              " 0.0,\n",
              " 0.0,\n",
              " 0.0,\n",
              " 0.0,\n",
              " 0.0,\n",
              " 0.0,\n",
              " 0.0,\n",
              " 0.0,\n",
              " 0.0,\n",
              " 0.0,\n",
              " 0.0,\n",
              " 0.0,\n",
              " 0.0,\n",
              " 0.0,\n",
              " 0.0,\n",
              " 0.0,\n",
              " 0.0,\n",
              " 0.0,\n",
              " 0.0,\n",
              " 0.0,\n",
              " 0.0,\n",
              " 0.0,\n",
              " 1.0,\n",
              " 0.0,\n",
              " 0.0,\n",
              " 0.0,\n",
              " 0.0,\n",
              " 0.0,\n",
              " 0.0,\n",
              " 0.0,\n",
              " 0.0,\n",
              " 1.0,\n",
              " 0.0,\n",
              " 0.0,\n",
              " 0.0,\n",
              " 0.0,\n",
              " 0.0,\n",
              " 0.0,\n",
              " 0.0,\n",
              " 0.0,\n",
              " 0.0,\n",
              " 0.0,\n",
              " 0.0,\n",
              " 0.0,\n",
              " 0.0,\n",
              " 0.0,\n",
              " 1.0,\n",
              " 0.0,\n",
              " 0.0,\n",
              " 0.0,\n",
              " 0.0,\n",
              " 1.0,\n",
              " 0.0,\n",
              " 0.0,\n",
              " 0.0,\n",
              " 0.0,\n",
              " 0.0,\n",
              " 0.0,\n",
              " 0.0,\n",
              " 0.0,\n",
              " 0.0,\n",
              " ...]"
            ]
          },
          "metadata": {
            "tags": []
          },
          "execution_count": 34
        }
      ]
    },
    {
      "cell_type": "code",
      "metadata": {
        "id": "PwGD1rYlFsVc",
        "colab": {
          "base_uri": "https://localhost:8080/",
          "height": 69
        },
        "outputId": "ef4d4e0c-210a-40f4-8594-236ad027380f"
      },
      "source": [
        "mols[1]"
      ],
      "execution_count": null,
      "outputs": [
        {
          "output_type": "execute_result",
          "data": {
            "application/vnd.google.colaboratory.intrinsic+json": {
              "type": "string"
            },
            "text/plain": [
              "'[CH+expl][/Hexpl][#C][=N][CH+expl][/C][Branch1_1][nop][/C][#N][=O][Branch1_1][Branch1_3][Branch1_2][nop][Branch1_1][/Hexpl][#C][Branch2_2][C][Branch1_1][nop][#C][/N][=O][Branch2_1][Branch1_1][nop][C][=C][C+expl][=N][=C][Branch1_3][C-expl][C-expl][Branch1_1][/O][Ring1][Branch2_1][/Hexpl][#N][NH+expl][/O][/O][F][#N][nop][=C][Ring1][/C][#N][Ring1][#C][nop][=N+expl][CH+expl][nop][/C][nop][NH+expl][\\\\C-expl]'"
            ]
          },
          "metadata": {
            "tags": []
          },
          "execution_count": 35
        }
      ]
    },
    {
      "cell_type": "code",
      "metadata": {
        "id": "9dNFeW6ABBpb",
        "colab": {
          "base_uri": "https://localhost:8080/"
        },
        "outputId": "56566443-d6c3-40a0-8cb1-7a07be5740b0"
      },
      "source": [
        "from rdkit import RDLogger  \r\n",
        "from rdkit import Chem\r\n",
        "RDLogger.DisableLog('rdApp.*')  # suppress error messages\r\n",
        "\r\n",
        "valid_count = 0\r\n",
        "valid_selfies, invalid_selfies = [], []\r\n",
        "for idx, selfies in enumerate(mols):\r\n",
        "  try:\r\n",
        "    if Chem.MolFromSmiles(sf.decoder(mols[idx]), sanitize=True) is not None:\r\n",
        "        valid_count += 1\r\n",
        "        valid_selfies.append(selfies)\r\n",
        "    else:\r\n",
        "      invalid_selfies.append(selfies)\r\n",
        "  except Exception:\r\n",
        "    pass\r\n",
        "print('%.2f' % (valid_count / len(mols)),  '% of generated samples are valid molecules.')"
      ],
      "execution_count": null,
      "outputs": [
        {
          "output_type": "stream",
          "text": [
            "1.00 % of generated samples are valid molecules.\n"
          ],
          "name": "stdout"
        }
      ]
    },
    {
      "cell_type": "code",
      "metadata": {
        "id": "CXwcr7xZBBsV"
      },
      "source": [
        "gen_mols = [Chem.MolFromSmiles(sf.decoder(vs)) for vs in valid_selfies]"
      ],
      "execution_count": null,
      "outputs": []
    },
    {
      "cell_type": "code",
      "metadata": {
        "colab": {
          "base_uri": "https://localhost:8080/"
        },
        "id": "hiTJg03RMN5z",
        "outputId": "68348c45-3164-4f85-d181-5f7fc6e25462"
      },
      "source": [
        "gen_mols"
      ],
      "execution_count": null,
      "outputs": [
        {
          "output_type": "execute_result",
          "data": {
            "text/plain": [
              "[<rdkit.Chem.rdchem.Mol at 0x7f8a37aff120>,\n",
              " <rdkit.Chem.rdchem.Mol at 0x7f8a37aff080>,\n",
              " <rdkit.Chem.rdchem.Mol at 0x7f8a37affe90>,\n",
              " <rdkit.Chem.rdchem.Mol at 0x7f8a37affe40>,\n",
              " <rdkit.Chem.rdchem.Mol at 0x7f8a37aff170>]"
            ]
          },
          "metadata": {
            "tags": []
          },
          "execution_count": 41
        }
      ]
    },
    {
      "cell_type": "code",
      "metadata": {
        "id": "ZPd5cWUPBBvR"
      },
      "source": [
        "\r\n",
        "def display_images(filenames):\r\n",
        "    \"\"\"Helper to pretty-print images.\"\"\"\r\n",
        "    for file in filenames:\r\n",
        "      display(Image(file))\r\n",
        "\r\n",
        "def mols_to_pngs(mols, basename=\"generated_mol\"):\r\n",
        "    \"\"\"Helper to write RDKit mols to png files.\"\"\"\r\n",
        "    filenames = []\r\n",
        "    for i, mol in enumerate(mols):\r\n",
        "        filename = \"%s%d.png\" % (basename, i)\r\n",
        "        Draw.MolToFile(mol, filename)\r\n",
        "        filenames.append(filename)\r\n",
        "    return filenames"
      ],
      "execution_count": null,
      "outputs": []
    },
    {
      "cell_type": "code",
      "metadata": {
        "id": "TJDN-orSBY_s",
        "colab": {
          "base_uri": "https://localhost:8080/",
          "height": 1000
        },
        "outputId": "bcfa226e-2ec2-4f11-c517-b14b2ede7159"
      },
      "source": [
        "\r\n",
        "display_mols = []\r\n",
        "for i in range(5):\r\n",
        "  display_mols.append(gen_mols[i])\r\n",
        "\r\n",
        "display_images(mols_to_pngs(display_mols))"
      ],
      "execution_count": null,
      "outputs": [
        {
          "output_type": "display_data",
          "data": {
            "image/png": "[encoded data removed]",
            "text/plain": [
              "<IPython.core.display.Image object>"
            ]
          },
          "metadata": {
            "tags": []
          }
        },
        {
          "output_type": "display_data",
          "data": {
            "image/png": "[encoded data removed]",
            "text/plain": [
              "<IPython.core.display.Image object>"
            ]
          },
          "metadata": {
            "tags": []
          }
        },
        {
          "output_type": "display_data",
          "data": {
            "image/png": "[encoded data removed]",
            "text/plain": [
              "<IPython.core.display.Image object>"
            ]
          },
          "metadata": {
            "tags": []
          }
        },
        {
          "output_type": "display_data",
          "data": {
            "image/png": "[encoded data removed]",
            "text/plain": [
              "<IPython.core.display.Image object>"
            ]
          },
          "metadata": {
            "tags": []
          }
        },
        {
          "output_type": "display_data",
          "data": {
            "image/png": "[encoded data removed]",
            "text/plain": [
              "<IPython.core.display.Image object>"
            ]
          },
          "metadata": {
            "tags": []
          }
        }
      ]
    },
    {
      "cell_type": "code",
      "metadata": {
        "id": "W9jM-pMMBhbr"
      },
      "source": [
        "from rdkit.Chem.Fingerprints.FingerprintMols import FingerprintMol\r\n",
        "from rdkit.DataStructs import FingerprintSimilarity\r\n",
        "from IPython.display import display\r\n",
        "\r\n",
        "def tanimoto_similarity(database_mols, query_mol):\r\n",
        "    \"\"\"Compare generated molecules to database by Tanimoto similarity.\"\"\"\r\n",
        "    # convert Mol to datastructure type\r\n",
        "    fps = [FingerprintMol(m) for m in database_mols]\r\n",
        "    \r\n",
        "    # set a query molecule to compare against database\r\n",
        "    query = FingerprintMol(query_mol)\r\n",
        "    \r\n",
        "    similarities = []\r\n",
        "    \r\n",
        "    # loop through to find Tanimoto similarity\r\n",
        "    for idx, f in enumerate(fps):\r\n",
        "        # tuple: (idx, similarity)\r\n",
        "        similarities.append((idx, FingerprintSimilarity(query, f)))\r\n",
        "    \r\n",
        "    # sort sim using the similarities\r\n",
        "    similarities.sort(key=lambda x:x[1], reverse=True)\r\n",
        "    \r\n",
        "    return similarities"
      ],
      "execution_count": null,
      "outputs": []
    },
    {
      "cell_type": "code",
      "metadata": {
        "id": "A97aFdNLBhjh"
      },
      "source": [
        "train_mols = [Chem.MolFromSmiles(smiles) for smiles in train_smiles]"
      ],
      "execution_count": null,
      "outputs": []
    },
    {
      "cell_type": "code",
      "metadata": {
        "id": "-ziC61E3Bhmr"
      },
      "source": [
        "# change the second argument to compare different generated molecules to QM9\r\n",
        "tanimoto_scores = tanimoto_similarity(train_mols, gen_mols[3])\r\n",
        "similar_mols = []"
      ],
      "execution_count": null,
      "outputs": []
    },
    {
      "cell_type": "code",
      "metadata": {
        "id": "TSSeDv2RBqcE",
        "colab": {
          "base_uri": "https://localhost:8080/",
          "height": 968
        },
        "outputId": "3a9c4f40-f446-4a6b-a058-6e6d99cb265b"
      },
      "source": [
        "for idx, ts in tanimoto_scores[:3]:\r\n",
        "    print(round(ts, 3))\r\n",
        "    similar_mols.append(train_mols[idx])\r\n",
        "\r\n",
        "display_images(mols_to_pngs(similar_mols, 'qm9_mol'))"
      ],
      "execution_count": null,
      "outputs": [
        {
          "output_type": "stream",
          "text": [
            "0.545\n",
            "0.537\n",
            "0.533\n"
          ],
          "name": "stdout"
        },
        {
          "output_type": "display_data",
          "data": {
            "image/png": "[encoded data removed]",
            "text/plain": [
              "<IPython.core.display.Image object>"
            ]
          },
          "metadata": {
            "tags": []
          }
        },
        {
          "output_type": "display_data",
          "data": {
            "image/png": "[encoded data removed]",
            "text/plain": [
              "<IPython.core.display.Image object>"
            ]
          },
          "metadata": {
            "tags": []
          }
        },
        {
          "output_type": "display_data",
          "data": {
            "image/png": "[encoded data removed]",
            "text/plain": [
              "<IPython.core.display.Image object>"
            ]
          },
          "metadata": {
            "tags": []
          }
        }
      ]
    }
  ]
}