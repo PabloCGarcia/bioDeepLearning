{
  "nbformat": 4,
  "nbformat_minor": 0,
  "metadata": {
    "colab": {
      "name": "Clase06-01.ipynb",
      "provenance": [],
      "collapsed_sections": [],
      "authorship_tag": "ABX9TyNtUjP0El10B2WwgZG/Wm6r",
      "include_colab_link": true
    },
    "kernelspec": {
      "name": "python3",
      "display_name": "Python 3"
    },
    "widgets": {
      "application/vnd.jupyter.widget-state+json": {
        "91070d799a3043dd8f61c3ee97358b78": {
          "model_module": "@jupyter-widgets/controls",
          "model_name": "VBoxModel",
          "state": {
            "_view_name": "VBoxView",
            "_dom_classes": [
              "widget-interact"
            ],
            "_model_name": "VBoxModel",
            "_view_module": "@jupyter-widgets/controls",
            "_model_module_version": "1.5.0",
            "_view_count": null,
            "_view_module_version": "1.5.0",
            "box_style": "",
            "layout": "IPY_MODEL_1494fe92312145c7a539d985fd1ad21e",
            "_model_module": "@jupyter-widgets/controls",
            "children": [
              "IPY_MODEL_2cde6a8db64a4608a5f3c1c5bcbe839b",
              "IPY_MODEL_8a363c512c77407e9fabc25d84b056e0"
            ]
          }
        },
        "1494fe92312145c7a539d985fd1ad21e": {
          "model_module": "@jupyter-widgets/base",
          "model_name": "LayoutModel",
          "state": {
            "_view_name": "LayoutView",
            "grid_template_rows": null,
            "right": null,
            "justify_content": null,
            "_view_module": "@jupyter-widgets/base",
            "overflow": null,
            "_model_module_version": "1.2.0",
            "_view_count": null,
            "flex_flow": null,
            "width": null,
            "min_width": null,
            "border": null,
            "align_items": null,
            "bottom": null,
            "_model_module": "@jupyter-widgets/base",
            "top": null,
            "grid_column": null,
            "overflow_y": null,
            "overflow_x": null,
            "grid_auto_flow": null,
            "grid_area": null,
            "grid_template_columns": null,
            "flex": null,
            "_model_name": "LayoutModel",
            "justify_items": null,
            "grid_row": null,
            "max_height": null,
            "align_content": null,
            "visibility": null,
            "align_self": null,
            "height": null,
            "min_height": null,
            "padding": null,
            "grid_auto_rows": null,
            "grid_gap": null,
            "max_width": null,
            "order": null,
            "_view_module_version": "1.2.0",
            "grid_template_areas": null,
            "object_position": null,
            "object_fit": null,
            "grid_auto_columns": null,
            "margin": null,
            "display": null,
            "left": null
          }
        },
        "2cde6a8db64a4608a5f3c1c5bcbe839b": {
          "model_module": "@jupyter-widgets/controls",
          "model_name": "DropdownModel",
          "state": {
            "_options_labels": [
              "1",
              "80",
              "227",
              "315",
              "589",
              "606",
              "632",
              "807",
              "875",
              "1057",
              "1152",
              "1362",
              "1365",
              "1367",
              "1380",
              "1430",
              "1434",
              "1475",
              "1602",
              "1607",
              "1750",
              "1784",
              "1853",
              "1868",
              "1873",
              "1995"
            ],
            "_view_name": "DropdownView",
            "style": "IPY_MODEL_cb628c45068441ca88461140a8167467",
            "_dom_classes": [],
            "description": "bitIdx",
            "_model_name": "DropdownModel",
            "index": 16,
            "_view_module": "@jupyter-widgets/controls",
            "_model_module_version": "1.5.0",
            "_view_count": null,
            "disabled": false,
            "_view_module_version": "1.5.0",
            "description_tooltip": null,
            "_model_module": "@jupyter-widgets/controls",
            "layout": "IPY_MODEL_e9ee442c936647bd9d578a6f830d0883"
          }
        },
        "8a363c512c77407e9fabc25d84b056e0": {
          "model_module": "@jupyter-widgets/output",
          "model_name": "OutputModel",
          "state": {
            "_view_name": "OutputView",
            "msg_id": "",
            "_dom_classes": [],
            "_model_name": "OutputModel",
            "outputs": [
              {
                "output_type": "display_data",
                "metadata": {
                  "tags": []
                },
                "image/png": "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\n",
                "text/plain": "<PIL.PngImagePlugin.PngImageFile image mode=RGB size=150x150 at 0x7FBE95E76320>"
              }
            ],
            "_view_module": "@jupyter-widgets/output",
            "_model_module_version": "1.0.0",
            "_view_count": null,
            "_view_module_version": "1.0.0",
            "layout": "IPY_MODEL_4511eac872d241fcb9f3e9c8690a4416",
            "_model_module": "@jupyter-widgets/output"
          }
        },
        "cb628c45068441ca88461140a8167467": {
          "model_module": "@jupyter-widgets/controls",
          "model_name": "DescriptionStyleModel",
          "state": {
            "_view_name": "StyleView",
            "_model_name": "DescriptionStyleModel",
            "description_width": "",
            "_view_module": "@jupyter-widgets/base",
            "_model_module_version": "1.5.0",
            "_view_count": null,
            "_view_module_version": "1.2.0",
            "_model_module": "@jupyter-widgets/controls"
          }
        },
        "e9ee442c936647bd9d578a6f830d0883": {
          "model_module": "@jupyter-widgets/base",
          "model_name": "LayoutModel",
          "state": {
            "_view_name": "LayoutView",
            "grid_template_rows": null,
            "right": null,
            "justify_content": null,
            "_view_module": "@jupyter-widgets/base",
            "overflow": null,
            "_model_module_version": "1.2.0",
            "_view_count": null,
            "flex_flow": null,
            "width": null,
            "min_width": null,
            "border": null,
            "align_items": null,
            "bottom": null,
            "_model_module": "@jupyter-widgets/base",
            "top": null,
            "grid_column": null,
            "overflow_y": null,
            "overflow_x": null,
            "grid_auto_flow": null,
            "grid_area": null,
            "grid_template_columns": null,
            "flex": null,
            "_model_name": "LayoutModel",
            "justify_items": null,
            "grid_row": null,
            "max_height": null,
            "align_content": null,
            "visibility": null,
            "align_self": null,
            "height": null,
            "min_height": null,
            "padding": null,
            "grid_auto_rows": null,
            "grid_gap": null,
            "max_width": null,
            "order": null,
            "_view_module_version": "1.2.0",
            "grid_template_areas": null,
            "object_position": null,
            "object_fit": null,
            "grid_auto_columns": null,
            "margin": null,
            "display": null,
            "left": null
          }
        },
        "4511eac872d241fcb9f3e9c8690a4416": {
          "model_module": "@jupyter-widgets/base",
          "model_name": "LayoutModel",
          "state": {
            "_view_name": "LayoutView",
            "grid_template_rows": null,
            "right": null,
            "justify_content": null,
            "_view_module": "@jupyter-widgets/base",
            "overflow": null,
            "_model_module_version": "1.2.0",
            "_view_count": null,
            "flex_flow": null,
            "width": null,
            "min_width": null,
            "border": null,
            "align_items": null,
            "bottom": null,
            "_model_module": "@jupyter-widgets/base",
            "top": null,
            "grid_column": null,
            "overflow_y": null,
            "overflow_x": null,
            "grid_auto_flow": null,
            "grid_area": null,
            "grid_template_columns": null,
            "flex": null,
            "_model_name": "LayoutModel",
            "justify_items": null,
            "grid_row": null,
            "max_height": null,
            "align_content": null,
            "visibility": null,
            "align_self": null,
            "height": null,
            "min_height": null,
            "padding": null,
            "grid_auto_rows": null,
            "grid_gap": null,
            "max_width": null,
            "order": null,
            "_view_module_version": "1.2.0",
            "grid_template_areas": null,
            "object_position": null,
            "object_fit": null,
            "grid_auto_columns": null,
            "margin": null,
            "display": null,
            "left": null
          }
        },
        "0ccfd14d4fa1421389dd84cc57f89a13": {
          "model_module": "@jupyter-widgets/controls",
          "model_name": "VBoxModel",
          "state": {
            "_view_name": "VBoxView",
            "_dom_classes": [
              "widget-interact"
            ],
            "_model_name": "VBoxModel",
            "_view_module": "@jupyter-widgets/controls",
            "_model_module_version": "1.5.0",
            "_view_count": null,
            "_view_module_version": "1.5.0",
            "box_style": "",
            "layout": "IPY_MODEL_ec84e07288e546939c1a2caa04d16409",
            "_model_module": "@jupyter-widgets/controls",
            "children": [
              "IPY_MODEL_1609bbdcb1e94a6e8db9c7846b9fe184",
              "IPY_MODEL_694c9fc2ce6c46b89065b24bae577416"
            ]
          }
        },
        "ec84e07288e546939c1a2caa04d16409": {
          "model_module": "@jupyter-widgets/base",
          "model_name": "LayoutModel",
          "state": {
            "_view_name": "LayoutView",
            "grid_template_rows": null,
            "right": null,
            "justify_content": null,
            "_view_module": "@jupyter-widgets/base",
            "overflow": null,
            "_model_module_version": "1.2.0",
            "_view_count": null,
            "flex_flow": null,
            "width": null,
            "min_width": null,
            "border": null,
            "align_items": null,
            "bottom": null,
            "_model_module": "@jupyter-widgets/base",
            "top": null,
            "grid_column": null,
            "overflow_y": null,
            "overflow_x": null,
            "grid_auto_flow": null,
            "grid_area": null,
            "grid_template_columns": null,
            "flex": null,
            "_model_name": "LayoutModel",
            "justify_items": null,
            "grid_row": null,
            "max_height": null,
            "align_content": null,
            "visibility": null,
            "align_self": null,
            "height": null,
            "min_height": null,
            "padding": null,
            "grid_auto_rows": null,
            "grid_gap": null,
            "max_width": null,
            "order": null,
            "_view_module_version": "1.2.0",
            "grid_template_areas": null,
            "object_position": null,
            "object_fit": null,
            "grid_auto_columns": null,
            "margin": null,
            "display": null,
            "left": null
          }
        },
        "1609bbdcb1e94a6e8db9c7846b9fe184": {
          "model_module": "@jupyter-widgets/controls",
          "model_name": "DropdownModel",
          "state": {
            "_options_labels": [
              "93",
              "103",
              "112",
              "122",
              "148",
              "149",
              "161",
              "166",
              "194",
              "208",
              "222",
              "277",
              "283",
              "285",
              "294",
              "313",
              "330",
              "332",
              "346",
              "353",
              "397",
              "407",
              "412",
              "428",
              "441",
              "461",
              "464",
              "471",
              "508",
              "525",
              "547",
              "562",
              "575",
              "587",
              "588",
              "608",
              "648",
              "657",
              "661",
              "670",
              "704",
              "728",
              "744",
              "767",
              "792",
              "824",
              "825",
              "826",
              "842",
              "849",
              "854",
              "855",
              "873",
              "886",
              "908",
              "915",
              "921",
              "930",
              "954",
              "959",
              "977",
              "1019",
              "1026",
              "1039",
              "1060",
              "1064",
              "1065",
              "1105",
              "1166",
              "1183",
              "1224",
              "1229",
              "1233",
              "1251",
              "1261",
              "1308",
              "1333",
              "1335",
              "1338",
              "1339",
              "1342",
              "1344",
              "1362",
              "1363",
              "1370",
              "1371",
              "1379",
              "1384",
              "1391",
              "1400",
              "1423",
              "1448",
              "1456",
              "1469",
              "1501",
              "1502",
              "1513",
              "1545",
              "1553",
              "1577",
              "1587",
              "1603",
              "1628",
              "1646",
              "1649",
              "1676",
              "1685",
              "1688",
              "1728",
              "1755",
              "1758",
              "1772",
              "1780",
              "1784",
              "1816",
              "1833",
              "1848",
              "1889",
              "1909",
              "1941",
              "1960",
              "1974",
              "1982",
              "1996",
              "2021",
              "2025",
              "2026",
              "2047"
            ],
            "_view_name": "DropdownView",
            "style": "IPY_MODEL_e2228472a9374706b509ffae7b9a27b4",
            "_dom_classes": [],
            "description": "bitIdx",
            "_model_name": "DropdownModel",
            "index": 8,
            "_view_module": "@jupyter-widgets/controls",
            "_model_module_version": "1.5.0",
            "_view_count": null,
            "disabled": false,
            "_view_module_version": "1.5.0",
            "description_tooltip": null,
            "_model_module": "@jupyter-widgets/controls",
            "layout": "IPY_MODEL_23db40a1cf894dd481ab1b4d931b5297"
          }
        },
        "694c9fc2ce6c46b89065b24bae577416": {
          "model_module": "@jupyter-widgets/output",
          "model_name": "OutputModel",
          "state": {
            "_view_name": "OutputView",
            "msg_id": "",
            "_dom_classes": [],
            "_model_name": "OutputModel",
            "outputs": [
              {
                "output_type": "display_data",
                "metadata": {
                  "tags": []
                },
                "image/png": "iVBORw0KGgoAAAANSUhEUgAAAJYAAACWCAIAAACzY+a1AAAA/nRFWHRyZGtpdFBLTCByZGtpdCAyMDIwLjA5LjQA776t3gAAAAAMAAAAAQAAAAAAAAAFAAAABAAAAIABBkAoAAAAAwQGQGgAAAADAwEGQGgAAAADAwEGQCgAAAADBAZAKAAAAAMECwABaAwBAmgMAgNoDAMEaAwUABcCAAAAAAAAAAAF9nUKvnOyFr4AAAAAfABEPkiOqD8AAAAA8bDPP6wL4j8AAAAAgokuQPRIQD8AAAAAG6IZQDiANr8AAAAAAQAAAAAF9nUKvnOyFr4AAAAAfABEPkiOqD8AAAAA8bDPP6wL4j8AAAAAgokuQPRIQD8AAAAAG6IZQDiANr8AAAAAFsQTXlQAAAHudEVYdE1PTCByZGtpdCAyMDIwLjA5LjQACiAgICAgUkRLaXQgICAgICAgICAgMkQKCiAgNSAgNCAgMCAgMCAgMCAgMCAgMCAgMCAgMCAgMDk5OSBWMjAwMAogICAtMC4xMzUyICAgLTAuMTQ3MiAgICAwLjAwMDAgQyAgIDAgIDAgIDAgIDAgIDAgIDAgIDAgIDAgIDAgIDAgIDAgIDAKICAgIDAuMTkxNCAgICAxLjMxNjggICAgMC4wMDAwIEMgICAwICAwICAwICAwICAwICAwICAwICAwICAwICAwICAwICAwCiAgICAxLjYyMjYgICAgMS43NjYwICAgIDAuMDAwMCBDICAgMCAgMCAgMCAgMCAgMCAgMCAgMCAgMCAgMCAgMCAgMCAgMAogICAgMi43MjcxICAgIDAuNzUxMSAgICAwLjAwMDAgQyAgIDAgIDAgIDAgIDAgIDAgIDAgIDAgIDAgIDAgIDAgIDAgIDAKICAgIDIuNDAwNSAgIC0wLjcxMjkgICAgMC4wMDAwIEMgICAwICAwICAwICAwICAwICAwICAwICAwICAwICAwICAwICAwCiAgMSAgMiAgNCAgMAogIDIgIDMgIDQgIDAKICAzICA0ICA0ICAwCiAgNCAgNSAgNCAgMApNICBFTkQK7dZ7fwAAAH10RVh0U01JTEVTIHJka2l0IDIwMjAuMDkuNABjY2NjYyB8KC0wLjEzNTIxNiwtMC4xNDcxNjUsOzAuMTkxNDA4LDEuMzE2ODQsOzEuNjIyNTksMS43NjU5OCw7Mi43MjcxNCwwLjc1MTExMyw7Mi40MDA1MiwtMC43MTI4OTQsKXy/N16GAAAZsUlEQVR4nO2deUBTV77Hz12yLySsLnUDBcEFwQ0VXGsRDYq1uE2tHet0se3MOF1wpq+vr3211Y5Tl27a9tW2dqyaEVAQWeoCiiu0KOKCyiBWZQlkT26Su8wf8WEMIbm5N2AD+fylJ+ee8yPf3LP+zu9AFEWBAP4M/KgNCMCWgIR+T0BCvycgod8TkNDvCUjo9wQk9HsCEvo9AQn9noCEfk9AQr8nIKHfgz5qAx4lOH7Dar2A47coCgMAwLAMRSO53LEIEvaoTfOC3ighRZlNpv0m034cv+3qc4jLTRCJlvL5MwCAuts474F622YThpXpdBsIotljTi43Pijov1F0UDdYxYZeJSGl139hMOwEgO6fDEFCufwDHi+5S81iSS+SUKfbbDT+0/vn0ODgv/N4Kb43yEf0lhGpyXTQaPwno74NV6vfwvF/+94mH9ErJCSIJp1uEwCAfhPqCEWZNJp3ASB9a5Wv6BUSGgw7KMrEpgSb7ZLZ/JOv7PEtPV9Ckmwzmw+zL4dRP9od9HwJMewYRdnYl2Oz1RDEr+zL8Tk9X0KLpcJ3RVX6qigf0vMlxPGbvivqhq+K8iE9f4GNJFVuPr1921pUpDGbyeHDBbNmBcFuf9Ik2epj43xBz5eQooiOideumX/6SVtcrK2oMFAU4PNhDCPnz5d/8skQDqfTuSNF4V1pKUN6voQwLCUIIwCAIKiKCmNhoaawUHPrlsX+qUSCzJghHTqU/9VXzQcPqltb8Z07o8RipLOius9u2vR8CQmi34kT14qLtfn56qam+0PT4GB05syg9HT5tGlSLhcCACgU8mXLrpeX6zMza3/4YVhIiItvBkEGdqvp9Oixa6RGo/Ho0aNKpTI3V6nXY/bEgQN5s2cHPfFE0KRJEhR1bjAbGixLl16vr7cMHcr/8cdh/ftznTKEhHzF5SZ0h/Xe0NMkbGlpOXz4sFKpLC4utlqt9sToaH56unz2bNno0UL3jzc32373uxs1NaaICM7u3cNiYwXtH8FwcETEYQBct7GPEJ9LiFsspzHstM12hSDuAWAFgIsgfbncWB5vEo83qYua7rq6ury8PKVSefr0aZIkAQAIgiQlJaWnpy9atEgme89mu0yzKJ2OeOaZG+fOGWQydNeuoWPHiuzpYvEqiWRNVxjPEp9JSFE2k2mfwbDLzSAehkPF4meEwkwI4vik0pqaGqVSqVQqL1++r5BAIJg1a1Z6evqCBQsiIiLsiRbLqba2P9Iv1mql1qypKyjQCIXw119HTZ8uhWFpWFgODAf5xGzf4hsJbbbrGs1bOF5HJzOKRsrlH6DoUGZ1EQRx+vRppVK5f//+O3fu2BODg4PnzZuXnp6elpYmFos7PqXR/M1sLvamFuqNNxr27FFxONAnnwxZsWKzUDifmcFdjQ8ktFjOqNVverUVAEFCufzvPN5E+o+YTKYjR44olcq8vDyNRmNPHDhw4Jw5cxQKxZw5czgcd282RRlVqlVerdRQFHj//V+/+KIJQeBPP/3sxRdfpP9sd8JWQqv1QlvbSxRl9bpiiBcc/AWXO9p9ttbW1kOHDuXn5xcUFBiNRntiXFxcenq6QqGYMmUKBNHdxSVJVWvrGppNRTs7dsjee+8oRVFZWVkbNmzw6tnugZWEJKlpaVnqfgXLDQgSFhq6x2UHU19ff+DAgfz8/OPHj+M4DgCAYTghIUGhUCxbtiwmJoZZjRRl0GjexzCaO3+oRPKiWLzyu+++X716NY7jr7zyytatW2H3q3DdDisJtdr3TKaDbKoXChcEBb3d/t+ampr8/Py8vLxTp07ZDePz+cnJyQqFYvHixX379mVTVzsYVmYwfGGzXe88C8znp0gkL6NopP3/Bw4cWLp0KYZhy5cv//bbb9032t0McwlxvKGl5SnW7ghwcPC+8+d/zc/Pz87Ovn79/tcqEolmzJiRmZmZkZEhlXbJspbVegHDjtlsF3G8gSQ1ACAIEoKiUVzuWIHgcQR5zCn/8ePHFyxYoNPpHn/88ZycHJeDpkcCcwl1uq1G4y7GFVssZFmZvqREU1xsaW7W2xPDwsLmzJmTmZmZmprK5TovjviEmpqaAwcO/Prrr59//rm3z1ZWVqalpbW0tEyYMKGgoCAkJKQrLPQW5hI2N2cw2MXWaomyMl1JibawUGMw3N9DiIyMVCgUmZmZkydP7qKepq6ubseOHTk5OfYXHUGQxsbG0NBQAEBRUVF1dfXrr79Op5ybN2+mpqbevHkzLi6uqKjoscecX9buh+FaCUm2eaXfnTvWY8d0JSWa48d1Ntv9H4193Ss9PTglpQyGg5lZQpPGxsaPPvoIABAWFjZ//vwFCxbY22eVSpWZmanX65ubmzdu3OhxfBsVFXXixInU1NTq6uqUlJSioqLo6OgutdwjDN9Cq/WX1tY/eMxWW4sVFKgLCzUXL96fNXI40OTJkrQ0WWqqLCLi/qAgJORrLncMAzNcotPpysvL09LSHBNJknz77bdTU1OnTJmCIA+tc+bk5CxbtsxisaxYseKbb75BUc8/a7VarVAoTp06FRERcfjw4YSER7n2zVBCDCtVq1/zmG3t2vq9e1sBAAIBnJwsUSjkqakyqdR5pVgu/5jPn8rADEdUKlVBQYFSqSwpKbFarfX19QMH0t0bOnr0aEZGhl6vT09P37t3r0Ag8PiI0Wh86qmnCgsLxWJxTk7O448/zs585jBsSCGIVo+1cGEwgkBz5shSUiQ8HkySwGVPR7M0Nyxfvnzv3r3tC9xTp05ta2ujL+HMmTOLi4vnzZtXUlJy6dKl8ePHe3xEJBIdOHBg5cqVe/bsUSgUP/zww1NPPcXqb2AKQwlpdl1Tp0qnTn0wJZg9+7JAAH/5ZWS/fg+NNtl3hP369eNyufYZ5JIlS/r06eNtCUlJSWVlZfX19XT0s8Plcnfv3t23b9/NmzcvXbp0+/btq1ev9rZe9jBsSCnK1Ng4HQCKvou7VkuMGFHF5cLXro152D8F7tPnOAR52MkDAOA4XlpampubO3LkyBdeeMHxI5VKJRAIRCIR/T/Bh2zcuHHdunUQBH344YdZWVndXDvjhlTI4Qxv34QrLdX98osxNVXmuEfqREWFgSRBfLzQyb+Iw4l1r5/ZbD58+HBubu6hQ4fa2toAAOPHj3eS0D49eFRkZWVJJJJXX3113bp1d+/e3bJlC/2VW/Yw34AVCJ5olzA3t23v3laJBHEjYWWlEQAwdqzzooZA8IT7impraxctWmT/d1xcXEZGxsKFCxmb7RW5ublhYWFTpkzxmHPNmjVyuXzlypXbtm1Tq9U0R7Y+gY2E8/X6ryjKCB7I464dq6gwAADGjXsoDwSJBYJ0x5Tbt28PGDDAMSU+Pn7RokUTJkxYuHDhsGHDGBvsLVVVVUuXLkUQZN++ffPmzfOYf9myZeHh4QsXLty1a5dGo6E5smUP86EgDEvF4lUAAJ2OqKvDeDx4xIhO20OSBBcumAAAiYkPSSgWr7J79tXU1GzcuDE5OXnQoEFXr151evxf//rXm2++2Z36AQBGjRq1cuVKk8m0YMGCb775hs4js2bNOnLkSGhoaF5eXlpamlar7WojAUuHfLH4aQ5nVGednCPXrpn1emLgQF54+IM1fi53tFj8uy1btkRFRY0cOXLdunXl5eUSiaSjhI8EBEF27NixYcMGgiBWr169adMmOk+NHz++rKxswIABpaWlycnJd+/e7Wo7WU7IELn8o59/hkGHFtIJeyvq2NIiSD+5/CMAELVaXVdXFxoaumLFioMHDzY3N2dkZLCzypdkZWV9/PHHAIB333233c/DPbGxsSdOnIiJibl06VJycvKNG117EoNtl4sgYc8++5Vc/qeEBAwAqLM5hr2zHDdOZM+DopHBwdtgOBQA8Nxzz6WmpiYlJf3WtlLbWbt2bUhISN++ffv370/zkUGDBp06dWrevHlnzpxJSUkpLCyMj4/vmI0ktVZrhc12jSCaKMoCw2IE6c/hjOByx0AQ3Y0a37g/UZRJp/vYZDrQmYTJyTV1dVhhYezo0SKhMEMqXUtnIujvGAyGJ598sqSkRCaT5eXlJSc/iJxhtVYZjd9jWDkALo58QJBYIEgTi59BEM+73L70I7XZrhgM32JYKQAPHR9Rq/GRIy/wePCtW3+Ry5/jcIb7qsbfPvbVc6VSKRQKlUrl3LlzSVKr022k404HQVyx+Dmx+Pfu+zvfe3OTpM5qPW+zXSaIJorCIQgtKVEtXrxj2rTk48dP+LauR0heXt6kSZPoLCkQBLFmzZovv/wSRdHt29enp58giHtuOh0neLyJcvnf3TRavu9+YFjK58+SSF6Vyd6XyzfIZO9XVYUAACZN+k0H4PGK4uLiRYsWpaSkNDQ0eMyMIMj27dvfeecdHMf/8Ieszz6rAgDQX5i0WM62tb1ijxLnku4YQZw+fRoAMGnSpG6oq3uIj48fMWLE1atXk5KSqqurPeaHIOidd95cv340BIH33vt1/XpaI9t2rNaLWu0HnX3KSsLW1tbo6Gin5UonCII4f/48AGDiRC8cf3/jREREHDt2LCUl5d69e9OmTTt16pTHR3S6T3//e87WrUM4HOizzxrXrq3HcfpdGGQ2F2DYcZefsZLwzJkz169fdz8Tr66uNhgMUVFR7SccegYymayoqCg9PV2tVi9ZssRisbjJjOMNJtN+AMCiRcFffx3F58N797Y+/3ydxULT/48CAOj121z6C7KSkE4L2fNa0XYEAkF2dvYLL7ywZ88eHo/nJqfJtK998jB7dpBSGS2Xo4WFmqefvqHXu5hUuATHGzDsZMf0gISsQFF0+/btnrYySKcpxNixouzs6D59OOXl+sWLa1tb6R7hxzAXUxHmEhIEUVFRATx1cj1bQjrgeD1JtjklxsQIcnNjhgzhXbhgWrjw2p07tA6lWK0uAt8wl7C2tlav10dGRrrxclCpVDdv3hSJRKNGjWJckd9RVlZm9+Kx0/E4VUOD5cYNbMAAXk5OzIgRwhs3MIXi6pUrZo8lE0QLSeqcEplLGBsb29ramp2d7SaP/WjEhAkTum3/85GTk5Mzc+bMp59+2ma7H5qBIJxfwa+/bp46teazzxrDwzn790dPmCBuarK99totOuV3jH3Dqi+Uy+UuV2/b6YWtaHBwsFgs/vHHH9PS0vR6+0ED5wFLRYURADBmjAgAIJUie/YMW7Ik5PPPh9Crwbm0rp3a90IJp02bdvTo0fDw8CNHjsyaNUulUjlFq8EwsqbGhCBQfPz9NTM+H968efDgwQ+NaV955d/btjW2e763A0HOh4S6UEIcxysrKyEI6kmTejokJiaeOHFi8ODBly9frq+vd4pWc+GCyWajhg8XSCSdBs9oaLBkZ7d9+WWTU2QVCBIiiPOqbBd2URcvXjQYDMOGDQsL86drH3xCdHT0yZMna2trx40bR1EWCOK2H4SurHThQ+REuy+SkyMclzuy41vH8C1saGgwmz2MoHphK+pI//79Z8yYAQCAIB6PN7k93d4RenIVs++QO3v78fnTO2ZmKOGzzz4bFBRUWlrqJk8vl9ARodDuRAkBAH7+2bU8jrh8UyFIyOendczMREIcx8+fP4/jeFxcnJtsAQnb4fEmcbkJAFANDZbmZltwMDpoUKcLchhGXrliRlFo9Ggnb7+nYVjSMT+TvpBOJ9fc3FxXVycWi0eMGMGgip5HUNBfVaoVlZVtwFUn5wiHA2Vnx9y8iYlED14wFI0UiZ51mZ/JW0jn9bLvv0ycOLH3TOrdg6KRQUH/1Vkn5wiCQGPHihYvfnAKHIalcvlHnTlEdZWEgVa0IwJBWlWVBHgayzgBw7Lg4E9RdHCnGRiYIpfLIyIiAqvb3mI2my9dakAQOCFhgOfcAAAAOJyRoaHfczjuxhxdEszSZrPJZDKz2dzc3Pxozxz9pigtLZ0+fXpiYuL588cMhp0m0343Uc8QpI9YvEoozPD4mnVJR3XhwgWTyRQTExPQz5H2lgmGpVLpnySS1Rh2zGI5a7PVkmQLRWEQJAagj0AwksdL5vGSaLaRXSJhoBV1idPXAkEigUAhECgc87z88ss//fR///hHnEJBt4/rkjXSgIQuOXv2LKAxkq+trQ0K8ibwKdUFDB48GABw8eLFrijcT7EfjgkPD3eTx2AwoCjK4XCMRiP9kr17C+vq6nbu3NkeKc0lTU1N9fX1UqnU/dpNb4NOy3Tu3Dkcx+Pj44VCLw6ceCfhoUOHVq1a9cEHnbqlAgDKy8sBABMnTnSK0NPL6brJtHcSBib1jKHztTQ0NEAQlJSU5F3RXjXodDo5u0fe4cOHvSq5Z0O/k1OpVAaDwavCvZCwsbERACCRSHAc7yyP1WoVCAQQBLW2tnplR8/m6NGjAIBx48Z1ReFeNKTtK9duOrlffvnFbDYPHz48OLhrIxv6F13auXgxtR82bNgbb7wRE/OY1XqBoiwQhMBwOIr2d+xQAx2hS34TEtpslwcMyHv99UsEcbS19fv2dAgS8XgTBIK5fP40AOCAhB2hKIrOpJ4xniXE8QadbpPF4vr8FUUZMewYhh1D0cFS6V8CEnbkxo0bLS0tERER9sGgS8xmc1VVVWJiovvjNS7x0BeazQUq1fLO9HMEx+uvXHmpoaFBJpPFxsZ6a0cPxv6znjx5svs8kydPnjlzJoPy3b2FRuMPOt1W+keKz583AgASE4NgmOwNtwTThL6TA/04mo50+kWbzUU63VavyrL7XSUk2LTaDxmY0lPp6vUQ1xISxF2tdr1juNHnn697//07JpO7U6ntgfJMpgNe3XHVgzEajTU1NRwOJzExsbM8FEWdO3cO+FZCnW6b44ZyU5MtP1+9a1cLn9/pW2u1UpcumSHo/mkPvX4zRbk7u9xLOHPmDI7jCQkJblaua2trVSpVv3796EeidsRFX4jjtzDsiGOK/fVKTBS5CbFVXW2yWMiYGEFQEAIAIIgWs/mgUJjJwKaeBJ0W0mq1KhQKxtcZuZDQbM5zGsI4RFDrFHtH6OibZTLlBSSkI+GoUaPy8vIYV+Hiteo4hfj/YwDufcidZbbZrnQ8oNyrYNnJ0cRZQoqy2mwPBV+02ajqahMEgYQEzyc5HpaZstl+E5FFHxUsOzmaODekJNnsFNwERaGiotirV832Ts4ljY22e/esUikSFcV3TCeIRh/a6nd0z1pVRwmdj5xBEIiO5kdH80HnnDtnn06IncY7FOU5BEAPpnskdG5IIcidVJ1BUdTQofyOfubMSusx0JFw27Zt3333HZso3s7e3BRlaWxMYX2x5H2Cg7fweD0nAKJX6PV6uVyOIIhWq+XzXf+UKYoKCQlRq9W3b99mfI9ex7eQ5+YEhrf0quixTpw9e5YgiMTExM70AwBcuXJFrVYPGDCAzT2ILiYVjqeK2cDhDLNH3+6d2Feuu8FVzIWEQqGiYyIDnO4Q6W10m7efCwlRdCiPl8KmUAAADMuFwgyWhfgvNCf1PpHQ9X6hVPpnlepse5wNBkgkr/aGGPidcfXq1ba2tn79+rnv5NavX3/y5MkxY8awqcv1ujWKDpJKaV1P3AEIAMDnzxYK57Owyu+xv14e7+vKyMjYtGkTA2cLRzrdehAKnxSLn/O+QIrLHSeT/Q8Lk3oC3elD5M7xQiJ5CYblOt0Wp3sn3CAQpAUFvU3/ppMeCUWZy8tLAACxsfmNjfspCoMgPoL04XDieLxJfP50CPLljWqeD2rbbFe12o02m4c48AgSLpH8SSBI9Z1t/gdFmQ2GXY2Nu4YPP4miUG1tApfrHJ0EgsQi0TKx+BlfCenZCZHDGR4autNiOWM2H8SwcvuFhQ4gXO4YgWCeQDCnl798Nlu1Wv0WQdytrNSRJBg9WtRRPwAARRkMhq/M5kNy+XoOxweRdum6AvN4STxeEgAkjtcTxB2KsgCAIEgEikb28oVQOxh2TKN5yz6Gd3nZphP79l3avTv5pZf+uGLF/7Ks2tuz9jCKRqJoJMtaexgWyzm1+q/tIwY6gfJOntSdPq2bO3eXxZLO401gU3vA25MtJNmq0fytXT+KAlVVdJ0cxo4VaDR/I0kVGwMCErJFp9tCkpr2/9bWmrVaon9/bp8+nM4feXB1LklqdLrNbAwISMgKHP+32VzkmELzZmrHq3PN5mIcr2NsQ0BCVphMOU57q3QC5VVVmcBDMlMmUw5jGwJhClnR8Sqsjs6YHfnzn/vOnSsTiR74ImHYcan0NWY2BCRkDkmqCOKhC7N1OuLmTYzHg0eOdLfED8Ng+PCH5vUEcY8gWhCESRDzgITMwXHn+ydJksrK6q/VEm7uh+8MgrgdkLC7IUmDU4pMhr76aqfXH3kqTc/swcBwhjkQ5MvYSBDEUIuAhMyBYV9G9YDhEM+ZXD7oQyN6Gyg6BABfvYgIitK8s8mZgITMgSA+lzvSJ0VxuSMY7z0FJGQFn++b/VE25QQkZIVQqIBhb8K/ugKGpWwcPwMSsgKChGLx8ywLEYufhyAvrj1wIiAhW0SiTDYbflzueJFoMRsDAhKyB5bJPmQ2nkTRIXL5hyxVCEjoA2A4KCRkB4fj3e1UHE5cSMgOGJaxrL1LrhrpnVCUVa//wmjc3fG63Q4gItFyieQlnziMBST0MTh+y2jcZTYXu7wJBoKEAsFskegZFB3kqxoDEnYJFGWxWqtstisE0QQAYff243BiudwxEMTK/b4jAQn9nsBwxu8JSOj3BCT0ewIS+j0BCf2egIR+T0BCvycgod8TkNDvCUjo9wQk9HsCEvo9/wEmXnNjMUPFUQAAAABJRU5ErkJggg==\n",
                "text/plain": "<PIL.PngImagePlugin.PngImageFile image mode=RGB size=150x150 at 0x7FBE9563F5C0>"
              }
            ],
            "_view_module": "@jupyter-widgets/output",
            "_model_module_version": "1.0.0",
            "_view_count": null,
            "_view_module_version": "1.0.0",
            "layout": "IPY_MODEL_09a40d1bbbee4756a90e3873e75e64b8",
            "_model_module": "@jupyter-widgets/output"
          }
        },
        "e2228472a9374706b509ffae7b9a27b4": {
          "model_module": "@jupyter-widgets/controls",
          "model_name": "DescriptionStyleModel",
          "state": {
            "_view_name": "StyleView",
            "_model_name": "DescriptionStyleModel",
            "description_width": "",
            "_view_module": "@jupyter-widgets/base",
            "_model_module_version": "1.5.0",
            "_view_count": null,
            "_view_module_version": "1.2.0",
            "_model_module": "@jupyter-widgets/controls"
          }
        },
        "23db40a1cf894dd481ab1b4d931b5297": {
          "model_module": "@jupyter-widgets/base",
          "model_name": "LayoutModel",
          "state": {
            "_view_name": "LayoutView",
            "grid_template_rows": null,
            "right": null,
            "justify_content": null,
            "_view_module": "@jupyter-widgets/base",
            "overflow": null,
            "_model_module_version": "1.2.0",
            "_view_count": null,
            "flex_flow": null,
            "width": null,
            "min_width": null,
            "border": null,
            "align_items": null,
            "bottom": null,
            "_model_module": "@jupyter-widgets/base",
            "top": null,
            "grid_column": null,
            "overflow_y": null,
            "overflow_x": null,
            "grid_auto_flow": null,
            "grid_area": null,
            "grid_template_columns": null,
            "flex": null,
            "_model_name": "LayoutModel",
            "justify_items": null,
            "grid_row": null,
            "max_height": null,
            "align_content": null,
            "visibility": null,
            "align_self": null,
            "height": null,
            "min_height": null,
            "padding": null,
            "grid_auto_rows": null,
            "grid_gap": null,
            "max_width": null,
            "order": null,
            "_view_module_version": "1.2.0",
            "grid_template_areas": null,
            "object_position": null,
            "object_fit": null,
            "grid_auto_columns": null,
            "margin": null,
            "display": null,
            "left": null
          }
        },
        "09a40d1bbbee4756a90e3873e75e64b8": {
          "model_module": "@jupyter-widgets/base",
          "model_name": "LayoutModel",
          "state": {
            "_view_name": "LayoutView",
            "grid_template_rows": null,
            "right": null,
            "justify_content": null,
            "_view_module": "@jupyter-widgets/base",
            "overflow": null,
            "_model_module_version": "1.2.0",
            "_view_count": null,
            "flex_flow": null,
            "width": null,
            "min_width": null,
            "border": null,
            "align_items": null,
            "bottom": null,
            "_model_module": "@jupyter-widgets/base",
            "top": null,
            "grid_column": null,
            "overflow_y": null,
            "overflow_x": null,
            "grid_auto_flow": null,
            "grid_area": null,
            "grid_template_columns": null,
            "flex": null,
            "_model_name": "LayoutModel",
            "justify_items": null,
            "grid_row": null,
            "max_height": null,
            "align_content": null,
            "visibility": null,
            "align_self": null,
            "height": null,
            "min_height": null,
            "padding": null,
            "grid_auto_rows": null,
            "grid_gap": null,
            "max_width": null,
            "order": null,
            "_view_module_version": "1.2.0",
            "grid_template_areas": null,
            "object_position": null,
            "object_fit": null,
            "grid_auto_columns": null,
            "margin": null,
            "display": null,
            "left": null
          }
        }
      }
    }
  },
  "cells": [
    {
      "cell_type": "markdown",
      "metadata": {
        "id": "view-in-github",
        "colab_type": "text"
      },
      "source": [
        "<a href=\"https://colab.research.google.com/github/PabloCGarcia/bioDeepLearning/blob/main/Clase06_01.ipynb\" target=\"_parent\"><img src=\"https://colab.research.google.com/assets/colab-badge.svg\" alt=\"Open In Colab\"/></a>"
      ]
    },
    {
      "cell_type": "code",
      "metadata": {
        "colab": {
          "base_uri": "https://localhost:8080/"
        },
        "id": "04i6NXLUFpip",
        "outputId": "acb7aa30-bf09-41f7-f25d-5bce1e834323"
      },
      "source": [
        "!pip install -q condacolab\r\n",
        "import condacolab\r\n",
        "condacolab.install()"
      ],
      "execution_count": 2,
      "outputs": [
        {
          "output_type": "stream",
          "text": [
            "⏬ Downloading https://github.com/jaimergp/miniforge/releases/latest/download/Mambaforge-colab-Linux-x86_64.sh...\n",
            "📦 Installing...\n",
            "📌 Adjusting configuration...\n",
            "🩹 Patching environment...\n",
            "⏲ Done in 0:00:36\n",
            "🔁 Restarting kernel...\n"
          ],
          "name": "stdout"
        }
      ]
    },
    {
      "cell_type": "code",
      "metadata": {
        "colab": {
          "base_uri": "https://localhost:8080/"
        },
        "id": "__2nLwTGQFuC",
        "outputId": "946a412c-700d-4186-f871-92fb52e4b7ea"
      },
      "source": [
        "import condacolab\r\n",
        "condacolab.check()"
      ],
      "execution_count": 1,
      "outputs": [
        {
          "output_type": "stream",
          "text": [
            "✨🍰✨ Everything looks OK!\n"
          ],
          "name": "stdout"
        }
      ]
    },
    {
      "cell_type": "code",
      "metadata": {
        "colab": {
          "base_uri": "https://localhost:8080/"
        },
        "id": "qLKoJDGgQJJq",
        "outputId": "a9807e5b-dbe9-411c-a825-ab570a327443"
      },
      "source": [
        "!conda install -c conda-forge rdkit"
      ],
      "execution_count": 2,
      "outputs": [
        {
          "output_type": "stream",
          "text": [
            "Collecting package metadata (current_repodata.json): - \b\b\\ \b\b| \b\b/ \b\b- \b\b\\ \b\b| \b\b/ \b\b- \b\b\\ \b\b| \b\b/ \b\b- \b\b\\ \b\b| \b\b/ \b\b- \b\b\\ \b\b| \b\b/ \b\b- \b\b\\ \b\b| \b\b/ \b\b- \b\b\\ \b\b| \b\b/ \b\b- \b\b\\ \b\b| \b\b/ \b\b- \b\b\\ \b\b| \b\b/ \b\b- \b\b\\ \b\b| \b\b/ \b\b- \b\b\\ \b\b| \b\b/ \b\b- \b\b\\ \b\b| \b\b/ \b\b- \b\b\\ \b\b| \b\b/ \b\b- \b\b\\ \b\b| \b\b/ \b\b- \b\b\\ \b\b| \b\b/ \b\b- \b\b\\ \b\b| \b\b/ \b\b- \b\b\\ \b\b| \b\b/ \b\b- \b\b\\ \b\b| \b\b/ \b\b- \b\b\\ \b\b| \b\bdone\n",
            "Solving environment: - \b\b\\ \b\b| \b\b/ \b\b- \b\b\\ \b\b| \b\b/ \b\b- \b\b\\ \b\b| \b\b/ \b\b- \b\b\\ \b\b| \b\b/ \b\b- \b\b\\ \b\b| \b\b/ \b\b- \b\b\\ \b\b| \b\b/ \b\b- \b\b\\ \b\b| \b\b/ \b\b- \b\b\\ \b\b| \b\b/ \b\bdone\n",
            "\n",
            "## Package Plan ##\n",
            "\n",
            "  environment location: /usr/local\n",
            "\n",
            "  added / updated specs:\n",
            "    - rdkit\n",
            "\n",
            "\n",
            "The following packages will be downloaded:\n",
            "\n",
            "    package                    |            build\n",
            "    ---------------------------|-----------------\n",
            "    boost-1.74.0               |   py36h355b2fd_3         340 KB  conda-forge\n",
            "    boost-cpp-1.74.0           |       h9d3c048_1        16.3 MB  conda-forge\n",
            "    cairo-1.16.0               |    h7979940_1007         1.5 MB  conda-forge\n",
            "    certifi-2020.12.5          |   py36h5fab9bb_1         143 KB  conda-forge\n",
            "    cycler-0.10.0              |             py_2           9 KB  conda-forge\n",
            "    fontconfig-2.13.1          |    hba837de_1004         344 KB  conda-forge\n",
            "    freetype-2.10.4            |       h0708190_1         890 KB  conda-forge\n",
            "    gettext-0.19.8.1           |    h0b5b191_1005         3.6 MB  conda-forge\n",
            "    jpeg-9d                    |       h36c2ea0_0         264 KB  conda-forge\n",
            "    kiwisolver-1.3.1           |   py36h605e78d_1          78 KB  conda-forge\n",
            "    lcms2-2.12                 |       hddcbb42_0         443 KB  conda-forge\n",
            "    libblas-3.9.0              |       8_openblas          11 KB  conda-forge\n",
            "    libcblas-3.9.0             |       8_openblas          11 KB  conda-forge\n",
            "    libgfortran-ng-9.3.0       |      hff62375_18          22 KB  conda-forge\n",
            "    libgfortran5-9.3.0         |      hff62375_18         2.0 MB  conda-forge\n",
            "    libglib-2.66.6             |       h1f3bc88_3         3.0 MB  conda-forge\n",
            "    liblapack-3.9.0            |       8_openblas          11 KB  conda-forge\n",
            "    libopenblas-0.3.12         |pthreads_h4812303_1         8.9 MB  conda-forge\n",
            "    libpng-1.6.37              |       h21135ba_2         306 KB  conda-forge\n",
            "    libtiff-4.2.0              |       hdc55705_0         633 KB  conda-forge\n",
            "    libuuid-2.32.1             |    h7f98852_1000          28 KB  conda-forge\n",
            "    libwebp-base-1.2.0         |       h7f98852_0         808 KB  conda-forge\n",
            "    libxcb-1.13                |    h7f98852_1003         395 KB  conda-forge\n",
            "    matplotlib-base-3.3.4      |   py36hd391965_0         6.8 MB  conda-forge\n",
            "    numpy-1.19.5               |   py36h2aa4a07_1         5.3 MB  conda-forge\n",
            "    olefile-0.46               |     pyh9f0ad1d_1          32 KB  conda-forge\n",
            "    pandas-1.1.5               |   py36h284efc9_0        11.3 MB  conda-forge\n",
            "    pcre-8.44                  |       he1b5a44_0         261 KB  conda-forge\n",
            "    pillow-8.1.0               |   py36ha6010c0_2         670 KB  conda-forge\n",
            "    pixman-0.40.0              |       h36c2ea0_0         627 KB  conda-forge\n",
            "    pthread-stubs-0.4          |    h36c2ea0_1001           5 KB  conda-forge\n",
            "    pycairo-1.20.0             |   py36h4779a57_1          77 KB  conda-forge\n",
            "    pyparsing-2.4.7            |     pyh9f0ad1d_0          60 KB  conda-forge\n",
            "    python-dateutil-2.8.1      |             py_0         220 KB  conda-forge\n",
            "    pytz-2021.1                |     pyhd8ed1ab_0         239 KB  conda-forge\n",
            "    rdkit-2020.09.4            |   py36hb3b0795_0        26.1 MB  conda-forge\n",
            "    reportlab-3.5.60           |   py36h3e18861_0         2.5 MB  conda-forge\n",
            "    sqlalchemy-1.3.23          |   py36h8f6f2f9_0         1.8 MB  conda-forge\n",
            "    tornado-6.1                |   py36h8f6f2f9_1         643 KB  conda-forge\n",
            "    xorg-kbproto-1.0.7         |    h7f98852_1002          27 KB  conda-forge\n",
            "    xorg-libice-1.0.10         |       h516909a_0          57 KB  conda-forge\n",
            "    xorg-libsm-1.2.3           |    h84519dc_1000          25 KB  conda-forge\n",
            "    xorg-libx11-1.6.12         |       h516909a_0         917 KB  conda-forge\n",
            "    xorg-libxau-1.0.9          |       h7f98852_0          13 KB  conda-forge\n",
            "    xorg-libxdmcp-1.1.3        |       h7f98852_0          19 KB  conda-forge\n",
            "    xorg-libxext-1.3.4         |       h516909a_0          51 KB  conda-forge\n",
            "    xorg-libxrender-0.9.10     |    h516909a_1002          31 KB  conda-forge\n",
            "    xorg-renderproto-0.11.1    |    h14c3975_1002           8 KB  conda-forge\n",
            "    xorg-xextproto-7.3.0       |    h7f98852_1002          28 KB  conda-forge\n",
            "    xorg-xproto-7.0.31         |    h7f98852_1007          73 KB  conda-forge\n",
            "    ------------------------------------------------------------\n",
            "                                           Total:        97.7 MB\n",
            "\n",
            "The following NEW packages will be INSTALLED:\n",
            "\n",
            "  boost              conda-forge/linux-64::boost-1.74.0-py36h355b2fd_3\n",
            "  boost-cpp          conda-forge/linux-64::boost-cpp-1.74.0-h9d3c048_1\n",
            "  cairo              conda-forge/linux-64::cairo-1.16.0-h7979940_1007\n",
            "  cycler             conda-forge/noarch::cycler-0.10.0-py_2\n",
            "  fontconfig         conda-forge/linux-64::fontconfig-2.13.1-hba837de_1004\n",
            "  freetype           conda-forge/linux-64::freetype-2.10.4-h0708190_1\n",
            "  gettext            conda-forge/linux-64::gettext-0.19.8.1-h0b5b191_1005\n",
            "  jpeg               conda-forge/linux-64::jpeg-9d-h36c2ea0_0\n",
            "  kiwisolver         conda-forge/linux-64::kiwisolver-1.3.1-py36h605e78d_1\n",
            "  lcms2              conda-forge/linux-64::lcms2-2.12-hddcbb42_0\n",
            "  libblas            conda-forge/linux-64::libblas-3.9.0-8_openblas\n",
            "  libcblas           conda-forge/linux-64::libcblas-3.9.0-8_openblas\n",
            "  libgfortran-ng     conda-forge/linux-64::libgfortran-ng-9.3.0-hff62375_18\n",
            "  libgfortran5       conda-forge/linux-64::libgfortran5-9.3.0-hff62375_18\n",
            "  libglib            conda-forge/linux-64::libglib-2.66.6-h1f3bc88_3\n",
            "  liblapack          conda-forge/linux-64::liblapack-3.9.0-8_openblas\n",
            "  libopenblas        conda-forge/linux-64::libopenblas-0.3.12-pthreads_h4812303_1\n",
            "  libpng             conda-forge/linux-64::libpng-1.6.37-h21135ba_2\n",
            "  libtiff            conda-forge/linux-64::libtiff-4.2.0-hdc55705_0\n",
            "  libuuid            conda-forge/linux-64::libuuid-2.32.1-h7f98852_1000\n",
            "  libwebp-base       conda-forge/linux-64::libwebp-base-1.2.0-h7f98852_0\n",
            "  libxcb             conda-forge/linux-64::libxcb-1.13-h7f98852_1003\n",
            "  matplotlib-base    conda-forge/linux-64::matplotlib-base-3.3.4-py36hd391965_0\n",
            "  numpy              conda-forge/linux-64::numpy-1.19.5-py36h2aa4a07_1\n",
            "  olefile            conda-forge/noarch::olefile-0.46-pyh9f0ad1d_1\n",
            "  pandas             conda-forge/linux-64::pandas-1.1.5-py36h284efc9_0\n",
            "  pcre               conda-forge/linux-64::pcre-8.44-he1b5a44_0\n",
            "  pillow             conda-forge/linux-64::pillow-8.1.0-py36ha6010c0_2\n",
            "  pixman             conda-forge/linux-64::pixman-0.40.0-h36c2ea0_0\n",
            "  pthread-stubs      conda-forge/linux-64::pthread-stubs-0.4-h36c2ea0_1001\n",
            "  pycairo            conda-forge/linux-64::pycairo-1.20.0-py36h4779a57_1\n",
            "  pyparsing          conda-forge/noarch::pyparsing-2.4.7-pyh9f0ad1d_0\n",
            "  python-dateutil    conda-forge/noarch::python-dateutil-2.8.1-py_0\n",
            "  pytz               conda-forge/noarch::pytz-2021.1-pyhd8ed1ab_0\n",
            "  rdkit              conda-forge/linux-64::rdkit-2020.09.4-py36hb3b0795_0\n",
            "  reportlab          conda-forge/linux-64::reportlab-3.5.60-py36h3e18861_0\n",
            "  sqlalchemy         conda-forge/linux-64::sqlalchemy-1.3.23-py36h8f6f2f9_0\n",
            "  tornado            conda-forge/linux-64::tornado-6.1-py36h8f6f2f9_1\n",
            "  xorg-kbproto       conda-forge/linux-64::xorg-kbproto-1.0.7-h7f98852_1002\n",
            "  xorg-libice        conda-forge/linux-64::xorg-libice-1.0.10-h516909a_0\n",
            "  xorg-libsm         conda-forge/linux-64::xorg-libsm-1.2.3-h84519dc_1000\n",
            "  xorg-libx11        conda-forge/linux-64::xorg-libx11-1.6.12-h516909a_0\n",
            "  xorg-libxau        conda-forge/linux-64::xorg-libxau-1.0.9-h7f98852_0\n",
            "  xorg-libxdmcp      conda-forge/linux-64::xorg-libxdmcp-1.1.3-h7f98852_0\n",
            "  xorg-libxext       conda-forge/linux-64::xorg-libxext-1.3.4-h516909a_0\n",
            "  xorg-libxrender    conda-forge/linux-64::xorg-libxrender-0.9.10-h516909a_1002\n",
            "  xorg-renderproto   conda-forge/linux-64::xorg-renderproto-0.11.1-h14c3975_1002\n",
            "  xorg-xextproto     conda-forge/linux-64::xorg-xextproto-7.3.0-h7f98852_1002\n",
            "  xorg-xproto        conda-forge/linux-64::xorg-xproto-7.0.31-h7f98852_1007\n",
            "\n",
            "The following packages will be UPDATED:\n",
            "\n",
            "  certifi                          2020.12.5-py36h5fab9bb_0 --> 2020.12.5-py36h5fab9bb_1\n",
            "\n",
            "\n",
            "\n",
            "Downloading and Extracting Packages\n",
            "libtiff-4.2.0        | 633 KB    | : 100% 1.0/1 [00:00<00:00,  3.24it/s]\n",
            "sqlalchemy-1.3.23    | 1.8 MB    | : 100% 1.0/1 [00:00<00:00,  1.33it/s]\n",
            "libglib-2.66.6       | 3.0 MB    | : 100% 1.0/1 [00:00<00:00,  1.05it/s]\n",
            "fontconfig-2.13.1    | 344 KB    | : 100% 1.0/1 [00:00<00:00,  8.16it/s]\n",
            "pcre-8.44            | 261 KB    | : 100% 1.0/1 [00:00<00:00,  9.07it/s]\n",
            "libxcb-1.13          | 395 KB    | : 100% 1.0/1 [00:00<00:00,  5.35it/s]\n",
            "pytz-2021.1          | 239 KB    | : 100% 1.0/1 [00:00<00:00,  6.58it/s]\n",
            "freetype-2.10.4      | 890 KB    | : 100% 1.0/1 [00:00<00:00,  3.65it/s]\n",
            "matplotlib-base-3.3. | 6.8 MB    | : 100% 1.0/1 [00:01<00:00,  1.70s/it]\n",
            "pyparsing-2.4.7      | 60 KB     | : 100% 1.0/1 [00:00<00:00, 16.52it/s]\n",
            "pycairo-1.20.0       | 77 KB     | : 100% 1.0/1 [00:00<00:00, 14.89it/s]\n",
            "pillow-8.1.0         | 670 KB    | : 100% 1.0/1 [00:00<00:00,  4.40it/s]\n",
            "rdkit-2020.09.4      | 26.1 MB   | : 100% 1.0/1 [00:06<00:00,  6.08s/it]               \n",
            "cairo-1.16.0         | 1.5 MB    | : 100% 1.0/1 [00:00<00:00,  2.17it/s]\n",
            "pandas-1.1.5         | 11.3 MB   | : 100% 1.0/1 [00:03<00:00,  3.40s/it]               \n",
            "python-dateutil-2.8. | 220 KB    | : 100% 1.0/1 [00:00<00:00, 13.04it/s]\n",
            "kiwisolver-1.3.1     | 78 KB     | : 100% 1.0/1 [00:00<00:00, 19.83it/s]\n",
            "xorg-xproto-7.0.31   | 73 KB     | : 100% 1.0/1 [00:00<00:00, 11.83it/s]\n",
            "xorg-libxrender-0.9. | 31 KB     | : 100% 1.0/1 [00:00<00:00, 20.26it/s]\n",
            "xorg-renderproto-0.1 | 8 KB      | : 100% 1.0/1 [00:00<00:00, 23.93it/s]\n",
            "certifi-2020.12.5    | 143 KB    | : 100% 1.0/1 [00:00<00:00, 16.79it/s]\n",
            "libwebp-base-1.2.0   | 808 KB    | : 100% 1.0/1 [00:00<00:00,  3.90it/s]\n",
            "xorg-libsm-1.2.3     | 25 KB     | : 100% 1.0/1 [00:00<00:00, 16.34it/s]\n",
            "xorg-libxau-1.0.9    | 13 KB     | : 100% 1.0/1 [00:00<00:00, 26.30it/s]\n",
            "gettext-0.19.8.1     | 3.6 MB    | : 100% 1.0/1 [00:01<00:00,  1.21s/it]\n",
            "xorg-libxext-1.3.4   | 51 KB     | : 100% 1.0/1 [00:00<00:00, 13.52it/s]\n",
            "xorg-libice-1.0.10   | 57 KB     | : 100% 1.0/1 [00:00<00:00, 10.89it/s]\n",
            "libopenblas-0.3.12   | 8.9 MB    | : 100% 1.0/1 [00:02<00:00,  2.20s/it]\n",
            "boost-1.74.0         | 340 KB    | : 100% 1.0/1 [00:00<00:00,  5.88it/s]\n",
            "xorg-libxdmcp-1.1.3  | 19 KB     | : 100% 1.0/1 [00:00<00:00, 20.23it/s]\n",
            "xorg-libx11-1.6.12   | 917 KB    | : 100% 1.0/1 [00:00<00:00,  4.47it/s]\n",
            "libgfortran5-9.3.0   | 2.0 MB    | : 100% 1.0/1 [00:00<00:00,  1.66it/s]               \n",
            "xorg-xextproto-7.3.0 | 28 KB     | : 100% 1.0/1 [00:00<00:00,  9.87it/s]\n",
            "liblapack-3.9.0      | 11 KB     | : 100% 1.0/1 [00:00<00:00,  6.04it/s]\n",
            "olefile-0.46         | 32 KB     | : 100% 1.0/1 [00:00<00:00, 20.04it/s]\n",
            "libgfortran-ng-9.3.0 | 22 KB     | : 100% 1.0/1 [00:00<00:00, 16.17it/s]\n",
            "xorg-kbproto-1.0.7   | 27 KB     | : 100% 1.0/1 [00:00<00:00, 18.48it/s]\n",
            "numpy-1.19.5         | 5.3 MB    | : 100% 1.0/1 [00:01<00:00,  1.60s/it]\n",
            "jpeg-9d              | 264 KB    | : 100% 1.0/1 [00:00<00:00,  9.55it/s]\n",
            "boost-cpp-1.74.0     | 16.3 MB   | : 100% 1.0/1 [00:09<00:00,  9.55s/it]\n",
            "tornado-6.1          | 643 KB    | : 100% 1.0/1 [00:00<00:00,  3.48it/s]\n",
            "pthread-stubs-0.4    | 5 KB      | : 100% 1.0/1 [00:00<00:00, 24.23it/s]\n",
            "libuuid-2.32.1       | 28 KB     | : 100% 1.0/1 [00:00<00:00, 17.53it/s]\n",
            "libblas-3.9.0        | 11 KB     | : 100% 1.0/1 [00:00<00:00, 16.87it/s]\n",
            "libpng-1.6.37        | 306 KB    | : 100% 1.0/1 [00:00<00:00,  7.34it/s]\n",
            "libcblas-3.9.0       | 11 KB     | : 100% 1.0/1 [00:00<00:00, 15.68it/s]\n",
            "cycler-0.10.0        | 9 KB      | : 100% 1.0/1 [00:00<00:00, 16.33it/s]\n",
            "reportlab-3.5.60     | 2.5 MB    | : 100% 1.0/1 [00:00<00:00,  1.18it/s]\n",
            "pixman-0.40.0        | 627 KB    | : 100% 1.0/1 [00:00<00:00,  4.86it/s]\n",
            "lcms2-2.12           | 443 KB    | : 100% 1.0/1 [00:00<00:00,  6.40it/s]\n",
            "Preparing transaction: \\ \b\b| \b\b/ \b\b- \b\b\\ \b\b| \b\b/ \b\b- \b\b\\ \b\b| \b\b/ \b\bdone\n",
            "Verifying transaction: \\ \b\b| \b\b/ \b\b- \b\b\\ \b\b| \b\b/ \b\b- \b\b\\ \b\b| \b\b/ \b\b- \b\b\\ \b\b| \b\b/ \b\b- \b\b\\ \b\b| \b\b/ \b\b- \b\b\\ \b\b| \b\b/ \b\b- \b\b\\ \b\b| \b\b/ \b\b- \b\b\\ \b\b| \b\b/ \b\b- \b\b\\ \b\b| \b\b/ \b\bdone\n",
            "Executing transaction: \\ \b\b| \b\b/ \b\b- \b\b\\ \b\b| \b\b/ \b\b- \b\b\\ \b\b| \b\b/ \b\b- \b\b\\ \b\b| \b\b/ \b\b- \b\b\\ \b\b| \b\b/ \b\b- \b\b\\ \b\b| \b\b/ \b\b- \b\b\\ \b\b| \b\b/ \b\b- \b\b\\ \b\bdone\n"
          ],
          "name": "stdout"
        }
      ]
    },
    {
      "cell_type": "code",
      "metadata": {
        "id": "lU0fLZpfMPme"
      },
      "source": [
        "from rdkit import Chem"
      ],
      "execution_count": 3,
      "outputs": []
    },
    {
      "cell_type": "code",
      "metadata": {
        "colab": {
          "base_uri": "https://localhost:8080/"
        },
        "id": "YIHOX9BlclVa",
        "outputId": "83985b29-970b-4ba7-d14a-a95e8147e420"
      },
      "source": [
        "m = Chem.MolFromSmiles('CC[C@H](F)Cl')\r\n",
        "print(m.HasSubstructMatch(Chem.MolFromSmiles('C[C@H](F)Cl')))\r\n",
        "print(m.HasSubstructMatch(Chem.MolFromSmiles('C[C@@H](F)Cl')))\r\n",
        "print(m.HasSubstructMatch(Chem.MolFromSmiles('CC(F)Cl')))\r\n"
      ],
      "execution_count": 4,
      "outputs": [
        {
          "output_type": "stream",
          "text": [
            "True\n",
            "True\n",
            "True\n"
          ],
          "name": "stdout"
        }
      ]
    },
    {
      "cell_type": "code",
      "metadata": {
        "colab": {
          "base_uri": "https://localhost:8080/"
        },
        "id": "BII0CV2ScyJm",
        "outputId": "3119708a-fbeb-4908-eaf2-cd971543eaf0"
      },
      "source": [
        "m.HasSubstructMatch(Chem.MolFromSmiles('CC(F)Cl'))\r\n",
        "m2 = Chem.MolFromSmiles('CCC(F)Cl')\r\n",
        "m2.HasSubstructMatch(Chem.MolFromSmiles('C[C@H](F)Cl'),useChirality=True)"
      ],
      "execution_count": 5,
      "outputs": [
        {
          "output_type": "execute_result",
          "data": {
            "text/plain": [
              "False"
            ]
          },
          "metadata": {
            "tags": []
          },
          "execution_count": 5
        }
      ]
    },
    {
      "cell_type": "code",
      "metadata": {
        "colab": {
          "base_uri": "https://localhost:8080/"
        },
        "id": "4NGvjEbRc4Un",
        "outputId": "a99a8d46-cedc-4a09-cdae-64a5833e4a30"
      },
      "source": [
        "m = Chem.MolFromSmiles('C2NCC2CC1C(CCCC)C(OCCCC)C1c2ccccc2')\r\n",
        "p = Chem.MolFromSmarts('C1CCC1*')\r\n",
        "p.GetAtomWithIdx(4).SetProp(\"queryType\", \"all_carbon\")\r\n",
        "m.GetSubstructMatches(p)"
      ],
      "execution_count": 6,
      "outputs": [
        {
          "output_type": "execute_result",
          "data": {
            "text/plain": [
              "((5, 6, 11, 17, 18), (5, 17, 11, 6, 7), (6, 5, 17, 11, 12), (6, 11, 17, 5, 4))"
            ]
          },
          "metadata": {
            "tags": []
          },
          "execution_count": 6
        }
      ]
    },
    {
      "cell_type": "code",
      "metadata": {
        "colab": {
          "base_uri": "https://localhost:8080/",
          "height": 35
        },
        "id": "NoH0f_3VdhVX",
        "outputId": "f2e95ca2-99a8-4671-ad42-90ef2e9e5665"
      },
      "source": [
        "from rdkit.Chem import rdFMCS\r\n",
        "mol1 = Chem.MolFromSmiles(\"O=C(NCc1cc(OC)c(O)cc1)CCCC/C=C/C(C)C\")\r\n",
        "mol2 = Chem.MolFromSmiles(\"CC(C)CCCCCC(=O)NCC1=CC(=C(C=C1)O)OC\")\r\n",
        "mol3 = Chem.MolFromSmiles(\"c1(C=O)cc(OC)c(O)cc1\")\r\n",
        "mols = [mol1,mol2,mol3]\r\n",
        "res=rdFMCS.FindMCS(mols)\r\n",
        "#res.numAtoms\r\n",
        "#res.numBonds\r\n",
        "res.smartsString"
      ],
      "execution_count": 7,
      "outputs": [
        {
          "output_type": "execute_result",
          "data": {
            "application/vnd.google.colaboratory.intrinsic+json": {
              "type": "string"
            },
            "text/plain": [
              "'[#6]1(-[#6]):[#6]:[#6](-[#8]-[#6]):[#6](:[#6]:[#6]:1)-[#8]'"
            ]
          },
          "metadata": {
            "tags": []
          },
          "execution_count": 7
        }
      ]
    },
    {
      "cell_type": "markdown",
      "metadata": {
        "id": "pRruYzOIeTg8"
      },
      "source": [
        "Fingerprints\r\n"
      ]
    },
    {
      "cell_type": "code",
      "metadata": {
        "colab": {
          "base_uri": "https://localhost:8080/"
        },
        "id": "vrhKwDn5eSmi",
        "outputId": "1af96d83-c839-4e7c-ff38-1123b458fd19"
      },
      "source": [
        "from rdkit import DataStructs\r\n",
        "ms = [Chem.MolFromSmiles('CCOC'), Chem.MolFromSmiles('CCO'),Chem.MolFromSmiles('COC')]\r\n",
        "fps = [Chem.RDKFingerprint(x) for x in ms]\r\n",
        "DataStructs.FingerprintSimilarity(fps[0],fps[1])\r\n",
        "DataStructs.FingerprintSimilarity(fps[0],fps[2])\r\n",
        "DataStructs.FingerprintSimilarity(fps[1],fps[2])"
      ],
      "execution_count": 9,
      "outputs": [
        {
          "output_type": "execute_result",
          "data": {
            "text/plain": [
              "0.25"
            ]
          },
          "metadata": {
            "tags": []
          },
          "execution_count": 9
        }
      ]
    },
    {
      "cell_type": "code",
      "metadata": {
        "colab": {
          "base_uri": "https://localhost:8080/"
        },
        "id": "KmMWZOWRejSy",
        "outputId": "c61cada3-17a7-4ad0-f285-1782cb596ae3"
      },
      "source": [
        "DataStructs.FingerprintSimilarity(fps[0],fps[1], metric=DataStructs.DiceSimilarity)"
      ],
      "execution_count": 12,
      "outputs": [
        {
          "output_type": "execute_result",
          "data": {
            "text/plain": [
              "0.6666666666666666"
            ]
          },
          "metadata": {
            "tags": []
          },
          "execution_count": 12
        }
      ]
    },
    {
      "cell_type": "code",
      "metadata": {
        "colab": {
          "base_uri": "https://localhost:8080/"
        },
        "id": "8uSpohhveybI",
        "outputId": "2c3c96e7-427d-4465-9ac2-45bceb9dbaf9"
      },
      "source": [
        "from rdkit.Chem import MACCSkeys\r\n",
        "fps = [MACCSkeys.GenMACCSKeys(x) for x in ms]\r\n",
        "DataStructs.FingerprintSimilarity(fps[0],fps[1])\r\n",
        "DataStructs.FingerprintSimilarity(fps[0],fps[2])\r\n",
        "DataStructs.FingerprintSimilarity(fps[1],fps[2])\r\n"
      ],
      "execution_count": 13,
      "outputs": [
        {
          "output_type": "execute_result",
          "data": {
            "text/plain": [
              "0.21428571428571427"
            ]
          },
          "metadata": {
            "tags": []
          },
          "execution_count": 13
        }
      ]
    },
    {
      "cell_type": "code",
      "metadata": {
        "id": "rmxrFk_we8uR"
      },
      "source": [
        "from rdkit.Chem.AtomPairs import Pairs\r\n",
        "ms = [Chem.MolFromSmiles('C1CCC1OCC'),Chem.MolFromSmiles('CC(C)OCC'),Chem.MolFromSmiles('CCOCC')]\r\n",
        "pairFps = [Pairs.GetAtomPairFingerprint(x) for x in ms]"
      ],
      "execution_count": 14,
      "outputs": []
    },
    {
      "cell_type": "code",
      "metadata": {
        "colab": {
          "base_uri": "https://localhost:8080/"
        },
        "id": "NyTBxGhhfQN5",
        "outputId": "a0dc6e76-adb4-4f91-fb5d-af799d204e95"
      },
      "source": [
        "from rdkit import DataStructs\r\n",
        "DataStructs.DiceSimilarity(pairFps[0],pairFps[1])\r\n",
        "DataStructs.DiceSimilarity(pairFps[0],pairFps[2])\r\n",
        "DataStructs.DiceSimilarity(pairFps[1],pairFps[2])"
      ],
      "execution_count": 15,
      "outputs": [
        {
          "output_type": "execute_result",
          "data": {
            "text/plain": [
              "0.56"
            ]
          },
          "metadata": {
            "tags": []
          },
          "execution_count": 15
        }
      ]
    },
    {
      "cell_type": "code",
      "metadata": {
        "colab": {
          "base_uri": "https://localhost:8080/"
        },
        "id": "hx0pvaOqfVwc",
        "outputId": "b87431de-ca0b-4abf-d3db-63d7e540b4b9"
      },
      "source": [
        "from rdkit.Chem.AtomPairs import Torsions\r\n",
        "tts = [Torsions.GetTopologicalTorsionFingerprintAsIntVect(x) for x in ms]\r\n",
        "DataStructs.DiceSimilarity(tts[0],tts[1])"
      ],
      "execution_count": 16,
      "outputs": [
        {
          "output_type": "execute_result",
          "data": {
            "text/plain": [
              "0.16666666666666666"
            ]
          },
          "metadata": {
            "tags": []
          },
          "execution_count": 16
        }
      ]
    },
    {
      "cell_type": "code",
      "metadata": {
        "colab": {
          "base_uri": "https://localhost:8080/"
        },
        "id": "H30x7q16fpbx",
        "outputId": "f0ba07a1-4b2f-49bb-c413-4b5aff1193b7"
      },
      "source": [
        "from rdkit.Chem import AllChem\r\n",
        "m1 = Chem.MolFromSmiles('Cc1ccccc1')\r\n",
        "fp1 = AllChem.GetMorganFingerprint(m1,2)\r\n",
        "m2 = Chem.MolFromSmiles('Cc1ncccc1')\r\n",
        "fp2 = AllChem.GetMorganFingerprint(m2,2)\r\n",
        "DataStructs.DiceSimilarity(fp1,fp2)"
      ],
      "execution_count": 18,
      "outputs": [
        {
          "output_type": "execute_result",
          "data": {
            "text/plain": [
              "0.55"
            ]
          },
          "metadata": {
            "tags": []
          },
          "execution_count": 18
        }
      ]
    },
    {
      "cell_type": "code",
      "metadata": {
        "colab": {
          "base_uri": "https://localhost:8080/"
        },
        "id": "-NK5QULXfy3J",
        "outputId": "968f9148-e795-45ef-f9b5-c0dff59fbbbe"
      },
      "source": [
        "fp1 = AllChem.GetMorganFingerprintAsBitVect(m1,2,nBits=1024)\r\n",
        "fp2 = AllChem.GetMorganFingerprintAsBitVect(m2,2,nBits=1024)\r\n",
        "DataStructs.DiceSimilarity(fp1,fp2)"
      ],
      "execution_count": 19,
      "outputs": [
        {
          "output_type": "execute_result",
          "data": {
            "text/plain": [
              "0.5185185185185185"
            ]
          },
          "metadata": {
            "tags": []
          },
          "execution_count": 19
        }
      ]
    },
    {
      "cell_type": "code",
      "metadata": {
        "colab": {
          "base_uri": "https://localhost:8080/"
        },
        "id": "zmFddvbQf8_2",
        "outputId": "c5b30d74-c46d-42fa-d157-a16f0a826f04"
      },
      "source": [
        "m1 = Chem.MolFromSmiles('c1ccccn1')\r\n",
        "m2 = Chem.MolFromSmiles('c1ccco1')\r\n",
        "fp1 = AllChem.GetMorganFingerprint(m1,2)\r\n",
        "fp2 = AllChem.GetMorganFingerprint(m2,2)\r\n",
        "ffp1 = AllChem.GetMorganFingerprint(m1,2,useFeatures=True)\r\n",
        "ffp2 = AllChem.GetMorganFingerprint(m2,2,useFeatures=True)\r\n",
        "DataStructs.DiceSimilarity(fp1,fp2)\r\n",
        "DataStructs.DiceSimilarity(ffp1,ffp2)\r\n"
      ],
      "execution_count": 20,
      "outputs": [
        {
          "output_type": "execute_result",
          "data": {
            "text/plain": [
              "0.9090909090909091"
            ]
          },
          "metadata": {
            "tags": []
          },
          "execution_count": 20
        }
      ]
    },
    {
      "cell_type": "code",
      "metadata": {
        "colab": {
          "base_uri": "https://localhost:8080/",
          "height": 171
        },
        "id": "eFNKINxdgSfC",
        "outputId": "2bf33654-dfba-47b3-e2a1-29a9aae47cb9"
      },
      "source": [
        "from IPython.display import SVG\r\n",
        "from rdkit.Chem import Draw\r\n",
        "mol = Chem.MolFromSmiles('c1ccccc1CC1CC1')\r\n",
        "bi = {}\r\n",
        "fp = AllChem.GetMorganFingerprintAsBitVect(mol, radius=2, bitInfo=bi)\r\n",
        "rdkbi = {}\r\n",
        "rdkfp = Chem.RDKFingerprint(mol, maxPath=5, bitInfo=rdkbi)\r\n",
        "rdk_svg = Draw.DrawRDKitBit(mol, 1553, rdkbi, useSVG=True)\r\n",
        "SVG(rdk_svg)"
      ],
      "execution_count": 21,
      "outputs": [
        {
          "output_type": "execute_result",
          "data": {
            "text/plain": [
              "<IPython.core.display.SVG object>"
            ],
            "image/svg+xml": "<svg baseProfile=\"full\" height=\"150px\" version=\"1.1\" viewBox=\"0 0 150 150\" width=\"150px\" xml:space=\"preserve\" xmlns=\"http://www.w3.org/2000/svg\" xmlns:rdkit=\"http://www.rdkit.org/xml\" xmlns:xlink=\"http://www.w3.org/1999/xlink\">\n<!-- END OF HEADER -->\n<rect height=\"150\" style=\"opacity:1.0;fill:#FFFFFF;stroke:none\" width=\"150\" x=\"0\" y=\"0\"> </rect>\n<ellipse cx=\"96.2046\" cy=\"102.122\" rx=\"9.2943\" ry=\"9.2943\" style=\"fill:#E5E533;fill-rule:evenodd;stroke:#E5E533;stroke-width:2px;stroke-linecap:butt;stroke-linejoin:miter;stroke-opacity:1\"/>\n<ellipse cx=\"53.8482\" cy=\"121.241\" rx=\"9.2943\" ry=\"9.2943\" style=\"fill:#E5E533;fill-rule:evenodd;stroke:#E5E533;stroke-width:2px;stroke-linecap:butt;stroke-linejoin:miter;stroke-opacity:1\"/>\n<ellipse cx=\"16.1125\" cy=\"94.1189\" rx=\"9.2943\" ry=\"9.2943\" style=\"fill:#E5E533;fill-rule:evenodd;stroke:#E5E533;stroke-width:2px;stroke-linecap:butt;stroke-linejoin:miter;stroke-opacity:1\"/>\n<ellipse cx=\"63.0897\" cy=\"28.7588\" rx=\"9.2943\" ry=\"9.2943\" style=\"fill:#E5E533;fill-rule:evenodd;stroke:#E5E533;stroke-width:2px;stroke-linecap:butt;stroke-linejoin:miter;stroke-opacity:1\"/>\n<ellipse cx=\"100.825\" cy=\"55.8811\" rx=\"9.2943\" ry=\"9.2943\" style=\"fill:#E5E533;fill-rule:evenodd;stroke:#E5E533;stroke-width:2px;stroke-linecap:butt;stroke-linejoin:miter;stroke-opacity:1\"/>\n<path class=\"bond-0\" d=\"M 96.2046,102.122 L 53.8482,121.241\" style=\"fill:none;fill-rule:evenodd;stroke:#000000;stroke-width:2.0px;stroke-linecap:butt;stroke-linejoin:miter;stroke-opacity:1\"/>\n<path class=\"bond-0\" d=\"M 86.0274,96.5188 L 56.3779,109.902\" style=\"fill:none;fill-rule:evenodd;stroke:#000000;stroke-width:2.0px;stroke-linecap:butt;stroke-linejoin:miter;stroke-opacity:1;stroke-dasharray:6,6\"/>\n<path class=\"bond-4\" d=\"M 96.2046,102.122 L 100.825,55.8811\" style=\"fill:none;fill-rule:evenodd;stroke:#000000;stroke-width:2.0px;stroke-linecap:butt;stroke-linejoin:miter;stroke-opacity:1\"/>\n<path class=\"bond-4\" d=\"M 87.6495,94.262 L 90.884,61.8931\" style=\"fill:none;fill-rule:evenodd;stroke:#000000;stroke-width:2.0px;stroke-linecap:butt;stroke-linejoin:miter;stroke-opacity:1;stroke-dasharray:6,6\"/>\n<path class=\"bond-1\" d=\"M 56.5604,117.468 L 18.8247,90.3453\" style=\"fill:none;fill-rule:evenodd;stroke:#000000;stroke-width:2.0px;stroke-linecap:butt;stroke-linejoin:miter;stroke-opacity:1\"/>\n<path class=\"bond-1\" d=\"M 51.1359,125.015 L 13.4003,97.8925\" style=\"fill:none;fill-rule:evenodd;stroke:#000000;stroke-width:2.0px;stroke-linecap:butt;stroke-linejoin:miter;stroke-opacity:1;stroke-dasharray:6,6\"/>\n<path class=\"bond-2\" d=\"M 60.3775,32.5324 L 98.1131,59.6547\" style=\"fill:none;fill-rule:evenodd;stroke:#000000;stroke-width:2.0px;stroke-linecap:butt;stroke-linejoin:miter;stroke-opacity:1\"/>\n<path class=\"bond-2\" d=\"M 65.8019,24.9852 L 103.538,52.1075\" style=\"fill:none;fill-rule:evenodd;stroke:#000000;stroke-width:2.0px;stroke-linecap:butt;stroke-linejoin:miter;stroke-opacity:1;stroke-dasharray:6,6\"/>\n<path class=\"bond-3\" d=\"M 100.825,55.8811 L 143.182,36.7622\" style=\"fill:none;fill-rule:evenodd;stroke:#000000;stroke-width:2.0px;stroke-linecap:butt;stroke-linejoin:miter;stroke-opacity:1\"/>\n</svg>"
          },
          "metadata": {
            "tags": []
          },
          "execution_count": 21
        }
      ]
    },
    {
      "cell_type": "code",
      "metadata": {
        "colab": {
          "base_uri": "https://localhost:8080/",
          "height": 167
        },
        "id": "w_kiFtKKg7cI",
        "outputId": "b88caff4-f41c-431f-8073-9bdbaef1506d"
      },
      "source": [
        "from rdkit.Chem import rdMolDescriptors\r\n",
        "from rdkit.Chem.Draw import IPythonConsole\r\n",
        "\r\n",
        "\r\n",
        "epinephrine = Chem.MolFromSmiles('CNC[C@H](O)c1ccc(O)c(O)c1')\r\n",
        "epinephrine"
      ],
      "execution_count": 22,
      "outputs": [
        {
          "output_type": "execute_result",
          "data": {
            "image/png": "[encoded data removed]",
            "text/plain": [
              "<rdkit.Chem.rdchem.Mol at 0x7fbe956764e0>"
            ]
          },
          "metadata": {
            "tags": []
          },
          "execution_count": 22
        }
      ]
    },
    {
      "cell_type": "code",
      "metadata": {
        "colab": {
          "base_uri": "https://localhost:8080/"
        },
        "id": "jKaDqpqmhKln",
        "outputId": "a6ad4c47-a073-4fc8-ae25-7f16f741b150"
      },
      "source": [
        "bi = {}\r\n",
        "fp = rdMolDescriptors.GetMorganFingerprintAsBitVect(epinephrine, radius=2, bitInfo=bi)\r\n",
        "# show 10 of the set bits:\r\n",
        "list(fp.GetOnBits())[:10]"
      ],
      "execution_count": 23,
      "outputs": [
        {
          "output_type": "execute_result",
          "data": {
            "text/plain": [
              "[1, 80, 227, 315, 589, 606, 632, 807, 875, 1057]"
            ]
          },
          "metadata": {
            "tags": []
          },
          "execution_count": 23
        }
      ]
    },
    {
      "cell_type": "code",
      "metadata": {
        "colab": {
          "base_uri": "https://localhost:8080/",
          "height": 467
        },
        "id": "XAMCh2cxhTkL",
        "outputId": "2969e643-2642-40a8-85f2-b5ebc6bfb2ed"
      },
      "source": [
        "tpls = [(epinephrine,x,bi) for x in fp.GetOnBits()]\r\n",
        "Draw.DrawMorganBits(tpls[:12],molsPerRow=4,legends=[str(x) for x in fp.GetOnBits()][:12])"
      ],
      "execution_count": 24,
      "outputs": [
        {
          "output_type": "execute_result",
          "data": {
            "image/png": "[encoded data removed]",
            "text/plain": [
              "<PIL.PngImagePlugin.PngImageFile image mode=RGB size=600x450 at 0x7FBE9563F7B8>"
            ]
          },
          "metadata": {
            "tags": []
          },
          "execution_count": 24
        }
      ]
    },
    {
      "cell_type": "code",
      "metadata": {
        "id": "ShVbRLR0hdpX"
      },
      "source": [
        "\r\n",
        "from ipywidgets import interact,fixed,IntSlider\r\n",
        "def renderFpBit(mol,bitIdx,bitInfo,fn):\r\n",
        "    bid = bitIdx\r\n",
        "    return(display(fn(mol,bid,bitInfo)))"
      ],
      "execution_count": 25,
      "outputs": []
    },
    {
      "cell_type": "code",
      "metadata": {
        "colab": {
          "base_uri": "https://localhost:8080/",
          "height": 199,
          "referenced_widgets": [
            "91070d799a3043dd8f61c3ee97358b78",
            "1494fe92312145c7a539d985fd1ad21e",
            "2cde6a8db64a4608a5f3c1c5bcbe839b",
            "8a363c512c77407e9fabc25d84b056e0",
            "cb628c45068441ca88461140a8167467",
            "e9ee442c936647bd9d578a6f830d0883",
            "4511eac872d241fcb9f3e9c8690a4416"
          ]
        },
        "id": "OoKFjJ4BhgVY",
        "outputId": "35520d79-7f7f-4f39-b2fd-7d27711854d7"
      },
      "source": [
        "\r\n",
        "interact(renderFpBit, bitIdx=list(bi.keys()),mol=fixed(epinephrine),\r\n",
        "         bitInfo=fixed(bi),fn=fixed(Draw.DrawMorganBit));"
      ],
      "execution_count": 26,
      "outputs": [
        {
          "output_type": "display_data",
          "data": {
            "application/vnd.jupyter.widget-view+json": {
              "model_id": "91070d799a3043dd8f61c3ee97358b78",
              "version_minor": 0,
              "version_major": 2
            },
            "text/plain": [
              "interactive(children=(Dropdown(description='bitIdx', options=(1, 80, 227, 315, 589, 606, 632, 807, 875, 1057, …"
            ]
          },
          "metadata": {
            "tags": []
          }
        }
      ]
    },
    {
      "cell_type": "code",
      "metadata": {
        "colab": {
          "base_uri": "https://localhost:8080/"
        },
        "id": "hIPUuinDhzCW",
        "outputId": "2860381a-8143-44e2-d444-cd315989589c"
      },
      "source": [
        "\r\n",
        "rdkbi = {}\r\n",
        "rdkfp = Chem.RDKFingerprint(epinephrine, maxPath=5, bitInfo=rdkbi)\r\n",
        "# show 10 of the set bits:\r\n",
        "list(rdkfp.GetOnBits())[:10]"
      ],
      "execution_count": 27,
      "outputs": [
        {
          "output_type": "execute_result",
          "data": {
            "text/plain": [
              "[93, 103, 112, 122, 148, 149, 161, 166, 194, 208]"
            ]
          },
          "metadata": {
            "tags": []
          },
          "execution_count": 27
        }
      ]
    },
    {
      "cell_type": "code",
      "metadata": {
        "colab": {
          "base_uri": "https://localhost:8080/",
          "height": 467
        },
        "id": "knSRCC0Yh0FJ",
        "outputId": "7825a0fa-1905-4dbd-8851-978172683ca9"
      },
      "source": [
        "tpls = [(epinephrine,x,rdkbi) for x in rdkbi]\r\n",
        "Draw.DrawRDKitBits(tpls[:12],molsPerRow=4,legends=[str(x) for x in rdkbi][:12])"
      ],
      "execution_count": 28,
      "outputs": [
        {
          "output_type": "execute_result",
          "data": {
            "image/png": "[encoded data removed]",
            "text/plain": [
              "<PIL.PngImagePlugin.PngImageFile image mode=RGB size=600x450 at 0x7FBE95609E10>"
            ]
          },
          "metadata": {
            "tags": []
          },
          "execution_count": 28
        }
      ]
    },
    {
      "cell_type": "code",
      "metadata": {
        "colab": {
          "base_uri": "https://localhost:8080/",
          "height": 199,
          "referenced_widgets": [
            "0ccfd14d4fa1421389dd84cc57f89a13",
            "ec84e07288e546939c1a2caa04d16409",
            "1609bbdcb1e94a6e8db9c7846b9fe184",
            "694c9fc2ce6c46b89065b24bae577416",
            "e2228472a9374706b509ffae7b9a27b4",
            "23db40a1cf894dd481ab1b4d931b5297",
            "09a40d1bbbee4756a90e3873e75e64b8"
          ]
        },
        "id": "hSQSHYPah0Kq",
        "outputId": "699e360f-f2bb-4e15-b362-19a064444745"
      },
      "source": [
        "interact(renderFpBit, bitIdx=list(rdkbi.keys()),mol=fixed(epinephrine),\r\n",
        "         bitInfo=fixed(rdkbi),fn=fixed(Draw.DrawRDKitBit));"
      ],
      "execution_count": 29,
      "outputs": [
        {
          "output_type": "display_data",
          "data": {
            "application/vnd.jupyter.widget-view+json": {
              "model_id": "0ccfd14d4fa1421389dd84cc57f89a13",
              "version_minor": 0,
              "version_major": 2
            },
            "text/plain": [
              "interactive(children=(Dropdown(description='bitIdx', options=(93, 103, 112, 122, 148, 149, 161, 166, 194, 208,…"
            ]
          },
          "metadata": {
            "tags": []
          }
        }
      ]
    },
    {
      "cell_type": "code",
      "metadata": {
        "colab": {
          "base_uri": "https://localhost:8080/",
          "height": 481
        },
        "id": "jzerkDFhiyL_",
        "outputId": "fd942edb-6f79-4ffb-ddfb-b7cc43193cf6"
      },
      "source": [
        "from rdkit.Chem.Draw import SimilarityMaps\r\n",
        "mol = Chem.MolFromSmiles('COc1cccc2cc(C(=O)NCCCCN3CCN(c4cccc5nccnc54)CC3)oc21')\r\n",
        "refmol = Chem.MolFromSmiles('CCCN(CCCCN1CCN(c2ccccc2OC)CC1)Cc1ccc2ccccc2c1')\r\n",
        "fig, maxweight = SimilarityMaps.GetSimilarityMapForFingerprint(refmol, mol, SimilarityMaps.GetMorganFingerprint)"
      ],
      "execution_count": 30,
      "outputs": [
        {
          "output_type": "display_data",
          "data": {
            "image/png": "[encoded data removed]",
            "text/plain": [
              "<Figure size 180x180 with 1 Axes>"
            ]
          },
          "metadata": {
            "tags": [],
            "needs_background": "light"
          }
        }
      ]
    },
    {
      "cell_type": "code",
      "metadata": {
        "colab": {
          "base_uri": "https://localhost:8080/"
        },
        "id": "iN1AdS-DjXTt",
        "outputId": "fd7e4814-75ed-4143-9744-71e4bb447b4c"
      },
      "source": [
        "from rdkit.Chem import Descriptors\r\n",
        "m = Chem.MolFromSmiles('c1ccccc1C(=O)O')\r\n",
        "Descriptors.TPSA(m)\r\n",
        "Descriptors.MolLogP(m)"
      ],
      "execution_count": null,
      "outputs": [
        {
          "output_type": "execute_result",
          "data": {
            "text/plain": [
              "1.3848"
            ]
          },
          "metadata": {
            "tags": []
          },
          "execution_count": 63
        }
      ]
    },
    {
      "cell_type": "code",
      "metadata": {
        "colab": {
          "base_uri": "https://localhost:8080/",
          "height": 481
        },
        "id": "vihdwCyijbph",
        "outputId": "b17c0285-a58c-4012-a6b4-f686edb7f3f5"
      },
      "source": [
        "from rdkit.Chem.Draw import SimilarityMaps\r\n",
        "mol = Chem.MolFromSmiles('COc1cccc2cc(C(=O)NCCCCN3CCN(c4cccc5nccnc54)CC3)oc21')\r\n",
        "AllChem.ComputeGasteigerCharges(mol)\r\n",
        "contribs = [mol.GetAtomWithIdx(i).GetDoubleProp('_GasteigerCharge') for i in range(mol.GetNumAtoms())]\r\n",
        "fig = SimilarityMaps.GetSimilarityMapFromWeights(mol, contribs, colorMap='jet', contourLines=10)"
      ],
      "execution_count": null,
      "outputs": [
        {
          "output_type": "display_data",
          "data": {
            "image/png": "[encoded data removed]",
            "text/plain": [
              "<Figure size 180x180 with 1 Axes>"
            ]
          },
          "metadata": {
            "tags": [],
            "needs_background": "light"
          }
        }
      ]
    },
    {
      "cell_type": "code",
      "metadata": {
        "colab": {
          "base_uri": "https://localhost:8080/",
          "height": 35
        },
        "id": "4eTi_x84jw9R",
        "outputId": "95fd7d52-4bc8-4ba5-adb9-30c53b54d55b"
      },
      "source": [
        "rxn = AllChem.ReactionFromSmarts('[C:1](=[O:2])-[OD1].[N!H0:3]>>[C:1](=[O:2])[N:3]')\r\n",
        "ps = rxn.RunReactants((Chem.MolFromSmiles('CC(=O)O'),Chem.MolFromSmiles('NC')))\r\n",
        "len(ps)\r\n",
        "Chem.MolToSmiles(ps[0][0])\r\n",
        "ps = rxn.RunReactants((Chem.MolFromSmiles('C(COC(=O)O)C(=O)O'),Chem.MolFromSmiles('NC')))\r\n",
        "len(ps)\r\n",
        "Chem.MolToSmiles(ps[0][0])\r\n",
        "Chem.MolToSmiles(ps[1][0])\r\n"
      ],
      "execution_count": null,
      "outputs": [
        {
          "output_type": "execute_result",
          "data": {
            "application/vnd.google.colaboratory.intrinsic+json": {
              "type": "string"
            },
            "text/plain": [
              "'CNC(=O)CCOC(=O)O'"
            ]
          },
          "metadata": {
            "tags": []
          },
          "execution_count": 65
        }
      ]
    },
    {
      "cell_type": "code",
      "metadata": {
        "id": "ntDd4jb8koy-"
      },
      "source": [
        "from rdkit import Chem\r\n",
        "from rdkit.Chem import ChemicalFeatures\r\n",
        "from rdkit import RDConfig\r\n",
        "import os\r\n",
        "fdefName = os.path.join(RDConfig.RDDataDir,'BaseFeatures.fdef')\r\n",
        "factory = ChemicalFeatures.BuildFeatureFactory(fdefName)"
      ],
      "execution_count": null,
      "outputs": []
    },
    {
      "cell_type": "code",
      "metadata": {
        "colab": {
          "base_uri": "https://localhost:8080/"
        },
        "id": "Erm90R2BkxJ5",
        "outputId": "482afdf8-67b3-4ee1-cc31-a88fdbde3524"
      },
      "source": [
        "m = Chem.MolFromSmiles('OCc1ccccc1CN')\r\n",
        "feats = factory.GetFeaturesForMol(m)\r\n",
        "len(feats)"
      ],
      "execution_count": null,
      "outputs": [
        {
          "output_type": "execute_result",
          "data": {
            "text/plain": [
              "8"
            ]
          },
          "metadata": {
            "tags": []
          },
          "execution_count": 67
        }
      ]
    },
    {
      "cell_type": "code",
      "metadata": {
        "colab": {
          "base_uri": "https://localhost:8080/"
        },
        "id": "UMnh3Kwsk7H0",
        "outputId": "bcc5f363-fe82-4f60-e3c8-6ff72f88421a"
      },
      "source": [
        "feats[0].GetFamily()\r\n",
        "feats[0].GetType()\r\n",
        "feats[0].GetAtomIds()\r\n",
        "feats[4].GetFamily()\r\n",
        "feats[4].GetAtomIds()"
      ],
      "execution_count": null,
      "outputs": [
        {
          "output_type": "execute_result",
          "data": {
            "text/plain": [
              "(2, 3, 4, 5, 6, 7)"
            ]
          },
          "metadata": {
            "tags": []
          },
          "execution_count": 68
        }
      ]
    }
  ]
}