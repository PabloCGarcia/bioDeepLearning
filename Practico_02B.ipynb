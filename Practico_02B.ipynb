{
  "nbformat": 4,
  "nbformat_minor": 0,
  "metadata": {
    "colab": {
      "name": "Practico-02B.ipynb",
      "provenance": [],
      "collapsed_sections": [],
      "authorship_tag": "ABX9TyOaJYLyNHxR2j5WoVab6JxL",
      "include_colab_link": true
    },
    "kernelspec": {
      "name": "python3",
      "display_name": "Python 3"
    }
  },
  "cells": [
    {
      "cell_type": "markdown",
      "metadata": {
        "id": "view-in-github",
        "colab_type": "text"
      },
      "source": [
        "<a href=\"https://colab.research.google.com/github/PabloCGarcia/bioDeepLearning/blob/main/Practico_02B.ipynb\" target=\"_parent\"><img src=\"https://colab.research.google.com/assets/colab-badge.svg\" alt=\"Open In Colab\"/></a>"
      ]
    },
    {
      "cell_type": "code",
      "metadata": {
        "id": "15VNoS0m8vS8",
        "colab": {
          "base_uri": "https://localhost:8080/"
        },
        "outputId": "b6134b11-2a6e-4dac-e4ec-ecd8412c14a1"
      },
      "source": [
        "from google.colab import drive\r\n",
        "drive.mount('/content/drive')"
      ],
      "execution_count": null,
      "outputs": [
        {
          "output_type": "stream",
          "text": [
            "Drive already mounted at /content/drive; to attempt to forcibly remount, call drive.mount(\"/content/drive\", force_remount=True).\n"
          ],
          "name": "stdout"
        }
      ]
    },
    {
      "cell_type": "code",
      "metadata": {
        "colab": {
          "base_uri": "https://localhost:8080/",
          "height": 204
        },
        "id": "XcsFCVyTD5hQ",
        "outputId": "7c938bfd-646e-4bd1-cb64-4687000fe7a6"
      },
      "source": [
        "import pandas as pd\r\n",
        "\r\n",
        "red_wine = pd.read_csv('/content/drive/MyDrive/winequality-red.csv')\r\n",
        "red_wine.head()"
      ],
      "execution_count": null,
      "outputs": [
        {
          "output_type": "execute_result",
          "data": {
            "text/html": [
              "<div>\n",
              "<style scoped>\n",
              "    .dataframe tbody tr th:only-of-type {\n",
              "        vertical-align: middle;\n",
              "    }\n",
              "\n",
              "    .dataframe tbody tr th {\n",
              "        vertical-align: top;\n",
              "    }\n",
              "\n",
              "    .dataframe thead th {\n",
              "        text-align: right;\n",
              "    }\n",
              "</style>\n",
              "<table border=\"1\" class=\"dataframe\">\n",
              "  <thead>\n",
              "    <tr style=\"text-align: right;\">\n",
              "      <th></th>\n",
              "      <th>fixed acidity</th>\n",
              "      <th>volatile acidity</th>\n",
              "      <th>citric acid</th>\n",
              "      <th>residual sugar</th>\n",
              "      <th>chlorides</th>\n",
              "      <th>free sulfur dioxide</th>\n",
              "      <th>total sulfur dioxide</th>\n",
              "      <th>density</th>\n",
              "      <th>pH</th>\n",
              "      <th>sulphates</th>\n",
              "      <th>alcohol</th>\n",
              "      <th>quality</th>\n",
              "    </tr>\n",
              "  </thead>\n",
              "  <tbody>\n",
              "    <tr>\n",
              "      <th>0</th>\n",
              "      <td>7.4</td>\n",
              "      <td>0.70</td>\n",
              "      <td>0.00</td>\n",
              "      <td>1.9</td>\n",
              "      <td>0.076</td>\n",
              "      <td>11.0</td>\n",
              "      <td>34.0</td>\n",
              "      <td>0.9978</td>\n",
              "      <td>3.51</td>\n",
              "      <td>0.56</td>\n",
              "      <td>9.4</td>\n",
              "      <td>5</td>\n",
              "    </tr>\n",
              "    <tr>\n",
              "      <th>1</th>\n",
              "      <td>7.8</td>\n",
              "      <td>0.88</td>\n",
              "      <td>0.00</td>\n",
              "      <td>2.6</td>\n",
              "      <td>0.098</td>\n",
              "      <td>25.0</td>\n",
              "      <td>67.0</td>\n",
              "      <td>0.9968</td>\n",
              "      <td>3.20</td>\n",
              "      <td>0.68</td>\n",
              "      <td>9.8</td>\n",
              "      <td>5</td>\n",
              "    </tr>\n",
              "    <tr>\n",
              "      <th>2</th>\n",
              "      <td>7.8</td>\n",
              "      <td>0.76</td>\n",
              "      <td>0.04</td>\n",
              "      <td>2.3</td>\n",
              "      <td>0.092</td>\n",
              "      <td>15.0</td>\n",
              "      <td>54.0</td>\n",
              "      <td>0.9970</td>\n",
              "      <td>3.26</td>\n",
              "      <td>0.65</td>\n",
              "      <td>9.8</td>\n",
              "      <td>5</td>\n",
              "    </tr>\n",
              "    <tr>\n",
              "      <th>3</th>\n",
              "      <td>11.2</td>\n",
              "      <td>0.28</td>\n",
              "      <td>0.56</td>\n",
              "      <td>1.9</td>\n",
              "      <td>0.075</td>\n",
              "      <td>17.0</td>\n",
              "      <td>60.0</td>\n",
              "      <td>0.9980</td>\n",
              "      <td>3.16</td>\n",
              "      <td>0.58</td>\n",
              "      <td>9.8</td>\n",
              "      <td>6</td>\n",
              "    </tr>\n",
              "    <tr>\n",
              "      <th>4</th>\n",
              "      <td>7.4</td>\n",
              "      <td>0.70</td>\n",
              "      <td>0.00</td>\n",
              "      <td>1.9</td>\n",
              "      <td>0.076</td>\n",
              "      <td>11.0</td>\n",
              "      <td>34.0</td>\n",
              "      <td>0.9978</td>\n",
              "      <td>3.51</td>\n",
              "      <td>0.56</td>\n",
              "      <td>9.4</td>\n",
              "      <td>5</td>\n",
              "    </tr>\n",
              "  </tbody>\n",
              "</table>\n",
              "</div>"
            ],
            "text/plain": [
              "   fixed acidity  volatile acidity  citric acid  ...  sulphates  alcohol  quality\n",
              "0            7.4              0.70         0.00  ...       0.56      9.4        5\n",
              "1            7.8              0.88         0.00  ...       0.68      9.8        5\n",
              "2            7.8              0.76         0.04  ...       0.65      9.8        5\n",
              "3           11.2              0.28         0.56  ...       0.58      9.8        6\n",
              "4            7.4              0.70         0.00  ...       0.56      9.4        5\n",
              "\n",
              "[5 rows x 12 columns]"
            ]
          },
          "metadata": {
            "tags": []
          },
          "execution_count": 30
        }
      ]
    },
    {
      "cell_type": "code",
      "metadata": {
        "id": "bUX_agB6Et4l",
        "colab": {
          "base_uri": "https://localhost:8080/"
        },
        "outputId": "e9642520-864d-4a83-aa88-881dbfaf81b8"
      },
      "source": [
        "from sklearn.model_selection import train_test_split\r\n",
        "from sklearn.preprocessing import StandardScaler\r\n",
        "from sklearn.preprocessing import OneHotEncoder\r\n",
        "\r\n",
        "X = red_wine.copy()\r\n",
        "Y = X.pop('quality')\r\n",
        "\r\n",
        "Y.head()"
      ],
      "execution_count": null,
      "outputs": [
        {
          "output_type": "execute_result",
          "data": {
            "text/plain": [
              "0    5\n",
              "1    5\n",
              "2    5\n",
              "3    6\n",
              "4    5\n",
              "Name: quality, dtype: int64"
            ]
          },
          "metadata": {
            "tags": []
          },
          "execution_count": 38
        }
      ]
    },
    {
      "cell_type": "code",
      "metadata": {
        "id": "Zkg1DfS3_K7I"
      },
      "source": [
        "scaler = StandardScaler()\r\n",
        "scaler.fit(X)\r\n",
        "X = scaler.transform(X)\r\n",
        "\r\n",
        "enc = OneHotEncoder(handle_unknown='ignore')\r\n",
        "Y = Y.to_numpy().reshape(-1, 1)\r\n",
        "enc.fit(Y)\r\n",
        "Y = enc.transform(Y)\r\n",
        "Y = Y.toarray().astype('float32')\r\n",
        "\r\n",
        "X_train, X_valid, Y_train, Y_valid = train_test_split(X, Y, test_size=0.2)"
      ],
      "execution_count": null,
      "outputs": []
    },
    {
      "cell_type": "code",
      "metadata": {
        "colab": {
          "base_uri": "https://localhost:8080/"
        },
        "id": "J3ln5W9a06f3",
        "outputId": "24916620-4f4b-4b16-acc8-0ff19a254478"
      },
      "source": [
        "Y.shape"
      ],
      "execution_count": null,
      "outputs": [
        {
          "output_type": "execute_result",
          "data": {
            "text/plain": [
              "(1599, 6)"
            ]
          },
          "metadata": {
            "tags": []
          },
          "execution_count": 33
        }
      ]
    },
    {
      "cell_type": "code",
      "metadata": {
        "colab": {
          "base_uri": "https://localhost:8080/"
        },
        "id": "5tZSmQE-A5Sy",
        "outputId": "835a0594-5bd9-49a7-9e11-5762c34d581e"
      },
      "source": [
        "Y[:5]"
      ],
      "execution_count": null,
      "outputs": [
        {
          "output_type": "execute_result",
          "data": {
            "text/plain": [
              "array([[0., 0., 1., 0., 0., 0.],\n",
              "       [0., 0., 1., 0., 0., 0.],\n",
              "       [0., 0., 1., 0., 0., 0.],\n",
              "       [0., 0., 0., 1., 0., 0.],\n",
              "       [0., 0., 1., 0., 0., 0.]])"
            ]
          },
          "metadata": {
            "tags": []
          },
          "execution_count": 24
        }
      ]
    },
    {
      "cell_type": "code",
      "metadata": {
        "id": "TVXzmBqBD_Wl"
      },
      "source": [
        "from tensorflow import keras\r\n",
        "from tensorflow.keras import layers\r\n",
        "\r\n",
        "model = keras.Sequential([\r\n",
        "    layers.Dense(units=512, activation='relu', input_shape=[11]),\r\n",
        "    layers.Dense(units=512, activation='relu'),\r\n",
        "    layers.Dense(units=512, activation='relu'),\r\n",
        "    layers.Dense(units=6, activation=\"softmax\"),\r\n",
        "])\r\n"
      ],
      "execution_count": null,
      "outputs": []
    },
    {
      "cell_type": "code",
      "metadata": {
        "id": "ziQTAmkuEQDw"
      },
      "source": [
        "model.compile(\r\n",
        "    optimizer='adam',\r\n",
        "    loss='categorical_crossentropy',\r\n",
        "    metrics=[\"categorical_accuracy\"]\r\n",
        ")"
      ],
      "execution_count": null,
      "outputs": []
    },
    {
      "cell_type": "code",
      "metadata": {
        "id": "NzZikYuWEuE3",
        "colab": {
          "base_uri": "https://localhost:8080/"
        },
        "outputId": "1c670f0a-9504-44bc-a400-6e9b9037216e"
      },
      "source": [
        "history = model.fit(\r\n",
        "    X_train, Y_train,\r\n",
        "    validation_data=(X_valid, Y_valid),\r\n",
        "    batch_size=100,\r\n",
        "    epochs=100,\r\n",
        ")"
      ],
      "execution_count": null,
      "outputs": [
        {
          "output_type": "stream",
          "text": [
            "Epoch 1/100\n",
            "13/13 [==============================] - 1s 31ms/step - loss: 1.4262 - categorical_accuracy: 0.4461 - val_loss: 1.0796 - val_categorical_accuracy: 0.5500\n",
            "Epoch 2/100\n",
            "13/13 [==============================] - 0s 15ms/step - loss: 1.0301 - categorical_accuracy: 0.5596 - val_loss: 0.9575 - val_categorical_accuracy: 0.5813\n",
            "Epoch 3/100\n",
            "13/13 [==============================] - 0s 14ms/step - loss: 0.9712 - categorical_accuracy: 0.6073 - val_loss: 0.9022 - val_categorical_accuracy: 0.6344\n",
            "Epoch 4/100\n",
            "13/13 [==============================] - 0s 15ms/step - loss: 0.9177 - categorical_accuracy: 0.6068 - val_loss: 0.9252 - val_categorical_accuracy: 0.6438\n",
            "Epoch 5/100\n",
            "13/13 [==============================] - 0s 14ms/step - loss: 0.8731 - categorical_accuracy: 0.6332 - val_loss: 0.8863 - val_categorical_accuracy: 0.6406\n",
            "Epoch 6/100\n",
            "13/13 [==============================] - 0s 14ms/step - loss: 0.8517 - categorical_accuracy: 0.6470 - val_loss: 0.9040 - val_categorical_accuracy: 0.6344\n",
            "Epoch 7/100\n",
            "13/13 [==============================] - 0s 14ms/step - loss: 0.8518 - categorical_accuracy: 0.6416 - val_loss: 0.8717 - val_categorical_accuracy: 0.6281\n",
            "Epoch 8/100\n",
            "13/13 [==============================] - 0s 15ms/step - loss: 0.8281 - categorical_accuracy: 0.6425 - val_loss: 0.8903 - val_categorical_accuracy: 0.6438\n",
            "Epoch 9/100\n",
            "13/13 [==============================] - 0s 15ms/step - loss: 0.7621 - categorical_accuracy: 0.6802 - val_loss: 0.9214 - val_categorical_accuracy: 0.6031\n",
            "Epoch 10/100\n",
            "13/13 [==============================] - 0s 15ms/step - loss: 0.7651 - categorical_accuracy: 0.6853 - val_loss: 0.8895 - val_categorical_accuracy: 0.6500\n",
            "Epoch 11/100\n",
            "13/13 [==============================] - 0s 15ms/step - loss: 0.7118 - categorical_accuracy: 0.6958 - val_loss: 0.8984 - val_categorical_accuracy: 0.6406\n",
            "Epoch 12/100\n",
            "13/13 [==============================] - 0s 15ms/step - loss: 0.6985 - categorical_accuracy: 0.6966 - val_loss: 0.9100 - val_categorical_accuracy: 0.6469\n",
            "Epoch 13/100\n",
            "13/13 [==============================] - 0s 15ms/step - loss: 0.6698 - categorical_accuracy: 0.7219 - val_loss: 0.9365 - val_categorical_accuracy: 0.6469\n",
            "Epoch 14/100\n",
            "13/13 [==============================] - 0s 14ms/step - loss: 0.6332 - categorical_accuracy: 0.7384 - val_loss: 0.9180 - val_categorical_accuracy: 0.6594\n",
            "Epoch 15/100\n",
            "13/13 [==============================] - 0s 15ms/step - loss: 0.5820 - categorical_accuracy: 0.7809 - val_loss: 0.9274 - val_categorical_accuracy: 0.6438\n",
            "Epoch 16/100\n",
            "13/13 [==============================] - 0s 14ms/step - loss: 0.5987 - categorical_accuracy: 0.7689 - val_loss: 0.9830 - val_categorical_accuracy: 0.6469\n",
            "Epoch 17/100\n",
            "13/13 [==============================] - 0s 15ms/step - loss: 0.5559 - categorical_accuracy: 0.7703 - val_loss: 0.9522 - val_categorical_accuracy: 0.6406\n",
            "Epoch 18/100\n",
            "13/13 [==============================] - 0s 14ms/step - loss: 0.5349 - categorical_accuracy: 0.7929 - val_loss: 0.9520 - val_categorical_accuracy: 0.6844\n",
            "Epoch 19/100\n",
            "13/13 [==============================] - 0s 14ms/step - loss: 0.5057 - categorical_accuracy: 0.7972 - val_loss: 0.9924 - val_categorical_accuracy: 0.6344\n",
            "Epoch 20/100\n",
            "13/13 [==============================] - 0s 15ms/step - loss: 0.4720 - categorical_accuracy: 0.8325 - val_loss: 1.0563 - val_categorical_accuracy: 0.6438\n",
            "Epoch 21/100\n",
            "13/13 [==============================] - 0s 14ms/step - loss: 0.4808 - categorical_accuracy: 0.8054 - val_loss: 1.0237 - val_categorical_accuracy: 0.6625\n",
            "Epoch 22/100\n",
            "13/13 [==============================] - 0s 15ms/step - loss: 0.4234 - categorical_accuracy: 0.8428 - val_loss: 1.0443 - val_categorical_accuracy: 0.6500\n",
            "Epoch 23/100\n",
            "13/13 [==============================] - 0s 14ms/step - loss: 0.3852 - categorical_accuracy: 0.8623 - val_loss: 1.0928 - val_categorical_accuracy: 0.6500\n",
            "Epoch 24/100\n",
            "13/13 [==============================] - 0s 14ms/step - loss: 0.3984 - categorical_accuracy: 0.8666 - val_loss: 1.0597 - val_categorical_accuracy: 0.6531\n",
            "Epoch 25/100\n",
            "13/13 [==============================] - 0s 16ms/step - loss: 0.3579 - categorical_accuracy: 0.8597 - val_loss: 1.1149 - val_categorical_accuracy: 0.6562\n",
            "Epoch 26/100\n",
            "13/13 [==============================] - 0s 15ms/step - loss: 0.3188 - categorical_accuracy: 0.8854 - val_loss: 1.1535 - val_categorical_accuracy: 0.6781\n",
            "Epoch 27/100\n",
            "13/13 [==============================] - 0s 15ms/step - loss: 0.3122 - categorical_accuracy: 0.8918 - val_loss: 1.1990 - val_categorical_accuracy: 0.6719\n",
            "Epoch 28/100\n",
            "13/13 [==============================] - 0s 14ms/step - loss: 0.2844 - categorical_accuracy: 0.8958 - val_loss: 1.1755 - val_categorical_accuracy: 0.6844\n",
            "Epoch 29/100\n",
            "13/13 [==============================] - 0s 15ms/step - loss: 0.2729 - categorical_accuracy: 0.9050 - val_loss: 1.2559 - val_categorical_accuracy: 0.6594\n",
            "Epoch 30/100\n",
            "13/13 [==============================] - 0s 14ms/step - loss: 0.2539 - categorical_accuracy: 0.9172 - val_loss: 1.2300 - val_categorical_accuracy: 0.6594\n",
            "Epoch 31/100\n",
            "13/13 [==============================] - 0s 14ms/step - loss: 0.2685 - categorical_accuracy: 0.9017 - val_loss: 1.2511 - val_categorical_accuracy: 0.6844\n",
            "Epoch 32/100\n",
            "13/13 [==============================] - 0s 14ms/step - loss: 0.2272 - categorical_accuracy: 0.9322 - val_loss: 1.3111 - val_categorical_accuracy: 0.6687\n",
            "Epoch 33/100\n",
            "13/13 [==============================] - 0s 15ms/step - loss: 0.1912 - categorical_accuracy: 0.9438 - val_loss: 1.3183 - val_categorical_accuracy: 0.6781\n",
            "Epoch 34/100\n",
            "13/13 [==============================] - 0s 15ms/step - loss: 0.1715 - categorical_accuracy: 0.9500 - val_loss: 1.3491 - val_categorical_accuracy: 0.6875\n",
            "Epoch 35/100\n",
            "13/13 [==============================] - 0s 15ms/step - loss: 0.1632 - categorical_accuracy: 0.9494 - val_loss: 1.3935 - val_categorical_accuracy: 0.6812\n",
            "Epoch 36/100\n",
            "13/13 [==============================] - 0s 14ms/step - loss: 0.1671 - categorical_accuracy: 0.9455 - val_loss: 1.4936 - val_categorical_accuracy: 0.6406\n",
            "Epoch 37/100\n",
            "13/13 [==============================] - 0s 24ms/step - loss: 0.1692 - categorical_accuracy: 0.9535 - val_loss: 1.4477 - val_categorical_accuracy: 0.6625\n",
            "Epoch 38/100\n",
            "13/13 [==============================] - 0s 14ms/step - loss: 0.1364 - categorical_accuracy: 0.9634 - val_loss: 1.5081 - val_categorical_accuracy: 0.6719\n",
            "Epoch 39/100\n",
            "13/13 [==============================] - 0s 14ms/step - loss: 0.1358 - categorical_accuracy: 0.9607 - val_loss: 1.6079 - val_categorical_accuracy: 0.6812\n",
            "Epoch 40/100\n",
            "13/13 [==============================] - 0s 14ms/step - loss: 0.1654 - categorical_accuracy: 0.9489 - val_loss: 1.6297 - val_categorical_accuracy: 0.6219\n",
            "Epoch 41/100\n",
            "13/13 [==============================] - 0s 14ms/step - loss: 0.1344 - categorical_accuracy: 0.9575 - val_loss: 1.5876 - val_categorical_accuracy: 0.6781\n",
            "Epoch 42/100\n",
            "13/13 [==============================] - 0s 15ms/step - loss: 0.1155 - categorical_accuracy: 0.9652 - val_loss: 1.5570 - val_categorical_accuracy: 0.6812\n",
            "Epoch 43/100\n",
            "13/13 [==============================] - 0s 14ms/step - loss: 0.1005 - categorical_accuracy: 0.9749 - val_loss: 1.5753 - val_categorical_accuracy: 0.6938\n",
            "Epoch 44/100\n",
            "13/13 [==============================] - 0s 14ms/step - loss: 0.0943 - categorical_accuracy: 0.9807 - val_loss: 1.5835 - val_categorical_accuracy: 0.6906\n",
            "Epoch 45/100\n",
            "13/13 [==============================] - 0s 14ms/step - loss: 0.0934 - categorical_accuracy: 0.9829 - val_loss: 1.5772 - val_categorical_accuracy: 0.7000\n",
            "Epoch 46/100\n",
            "13/13 [==============================] - 0s 14ms/step - loss: 0.0812 - categorical_accuracy: 0.9789 - val_loss: 1.7044 - val_categorical_accuracy: 0.6656\n",
            "Epoch 47/100\n",
            "13/13 [==============================] - 0s 14ms/step - loss: 0.0738 - categorical_accuracy: 0.9876 - val_loss: 1.7027 - val_categorical_accuracy: 0.6750\n",
            "Epoch 48/100\n",
            "13/13 [==============================] - 0s 14ms/step - loss: 0.0846 - categorical_accuracy: 0.9769 - val_loss: 1.6690 - val_categorical_accuracy: 0.6938\n",
            "Epoch 49/100\n",
            "13/13 [==============================] - 0s 15ms/step - loss: 0.0577 - categorical_accuracy: 0.9852 - val_loss: 1.7699 - val_categorical_accuracy: 0.6969\n",
            "Epoch 50/100\n",
            "13/13 [==============================] - 0s 14ms/step - loss: 0.0660 - categorical_accuracy: 0.9825 - val_loss: 1.7937 - val_categorical_accuracy: 0.6781\n",
            "Epoch 51/100\n",
            "13/13 [==============================] - 0s 15ms/step - loss: 0.0598 - categorical_accuracy: 0.9860 - val_loss: 1.7799 - val_categorical_accuracy: 0.6781\n",
            "Epoch 52/100\n",
            "13/13 [==============================] - 0s 14ms/step - loss: 0.0767 - categorical_accuracy: 0.9810 - val_loss: 1.7258 - val_categorical_accuracy: 0.6875\n",
            "Epoch 53/100\n",
            "13/13 [==============================] - 0s 14ms/step - loss: 0.0744 - categorical_accuracy: 0.9796 - val_loss: 1.8603 - val_categorical_accuracy: 0.6938\n",
            "Epoch 54/100\n",
            "13/13 [==============================] - 0s 14ms/step - loss: 0.1054 - categorical_accuracy: 0.9765 - val_loss: 1.8469 - val_categorical_accuracy: 0.6844\n",
            "Epoch 55/100\n",
            "13/13 [==============================] - 0s 14ms/step - loss: 0.0732 - categorical_accuracy: 0.9793 - val_loss: 1.8212 - val_categorical_accuracy: 0.7063\n",
            "Epoch 56/100\n",
            "13/13 [==============================] - 0s 14ms/step - loss: 0.0550 - categorical_accuracy: 0.9858 - val_loss: 1.9439 - val_categorical_accuracy: 0.6719\n",
            "Epoch 57/100\n",
            "13/13 [==============================] - 0s 14ms/step - loss: 0.0514 - categorical_accuracy: 0.9860 - val_loss: 1.8789 - val_categorical_accuracy: 0.6750\n",
            "Epoch 58/100\n",
            "13/13 [==============================] - 0s 14ms/step - loss: 0.0612 - categorical_accuracy: 0.9843 - val_loss: 1.8976 - val_categorical_accuracy: 0.6938\n",
            "Epoch 59/100\n",
            "13/13 [==============================] - 0s 14ms/step - loss: 0.0510 - categorical_accuracy: 0.9837 - val_loss: 1.9289 - val_categorical_accuracy: 0.7094\n",
            "Epoch 60/100\n",
            "13/13 [==============================] - 0s 14ms/step - loss: 0.0583 - categorical_accuracy: 0.9850 - val_loss: 1.9976 - val_categorical_accuracy: 0.6844\n",
            "Epoch 61/100\n",
            "13/13 [==============================] - 0s 15ms/step - loss: 0.0459 - categorical_accuracy: 0.9881 - val_loss: 2.0312 - val_categorical_accuracy: 0.6344\n",
            "Epoch 62/100\n",
            "13/13 [==============================] - 0s 14ms/step - loss: 0.0363 - categorical_accuracy: 0.9947 - val_loss: 2.1304 - val_categorical_accuracy: 0.6531\n",
            "Epoch 63/100\n",
            "13/13 [==============================] - 0s 14ms/step - loss: 0.0285 - categorical_accuracy: 0.9967 - val_loss: 1.9398 - val_categorical_accuracy: 0.7063\n",
            "Epoch 64/100\n",
            "13/13 [==============================] - 0s 15ms/step - loss: 0.0363 - categorical_accuracy: 0.9867 - val_loss: 2.0227 - val_categorical_accuracy: 0.6750\n",
            "Epoch 65/100\n",
            "13/13 [==============================] - 0s 14ms/step - loss: 0.0321 - categorical_accuracy: 0.9936 - val_loss: 2.0820 - val_categorical_accuracy: 0.6812\n",
            "Epoch 66/100\n",
            "13/13 [==============================] - 0s 14ms/step - loss: 0.0354 - categorical_accuracy: 0.9903 - val_loss: 2.1155 - val_categorical_accuracy: 0.6781\n",
            "Epoch 67/100\n",
            "13/13 [==============================] - 0s 15ms/step - loss: 0.0311 - categorical_accuracy: 0.9924 - val_loss: 2.0798 - val_categorical_accuracy: 0.6844\n",
            "Epoch 68/100\n",
            "13/13 [==============================] - 0s 14ms/step - loss: 0.0270 - categorical_accuracy: 0.9966 - val_loss: 2.2412 - val_categorical_accuracy: 0.6562\n",
            "Epoch 69/100\n",
            "13/13 [==============================] - 0s 15ms/step - loss: 0.0253 - categorical_accuracy: 0.9924 - val_loss: 2.0853 - val_categorical_accuracy: 0.6781\n",
            "Epoch 70/100\n",
            "13/13 [==============================] - 0s 15ms/step - loss: 0.0294 - categorical_accuracy: 0.9908 - val_loss: 2.1541 - val_categorical_accuracy: 0.7000\n",
            "Epoch 71/100\n",
            "13/13 [==============================] - 0s 15ms/step - loss: 0.0278 - categorical_accuracy: 0.9916 - val_loss: 2.2308 - val_categorical_accuracy: 0.6562\n",
            "Epoch 72/100\n",
            "13/13 [==============================] - 0s 15ms/step - loss: 0.0369 - categorical_accuracy: 0.9903 - val_loss: 2.2596 - val_categorical_accuracy: 0.6406\n",
            "Epoch 73/100\n",
            "13/13 [==============================] - 0s 14ms/step - loss: 0.0431 - categorical_accuracy: 0.9888 - val_loss: 2.1764 - val_categorical_accuracy: 0.6906\n",
            "Epoch 74/100\n",
            "13/13 [==============================] - 0s 14ms/step - loss: 0.0198 - categorical_accuracy: 0.9945 - val_loss: 2.2761 - val_categorical_accuracy: 0.6812\n",
            "Epoch 75/100\n",
            "13/13 [==============================] - 0s 15ms/step - loss: 0.0154 - categorical_accuracy: 0.9979 - val_loss: 2.2090 - val_categorical_accuracy: 0.6781\n",
            "Epoch 76/100\n",
            "13/13 [==============================] - 0s 15ms/step - loss: 0.0131 - categorical_accuracy: 0.9989 - val_loss: 2.2094 - val_categorical_accuracy: 0.7063\n",
            "Epoch 77/100\n",
            "13/13 [==============================] - 0s 14ms/step - loss: 0.0119 - categorical_accuracy: 0.9987 - val_loss: 2.2886 - val_categorical_accuracy: 0.6875\n",
            "Epoch 78/100\n",
            "13/13 [==============================] - 0s 14ms/step - loss: 0.0145 - categorical_accuracy: 0.9967 - val_loss: 2.2768 - val_categorical_accuracy: 0.6906\n",
            "Epoch 79/100\n",
            "13/13 [==============================] - 0s 15ms/step - loss: 0.0118 - categorical_accuracy: 0.9986 - val_loss: 2.3444 - val_categorical_accuracy: 0.6750\n",
            "Epoch 80/100\n",
            "13/13 [==============================] - 0s 14ms/step - loss: 0.0121 - categorical_accuracy: 0.9972 - val_loss: 2.3284 - val_categorical_accuracy: 0.6687\n",
            "Epoch 81/100\n",
            "13/13 [==============================] - 0s 14ms/step - loss: 0.0096 - categorical_accuracy: 0.9967 - val_loss: 2.3853 - val_categorical_accuracy: 0.6844\n",
            "Epoch 82/100\n",
            "13/13 [==============================] - 0s 15ms/step - loss: 0.0171 - categorical_accuracy: 0.9955 - val_loss: 2.3162 - val_categorical_accuracy: 0.6812\n",
            "Epoch 83/100\n",
            "13/13 [==============================] - 0s 15ms/step - loss: 0.0085 - categorical_accuracy: 0.9991 - val_loss: 2.3508 - val_categorical_accuracy: 0.6781\n",
            "Epoch 84/100\n",
            "13/13 [==============================] - 0s 15ms/step - loss: 0.0160 - categorical_accuracy: 0.9959 - val_loss: 2.3776 - val_categorical_accuracy: 0.6719\n",
            "Epoch 85/100\n",
            "13/13 [==============================] - 0s 14ms/step - loss: 0.0180 - categorical_accuracy: 0.9946 - val_loss: 2.3942 - val_categorical_accuracy: 0.6719\n",
            "Epoch 86/100\n",
            "13/13 [==============================] - 0s 14ms/step - loss: 0.0216 - categorical_accuracy: 0.9979 - val_loss: 2.3596 - val_categorical_accuracy: 0.6781\n",
            "Epoch 87/100\n",
            "13/13 [==============================] - 0s 15ms/step - loss: 0.0191 - categorical_accuracy: 0.9954 - val_loss: 2.3609 - val_categorical_accuracy: 0.6969\n",
            "Epoch 88/100\n",
            "13/13 [==============================] - 0s 15ms/step - loss: 0.0170 - categorical_accuracy: 0.9975 - val_loss: 2.5329 - val_categorical_accuracy: 0.6875\n",
            "Epoch 89/100\n",
            "13/13 [==============================] - 0s 14ms/step - loss: 0.0232 - categorical_accuracy: 0.9956 - val_loss: 2.4824 - val_categorical_accuracy: 0.6844\n",
            "Epoch 90/100\n",
            "13/13 [==============================] - 0s 15ms/step - loss: 0.0369 - categorical_accuracy: 0.9937 - val_loss: 2.5419 - val_categorical_accuracy: 0.6906\n",
            "Epoch 91/100\n",
            "13/13 [==============================] - 0s 16ms/step - loss: 0.0990 - categorical_accuracy: 0.9716 - val_loss: 2.4927 - val_categorical_accuracy: 0.6250\n",
            "Epoch 92/100\n",
            "13/13 [==============================] - 0s 14ms/step - loss: 0.0912 - categorical_accuracy: 0.9709 - val_loss: 2.4276 - val_categorical_accuracy: 0.6562\n",
            "Epoch 93/100\n",
            "13/13 [==============================] - 0s 24ms/step - loss: 0.1785 - categorical_accuracy: 0.9288 - val_loss: 2.3372 - val_categorical_accuracy: 0.6500\n",
            "Epoch 94/100\n",
            "13/13 [==============================] - 0s 15ms/step - loss: 0.0834 - categorical_accuracy: 0.9719 - val_loss: 2.1551 - val_categorical_accuracy: 0.6656\n",
            "Epoch 95/100\n",
            "13/13 [==============================] - 0s 15ms/step - loss: 0.0491 - categorical_accuracy: 0.9830 - val_loss: 2.2851 - val_categorical_accuracy: 0.6562\n",
            "Epoch 96/100\n",
            "13/13 [==============================] - 0s 14ms/step - loss: 0.0495 - categorical_accuracy: 0.9823 - val_loss: 2.2150 - val_categorical_accuracy: 0.6812\n",
            "Epoch 97/100\n",
            "13/13 [==============================] - 0s 15ms/step - loss: 0.0328 - categorical_accuracy: 0.9923 - val_loss: 2.2796 - val_categorical_accuracy: 0.6594\n",
            "Epoch 98/100\n",
            "13/13 [==============================] - 0s 15ms/step - loss: 0.0286 - categorical_accuracy: 0.9948 - val_loss: 2.3577 - val_categorical_accuracy: 0.6844\n",
            "Epoch 99/100\n",
            "13/13 [==============================] - 0s 15ms/step - loss: 0.0273 - categorical_accuracy: 0.9947 - val_loss: 2.3627 - val_categorical_accuracy: 0.6719\n",
            "Epoch 100/100\n",
            "13/13 [==============================] - 0s 14ms/step - loss: 0.0303 - categorical_accuracy: 0.9942 - val_loss: 2.3995 - val_categorical_accuracy: 0.6906\n"
          ],
          "name": "stdout"
        }
      ]
    },
    {
      "cell_type": "code",
      "metadata": {
        "colab": {
          "base_uri": "https://localhost:8080/"
        },
        "id": "olJRMVyhvNdw",
        "outputId": "18f3d1f2-8a37-454f-83ae-258ec9fee484"
      },
      "source": [
        "from sklearn.metrics import classification_report\r\n",
        "Y_pred = model.predict(X_valid)\r\n",
        "print(classification_report(Y_valid, Y_pred.round()))"
      ],
      "execution_count": null,
      "outputs": [
        {
          "output_type": "stream",
          "text": [
            "              precision    recall  f1-score   support\n",
            "\n",
            "           0       0.00      0.00      0.00         2\n",
            "           1       0.75      0.21      0.33        14\n",
            "           2       0.76      0.77      0.77       137\n",
            "           3       0.69      0.64      0.66       121\n",
            "           4       0.57      0.79      0.66        43\n",
            "           5       0.00      0.00      0.00         3\n",
            "\n",
            "   micro avg       0.69      0.69      0.69       320\n",
            "   macro avg       0.46      0.40      0.40       320\n",
            "weighted avg       0.70      0.69      0.68       320\n",
            " samples avg       0.69      0.69      0.69       320\n",
            "\n"
          ],
          "name": "stdout"
        },
        {
          "output_type": "stream",
          "text": [
            "/usr/local/lib/python3.6/dist-packages/sklearn/metrics/_classification.py:1272: UndefinedMetricWarning: Precision and F-score are ill-defined and being set to 0.0 in samples with no predicted labels. Use `zero_division` parameter to control this behavior.\n",
            "  _warn_prf(average, modifier, msg_start, len(result))\n"
          ],
          "name": "stderr"
        }
      ]
    }
  ]
}