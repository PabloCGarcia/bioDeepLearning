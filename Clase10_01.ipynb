{
  "nbformat": 4,
  "nbformat_minor": 0,
  "metadata": {
    "colab": {
      "name": "Clase10-01.ipynb",
      "provenance": [],
      "collapsed_sections": [],
      "authorship_tag": "ABX9TyM+Iwujn/knaCw4poW9c7OK",
      "include_colab_link": true
    },
    "kernelspec": {
      "name": "python3",
      "display_name": "Python 3"
    },
    "accelerator": "GPU"
  },
  "cells": [
    {
      "cell_type": "markdown",
      "metadata": {
        "id": "view-in-github",
        "colab_type": "text"
      },
      "source": [
        "<a href=\"https://colab.research.google.com/github/PabloCGarcia/bioDeepLearning/blob/main/Clase10_01.ipynb\" target=\"_parent\"><img src=\"https://colab.research.google.com/assets/colab-badge.svg\" alt=\"Open In Colab\"/></a>"
      ]
    },
    {
      "cell_type": "markdown",
      "metadata": {
        "id": "dY9isCLX1Qca"
      },
      "source": [
        "Clase de introducción de deepchem, experimentos con deep learning con datasets conocidos"
      ]
    },
    {
      "cell_type": "code",
      "metadata": {
        "id": "WEFWsZon0nhZ"
      },
      "source": [
        "#!curl -Lo conda_installer.py https://raw.githubusercontent.com/deepchem/deepchem/master/scripts/colab_install.py\r\n",
        "#import conda_installer\r\n",
        "#conda_installer.install()\r\n",
        "#!/root/miniconda/bin/conda info -e\r\n",
        "!pip install -q condacolab\r\n",
        "import condacolab\r\n",
        "condacolab.install()"
      ],
      "execution_count": null,
      "outputs": []
    },
    {
      "cell_type": "code",
      "metadata": {
        "id": "B3p9WzwBIoW_"
      },
      "source": [
        "import condacolab\r\n",
        "condacolab.check()"
      ],
      "execution_count": null,
      "outputs": []
    },
    {
      "cell_type": "code",
      "metadata": {
        "colab": {
          "base_uri": "https://localhost:8080/"
        },
        "id": "XYQmQqejIrcb",
        "outputId": "6a1708f6-910b-4315-eee0-9c1b8c0bc819"
      },
      "source": [
        "!conda install -y -c rdkit rdkit==2020.09.2"
      ],
      "execution_count": null,
      "outputs": [
        {
          "output_type": "stream",
          "text": [
            "Collecting package metadata (current_repodata.json): - \b\b\\ \b\b| \b\b/ \b\b- \b\b\\ \b\b| \b\b/ \b\b- \b\b\\ \b\b| \b\b/ \b\b- \b\b\\ \b\b| \b\b/ \b\b- \b\b\\ \b\b| \b\b/ \b\b- \b\b\\ \b\b| \b\b/ \b\b- \b\b\\ \b\b| \b\b/ \b\b- \b\b\\ \b\b| \b\b/ \b\b- \b\b\\ \b\b| \b\b/ \b\b- \b\b\\ \b\b| \b\b/ \b\b- \b\b\\ \b\b| \b\b/ \b\b- \b\b\\ \b\b| \b\b/ \b\b- \b\b\\ \b\b| \b\b/ \b\b- \b\bdone\n",
            "Solving environment: | \b\bfailed with initial frozen solve. Retrying with flexible solve.\n",
            "Collecting package metadata (repodata.json): - \b\b\\ \b\b| \b\b/ \b\b- \b\b\\ \b\b| \b\b/ \b\b- \b\b\\ \b\b| \b\b/ \b\b- \b\b\\ \b\b| \b\b/ \b\b- \b\b\\ \b\b| \b\b/ \b\b- \b\b\\ \b\b| \b\b/ \b\b- \b\b\\ \b\b| \b\b/ \b\b- \b\b\\ \b\b| \b\b/ \b\b- \b\b\\ \b\b| \b\b/ \b\b- \b\b\\ \b\b| \b\b/ \b\b- \b\b\\ \b\b| \b\b/ \b\b- \b\b\\ \b\b| \b\b/ \b\b- \b\b\\ \b\b| \b\b/ \b\b- \b\b\\ \b\b| \b\b/ \b\b- \b\b\\ \b\b| \b\b/ \b\b- \b\b\\ \b\b| \b\b/ \b\b- \b\b\\ \b\b| \b\b/ \b\b- \b\b\\ \b\b| \b\b/ \b\b- \b\b\\ \b\b| \b\b/ \b\b- \b\b\\ \b\b| \b\b/ \b\b- \b\b\\ \b\b| \b\b/ \b\b- \b\b\\ \b\b| \b\b/ \b\b- \b\b\\ \b\b| \b\b/ \b\b- \b\b\\ \b\b| \b\b/ \b\b- \b\b\\ \b\b| \b\b/ \b\b- \b\b\\ \b\b| \b\b/ \b\b- \b\b\\ \b\b| \b\b/ \b\b- \b\b\\ \b\b| \b\b/ \b\b- \b\b\\ \b\b| \b\b/ \b\b- \b\b\\ \b\b| \b\b/ \b\b- \b\b\\ \b\b| \b\b/ \b\b- \b\b\\ \b\b| \b\b/ \b\b- \b\b\\ \b\b| \b\b/ \b\b- \b\b\\ \b\b| \b\b/ \b\b- \b\b\\ \b\b| \b\b/ \b\b- \b\b\\ \b\b| \b\b/ \b\b- \b\b\\ \b\b| \b\b/ \b\b- \b\b\\ \b\b| \b\b/ \b\b- \b\b\\ \b\b| \b\b/ \b\b- \b\b\\ \b\b| \b\b/ \b\b- \b\b\\ \b\b| \b\b/ \b\b- \b\b\\ \b\b| \b\b/ \b\bdone\n",
            "Solving environment: \\ \b\b| \b\b/ \b\b- \b\b\\ \b\b| \b\b/ \b\b- \b\b\\ \b\b| \b\b/ \b\b- \b\b\\ \b\b| \b\b/ \b\b- \b\b\\ \b\b| \b\b/ \b\b- \b\b\\ \b\b| \b\b/ \b\b- \b\b\\ \b\b| \b\b/ \b\b- \b\b\\ \b\b| \b\b/ \b\b- \b\b\\ \b\b| \b\b/ \b\b- \b\b\\ \b\b| \b\b/ \b\b- \b\b\\ \b\b| \b\b/ \b\b- \b\b\\ \b\b| \b\b/ \b\b- \b\b\\ \b\b| \b\b/ \b\b- \b\b\\ \b\b| \b\b/ \b\b- \b\b\\ \b\b| \b\b/ \b\b- \b\b\\ \b\b| \b\b/ \b\b- \b\b\\ \b\b| \b\b/ \b\b- \b\b\\ \b\b| \b\b/ \b\b- \b\b\\ \b\b| \b\b/ \b\b- \b\b\\ \b\b| \b\b/ \b\b- \b\b\\ \b\b| \b\b/ \b\b- \b\b\\ \b\b| \b\b/ \b\b- \b\b\\ \b\b| \b\b/ \b\b- \b\b\\ \b\b| \b\b/ \b\b- \b\b\\ \b\b| \b\b/ \b\b- \b\b\\ \b\b| \b\b/ \b\b- \b\b\\ \b\b| \b\b/ \b\b- \b\b\\ \b\bfailed with initial frozen solve. Retrying with flexible solve.\n",
            "Solving environment: / \b\b- \b\b\\ \b\b| \b\b/ \b\b- \b\b\\ \b\b| \b\b/ \b\b- \b\b\\ \b\b| \b\b/ \b\b- \b\b\\ \b\b| \b\b/ \b\b- \b\b\\ \b\b| \b\b/ \b\b- \b\b\\ \b\b| \b\b/ \b\b- \b\b\\ \b\b| \b\b/ \b\b- \b\b\\ \b\b| \b\b/ \b\b- \b\b\\ \b\b| \b\b/ \b\b- \b\b\\ \b\b| \b\b/ \b\b- \b\b\\ \b\b| \b\b/ \b\b- \b\b\\ \b\b| \b\b/ \b\b- \b\b\\ \b\b| \b\b/ \b\b- \b\b\\ \b\b| \b\b/ \b\b- \b\b\\ \b\b| \b\b/ \b\b- \b\b\\ \b\b| \b\b/ \b\b- \b\b\\ \b\b| \b\b/ \b\b- \b\b\\ \b\b| \b\b/ \b\b- \b\b\\ \b\b| \b\b/ \b\b- \b\b\\ \b\b| \b\b/ \b\b- \b\b\\ \b\b| \b\b/ \b\b- \b\b\\ \b\b| \b\b/ \b\b- \b\b\\ \b\b| \b\b/ \b\b- \b\b\\ \b\b| \b\b/ \b\b- \b\b\\ \b\b| \b\b/ \b\b- \b\b\\ \b\b| \b\b/ \b\b- \b\b\\ \b\b| \b\b/ \b\b- \b\b\\ \b\b| \b\b/ \b\b- \b\b\\ \b\b| \b\b/ \b\b- \b\b\\ \b\b| \b\b/ \b\b- \b\b\\ \b\b| \b\b/ \b\b- \b\b\\ \b\b| \b\b/ \b\b- \b\b\\ \b\b| \b\b/ \b\b- \b\b\\ \b\bdone\n",
            "\n",
            "## Package Plan ##\n",
            "\n",
            "  environment location: /usr/local\n",
            "\n",
            "  added / updated specs:\n",
            "    - rdkit==2020.09.2\n",
            "\n",
            "\n",
            "The following packages will be downloaded:\n",
            "\n",
            "    package                    |            build\n",
            "    ---------------------------|-----------------\n",
            "    boost-1.74.0               |   py37h6dcda5c_3         342 KB  conda-forge\n",
            "    boost-cpp-1.74.0           |       h9d3c048_1        16.3 MB  conda-forge\n",
            "    brotlipy-0.7.0             |py37h5e8e339_1001         341 KB  conda-forge\n",
            "    cairo-1.16.0               |    h7979940_1007         1.5 MB  conda-forge\n",
            "    certifi-2020.12.5          |   py37h89c1867_1         143 KB  conda-forge\n",
            "    cffi-1.14.5                |   py37hc58025e_0         225 KB  conda-forge\n",
            "    chardet-4.0.0              |   py37h89c1867_1         204 KB  conda-forge\n",
            "    conda-4.9.2                |   py37h89c1867_0         3.0 MB  conda-forge\n",
            "    conda-package-handling-1.7.2|   py37hb5d75c8_0         915 KB  conda-forge\n",
            "    cryptography-3.4.4         |   py37hf1a17b8_0         636 KB  conda-forge\n",
            "    cycler-0.10.0              |             py_2           9 KB  conda-forge\n",
            "    fontconfig-2.13.1          |    hba837de_1004         344 KB  conda-forge\n",
            "    freetype-2.10.4            |       h0708190_1         890 KB  conda-forge\n",
            "    gettext-0.19.8.1           |    h0b5b191_1005         3.6 MB  conda-forge\n",
            "    jpeg-9d                    |       h36c2ea0_0         264 KB  conda-forge\n",
            "    kiwisolver-1.3.1           |   py37h2527ec5_1          78 KB  conda-forge\n",
            "    lcms2-2.12                 |       hddcbb42_0         443 KB  conda-forge\n",
            "    libblas-3.9.0              |       8_openblas          11 KB  conda-forge\n",
            "    libcblas-3.9.0             |       8_openblas          11 KB  conda-forge\n",
            "    libgfortran-ng-9.3.0       |      hff62375_18          22 KB  conda-forge\n",
            "    libgfortran5-9.3.0         |      hff62375_18         2.0 MB  conda-forge\n",
            "    libglib-2.66.7             |       h3e27bee_1         3.0 MB  conda-forge\n",
            "    liblapack-3.9.0            |       8_openblas          11 KB  conda-forge\n",
            "    libopenblas-0.3.12         |pthreads_h4812303_1         8.9 MB  conda-forge\n",
            "    libpng-1.6.37              |       h21135ba_2         306 KB  conda-forge\n",
            "    libtiff-4.2.0              |       hdc55705_0         633 KB  conda-forge\n",
            "    libuuid-2.32.1             |    h7f98852_1000          28 KB  conda-forge\n",
            "    libwebp-base-1.2.0         |       h7f98852_0         808 KB  conda-forge\n",
            "    libxcb-1.13                |    h7f98852_1003         395 KB  conda-forge\n",
            "    mamba-0.7.6                |   py37h0f36c0c_0         627 KB  conda-forge\n",
            "    matplotlib-base-3.3.4      |   py37h0c9df89_0         6.7 MB  conda-forge\n",
            "    numpy-1.20.1               |   py37haa41c4c_0         5.8 MB  conda-forge\n",
            "    olefile-0.46               |     pyh9f0ad1d_1          32 KB  conda-forge\n",
            "    openssl-1.1.1j             |       h7f98852_0         2.1 MB  conda-forge\n",
            "    pandas-1.2.3               |   py37hdc94413_0        11.8 MB  conda-forge\n",
            "    pcre-8.44                  |       he1b5a44_0         261 KB  conda-forge\n",
            "    pillow-8.1.1               |   py37h4600e1f_0         668 KB  conda-forge\n",
            "    pixman-0.40.0              |       h36c2ea0_0         627 KB  conda-forge\n",
            "    pthread-stubs-0.4          |    h36c2ea0_1001           5 KB  conda-forge\n",
            "    pycairo-1.20.0             |   py37h01af8b0_1          77 KB  conda-forge\n",
            "    pycosat-0.6.3              |py37h5e8e339_1006         107 KB  conda-forge\n",
            "    pyparsing-2.4.7            |     pyh9f0ad1d_0          60 KB  conda-forge\n",
            "    pysocks-1.7.1              |   py37h89c1867_3          27 KB  conda-forge\n",
            "    python-3.7.10              |hffdb5ce_100_cpython        57.3 MB  conda-forge\n",
            "    python-dateutil-2.8.1      |             py_0         220 KB  conda-forge\n",
            "    python_abi-3.7             |          1_cp37m           4 KB  conda-forge\n",
            "    pytz-2021.1                |     pyhd8ed1ab_0         239 KB  conda-forge\n",
            "    rdkit-2020.09.2            |   py37h713bca6_0        25.7 MB  conda-forge\n",
            "    reportlab-3.5.60           |   py37h69800bb_0         2.5 MB  conda-forge\n",
            "    ruamel_yaml-0.15.80        |py37h5e8e339_1004         270 KB  conda-forge\n",
            "    setuptools-49.6.0          |   py37h89c1867_3         947 KB  conda-forge\n",
            "    sqlalchemy-1.3.23          |   py37h5e8e339_0         1.8 MB  conda-forge\n",
            "    tornado-6.1                |   py37h5e8e339_1         646 KB  conda-forge\n",
            "    xorg-kbproto-1.0.7         |    h7f98852_1002          27 KB  conda-forge\n",
            "    xorg-libice-1.0.10         |       h516909a_0          57 KB  conda-forge\n",
            "    xorg-libsm-1.2.3           |    h84519dc_1000          25 KB  conda-forge\n",
            "    xorg-libx11-1.6.12         |       h516909a_0         917 KB  conda-forge\n",
            "    xorg-libxau-1.0.9          |       h7f98852_0          13 KB  conda-forge\n",
            "    xorg-libxdmcp-1.1.3        |       h7f98852_0          19 KB  conda-forge\n",
            "    xorg-libxext-1.3.4         |       h516909a_0          51 KB  conda-forge\n",
            "    xorg-libxrender-0.9.10     |    h516909a_1002          31 KB  conda-forge\n",
            "    xorg-renderproto-0.11.1    |    h14c3975_1002           8 KB  conda-forge\n",
            "    xorg-xextproto-7.3.0       |    h7f98852_1002          28 KB  conda-forge\n",
            "    xorg-xproto-7.0.31         |    h7f98852_1007          73 KB  conda-forge\n",
            "    ------------------------------------------------------------\n",
            "                                           Total:       164.9 MB\n",
            "\n",
            "The following NEW packages will be INSTALLED:\n",
            "\n",
            "  boost              conda-forge/linux-64::boost-1.74.0-py37h6dcda5c_3\n",
            "  boost-cpp          conda-forge/linux-64::boost-cpp-1.74.0-h9d3c048_1\n",
            "  cairo              conda-forge/linux-64::cairo-1.16.0-h7979940_1007\n",
            "  cycler             conda-forge/noarch::cycler-0.10.0-py_2\n",
            "  fontconfig         conda-forge/linux-64::fontconfig-2.13.1-hba837de_1004\n",
            "  freetype           conda-forge/linux-64::freetype-2.10.4-h0708190_1\n",
            "  gettext            conda-forge/linux-64::gettext-0.19.8.1-h0b5b191_1005\n",
            "  jpeg               conda-forge/linux-64::jpeg-9d-h36c2ea0_0\n",
            "  kiwisolver         conda-forge/linux-64::kiwisolver-1.3.1-py37h2527ec5_1\n",
            "  lcms2              conda-forge/linux-64::lcms2-2.12-hddcbb42_0\n",
            "  libblas            conda-forge/linux-64::libblas-3.9.0-8_openblas\n",
            "  libcblas           conda-forge/linux-64::libcblas-3.9.0-8_openblas\n",
            "  libgfortran-ng     conda-forge/linux-64::libgfortran-ng-9.3.0-hff62375_18\n",
            "  libgfortran5       conda-forge/linux-64::libgfortran5-9.3.0-hff62375_18\n",
            "  libglib            conda-forge/linux-64::libglib-2.66.7-h3e27bee_1\n",
            "  liblapack          conda-forge/linux-64::liblapack-3.9.0-8_openblas\n",
            "  libopenblas        conda-forge/linux-64::libopenblas-0.3.12-pthreads_h4812303_1\n",
            "  libpng             conda-forge/linux-64::libpng-1.6.37-h21135ba_2\n",
            "  libtiff            conda-forge/linux-64::libtiff-4.2.0-hdc55705_0\n",
            "  libuuid            conda-forge/linux-64::libuuid-2.32.1-h7f98852_1000\n",
            "  libwebp-base       conda-forge/linux-64::libwebp-base-1.2.0-h7f98852_0\n",
            "  libxcb             conda-forge/linux-64::libxcb-1.13-h7f98852_1003\n",
            "  matplotlib-base    conda-forge/linux-64::matplotlib-base-3.3.4-py37h0c9df89_0\n",
            "  numpy              conda-forge/linux-64::numpy-1.20.1-py37haa41c4c_0\n",
            "  olefile            conda-forge/noarch::olefile-0.46-pyh9f0ad1d_1\n",
            "  pandas             conda-forge/linux-64::pandas-1.2.3-py37hdc94413_0\n",
            "  pcre               conda-forge/linux-64::pcre-8.44-he1b5a44_0\n",
            "  pillow             conda-forge/linux-64::pillow-8.1.1-py37h4600e1f_0\n",
            "  pixman             conda-forge/linux-64::pixman-0.40.0-h36c2ea0_0\n",
            "  pthread-stubs      conda-forge/linux-64::pthread-stubs-0.4-h36c2ea0_1001\n",
            "  pycairo            conda-forge/linux-64::pycairo-1.20.0-py37h01af8b0_1\n",
            "  pyparsing          conda-forge/noarch::pyparsing-2.4.7-pyh9f0ad1d_0\n",
            "  python-dateutil    conda-forge/noarch::python-dateutil-2.8.1-py_0\n",
            "  pytz               conda-forge/noarch::pytz-2021.1-pyhd8ed1ab_0\n",
            "  rdkit              conda-forge/linux-64::rdkit-2020.09.2-py37h713bca6_0\n",
            "  reportlab          conda-forge/linux-64::reportlab-3.5.60-py37h69800bb_0\n",
            "  sqlalchemy         conda-forge/linux-64::sqlalchemy-1.3.23-py37h5e8e339_0\n",
            "  tornado            conda-forge/linux-64::tornado-6.1-py37h5e8e339_1\n",
            "  xorg-kbproto       conda-forge/linux-64::xorg-kbproto-1.0.7-h7f98852_1002\n",
            "  xorg-libice        conda-forge/linux-64::xorg-libice-1.0.10-h516909a_0\n",
            "  xorg-libsm         conda-forge/linux-64::xorg-libsm-1.2.3-h84519dc_1000\n",
            "  xorg-libx11        conda-forge/linux-64::xorg-libx11-1.6.12-h516909a_0\n",
            "  xorg-libxau        conda-forge/linux-64::xorg-libxau-1.0.9-h7f98852_0\n",
            "  xorg-libxdmcp      conda-forge/linux-64::xorg-libxdmcp-1.1.3-h7f98852_0\n",
            "  xorg-libxext       conda-forge/linux-64::xorg-libxext-1.3.4-h516909a_0\n",
            "  xorg-libxrender    conda-forge/linux-64::xorg-libxrender-0.9.10-h516909a_1002\n",
            "  xorg-renderproto   conda-forge/linux-64::xorg-renderproto-0.11.1-h14c3975_1002\n",
            "  xorg-xextproto     conda-forge/linux-64::xorg-xextproto-7.3.0-h7f98852_1002\n",
            "  xorg-xproto        conda-forge/linux-64::xorg-xproto-7.0.31-h7f98852_1007\n",
            "\n",
            "The following packages will be UPDATED:\n",
            "\n",
            "  certifi                          2020.12.5-py36h5fab9bb_0 --> 2020.12.5-py37h89c1867_1\n",
            "  cffi                                1.14.4-py36hc120d54_1 --> 1.14.5-py37hc58025e_0\n",
            "  chardet                              4.0.0-py36h5fab9bb_0 --> 4.0.0-py37h89c1867_1\n",
            "  cryptography                         3.3.1-py36h0a59100_0 --> 3.4.4-py37hf1a17b8_0\n",
            "  openssl                                 1.1.1i-h7f98852_0 --> 1.1.1j-h7f98852_0\n",
            "  pycosat                           0.6.3-py36he6145b8_1005 --> 0.6.3-py37h5e8e339_1006\n",
            "  pysocks                              1.7.1-py36h9880bd3_2 --> 1.7.1-py37h89c1867_3\n",
            "  python                          3.6.12-hffdb5ce_0_cpython --> 3.7.10-hffdb5ce_100_cpython\n",
            "  python_abi                                    3.6-1_cp36m --> 3.7-1_cp37m\n",
            "  ruamel_yaml                     0.15.80-py36he6145b8_1003 --> 0.15.80-py37h5e8e339_1004\n",
            "  setuptools                          49.6.0-py36h9880bd3_2 --> 49.6.0-py37h89c1867_3\n",
            "\n",
            "The following packages will be DOWNGRADED:\n",
            "\n",
            "  brotlipy                          0.7.0-py36he6145b8_1001 --> 0.7.0-py37h5e8e339_1001\n",
            "  conda                                4.9.2-py36h5fab9bb_0 --> 4.9.2-py37h89c1867_0\n",
            "  conda-package-han~                   1.7.2-py36he6145b8_0 --> 1.7.2-py37hb5d75c8_0\n",
            "  mamba                                0.7.6-py36hb90a75f_0 --> 0.7.6-py37h0f36c0c_0\n",
            "\n",
            "\n",
            "\n",
            "Downloading and Extracting Packages\n",
            "xorg-xextproto-7.3.0 | 28 KB     | : 100% 1.0/1 [00:00<00:00, 11.83it/s]\n",
            "ruamel_yaml-0.15.80  | 270 KB    | : 100% 1.0/1 [00:00<00:00, 10.57it/s]\n",
            "conda-package-handli | 915 KB    | : 100% 1.0/1 [00:00<00:00,  6.19it/s]\n",
            "chardet-4.0.0        | 204 KB    | : 100% 1.0/1 [00:00<00:00, 11.48it/s]\n",
            "libgfortran-ng-9.3.0 | 22 KB     | : 100% 1.0/1 [00:00<00:00, 27.82it/s]\n",
            "xorg-renderproto-0.1 | 8 KB      | : 100% 1.0/1 [00:00<00:00, 29.57it/s]\n",
            "numpy-1.20.1         | 5.8 MB    | : 100% 1.0/1 [00:01<00:00,  1.04s/it]\n",
            "pysocks-1.7.1        | 27 KB     | : 100% 1.0/1 [00:00<00:00, 25.63it/s]\n",
            "brotlipy-0.7.0       | 341 KB    | : 100% 1.0/1 [00:00<00:00,  9.06it/s]\n",
            "matplotlib-base-3.3. | 6.7 MB    | : 100% 1.0/1 [00:01<00:00,  1.03s/it]\n",
            "jpeg-9d              | 264 KB    | : 100% 1.0/1 [00:00<00:00, 11.16it/s]\n",
            "pycairo-1.20.0       | 77 KB     | : 100% 1.0/1 [00:00<00:00, 20.95it/s]\n",
            "xorg-libice-1.0.10   | 57 KB     | : 100% 1.0/1 [00:00<00:00, 20.97it/s]\n",
            "python-dateutil-2.8. | 220 KB    | : 100% 1.0/1 [00:00<00:00, 10.67it/s]\n",
            "cryptography-3.4.4   | 636 KB    | : 100% 1.0/1 [00:00<00:00,  5.69it/s]\n",
            "libwebp-base-1.2.0   | 808 KB    | : 100% 1.0/1 [00:00<00:00,  6.29it/s]\n",
            "python-3.7.10        | 57.3 MB   | : 100% 1.0/1 [00:06<00:00,  6.53s/it]\n",
            "pytz-2021.1          | 239 KB    | : 100% 1.0/1 [00:00<00:00,  9.16it/s]\n",
            "libcblas-3.9.0       | 11 KB     | : 100% 1.0/1 [00:00<00:00, 22.31it/s]\n",
            "python_abi-3.7       | 4 KB      | : 100% 1.0/1 [00:00<00:00, 30.22it/s]\n",
            "freetype-2.10.4      | 890 KB    | : 100% 1.0/1 [00:00<00:00,  5.93it/s]\n",
            "xorg-libxext-1.3.4   | 51 KB     | : 100% 1.0/1 [00:00<00:00, 20.67it/s]\n",
            "boost-1.74.0         | 342 KB    | : 100% 1.0/1 [00:00<00:00,  8.99it/s]\n",
            "xorg-kbproto-1.0.7   | 27 KB     | : 100% 1.0/1 [00:00<00:00, 28.88it/s]\n",
            "tornado-6.1          | 646 KB    | : 100% 1.0/1 [00:00<00:00,  6.33it/s]\n",
            "pixman-0.40.0        | 627 KB    | : 100% 1.0/1 [00:00<00:00,  8.10it/s]\n",
            "pcre-8.44            | 261 KB    | : 100% 1.0/1 [00:00<00:00, 13.83it/s]\n",
            "cffi-1.14.5          | 225 KB    | : 100% 1.0/1 [00:00<00:00, 13.13it/s]\n",
            "rdkit-2020.09.2      | 25.7 MB   | : 100% 1.0/1 [00:03<00:00,  3.59s/it]               \n",
            "pillow-8.1.1         | 668 KB    | : 100% 1.0/1 [00:00<00:00,  6.72it/s]\n",
            "xorg-libsm-1.2.3     | 25 KB     | : 100% 1.0/1 [00:00<00:00, 23.00it/s]\n",
            "xorg-libxau-1.0.9    | 13 KB     | : 100% 1.0/1 [00:00<00:00, 20.12it/s]\n",
            "lcms2-2.12           | 443 KB    | : 100% 1.0/1 [00:00<00:00,  6.54it/s]\n",
            "cycler-0.10.0        | 9 KB      | : 100% 1.0/1 [00:00<00:00, 30.90it/s]\n",
            "certifi-2020.12.5    | 143 KB    | : 100% 1.0/1 [00:00<00:00, 22.14it/s]\n",
            "gettext-0.19.8.1     | 3.6 MB    | : 100% 1.0/1 [00:00<00:00,  1.35it/s]\n",
            "libpng-1.6.37        | 306 KB    | : 100% 1.0/1 [00:00<00:00, 13.04it/s]\n",
            "libglib-2.66.7       | 3.0 MB    | : 100% 1.0/1 [00:00<00:00,  1.91it/s]\n",
            "libopenblas-0.3.12   | 8.9 MB    | : 100% 1.0/1 [00:01<00:00,  1.40s/it]\n",
            "openssl-1.1.1j       | 2.1 MB    | : 100% 1.0/1 [00:00<00:00,  3.24it/s]\n",
            "pycosat-0.6.3        | 107 KB    | : 100% 1.0/1 [00:00<00:00, 19.45it/s]\n",
            "mamba-0.7.6          | 627 KB    | : 100% 1.0/1 [00:00<00:00,  8.27it/s]\n",
            "libblas-3.9.0        | 11 KB     | : 100% 1.0/1 [00:00<00:00, 22.92it/s]\n",
            "libtiff-4.2.0        | 633 KB    | : 100% 1.0/1 [00:00<00:00,  7.86it/s]\n",
            "fontconfig-2.13.1    | 344 KB    | : 100% 1.0/1 [00:00<00:00, 10.91it/s]\n",
            "libgfortran5-9.3.0   | 2.0 MB    | : 100% 1.0/1 [00:00<00:00,  2.51it/s]\n",
            "boost-cpp-1.74.0     | 16.3 MB   | : 100% 1.0/1 [00:04<00:00,  4.98s/it]               \n",
            "libuuid-2.32.1       | 28 KB     | : 100% 1.0/1 [00:00<00:00, 30.40it/s]\n",
            "xorg-xproto-7.0.31   | 73 KB     | : 100% 1.0/1 [00:00<00:00, 22.58it/s]\n",
            "sqlalchemy-1.3.23    | 1.8 MB    | : 100% 1.0/1 [00:00<00:00,  2.46it/s]\n",
            "olefile-0.46         | 32 KB     | : 100% 1.0/1 [00:00<00:00, 29.10it/s]\n",
            "libxcb-1.13          | 395 KB    | : 100% 1.0/1 [00:00<00:00,  8.29it/s]\n",
            "conda-4.9.2          | 3.0 MB    | : 100% 1.0/1 [00:00<00:00,  1.90it/s]\n",
            "kiwisolver-1.3.1     | 78 KB     | : 100% 1.0/1 [00:00<00:00, 23.78it/s]\n",
            "pthread-stubs-0.4    | 5 KB      | : 100% 1.0/1 [00:00<00:00, 31.74it/s]\n",
            "reportlab-3.5.60     | 2.5 MB    | : 100% 1.0/1 [00:00<00:00,  2.64it/s]\n",
            "xorg-libxdmcp-1.1.3  | 19 KB     | : 100% 1.0/1 [00:00<00:00, 28.98it/s]\n",
            "pyparsing-2.4.7      | 60 KB     | : 100% 1.0/1 [00:00<00:00, 22.72it/s]\n",
            "pandas-1.2.3         | 11.8 MB   | : 100% 1.0/1 [00:02<00:00,  2.17s/it]\n",
            "setuptools-49.6.0    | 947 KB    | : 100% 1.0/1 [00:00<00:00,  4.45it/s]\n",
            "liblapack-3.9.0      | 11 KB     | : 100% 1.0/1 [00:00<00:00, 24.21it/s]\n",
            "xorg-libxrender-0.9. | 31 KB     | : 100% 1.0/1 [00:00<00:00, 26.90it/s]\n",
            "xorg-libx11-1.6.12   | 917 KB    | : 100% 1.0/1 [00:00<00:00,  4.97it/s]\n",
            "cairo-1.16.0         | 1.5 MB    | : 100% 1.0/1 [00:00<00:00,  3.56it/s]\n",
            "Preparing transaction: / \b\b- \b\b\\ \b\b| \b\b/ \b\b- \b\b\\ \b\b| \b\b/ \b\bdone\n",
            "Verifying transaction: \\ \b\b| \b\b/ \b\b- \b\b\\ \b\b| \b\b/ \b\b- \b\b\\ \b\b| \b\b/ \b\b- \b\b\\ \b\b| \b\b/ \b\b- \b\b\\ \b\b| \b\b/ \b\b- \b\b\\ \b\b| \b\b/ \b\b- \b\b\\ \b\b| \b\b/ \b\b- \b\b\\ \b\b| \b\b/ \b\b- \b\b\\ \b\b| \b\bdone\n",
            "Executing transaction: - \b\b\\ \b\b| \b\b/ \b\b- \b\b\\ \b\b| \b\b/ \b\b- \b\b\\ \b\b| \b\b/ \b\b- \b\b\\ \b\b| \b\b/ \b\b- \b\b\\ \b\b| \b\b/ \b\b- \b\b\\ \b\b| \b\b/ \b\b- \b\b\\ \b\b| \b\b/ \b\b- \b\b\\ \b\b| \b\b/ \b\b- \b\b\\ \b\b| \b\b/ \b\b- \b\b\\ \b\b| \b\bdone\n"
          ],
          "name": "stdout"
        }
      ]
    },
    {
      "cell_type": "code",
      "metadata": {
        "id": "Dpeli_r0IwW3",
        "colab": {
          "base_uri": "https://localhost:8080/"
        },
        "outputId": "77d38e6e-11e2-4c92-e410-8b7d27133912"
      },
      "source": [
        "!conda install -y -c conda-forge openmm\r\n",
        "!conda install -y -c omnia pdbfixer"
      ],
      "execution_count": null,
      "outputs": [
        {
          "output_type": "stream",
          "text": [
            "Collecting package metadata (current_repodata.json): - \b\b\\ \b\b| \b\b/ \b\b- \b\b\\ \b\b| \b\b/ \b\b- \b\b\\ \b\b| \b\b/ \b\b- \b\b\\ \b\b| \b\b/ \b\b- \b\b\\ \b\b| \b\b/ \b\b- \b\b\\ \b\b| \b\bdone\n",
            "Solving environment: - \b\b\\ \b\b| \b\b/ \b\b- \b\b\\ \b\b| \b\b/ \b\b- \b\b\\ \b\b| \b\b/ \b\b- \b\b\\ \b\b| \b\b/ \b\b- \b\b\\ \b\b| \b\b/ \b\b- \b\b\\ \b\b| \b\b/ \b\b- \b\bdone\n",
            "\n",
            "## Package Plan ##\n",
            "\n",
            "  environment location: /usr/local\n",
            "\n",
            "  added / updated specs:\n",
            "    - openmm\n",
            "\n",
            "\n",
            "The following packages will be downloaded:\n",
            "\n",
            "    package                    |            build\n",
            "    ---------------------------|-----------------\n",
            "    cudatoolkit-11.0.3         |       h15472ef_8       951.9 MB  conda-forge\n",
            "    fftw-3.3.9                 |nompi_h74d3f13_100         6.4 MB  conda-forge\n",
            "    ocl-icd-2.2.14             |       h7f98852_0         118 KB  conda-forge\n",
            "    ocl-icd-system-1.0.0       |                1           4 KB  conda-forge\n",
            "    openmm-7.5.0               |   py37h01de88b_6        10.7 MB  conda-forge\n",
            "    ------------------------------------------------------------\n",
            "                                           Total:       969.2 MB\n",
            "\n",
            "The following NEW packages will be INSTALLED:\n",
            "\n",
            "  cudatoolkit        conda-forge/linux-64::cudatoolkit-11.0.3-h15472ef_8\n",
            "  fftw               conda-forge/linux-64::fftw-3.3.9-nompi_h74d3f13_100\n",
            "  ocl-icd            conda-forge/linux-64::ocl-icd-2.2.14-h7f98852_0\n",
            "  ocl-icd-system     conda-forge/linux-64::ocl-icd-system-1.0.0-1\n",
            "  openmm             conda-forge/linux-64::openmm-7.5.0-py37h01de88b_6\n",
            "\n",
            "\n",
            "\n",
            "Downloading and Extracting Packages\n",
            "cudatoolkit-11.0.3   | 951.9 MB  | : 100% 1.0/1 [01:54<00:00, 114.22s/it]              \n",
            "ocl-icd-system-1.0.0 | 4 KB      | : 100% 1.0/1 [00:00<00:00, 19.00it/s]\n",
            "fftw-3.3.9           | 6.4 MB    | : 100% 1.0/1 [00:01<00:00,  1.01s/it]\n",
            "openmm-7.5.0         | 10.7 MB   | : 100% 1.0/1 [00:02<00:00,  2.19s/it]               \n",
            "ocl-icd-2.2.14       | 118 KB    | : 100% 1.0/1 [00:00<00:00, 17.07it/s]\n",
            "Preparing transaction: | \b\bdone\n",
            "Verifying transaction: - \b\b\\ \b\b| \b\bdone\n",
            "Executing transaction: - \b\b\\ \b\b| By downloading and using the CUDA Toolkit conda packages, you accept the terms and conditions of the CUDA End User License Agreement (EULA): https://docs.nvidia.com/cuda/eula/index.html\n",
            "\n",
            "\b\b/ \b\b- \b\b\\ \b\b| \b\bdone\n",
            "Collecting package metadata (current_repodata.json): - \b\b\\ \b\b| \b\b/ \b\b- \b\b\\ \b\b| \b\b/ \b\b- \b\b\\ \b\b| \b\b/ \b\b- \b\b\\ \b\b| \b\b/ \b\b- \b\b\\ \b\b| \b\b/ \b\bdone\n",
            "Solving environment: \\ \b\b| \b\b/ \b\b- \b\b\\ \b\b| \b\b/ \b\b- \b\b\\ \b\b| \b\b/ \b\b- \b\b\\ \b\b| \b\b/ \b\b- \b\b\\ \b\b| \b\b/ \b\b- \b\b\\ \b\b| \b\bdone\n",
            "\n",
            "## Package Plan ##\n",
            "\n",
            "  environment location: /usr/local\n",
            "\n",
            "  added / updated specs:\n",
            "    - pdbfixer\n",
            "\n",
            "\n",
            "The following packages will be downloaded:\n",
            "\n",
            "    package                    |            build\n",
            "    ---------------------------|-----------------\n",
            "    pdbfixer-1.6               |             py_1         167 KB  omnia\n",
            "    ------------------------------------------------------------\n",
            "                                           Total:         167 KB\n",
            "\n",
            "The following NEW packages will be INSTALLED:\n",
            "\n",
            "  pdbfixer           omnia/noarch::pdbfixer-1.6-py_1\n",
            "\n",
            "\n",
            "\n",
            "Downloading and Extracting Packages\n",
            "pdbfixer-1.6         | 167 KB    | : 100% 1.0/1 [00:01<00:00,  1.02s/it]\n",
            "Preparing transaction: - \b\bdone\n",
            "Verifying transaction: | \b\bdone\n",
            "Executing transaction: - \b\b\\ \b\b| \b\b/ \b\bdone\n"
          ],
          "name": "stdout"
        }
      ]
    },
    {
      "cell_type": "code",
      "metadata": {
        "id": "dHUwUcPqI1Ks"
      },
      "source": [
        "import sys\r\n",
        "sys.path.insert(0, \"/usr/local/lib/python3.7/site-packages/\")"
      ],
      "execution_count": null,
      "outputs": []
    },
    {
      "cell_type": "code",
      "metadata": {
        "colab": {
          "base_uri": "https://localhost:8080/"
        },
        "id": "2BP6M3Uz2wZ1",
        "outputId": "c71db04f-ca3e-4d18-82a8-8e3e152fa6c3"
      },
      "source": [
        "!pip install --pre deepchem"
      ],
      "execution_count": null,
      "outputs": [
        {
          "output_type": "stream",
          "text": [
            "Collecting deepchem\n",
            "  Downloading deepchem-2.5.0.dev20210303145015-py3-none-any.whl (556 kB)\n",
            "\u001b[K     |████████████████████████████████| 556 kB 7.8 MB/s \n",
            "\u001b[?25hRequirement already satisfied: numpy in /usr/local/lib/python3.7/site-packages (from deepchem) (1.20.1)\n",
            "Requirement already satisfied: pandas in /usr/local/lib/python3.7/site-packages (from deepchem) (1.2.3)\n",
            "Collecting joblib\n",
            "  Downloading joblib-1.0.1-py3-none-any.whl (303 kB)\n",
            "\u001b[K     |████████████████████████████████| 303 kB 16.1 MB/s \n",
            "\u001b[?25hRequirement already satisfied: python-dateutil>=2.7.3 in /usr/local/lib/python3.7/site-packages (from pandas->deepchem) (2.8.1)\n",
            "Requirement already satisfied: pytz>=2017.3 in /usr/local/lib/python3.7/site-packages (from pandas->deepchem) (2021.1)\n",
            "Requirement already satisfied: six>=1.5 in /usr/local/lib/python3.7/site-packages (from python-dateutil>=2.7.3->pandas->deepchem) (1.15.0)\n",
            "Collecting scikit-learn\n",
            "  Downloading scikit_learn-0.24.1-cp37-cp37m-manylinux2010_x86_64.whl (22.3 MB)\n",
            "\u001b[K     |████████████████████████████████| 22.3 MB 1.3 MB/s \n",
            "\u001b[?25hCollecting scipy\n",
            "  Downloading scipy-1.6.1-cp37-cp37m-manylinux1_x86_64.whl (27.4 MB)\n",
            "\u001b[K     |████████████████████████████████| 27.4 MB 55 kB/s \n",
            "\u001b[?25hCollecting threadpoolctl>=2.0.0\n",
            "  Downloading threadpoolctl-2.1.0-py3-none-any.whl (12 kB)\n",
            "Installing collected packages: threadpoolctl, scipy, joblib, scikit-learn, deepchem\n",
            "Successfully installed deepchem-2.5.0.dev20210303145015 joblib-1.0.1 scikit-learn-0.24.1 scipy-1.6.1 threadpoolctl-2.1.0\n"
          ],
          "name": "stdout"
        }
      ]
    },
    {
      "cell_type": "code",
      "metadata": {
        "colab": {
          "base_uri": "https://localhost:8080/",
          "height": 35
        },
        "id": "sAj3Fs5e2xzt",
        "outputId": "1e08ac38-5f04-4b25-90da-821021dbffd8"
      },
      "source": [
        "import deepchem as dc\r\n",
        "dc.__version__"
      ],
      "execution_count": null,
      "outputs": [
        {
          "output_type": "execute_result",
          "data": {
            "application/vnd.google.colaboratory.intrinsic+json": {
              "type": "string"
            },
            "text/plain": [
              "'2.5.0.dev'"
            ]
          },
          "metadata": {
            "tags": []
          },
          "execution_count": 6
        }
      ]
    },
    {
      "cell_type": "code",
      "metadata": {
        "colab": {
          "base_uri": "https://localhost:8080/"
        },
        "id": "UDwtlk7DrW39",
        "outputId": "72127f68-23bb-49bc-f991-9535dfe5c86d"
      },
      "source": [
        "!wget -c http://deepchem.io.s3-website-us-west-1.amazonaws.com/datasets/lipo.csv\r\n",
        "!wget -c http://deepchem.io.s3-website-us-west-1.amazonaws.com/datasets/hppb.csv\r\n",
        "!wget -c http://deepchem.io.s3-website-us-west-1.amazonaws.com/datasets/clearance.csv"
      ],
      "execution_count": null,
      "outputs": [
        {
          "output_type": "stream",
          "text": [
            "--2021-03-04 12:25:56--  http://deepchem.io.s3-website-us-west-1.amazonaws.com/datasets/lipo.csv\n",
            "Resolving deepchem.io.s3-website-us-west-1.amazonaws.com (deepchem.io.s3-website-us-west-1.amazonaws.com)... 52.219.120.19\n",
            "Connecting to deepchem.io.s3-website-us-west-1.amazonaws.com (deepchem.io.s3-website-us-west-1.amazonaws.com)|52.219.120.19|:80... connected.\n",
            "HTTP request sent, awaiting response... 200 OK\n",
            "Length: 282597 (276K) [text/csv]\n",
            "Saving to: ‘lipo.csv’\n",
            "\n",
            "lipo.csv            100%[===================>] 275.97K  --.-KB/s    in 0.1s    \n",
            "\n",
            "2021-03-04 12:25:56 (2.78 MB/s) - ‘lipo.csv’ saved [282597/282597]\n",
            "\n",
            "--2021-03-04 12:25:56--  http://deepchem.io.s3-website-us-west-1.amazonaws.com/datasets/hppb.csv\n",
            "Resolving deepchem.io.s3-website-us-west-1.amazonaws.com (deepchem.io.s3-website-us-west-1.amazonaws.com)... 52.219.120.19\n",
            "Connecting to deepchem.io.s3-website-us-west-1.amazonaws.com (deepchem.io.s3-website-us-west-1.amazonaws.com)|52.219.120.19|:80... connected.\n",
            "HTTP request sent, awaiting response... 200 OK\n",
            "Length: 117266 (115K) [text/csv]\n",
            "Saving to: ‘hppb.csv’\n",
            "\n",
            "hppb.csv            100%[===================>] 114.52K  --.-KB/s    in 0.07s   \n",
            "\n",
            "2021-03-04 12:25:56 (1.64 MB/s) - ‘hppb.csv’ saved [117266/117266]\n",
            "\n",
            "--2021-03-04 12:25:56--  http://deepchem.io.s3-website-us-west-1.amazonaws.com/datasets/clearance.csv\n",
            "Resolving deepchem.io.s3-website-us-west-1.amazonaws.com (deepchem.io.s3-website-us-west-1.amazonaws.com)... 52.219.120.19\n",
            "Connecting to deepchem.io.s3-website-us-west-1.amazonaws.com (deepchem.io.s3-website-us-west-1.amazonaws.com)|52.219.120.19|:80... connected.\n",
            "HTTP request sent, awaiting response... 200 OK\n",
            "Length: 60306 (59K) [text/csv]\n",
            "Saving to: ‘clearance.csv’\n",
            "\n",
            "clearance.csv       100%[===================>]  58.89K  --.-KB/s    in 0.05s   \n",
            "\n",
            "2021-03-04 12:25:56 (1.25 MB/s) - ‘clearance.csv’ saved [60306/60306]\n",
            "\n"
          ],
          "name": "stdout"
        }
      ]
    },
    {
      "cell_type": "code",
      "metadata": {
        "id": "LJqZE5TkrcRn"
      },
      "source": [
        "import numpy as np\r\n",
        "np.random.seed(123)\r\n",
        "from sklearn.ensemble import RandomForestRegressor\r\n",
        "from sklearn import svm\r\n",
        "\r\n",
        "import tensorflow as tf\r\n",
        "tf.random.set_seed(123)\r\n",
        "import deepchem as dc\r\n",
        "from deepchem.models.graph_models import GraphConvModel\r\n",
        "\r\n",
        "BATCH_SIZE = 128\r\n",
        "# Set to higher values to get better numbers\r\n",
        "MAX_EPOCH = 50\r\n",
        "LR = 1e-3\r\n",
        "LMBDA = 1e-4"
      ],
      "execution_count": null,
      "outputs": []
    },
    {
      "cell_type": "code",
      "metadata": {
        "id": "IRUwHe4broQ0"
      },
      "source": [
        "def load_dataset(dataset_file, featurizer='ECFP', split='index'):\r\n",
        "  tasks = ['target']\r\n",
        "\r\n",
        "  if featurizer == 'ECFP':\r\n",
        "    featurizer = dc.feat.CircularFingerprint(size=1024)\r\n",
        "  elif featurizer == 'GraphConv':\r\n",
        "    featurizer = dc.feat.ConvMolFeaturizer()\r\n",
        "\r\n",
        "  loader = dc.data.CSVLoader(\r\n",
        "      tasks=tasks, smiles_field=\"smile\", featurizer=featurizer)\r\n",
        "  dataset = loader.featurize(dataset_file, shard_size=8192)\r\n",
        "\r\n",
        "  transformers = [\r\n",
        "      dc.trans.NormalizationTransformer(transform_y=True, dataset=dataset)\r\n",
        "  ]\r\n",
        "  for transformer in transformers:\r\n",
        "    dataset = transformer.transform(dataset)\r\n",
        "\r\n",
        "  splitters = {\r\n",
        "      'index': dc.splits.IndexSplitter(),\r\n",
        "      'random': dc.splits.RandomSplitter(),\r\n",
        "      'scaffold': dc.splits.ScaffoldSplitter()\r\n",
        "  }\r\n",
        "  splitter = splitters[split]\r\n",
        "  train, valid, test = splitter.train_valid_test_split(dataset)\r\n",
        "  return tasks, (train, valid, test), transformers"
      ],
      "execution_count": null,
      "outputs": []
    },
    {
      "cell_type": "code",
      "metadata": {
        "id": "QlhS-E7tsFGa"
      },
      "source": [
        "def experiment(dataset_file, method='GraphConv', split='scaffold'):\r\n",
        "  featurizer = 'ECFP'\r\n",
        "  if method == 'GraphConv':\r\n",
        "    featurizer = 'GraphConv'\r\n",
        "  tasks, datasets, transformers = load_dataset(\r\n",
        "      dataset_file, featurizer=featurizer, split=split)\r\n",
        "  train, val, test = datasets\r\n",
        "\r\n",
        "  model = None\r\n",
        "  if method == 'GraphConv':\r\n",
        "    model = GraphConvModel(len(tasks), batch_size=BATCH_SIZE, mode=\"regression\")\r\n",
        "  elif method == 'RF':\r\n",
        "\r\n",
        "    def model_builder_rf(model_dir):\r\n",
        "      sklearn_model = RandomForestRegressor(n_estimators=100)\r\n",
        "      return dc.models.SklearnModel(sklearn_model, model_dir)\r\n",
        "\r\n",
        "    model = dc.models.SingletaskToMultitask(tasks, model_builder_rf)\r\n",
        "  elif method == 'SVR':\r\n",
        "\r\n",
        "    def model_builder_svr(model_dir):\r\n",
        "      sklearn_model = svm.SVR(kernel='linear')\r\n",
        "      return dc.models.SklearnModel(sklearn_model, model_dir)\r\n",
        "\r\n",
        "    model = dc.models.SingletaskToMultitask(tasks, model_builder_svr)\r\n",
        "\r\n",
        "  return model, train, val, test, transformers"
      ],
      "execution_count": null,
      "outputs": []
    },
    {
      "cell_type": "code",
      "metadata": {
        "id": "6V0o3cOfsGIb"
      },
      "source": [
        "def benchmark(  MODEL = \"GraphConv\", SPLIT = \"scaffold\",  DATASET = \"hppb.csv\"):\r\n",
        "\r\n",
        "\r\n",
        "  metric = dc.metrics.Metric(dc.metrics.pearson_r2_score, np.mean)\r\n",
        "\r\n",
        "  print(\"About to build model\")\r\n",
        "  model, train, val, test, transformers = experiment(\r\n",
        "      DATASET, method=MODEL, split=SPLIT)\r\n",
        "  if MODEL == 'GraphConv':\r\n",
        "    print(\"running GraphConv search\")\r\n",
        "    best_val_score = 0.0\r\n",
        "    train_score = 0.0\r\n",
        "    for l in range(0, MAX_EPOCH):\r\n",
        "      print(\"epoch %d\" % l)\r\n",
        "      model.fit(train, nb_epoch=1)\r\n",
        "      latest_train_score = model.evaluate(train, [metric],\r\n",
        "                                          transformers)['mean-pearson_r2_score']\r\n",
        "      latest_val_score = model.evaluate(val, [metric],\r\n",
        "                                        transformers)['mean-pearson_r2_score']\r\n",
        "      if latest_val_score > best_val_score:\r\n",
        "        best_val_score = latest_val_score\r\n",
        "        train_score = latest_train_score\r\n",
        "    print((MODEL, SPLIT, DATASET, train_score, best_val_score))\r\n",
        "  else:\r\n",
        "    model.fit(train)\r\n",
        "    train_score = model.evaluate(train, [metric],\r\n",
        "                                 transformers)['mean-pearson_r2_score']\r\n",
        "    val_score = model.evaluate(val, [metric],\r\n",
        "                               transformers)['mean-pearson_r2_score']\r\n",
        "    print((MODEL, SPLIT, DATASET, train_score, val_score))"
      ],
      "execution_count": null,
      "outputs": []
    },
    {
      "cell_type": "code",
      "metadata": {
        "id": "01NSdimVuZ47"
      },
      "source": [
        "benchmark()"
      ],
      "execution_count": null,
      "outputs": []
    },
    {
      "cell_type": "markdown",
      "metadata": {
        "id": "4i0ztN9W0sEI"
      },
      "source": [
        ""
      ]
    },
    {
      "cell_type": "code",
      "metadata": {
        "colab": {
          "base_uri": "https://localhost:8080/"
        },
        "id": "HELYCQ-py1O0",
        "outputId": "847776be-d40d-4f6c-98ae-04f98798c157"
      },
      "source": [
        "benchmark(  \"GraphConv\", \"scaffold\",  \"lipo.csv\")"
      ],
      "execution_count": null,
      "outputs": [
        {
          "output_type": "stream",
          "text": [
            "smiles_field is deprecated and will be removed in a future version of DeepChem.Use feature_field instead.\n"
          ],
          "name": "stderr"
        },
        {
          "output_type": "stream",
          "text": [
            "About to build model\n"
          ],
          "name": "stdout"
        },
        {
          "output_type": "stream",
          "text": [
            "/usr/local/lib/python3.7/site-packages/deepchem/data/data_loader.py:162: FutureWarning: featurize() is deprecated and has been renamed to create_dataset().featurize() will be removed in DeepChem 3.0\n",
            "  \"featurize() will be removed in DeepChem 3.0\", FutureWarning)\n"
          ],
          "name": "stderr"
        },
        {
          "output_type": "stream",
          "text": [
            "running GraphConv search\n",
            "epoch 0\n"
          ],
          "name": "stdout"
        },
        {
          "output_type": "stream",
          "text": [
            "/usr/local/lib/python3.7/dist-packages/tensorflow/python/framework/indexed_slices.py:437: UserWarning: Converting sparse IndexedSlices(IndexedSlices(indices=Tensor(\"gradient_tape/private__graph_conv_keras_model/graph_pool_1/Reshape_14:0\", shape=(547,), dtype=int32), values=Tensor(\"gradient_tape/private__graph_conv_keras_model/graph_pool_1/Reshape_13:0\", shape=(547, 64), dtype=float32), dense_shape=Tensor(\"gradient_tape/private__graph_conv_keras_model/graph_pool_1/Cast_4:0\", shape=(2,), dtype=int32))) to a dense Tensor of unknown shape. This may consume a large amount of memory.\n",
            "  \"shape. This may consume a large amount of memory.\" % value)\n",
            "/usr/local/lib/python3.7/dist-packages/tensorflow/python/framework/indexed_slices.py:437: UserWarning: Converting sparse IndexedSlices(IndexedSlices(indices=Tensor(\"gradient_tape/private__graph_conv_keras_model/graph_pool_1/Reshape_17:0\", shape=(3544,), dtype=int32), values=Tensor(\"gradient_tape/private__graph_conv_keras_model/graph_pool_1/Reshape_16:0\", shape=(3544, 64), dtype=float32), dense_shape=Tensor(\"gradient_tape/private__graph_conv_keras_model/graph_pool_1/Cast_5:0\", shape=(2,), dtype=int32))) to a dense Tensor of unknown shape. This may consume a large amount of memory.\n",
            "  \"shape. This may consume a large amount of memory.\" % value)\n",
            "/usr/local/lib/python3.7/dist-packages/tensorflow/python/framework/indexed_slices.py:437: UserWarning: Converting sparse IndexedSlices(IndexedSlices(indices=Tensor(\"gradient_tape/private__graph_conv_keras_model/graph_pool_1/Reshape_20:0\", shape=(3177,), dtype=int32), values=Tensor(\"gradient_tape/private__graph_conv_keras_model/graph_pool_1/Reshape_19:0\", shape=(3177, 64), dtype=float32), dense_shape=Tensor(\"gradient_tape/private__graph_conv_keras_model/graph_pool_1/Cast_6:0\", shape=(2,), dtype=int32))) to a dense Tensor of unknown shape. This may consume a large amount of memory.\n",
            "  \"shape. This may consume a large amount of memory.\" % value)\n",
            "/usr/local/lib/python3.7/dist-packages/tensorflow/python/framework/indexed_slices.py:437: UserWarning: Converting sparse IndexedSlices(IndexedSlices(indices=Tensor(\"gradient_tape/private__graph_conv_keras_model/graph_pool_1/Reshape_23:0\", shape=(192,), dtype=int32), values=Tensor(\"gradient_tape/private__graph_conv_keras_model/graph_pool_1/Reshape_22:0\", shape=(192, 64), dtype=float32), dense_shape=Tensor(\"gradient_tape/private__graph_conv_keras_model/graph_pool_1/Cast_7:0\", shape=(2,), dtype=int32))) to a dense Tensor of unknown shape. This may consume a large amount of memory.\n",
            "  \"shape. This may consume a large amount of memory.\" % value)\n",
            "/usr/local/lib/python3.7/dist-packages/tensorflow/python/framework/indexed_slices.py:437: UserWarning: Converting sparse IndexedSlices(IndexedSlices(indices=Tensor(\"gradient_tape/private__graph_conv_keras_model/graph_conv_1/Reshape_11:0\", shape=(547,), dtype=int32), values=Tensor(\"gradient_tape/private__graph_conv_keras_model/graph_conv_1/Reshape_10:0\", shape=(547, 64), dtype=float32), dense_shape=Tensor(\"gradient_tape/private__graph_conv_keras_model/graph_conv_1/Cast:0\", shape=(2,), dtype=int32))) to a dense Tensor of unknown shape. This may consume a large amount of memory.\n",
            "  \"shape. This may consume a large amount of memory.\" % value)\n",
            "/usr/local/lib/python3.7/dist-packages/tensorflow/python/framework/indexed_slices.py:437: UserWarning: Converting sparse IndexedSlices(IndexedSlices(indices=Tensor(\"gradient_tape/private__graph_conv_keras_model/graph_conv_1/Reshape_13:0\", shape=(3544,), dtype=int32), values=Tensor(\"gradient_tape/private__graph_conv_keras_model/graph_conv_1/Reshape_12:0\", shape=(3544, 64), dtype=float32), dense_shape=Tensor(\"gradient_tape/private__graph_conv_keras_model/graph_conv_1/Cast_1:0\", shape=(2,), dtype=int32))) to a dense Tensor of unknown shape. This may consume a large amount of memory.\n",
            "  \"shape. This may consume a large amount of memory.\" % value)\n",
            "/usr/local/lib/python3.7/dist-packages/tensorflow/python/framework/indexed_slices.py:437: UserWarning: Converting sparse IndexedSlices(IndexedSlices(indices=Tensor(\"gradient_tape/private__graph_conv_keras_model/graph_conv_1/Reshape_15:0\", shape=(3177,), dtype=int32), values=Tensor(\"gradient_tape/private__graph_conv_keras_model/graph_conv_1/Reshape_14:0\", shape=(3177, 64), dtype=float32), dense_shape=Tensor(\"gradient_tape/private__graph_conv_keras_model/graph_conv_1/Cast_2:0\", shape=(2,), dtype=int32))) to a dense Tensor of unknown shape. This may consume a large amount of memory.\n",
            "  \"shape. This may consume a large amount of memory.\" % value)\n",
            "/usr/local/lib/python3.7/dist-packages/tensorflow/python/framework/indexed_slices.py:437: UserWarning: Converting sparse IndexedSlices(IndexedSlices(indices=Tensor(\"gradient_tape/private__graph_conv_keras_model/graph_conv_1/Reshape_17:0\", shape=(192,), dtype=int32), values=Tensor(\"gradient_tape/private__graph_conv_keras_model/graph_conv_1/Reshape_16:0\", shape=(192, 64), dtype=float32), dense_shape=Tensor(\"gradient_tape/private__graph_conv_keras_model/graph_conv_1/Cast_3:0\", shape=(2,), dtype=int32))) to a dense Tensor of unknown shape. This may consume a large amount of memory.\n",
            "  \"shape. This may consume a large amount of memory.\" % value)\n",
            "/usr/local/lib/python3.7/dist-packages/tensorflow/python/framework/indexed_slices.py:437: UserWarning: Converting sparse IndexedSlices(IndexedSlices(indices=Tensor(\"gradient_tape/private__graph_conv_keras_model/graph_conv_1/Reshape_19:0\", shape=(0,), dtype=int32), values=Tensor(\"gradient_tape/private__graph_conv_keras_model/graph_conv_1/Reshape_18:0\", shape=(0, 64), dtype=float32), dense_shape=Tensor(\"gradient_tape/private__graph_conv_keras_model/graph_conv_1/Cast_4:0\", shape=(2,), dtype=int32))) to a dense Tensor of unknown shape. This may consume a large amount of memory.\n",
            "  \"shape. This may consume a large amount of memory.\" % value)\n",
            "/usr/local/lib/python3.7/dist-packages/tensorflow/python/framework/indexed_slices.py:437: UserWarning: Converting sparse IndexedSlices(IndexedSlices(indices=Tensor(\"gradient_tape/private__graph_conv_keras_model/graph_conv_1/Reshape_21:0\", shape=(0,), dtype=int32), values=Tensor(\"gradient_tape/private__graph_conv_keras_model/graph_conv_1/Reshape_20:0\", shape=(0, 64), dtype=float32), dense_shape=Tensor(\"gradient_tape/private__graph_conv_keras_model/graph_conv_1/Cast_5:0\", shape=(2,), dtype=int32))) to a dense Tensor of unknown shape. This may consume a large amount of memory.\n",
            "  \"shape. This may consume a large amount of memory.\" % value)\n",
            "/usr/local/lib/python3.7/dist-packages/tensorflow/python/framework/indexed_slices.py:437: UserWarning: Converting sparse IndexedSlices(IndexedSlices(indices=Tensor(\"gradient_tape/private__graph_conv_keras_model/graph_conv_1/Reshape_23:0\", shape=(0,), dtype=int32), values=Tensor(\"gradient_tape/private__graph_conv_keras_model/graph_conv_1/Reshape_22:0\", shape=(0, 64), dtype=float32), dense_shape=Tensor(\"gradient_tape/private__graph_conv_keras_model/graph_conv_1/Cast_6:0\", shape=(2,), dtype=int32))) to a dense Tensor of unknown shape. This may consume a large amount of memory.\n",
            "  \"shape. This may consume a large amount of memory.\" % value)\n",
            "/usr/local/lib/python3.7/dist-packages/tensorflow/python/framework/indexed_slices.py:437: UserWarning: Converting sparse IndexedSlices(IndexedSlices(indices=Tensor(\"gradient_tape/private__graph_conv_keras_model/graph_conv_1/Reshape_25:0\", shape=(0,), dtype=int32), values=Tensor(\"gradient_tape/private__graph_conv_keras_model/graph_conv_1/Reshape_24:0\", shape=(0, 64), dtype=float32), dense_shape=Tensor(\"gradient_tape/private__graph_conv_keras_model/graph_conv_1/Cast_7:0\", shape=(2,), dtype=int32))) to a dense Tensor of unknown shape. This may consume a large amount of memory.\n",
            "  \"shape. This may consume a large amount of memory.\" % value)\n",
            "/usr/local/lib/python3.7/dist-packages/tensorflow/python/framework/indexed_slices.py:437: UserWarning: Converting sparse IndexedSlices(IndexedSlices(indices=Tensor(\"gradient_tape/private__graph_conv_keras_model/graph_conv_1/Reshape_27:0\", shape=(0,), dtype=int32), values=Tensor(\"gradient_tape/private__graph_conv_keras_model/graph_conv_1/Reshape_26:0\", shape=(0, 64), dtype=float32), dense_shape=Tensor(\"gradient_tape/private__graph_conv_keras_model/graph_conv_1/Cast_8:0\", shape=(2,), dtype=int32))) to a dense Tensor of unknown shape. This may consume a large amount of memory.\n",
            "  \"shape. This may consume a large amount of memory.\" % value)\n",
            "/usr/local/lib/python3.7/dist-packages/tensorflow/python/framework/indexed_slices.py:437: UserWarning: Converting sparse IndexedSlices(IndexedSlices(indices=Tensor(\"gradient_tape/private__graph_conv_keras_model/graph_conv_1/Reshape_29:0\", shape=(0,), dtype=int32), values=Tensor(\"gradient_tape/private__graph_conv_keras_model/graph_conv_1/Reshape_28:0\", shape=(0, 64), dtype=float32), dense_shape=Tensor(\"gradient_tape/private__graph_conv_keras_model/graph_conv_1/Cast_9:0\", shape=(2,), dtype=int32))) to a dense Tensor of unknown shape. This may consume a large amount of memory.\n",
            "  \"shape. This may consume a large amount of memory.\" % value)\n",
            "/usr/local/lib/python3.7/dist-packages/tensorflow/python/framework/indexed_slices.py:437: UserWarning: Converting sparse IndexedSlices(IndexedSlices(indices=Tensor(\"gradient_tape/private__graph_conv_keras_model/graph_pool/Reshape_14:0\", shape=(547,), dtype=int32), values=Tensor(\"gradient_tape/private__graph_conv_keras_model/graph_pool/Reshape_13:0\", shape=(547, 64), dtype=float32), dense_shape=Tensor(\"gradient_tape/private__graph_conv_keras_model/graph_pool/Cast_4:0\", shape=(2,), dtype=int32))) to a dense Tensor of unknown shape. This may consume a large amount of memory.\n",
            "  \"shape. This may consume a large amount of memory.\" % value)\n",
            "/usr/local/lib/python3.7/dist-packages/tensorflow/python/framework/indexed_slices.py:437: UserWarning: Converting sparse IndexedSlices(IndexedSlices(indices=Tensor(\"gradient_tape/private__graph_conv_keras_model/graph_pool/Reshape_17:0\", shape=(3544,), dtype=int32), values=Tensor(\"gradient_tape/private__graph_conv_keras_model/graph_pool/Reshape_16:0\", shape=(3544, 64), dtype=float32), dense_shape=Tensor(\"gradient_tape/private__graph_conv_keras_model/graph_pool/Cast_5:0\", shape=(2,), dtype=int32))) to a dense Tensor of unknown shape. This may consume a large amount of memory.\n",
            "  \"shape. This may consume a large amount of memory.\" % value)\n",
            "/usr/local/lib/python3.7/dist-packages/tensorflow/python/framework/indexed_slices.py:437: UserWarning: Converting sparse IndexedSlices(IndexedSlices(indices=Tensor(\"gradient_tape/private__graph_conv_keras_model/graph_pool/Reshape_20:0\", shape=(3177,), dtype=int32), values=Tensor(\"gradient_tape/private__graph_conv_keras_model/graph_pool/Reshape_19:0\", shape=(3177, 64), dtype=float32), dense_shape=Tensor(\"gradient_tape/private__graph_conv_keras_model/graph_pool/Cast_6:0\", shape=(2,), dtype=int32))) to a dense Tensor of unknown shape. This may consume a large amount of memory.\n",
            "  \"shape. This may consume a large amount of memory.\" % value)\n",
            "/usr/local/lib/python3.7/dist-packages/tensorflow/python/framework/indexed_slices.py:437: UserWarning: Converting sparse IndexedSlices(IndexedSlices(indices=Tensor(\"gradient_tape/private__graph_conv_keras_model/graph_pool/Reshape_23:0\", shape=(192,), dtype=int32), values=Tensor(\"gradient_tape/private__graph_conv_keras_model/graph_pool/Reshape_22:0\", shape=(192, 64), dtype=float32), dense_shape=Tensor(\"gradient_tape/private__graph_conv_keras_model/graph_pool/Cast_7:0\", shape=(2,), dtype=int32))) to a dense Tensor of unknown shape. This may consume a large amount of memory.\n",
            "  \"shape. This may consume a large amount of memory.\" % value)\n",
            "/usr/local/lib/python3.7/dist-packages/tensorflow/python/framework/indexed_slices.py:437: UserWarning: Converting sparse IndexedSlices(IndexedSlices(indices=Tensor(\"gradient_tape/private__graph_conv_keras_model/graph_pool_1/Reshape_14:0\", shape=(604,), dtype=int32), values=Tensor(\"gradient_tape/private__graph_conv_keras_model/graph_pool_1/Reshape_13:0\", shape=(604, 64), dtype=float32), dense_shape=Tensor(\"gradient_tape/private__graph_conv_keras_model/graph_pool_1/Cast_4:0\", shape=(2,), dtype=int32))) to a dense Tensor of unknown shape. This may consume a large amount of memory.\n",
            "  \"shape. This may consume a large amount of memory.\" % value)\n",
            "/usr/local/lib/python3.7/dist-packages/tensorflow/python/framework/indexed_slices.py:437: UserWarning: Converting sparse IndexedSlices(IndexedSlices(indices=Tensor(\"gradient_tape/private__graph_conv_keras_model/graph_pool_1/Reshape_17:0\", shape=(3400,), dtype=int32), values=Tensor(\"gradient_tape/private__graph_conv_keras_model/graph_pool_1/Reshape_16:0\", shape=(3400, 64), dtype=float32), dense_shape=Tensor(\"gradient_tape/private__graph_conv_keras_model/graph_pool_1/Cast_5:0\", shape=(2,), dtype=int32))) to a dense Tensor of unknown shape. This may consume a large amount of memory.\n",
            "  \"shape. This may consume a large amount of memory.\" % value)\n",
            "/usr/local/lib/python3.7/dist-packages/tensorflow/python/framework/indexed_slices.py:437: UserWarning: Converting sparse IndexedSlices(IndexedSlices(indices=Tensor(\"gradient_tape/private__graph_conv_keras_model/graph_pool_1/Reshape_20:0\", shape=(3264,), dtype=int32), values=Tensor(\"gradient_tape/private__graph_conv_keras_model/graph_pool_1/Reshape_19:0\", shape=(3264, 64), dtype=float32), dense_shape=Tensor(\"gradient_tape/private__graph_conv_keras_model/graph_pool_1/Cast_6:0\", shape=(2,), dtype=int32))) to a dense Tensor of unknown shape. This may consume a large amount of memory.\n",
            "  \"shape. This may consume a large amount of memory.\" % value)\n",
            "/usr/local/lib/python3.7/dist-packages/tensorflow/python/framework/indexed_slices.py:437: UserWarning: Converting sparse IndexedSlices(IndexedSlices(indices=Tensor(\"gradient_tape/private__graph_conv_keras_model/graph_pool_1/Reshape_23:0\", shape=(236,), dtype=int32), values=Tensor(\"gradient_tape/private__graph_conv_keras_model/graph_pool_1/Reshape_22:0\", shape=(236, 64), dtype=float32), dense_shape=Tensor(\"gradient_tape/private__graph_conv_keras_model/graph_pool_1/Cast_7:0\", shape=(2,), dtype=int32))) to a dense Tensor of unknown shape. This may consume a large amount of memory.\n",
            "  \"shape. This may consume a large amount of memory.\" % value)\n",
            "/usr/local/lib/python3.7/dist-packages/tensorflow/python/framework/indexed_slices.py:437: UserWarning: Converting sparse IndexedSlices(IndexedSlices(indices=Tensor(\"gradient_tape/private__graph_conv_keras_model/graph_conv_1/Reshape_11:0\", shape=(604,), dtype=int32), values=Tensor(\"gradient_tape/private__graph_conv_keras_model/graph_conv_1/Reshape_10:0\", shape=(604, 64), dtype=float32), dense_shape=Tensor(\"gradient_tape/private__graph_conv_keras_model/graph_conv_1/Cast:0\", shape=(2,), dtype=int32))) to a dense Tensor of unknown shape. This may consume a large amount of memory.\n",
            "  \"shape. This may consume a large amount of memory.\" % value)\n",
            "/usr/local/lib/python3.7/dist-packages/tensorflow/python/framework/indexed_slices.py:437: UserWarning: Converting sparse IndexedSlices(IndexedSlices(indices=Tensor(\"gradient_tape/private__graph_conv_keras_model/graph_conv_1/Reshape_13:0\", shape=(3400,), dtype=int32), values=Tensor(\"gradient_tape/private__graph_conv_keras_model/graph_conv_1/Reshape_12:0\", shape=(3400, 64), dtype=float32), dense_shape=Tensor(\"gradient_tape/private__graph_conv_keras_model/graph_conv_1/Cast_1:0\", shape=(2,), dtype=int32))) to a dense Tensor of unknown shape. This may consume a large amount of memory.\n",
            "  \"shape. This may consume a large amount of memory.\" % value)\n",
            "/usr/local/lib/python3.7/dist-packages/tensorflow/python/framework/indexed_slices.py:437: UserWarning: Converting sparse IndexedSlices(IndexedSlices(indices=Tensor(\"gradient_tape/private__graph_conv_keras_model/graph_conv_1/Reshape_15:0\", shape=(3264,), dtype=int32), values=Tensor(\"gradient_tape/private__graph_conv_keras_model/graph_conv_1/Reshape_14:0\", shape=(3264, 64), dtype=float32), dense_shape=Tensor(\"gradient_tape/private__graph_conv_keras_model/graph_conv_1/Cast_2:0\", shape=(2,), dtype=int32))) to a dense Tensor of unknown shape. This may consume a large amount of memory.\n",
            "  \"shape. This may consume a large amount of memory.\" % value)\n",
            "/usr/local/lib/python3.7/dist-packages/tensorflow/python/framework/indexed_slices.py:437: UserWarning: Converting sparse IndexedSlices(IndexedSlices(indices=Tensor(\"gradient_tape/private__graph_conv_keras_model/graph_conv_1/Reshape_17:0\", shape=(236,), dtype=int32), values=Tensor(\"gradient_tape/private__graph_conv_keras_model/graph_conv_1/Reshape_16:0\", shape=(236, 64), dtype=float32), dense_shape=Tensor(\"gradient_tape/private__graph_conv_keras_model/graph_conv_1/Cast_3:0\", shape=(2,), dtype=int32))) to a dense Tensor of unknown shape. This may consume a large amount of memory.\n",
            "  \"shape. This may consume a large amount of memory.\" % value)\n",
            "/usr/local/lib/python3.7/dist-packages/tensorflow/python/framework/indexed_slices.py:437: UserWarning: Converting sparse IndexedSlices(IndexedSlices(indices=Tensor(\"gradient_tape/private__graph_conv_keras_model/graph_pool/Reshape_14:0\", shape=(604,), dtype=int32), values=Tensor(\"gradient_tape/private__graph_conv_keras_model/graph_pool/Reshape_13:0\", shape=(604, 64), dtype=float32), dense_shape=Tensor(\"gradient_tape/private__graph_conv_keras_model/graph_pool/Cast_4:0\", shape=(2,), dtype=int32))) to a dense Tensor of unknown shape. This may consume a large amount of memory.\n",
            "  \"shape. This may consume a large amount of memory.\" % value)\n",
            "/usr/local/lib/python3.7/dist-packages/tensorflow/python/framework/indexed_slices.py:437: UserWarning: Converting sparse IndexedSlices(IndexedSlices(indices=Tensor(\"gradient_tape/private__graph_conv_keras_model/graph_pool/Reshape_17:0\", shape=(3400,), dtype=int32), values=Tensor(\"gradient_tape/private__graph_conv_keras_model/graph_pool/Reshape_16:0\", shape=(3400, 64), dtype=float32), dense_shape=Tensor(\"gradient_tape/private__graph_conv_keras_model/graph_pool/Cast_5:0\", shape=(2,), dtype=int32))) to a dense Tensor of unknown shape. This may consume a large amount of memory.\n",
            "  \"shape. This may consume a large amount of memory.\" % value)\n",
            "/usr/local/lib/python3.7/dist-packages/tensorflow/python/framework/indexed_slices.py:437: UserWarning: Converting sparse IndexedSlices(IndexedSlices(indices=Tensor(\"gradient_tape/private__graph_conv_keras_model/graph_pool/Reshape_20:0\", shape=(3264,), dtype=int32), values=Tensor(\"gradient_tape/private__graph_conv_keras_model/graph_pool/Reshape_19:0\", shape=(3264, 64), dtype=float32), dense_shape=Tensor(\"gradient_tape/private__graph_conv_keras_model/graph_pool/Cast_6:0\", shape=(2,), dtype=int32))) to a dense Tensor of unknown shape. This may consume a large amount of memory.\n",
            "  \"shape. This may consume a large amount of memory.\" % value)\n",
            "/usr/local/lib/python3.7/dist-packages/tensorflow/python/framework/indexed_slices.py:437: UserWarning: Converting sparse IndexedSlices(IndexedSlices(indices=Tensor(\"gradient_tape/private__graph_conv_keras_model/graph_pool/Reshape_23:0\", shape=(236,), dtype=int32), values=Tensor(\"gradient_tape/private__graph_conv_keras_model/graph_pool/Reshape_22:0\", shape=(236, 64), dtype=float32), dense_shape=Tensor(\"gradient_tape/private__graph_conv_keras_model/graph_pool/Cast_7:0\", shape=(2,), dtype=int32))) to a dense Tensor of unknown shape. This may consume a large amount of memory.\n",
            "  \"shape. This may consume a large amount of memory.\" % value)\n",
            "/usr/local/lib/python3.7/dist-packages/tensorflow/python/framework/indexed_slices.py:437: UserWarning: Converting sparse IndexedSlices(IndexedSlices(indices=Tensor(\"gradient_tape/private__graph_conv_keras_model/graph_pool_1/Reshape_14:0\", shape=(None,), dtype=int32), values=Tensor(\"gradient_tape/private__graph_conv_keras_model/graph_pool_1/Reshape_13:0\", shape=(None, 64), dtype=float32), dense_shape=Tensor(\"gradient_tape/private__graph_conv_keras_model/graph_pool_1/Cast_4:0\", shape=(2,), dtype=int32))) to a dense Tensor of unknown shape. This may consume a large amount of memory.\n",
            "  \"shape. This may consume a large amount of memory.\" % value)\n",
            "/usr/local/lib/python3.7/dist-packages/tensorflow/python/framework/indexed_slices.py:437: UserWarning: Converting sparse IndexedSlices(IndexedSlices(indices=Tensor(\"gradient_tape/private__graph_conv_keras_model/graph_pool_1/Reshape_17:0\", shape=(None,), dtype=int32), values=Tensor(\"gradient_tape/private__graph_conv_keras_model/graph_pool_1/Reshape_16:0\", shape=(None, 64), dtype=float32), dense_shape=Tensor(\"gradient_tape/private__graph_conv_keras_model/graph_pool_1/Cast_5:0\", shape=(2,), dtype=int32))) to a dense Tensor of unknown shape. This may consume a large amount of memory.\n",
            "  \"shape. This may consume a large amount of memory.\" % value)\n",
            "/usr/local/lib/python3.7/dist-packages/tensorflow/python/framework/indexed_slices.py:437: UserWarning: Converting sparse IndexedSlices(IndexedSlices(indices=Tensor(\"gradient_tape/private__graph_conv_keras_model/graph_pool_1/Reshape_20:0\", shape=(None,), dtype=int32), values=Tensor(\"gradient_tape/private__graph_conv_keras_model/graph_pool_1/Reshape_19:0\", shape=(None, 64), dtype=float32), dense_shape=Tensor(\"gradient_tape/private__graph_conv_keras_model/graph_pool_1/Cast_6:0\", shape=(2,), dtype=int32))) to a dense Tensor of unknown shape. This may consume a large amount of memory.\n",
            "  \"shape. This may consume a large amount of memory.\" % value)\n",
            "/usr/local/lib/python3.7/dist-packages/tensorflow/python/framework/indexed_slices.py:437: UserWarning: Converting sparse IndexedSlices(IndexedSlices(indices=Tensor(\"gradient_tape/private__graph_conv_keras_model/graph_pool_1/Reshape_23:0\", shape=(None,), dtype=int32), values=Tensor(\"gradient_tape/private__graph_conv_keras_model/graph_pool_1/Reshape_22:0\", shape=(None, 64), dtype=float32), dense_shape=Tensor(\"gradient_tape/private__graph_conv_keras_model/graph_pool_1/Cast_7:0\", shape=(2,), dtype=int32))) to a dense Tensor of unknown shape. This may consume a large amount of memory.\n",
            "  \"shape. This may consume a large amount of memory.\" % value)\n",
            "/usr/local/lib/python3.7/dist-packages/tensorflow/python/framework/indexed_slices.py:437: UserWarning: Converting sparse IndexedSlices(IndexedSlices(indices=Tensor(\"gradient_tape/private__graph_conv_keras_model/graph_conv_1/Reshape_11:0\", shape=(None,), dtype=int32), values=Tensor(\"gradient_tape/private__graph_conv_keras_model/graph_conv_1/Reshape_10:0\", shape=(None, 64), dtype=float32), dense_shape=Tensor(\"gradient_tape/private__graph_conv_keras_model/graph_conv_1/Cast:0\", shape=(2,), dtype=int32))) to a dense Tensor of unknown shape. This may consume a large amount of memory.\n",
            "  \"shape. This may consume a large amount of memory.\" % value)\n",
            "/usr/local/lib/python3.7/dist-packages/tensorflow/python/framework/indexed_slices.py:437: UserWarning: Converting sparse IndexedSlices(IndexedSlices(indices=Tensor(\"gradient_tape/private__graph_conv_keras_model/graph_conv_1/Reshape_13:0\", shape=(None,), dtype=int32), values=Tensor(\"gradient_tape/private__graph_conv_keras_model/graph_conv_1/Reshape_12:0\", shape=(None, 64), dtype=float32), dense_shape=Tensor(\"gradient_tape/private__graph_conv_keras_model/graph_conv_1/Cast_1:0\", shape=(2,), dtype=int32))) to a dense Tensor of unknown shape. This may consume a large amount of memory.\n",
            "  \"shape. This may consume a large amount of memory.\" % value)\n",
            "/usr/local/lib/python3.7/dist-packages/tensorflow/python/framework/indexed_slices.py:437: UserWarning: Converting sparse IndexedSlices(IndexedSlices(indices=Tensor(\"gradient_tape/private__graph_conv_keras_model/graph_conv_1/Reshape_15:0\", shape=(None,), dtype=int32), values=Tensor(\"gradient_tape/private__graph_conv_keras_model/graph_conv_1/Reshape_14:0\", shape=(None, 64), dtype=float32), dense_shape=Tensor(\"gradient_tape/private__graph_conv_keras_model/graph_conv_1/Cast_2:0\", shape=(2,), dtype=int32))) to a dense Tensor of unknown shape. This may consume a large amount of memory.\n",
            "  \"shape. This may consume a large amount of memory.\" % value)\n",
            "/usr/local/lib/python3.7/dist-packages/tensorflow/python/framework/indexed_slices.py:437: UserWarning: Converting sparse IndexedSlices(IndexedSlices(indices=Tensor(\"gradient_tape/private__graph_conv_keras_model/graph_conv_1/Reshape_17:0\", shape=(None,), dtype=int32), values=Tensor(\"gradient_tape/private__graph_conv_keras_model/graph_conv_1/Reshape_16:0\", shape=(None, 64), dtype=float32), dense_shape=Tensor(\"gradient_tape/private__graph_conv_keras_model/graph_conv_1/Cast_3:0\", shape=(2,), dtype=int32))) to a dense Tensor of unknown shape. This may consume a large amount of memory.\n",
            "  \"shape. This may consume a large amount of memory.\" % value)\n",
            "/usr/local/lib/python3.7/dist-packages/tensorflow/python/framework/indexed_slices.py:437: UserWarning: Converting sparse IndexedSlices(IndexedSlices(indices=Tensor(\"gradient_tape/private__graph_conv_keras_model/graph_pool/Reshape_14:0\", shape=(None,), dtype=int32), values=Tensor(\"gradient_tape/private__graph_conv_keras_model/graph_pool/Reshape_13:0\", shape=(None, 64), dtype=float32), dense_shape=Tensor(\"gradient_tape/private__graph_conv_keras_model/graph_pool/Cast_4:0\", shape=(2,), dtype=int32))) to a dense Tensor of unknown shape. This may consume a large amount of memory.\n",
            "  \"shape. This may consume a large amount of memory.\" % value)\n",
            "/usr/local/lib/python3.7/dist-packages/tensorflow/python/framework/indexed_slices.py:437: UserWarning: Converting sparse IndexedSlices(IndexedSlices(indices=Tensor(\"gradient_tape/private__graph_conv_keras_model/graph_pool/Reshape_17:0\", shape=(None,), dtype=int32), values=Tensor(\"gradient_tape/private__graph_conv_keras_model/graph_pool/Reshape_16:0\", shape=(None, 64), dtype=float32), dense_shape=Tensor(\"gradient_tape/private__graph_conv_keras_model/graph_pool/Cast_5:0\", shape=(2,), dtype=int32))) to a dense Tensor of unknown shape. This may consume a large amount of memory.\n",
            "  \"shape. This may consume a large amount of memory.\" % value)\n",
            "/usr/local/lib/python3.7/dist-packages/tensorflow/python/framework/indexed_slices.py:437: UserWarning: Converting sparse IndexedSlices(IndexedSlices(indices=Tensor(\"gradient_tape/private__graph_conv_keras_model/graph_pool/Reshape_20:0\", shape=(None,), dtype=int32), values=Tensor(\"gradient_tape/private__graph_conv_keras_model/graph_pool/Reshape_19:0\", shape=(None, 64), dtype=float32), dense_shape=Tensor(\"gradient_tape/private__graph_conv_keras_model/graph_pool/Cast_6:0\", shape=(2,), dtype=int32))) to a dense Tensor of unknown shape. This may consume a large amount of memory.\n",
            "  \"shape. This may consume a large amount of memory.\" % value)\n",
            "/usr/local/lib/python3.7/dist-packages/tensorflow/python/framework/indexed_slices.py:437: UserWarning: Converting sparse IndexedSlices(IndexedSlices(indices=Tensor(\"gradient_tape/private__graph_conv_keras_model/graph_pool/Reshape_23:0\", shape=(None,), dtype=int32), values=Tensor(\"gradient_tape/private__graph_conv_keras_model/graph_pool/Reshape_22:0\", shape=(None, 64), dtype=float32), dense_shape=Tensor(\"gradient_tape/private__graph_conv_keras_model/graph_pool/Cast_7:0\", shape=(2,), dtype=int32))) to a dense Tensor of unknown shape. This may consume a large amount of memory.\n",
            "  \"shape. This may consume a large amount of memory.\" % value)\n"
          ],
          "name": "stderr"
        },
        {
          "output_type": "stream",
          "text": [
            "epoch 1\n",
            "epoch 2\n",
            "epoch 3\n",
            "epoch 4\n",
            "epoch 5\n",
            "epoch 6\n",
            "epoch 7\n",
            "epoch 8\n",
            "epoch 9\n",
            "epoch 10\n",
            "epoch 11\n",
            "epoch 12\n",
            "epoch 13\n",
            "epoch 14\n",
            "epoch 15\n",
            "epoch 16\n",
            "epoch 17\n",
            "epoch 18\n",
            "epoch 19\n",
            "epoch 20\n",
            "epoch 21\n",
            "epoch 22\n",
            "epoch 23\n",
            "epoch 24\n",
            "epoch 25\n",
            "epoch 26\n",
            "epoch 27\n",
            "epoch 28\n",
            "epoch 29\n",
            "epoch 30\n",
            "epoch 31\n",
            "epoch 32\n",
            "epoch 33\n",
            "epoch 34\n",
            "epoch 35\n",
            "epoch 36\n",
            "epoch 37\n",
            "epoch 38\n",
            "epoch 39\n",
            "epoch 40\n",
            "epoch 41\n",
            "epoch 42\n",
            "epoch 43\n",
            "epoch 44\n",
            "epoch 45\n",
            "epoch 46\n",
            "epoch 47\n",
            "epoch 48\n",
            "epoch 49\n",
            "('GraphConv', 'scaffold', 'lipo.csv', 0.9408271374877054, 0.4319239368292331)\n"
          ],
          "name": "stdout"
        }
      ]
    },
    {
      "cell_type": "code",
      "metadata": {
        "colab": {
          "base_uri": "https://localhost:8080/"
        },
        "id": "66HH-pkB0M_Z",
        "outputId": "5c7f683a-341f-412a-b9a4-259beb5a68ac"
      },
      "source": [
        "benchmark(\"RF\", \"scaffold\",  \"lipo.csv\")"
      ],
      "execution_count": null,
      "outputs": [
        {
          "output_type": "stream",
          "text": [
            "smiles_field is deprecated and will be removed in a future version of DeepChem.Use feature_field instead.\n"
          ],
          "name": "stderr"
        },
        {
          "output_type": "stream",
          "text": [
            "About to build model\n"
          ],
          "name": "stdout"
        },
        {
          "output_type": "stream",
          "text": [
            "/usr/local/lib/python3.7/site-packages/deepchem/data/data_loader.py:162: FutureWarning: featurize() is deprecated and has been renamed to create_dataset().featurize() will be removed in DeepChem 3.0\n",
            "  \"featurize() will be removed in DeepChem 3.0\", FutureWarning)\n"
          ],
          "name": "stderr"
        },
        {
          "output_type": "stream",
          "text": [
            "('RF', 'scaffold', 'lipo.csv', 0.9551710579895444, 0.3258579741272746)\n"
          ],
          "name": "stdout"
        }
      ]
    },
    {
      "cell_type": "code",
      "metadata": {
        "colab": {
          "base_uri": "https://localhost:8080/"
        },
        "id": "DKLNd9DL0QPs",
        "outputId": "e29b2ce4-31ed-4a90-aabe-4c3b34250273"
      },
      "source": [
        "benchmark(  \"SVR\", \"scaffold\",  \"lipo.csv\")"
      ],
      "execution_count": null,
      "outputs": [
        {
          "output_type": "stream",
          "text": [
            "smiles_field is deprecated and will be removed in a future version of DeepChem.Use feature_field instead.\n"
          ],
          "name": "stderr"
        },
        {
          "output_type": "stream",
          "text": [
            "About to build model\n"
          ],
          "name": "stdout"
        },
        {
          "output_type": "stream",
          "text": [
            "/usr/local/lib/python3.7/site-packages/deepchem/data/data_loader.py:162: FutureWarning: featurize() is deprecated and has been renamed to create_dataset().featurize() will be removed in DeepChem 3.0\n",
            "  \"featurize() will be removed in DeepChem 3.0\", FutureWarning)\n"
          ],
          "name": "stderr"
        },
        {
          "output_type": "stream",
          "text": [
            "('SVR', 'scaffold', 'lipo.csv', 0.6864868384142518, 0.2568712547623518)\n"
          ],
          "name": "stdout"
        }
      ]
    }
  ]
}