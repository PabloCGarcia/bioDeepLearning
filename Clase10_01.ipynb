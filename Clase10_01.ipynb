{
  "nbformat": 4,
  "nbformat_minor": 0,
  "metadata": {
    "colab": {
      "name": "Clase10-01.ipynb",
      "provenance": [],
      "collapsed_sections": [],
      "authorship_tag": "ABX9TyN0X1jB7gBSBLvmS4+7BXdy",
      "include_colab_link": true
    },
    "kernelspec": {
      "name": "python3",
      "display_name": "Python 3"
    },
    "accelerator": "GPU"
  },
  "cells": [
    {
      "cell_type": "markdown",
      "metadata": {
        "id": "view-in-github",
        "colab_type": "text"
      },
      "source": [
        "<a href=\"https://colab.research.google.com/github/PabloCGarcia/bioDeepLearning/blob/main/Clase10_01.ipynb\" target=\"_parent\"><img src=\"https://colab.research.google.com/assets/colab-badge.svg\" alt=\"Open In Colab\"/></a>"
      ]
    },
    {
      "cell_type": "markdown",
      "metadata": {
        "id": "dY9isCLX1Qca"
      },
      "source": [
        "Clase de introducción de deepchem, experimentos con deep learning con datasets conocidos"
      ]
    },
    {
      "cell_type": "code",
      "metadata": {
        "id": "WEFWsZon0nhZ",
        "colab": {
          "base_uri": "https://localhost:8080/"
        },
        "outputId": "f12b1094-d803-4701-aace-d6d964ab2e81"
      },
      "source": [
        "#!curl -Lo conda_installer.py https://raw.githubusercontent.com/deepchem/deepchem/master/scripts/colab_install.py\r\n",
        "#import conda_installer\r\n",
        "#conda_installer.install()\r\n",
        "#!/root/miniconda/bin/conda info -e\r\n",
        "!pip install -q condacolab\r\n",
        "import condacolab\r\n",
        "condacolab.install()"
      ],
      "execution_count": 1,
      "outputs": [
        {
          "output_type": "stream",
          "text": [
            "⏬ Downloading https://github.com/jaimergp/miniforge/releases/latest/download/Mambaforge-colab-Linux-x86_64.sh...\n",
            "📦 Installing...\n",
            "📌 Adjusting configuration...\n",
            "🩹 Patching environment...\n",
            "⏲ Done in 0:00:32\n",
            "🔁 Restarting kernel...\n"
          ],
          "name": "stdout"
        }
      ]
    },
    {
      "cell_type": "code",
      "metadata": {
        "id": "B3p9WzwBIoW_",
        "colab": {
          "base_uri": "https://localhost:8080/"
        },
        "outputId": "59b2d7a6-e01a-4ffa-dd0a-59f708377cd3"
      },
      "source": [
        "import condacolab\r\n",
        "condacolab.check()"
      ],
      "execution_count": 1,
      "outputs": [
        {
          "output_type": "stream",
          "text": [
            "✨🍰✨ Everything looks OK!\n"
          ],
          "name": "stdout"
        }
      ]
    },
    {
      "cell_type": "code",
      "metadata": {
        "id": "XYQmQqejIrcb",
        "colab": {
          "base_uri": "https://localhost:8080/"
        },
        "outputId": "a59edd7c-8524-48fc-9926-d3001b4d3996"
      },
      "source": [
        "!conda install -y -c rdkit rdkit==2020.09.2"
      ],
      "execution_count": 2,
      "outputs": [
        {
          "output_type": "stream",
          "text": [
            "Collecting package metadata (current_repodata.json): - \b\b\\ \b\b| \b\b/ \b\b- \b\b\\ \b\b| \b\b/ \b\b- \b\b\\ \b\b| \b\b/ \b\b- \b\b\\ \b\b| \b\b/ \b\b- \b\b\\ \b\b| \b\b/ \b\b- \b\b\\ \b\b| \b\b/ \b\b- \b\b\\ \b\b| \b\b/ \b\b- \b\b\\ \b\b| \b\b/ \b\b- \b\b\\ \b\b| \b\b/ \b\b- \b\b\\ \b\b| \b\b/ \b\b- \b\b\\ \b\b| \b\b/ \b\b- \b\b\\ \b\b| \b\b/ \b\b- \b\b\\ \b\b| \b\b/ \b\b- \b\b\\ \b\b| \b\b/ \b\b- \b\b\\ \b\b| \b\b/ \b\bdone\n",
            "Solving environment: \\ \b\bfailed with initial frozen solve. Retrying with flexible solve.\n",
            "Collecting package metadata (repodata.json): / \b\b- \b\b\\ \b\b| \b\b/ \b\b- \b\b\\ \b\b| \b\b/ \b\b- \b\b\\ \b\b| \b\b/ \b\b- \b\b\\ \b\b| \b\b/ \b\b- \b\b\\ \b\b| \b\b/ \b\b- \b\b\\ \b\b| \b\b/ \b\b- \b\b\\ \b\b| \b\b/ \b\b- \b\b\\ \b\b| \b\b/ \b\b- \b\b\\ \b\b| \b\b/ \b\b- \b\b\\ \b\b| \b\b/ \b\b- \b\b\\ \b\b| \b\b/ \b\b- \b\b\\ \b\b| \b\b/ \b\b- \b\b\\ \b\b| \b\b/ \b\b- \b\b\\ \b\b| \b\b/ \b\b- \b\b\\ \b\b| \b\b/ \b\b- \b\b\\ \b\b| \b\b/ \b\b- \b\b\\ \b\b| \b\b/ \b\b- \b\b\\ \b\b| \b\b/ \b\b- \b\b\\ \b\b| \b\b/ \b\b- \b\b\\ \b\b| \b\b/ \b\b- \b\b\\ \b\b| \b\b/ \b\b- \b\b\\ \b\b| \b\b/ \b\b- \b\b\\ \b\b| \b\b/ \b\b- \b\b\\ \b\b| \b\b/ \b\b- \b\b\\ \b\b| \b\b/ \b\b- \b\b\\ \b\b| \b\b/ \b\b- \b\b\\ \b\b| \b\b/ \b\b- \b\b\\ \b\b| \b\b/ \b\b- \b\b\\ \b\b| \b\b/ \b\b- \b\b\\ \b\b| \b\b/ \b\b- \b\b\\ \b\b| \b\b/ \b\b- \b\b\\ \b\b| \b\b/ \b\b- \b\b\\ \b\b| \b\b/ \b\b- \b\b\\ \b\b| \b\b/ \b\b- \b\b\\ \b\b| \b\b/ \b\b- \b\b\\ \b\b| \b\b/ \b\b- \b\b\\ \b\b| \b\b/ \b\b- \b\b\\ \b\b| \b\b/ \b\b- \b\b\\ \b\b| \b\b/ \b\b- \b\b\\ \b\b| \b\b/ \b\b- \b\b\\ \b\b| \b\b/ \b\b- \b\b\\ \b\b| \b\b/ \b\b- \b\b\\ \b\b| \b\b/ \b\b- \b\b\\ \b\b| \b\b/ \b\b- \b\b\\ \b\b| \b\b/ \b\b- \b\b\\ \b\b| \b\b/ \b\b- \b\b\\ \b\b| \b\b/ \b\bdone\n",
            "Solving environment: \\ \b\b| \b\b/ \b\b- \b\b\\ \b\b| \b\b/ \b\b- \b\b\\ \b\b| \b\b/ \b\b- \b\b\\ \b\b| \b\b/ \b\b- \b\b\\ \b\b| \b\b/ \b\b- \b\b\\ \b\b| \b\b/ \b\b- \b\b\\ \b\b| \b\b/ \b\b- \b\b\\ \b\b| \b\b/ \b\b- \b\b\\ \b\b| \b\b/ \b\b- \b\b\\ \b\b| \b\b/ \b\b- \b\b\\ \b\b| \b\b/ \b\b- \b\b\\ \b\b| \b\b/ \b\b- \b\b\\ \b\b| \b\b/ \b\b- \b\b\\ \b\b| \b\b/ \b\b- \b\b\\ \b\b| \b\b/ \b\b- \b\b\\ \b\b| \b\b/ \b\b- \b\b\\ \b\b| \b\b/ \b\b- \b\b\\ \b\b| \b\b/ \b\b- \b\b\\ \b\b| \b\b/ \b\b- \b\b\\ \b\b| \b\b/ \b\b- \b\b\\ \b\b| \b\b/ \b\b- \b\b\\ \b\b| \b\b/ \b\b- \b\b\\ \b\b| \b\b/ \b\b- \b\b\\ \b\b| \b\b/ \b\b- \b\b\\ \b\b| \b\b/ \b\b- \b\b\\ \b\b| \b\b/ \b\b- \b\b\\ \b\b| \b\b/ \b\b- \b\b\\ \b\bfailed with initial frozen solve. Retrying with flexible solve.\n",
            "Solving environment: / \b\b- \b\b\\ \b\b| \b\b/ \b\b- \b\b\\ \b\b| \b\b/ \b\b- \b\b\\ \b\b| \b\b/ \b\b- \b\b\\ \b\b| \b\b/ \b\b- \b\b\\ \b\b| \b\b/ \b\b- \b\b\\ \b\b| \b\b/ \b\b- \b\b\\ \b\b| \b\b/ \b\b- \b\b\\ \b\b| \b\b/ \b\b- \b\b\\ \b\b| \b\b/ \b\b- \b\b\\ \b\b| \b\b/ \b\b- \b\b\\ \b\b| \b\b/ \b\b- \b\b\\ \b\b| \b\b/ \b\b- \b\b\\ \b\b| \b\b/ \b\b- \b\b\\ \b\b| \b\b/ \b\b- \b\b\\ \b\b| \b\b/ \b\b- \b\b\\ \b\b| \b\b/ \b\b- \b\b\\ \b\b| \b\b/ \b\b- \b\b\\ \b\b| \b\b/ \b\b- \b\b\\ \b\b| \b\b/ \b\b- \b\b\\ \b\b| \b\b/ \b\b- \b\b\\ \b\b| \b\b/ \b\b- \b\b\\ \b\b| \b\b/ \b\b- \b\b\\ \b\b| \b\b/ \b\b- \b\b\\ \b\b| \b\b/ \b\b- \b\b\\ \b\b| \b\b/ \b\b- \b\b\\ \b\b| \b\b/ \b\b- \b\b\\ \b\b| \b\b/ \b\b- \b\b\\ \b\b| \b\b/ \b\b- \b\b\\ \b\b| \b\b/ \b\b- \b\b\\ \b\b| \b\b/ \b\b- \b\b\\ \b\b| \b\b/ \b\b- \b\b\\ \b\b| \b\b/ \b\b- \b\bdone\n",
            "\n",
            "## Package Plan ##\n",
            "\n",
            "  environment location: /usr/local\n",
            "\n",
            "  added / updated specs:\n",
            "    - rdkit==2020.09.2\n",
            "\n",
            "\n",
            "The following packages will be downloaded:\n",
            "\n",
            "    package                    |            build\n",
            "    ---------------------------|-----------------\n",
            "    boost-1.74.0               |   py37h6dcda5c_3         342 KB  conda-forge\n",
            "    boost-cpp-1.74.0           |       h9d3c048_1        16.3 MB  conda-forge\n",
            "    brotlipy-0.7.0             |py37h5e8e339_1001         341 KB  conda-forge\n",
            "    cairo-1.16.0               |    h7979940_1007         1.5 MB  conda-forge\n",
            "    certifi-2020.12.5          |   py37h89c1867_1         143 KB  conda-forge\n",
            "    cffi-1.14.5                |   py37hc58025e_0         225 KB  conda-forge\n",
            "    chardet-4.0.0              |   py37h89c1867_1         204 KB  conda-forge\n",
            "    conda-4.9.2                |   py37h89c1867_0         3.0 MB  conda-forge\n",
            "    conda-package-handling-1.7.2|   py37hb5d75c8_0         915 KB  conda-forge\n",
            "    cryptography-3.4.4         |   py37hf1a17b8_0         636 KB  conda-forge\n",
            "    cycler-0.10.0              |             py_2           9 KB  conda-forge\n",
            "    fontconfig-2.13.1          |    hba837de_1004         344 KB  conda-forge\n",
            "    freetype-2.10.4            |       h0708190_1         890 KB  conda-forge\n",
            "    gettext-0.19.8.1           |    h0b5b191_1005         3.6 MB  conda-forge\n",
            "    jpeg-9d                    |       h36c2ea0_0         264 KB  conda-forge\n",
            "    kiwisolver-1.3.1           |   py37h2527ec5_1          78 KB  conda-forge\n",
            "    lcms2-2.12                 |       hddcbb42_0         443 KB  conda-forge\n",
            "    libblas-3.9.0              |       8_openblas          11 KB  conda-forge\n",
            "    libcblas-3.9.0             |       8_openblas          11 KB  conda-forge\n",
            "    libgfortran-ng-9.3.0       |      hff62375_18          22 KB  conda-forge\n",
            "    libgfortran5-9.3.0         |      hff62375_18         2.0 MB  conda-forge\n",
            "    libglib-2.66.7             |       h3e27bee_1         3.0 MB  conda-forge\n",
            "    liblapack-3.9.0            |       8_openblas          11 KB  conda-forge\n",
            "    libopenblas-0.3.12         |pthreads_h4812303_1         8.9 MB  conda-forge\n",
            "    libpng-1.6.37              |       h21135ba_2         306 KB  conda-forge\n",
            "    libtiff-4.2.0              |       hdc55705_0         633 KB  conda-forge\n",
            "    libuuid-2.32.1             |    h7f98852_1000          28 KB  conda-forge\n",
            "    libwebp-base-1.2.0         |       h7f98852_0         808 KB  conda-forge\n",
            "    libxcb-1.13                |    h7f98852_1003         395 KB  conda-forge\n",
            "    mamba-0.7.6                |   py37h0f36c0c_0         627 KB  conda-forge\n",
            "    matplotlib-base-3.3.4      |   py37h0c9df89_0         6.7 MB  conda-forge\n",
            "    numpy-1.20.1               |   py37haa41c4c_0         5.8 MB  conda-forge\n",
            "    olefile-0.46               |     pyh9f0ad1d_1          32 KB  conda-forge\n",
            "    openssl-1.1.1j             |       h7f98852_0         2.1 MB  conda-forge\n",
            "    pandas-1.2.3               |   py37hdc94413_0        11.8 MB  conda-forge\n",
            "    pcre-8.44                  |       he1b5a44_0         261 KB  conda-forge\n",
            "    pillow-8.1.1               |   py37h4600e1f_0         668 KB  conda-forge\n",
            "    pixman-0.40.0              |       h36c2ea0_0         627 KB  conda-forge\n",
            "    pthread-stubs-0.4          |    h36c2ea0_1001           5 KB  conda-forge\n",
            "    pycairo-1.20.0             |   py37h01af8b0_1          77 KB  conda-forge\n",
            "    pycosat-0.6.3              |py37h5e8e339_1006         107 KB  conda-forge\n",
            "    pyparsing-2.4.7            |     pyh9f0ad1d_0          60 KB  conda-forge\n",
            "    pysocks-1.7.1              |   py37h89c1867_3          27 KB  conda-forge\n",
            "    python-3.7.10              |hffdb5ce_100_cpython        57.3 MB  conda-forge\n",
            "    python-dateutil-2.8.1      |             py_0         220 KB  conda-forge\n",
            "    python_abi-3.7             |          1_cp37m           4 KB  conda-forge\n",
            "    pytz-2021.1                |     pyhd8ed1ab_0         239 KB  conda-forge\n",
            "    rdkit-2020.09.2            |   py37h713bca6_0        25.7 MB  conda-forge\n",
            "    reportlab-3.5.60           |   py37h69800bb_0         2.5 MB  conda-forge\n",
            "    ruamel_yaml-0.15.80        |py37h5e8e339_1004         270 KB  conda-forge\n",
            "    setuptools-49.6.0          |   py37h89c1867_3         947 KB  conda-forge\n",
            "    sqlalchemy-1.3.23          |   py37h5e8e339_0         1.8 MB  conda-forge\n",
            "    tornado-6.1                |   py37h5e8e339_1         646 KB  conda-forge\n",
            "    xorg-kbproto-1.0.7         |    h7f98852_1002          27 KB  conda-forge\n",
            "    xorg-libice-1.0.10         |       h7f98852_0          58 KB  conda-forge\n",
            "    xorg-libsm-1.2.3           |    hd9c2040_1000          26 KB  conda-forge\n",
            "    xorg-libx11-1.7.0          |       h7f98852_0         923 KB  conda-forge\n",
            "    xorg-libxau-1.0.9          |       h7f98852_0          13 KB  conda-forge\n",
            "    xorg-libxdmcp-1.1.3        |       h7f98852_0          19 KB  conda-forge\n",
            "    xorg-libxext-1.3.4         |       h7f98852_1          54 KB  conda-forge\n",
            "    xorg-libxrender-0.9.10     |    h7f98852_1003          32 KB  conda-forge\n",
            "    xorg-renderproto-0.11.1    |    h7f98852_1002           9 KB  conda-forge\n",
            "    xorg-xextproto-7.3.0       |    h7f98852_1002          28 KB  conda-forge\n",
            "    xorg-xproto-7.0.31         |    h7f98852_1007          73 KB  conda-forge\n",
            "    ------------------------------------------------------------\n",
            "                                           Total:       164.9 MB\n",
            "\n",
            "The following NEW packages will be INSTALLED:\n",
            "\n",
            "  boost              conda-forge/linux-64::boost-1.74.0-py37h6dcda5c_3\n",
            "  boost-cpp          conda-forge/linux-64::boost-cpp-1.74.0-h9d3c048_1\n",
            "  cairo              conda-forge/linux-64::cairo-1.16.0-h7979940_1007\n",
            "  cycler             conda-forge/noarch::cycler-0.10.0-py_2\n",
            "  fontconfig         conda-forge/linux-64::fontconfig-2.13.1-hba837de_1004\n",
            "  freetype           conda-forge/linux-64::freetype-2.10.4-h0708190_1\n",
            "  gettext            conda-forge/linux-64::gettext-0.19.8.1-h0b5b191_1005\n",
            "  jpeg               conda-forge/linux-64::jpeg-9d-h36c2ea0_0\n",
            "  kiwisolver         conda-forge/linux-64::kiwisolver-1.3.1-py37h2527ec5_1\n",
            "  lcms2              conda-forge/linux-64::lcms2-2.12-hddcbb42_0\n",
            "  libblas            conda-forge/linux-64::libblas-3.9.0-8_openblas\n",
            "  libcblas           conda-forge/linux-64::libcblas-3.9.0-8_openblas\n",
            "  libgfortran-ng     conda-forge/linux-64::libgfortran-ng-9.3.0-hff62375_18\n",
            "  libgfortran5       conda-forge/linux-64::libgfortran5-9.3.0-hff62375_18\n",
            "  libglib            conda-forge/linux-64::libglib-2.66.7-h3e27bee_1\n",
            "  liblapack          conda-forge/linux-64::liblapack-3.9.0-8_openblas\n",
            "  libopenblas        conda-forge/linux-64::libopenblas-0.3.12-pthreads_h4812303_1\n",
            "  libpng             conda-forge/linux-64::libpng-1.6.37-h21135ba_2\n",
            "  libtiff            conda-forge/linux-64::libtiff-4.2.0-hdc55705_0\n",
            "  libuuid            conda-forge/linux-64::libuuid-2.32.1-h7f98852_1000\n",
            "  libwebp-base       conda-forge/linux-64::libwebp-base-1.2.0-h7f98852_0\n",
            "  libxcb             conda-forge/linux-64::libxcb-1.13-h7f98852_1003\n",
            "  matplotlib-base    conda-forge/linux-64::matplotlib-base-3.3.4-py37h0c9df89_0\n",
            "  numpy              conda-forge/linux-64::numpy-1.20.1-py37haa41c4c_0\n",
            "  olefile            conda-forge/noarch::olefile-0.46-pyh9f0ad1d_1\n",
            "  pandas             conda-forge/linux-64::pandas-1.2.3-py37hdc94413_0\n",
            "  pcre               conda-forge/linux-64::pcre-8.44-he1b5a44_0\n",
            "  pillow             conda-forge/linux-64::pillow-8.1.1-py37h4600e1f_0\n",
            "  pixman             conda-forge/linux-64::pixman-0.40.0-h36c2ea0_0\n",
            "  pthread-stubs      conda-forge/linux-64::pthread-stubs-0.4-h36c2ea0_1001\n",
            "  pycairo            conda-forge/linux-64::pycairo-1.20.0-py37h01af8b0_1\n",
            "  pyparsing          conda-forge/noarch::pyparsing-2.4.7-pyh9f0ad1d_0\n",
            "  python-dateutil    conda-forge/noarch::python-dateutil-2.8.1-py_0\n",
            "  pytz               conda-forge/noarch::pytz-2021.1-pyhd8ed1ab_0\n",
            "  rdkit              conda-forge/linux-64::rdkit-2020.09.2-py37h713bca6_0\n",
            "  reportlab          conda-forge/linux-64::reportlab-3.5.60-py37h69800bb_0\n",
            "  sqlalchemy         conda-forge/linux-64::sqlalchemy-1.3.23-py37h5e8e339_0\n",
            "  tornado            conda-forge/linux-64::tornado-6.1-py37h5e8e339_1\n",
            "  xorg-kbproto       conda-forge/linux-64::xorg-kbproto-1.0.7-h7f98852_1002\n",
            "  xorg-libice        conda-forge/linux-64::xorg-libice-1.0.10-h7f98852_0\n",
            "  xorg-libsm         conda-forge/linux-64::xorg-libsm-1.2.3-hd9c2040_1000\n",
            "  xorg-libx11        conda-forge/linux-64::xorg-libx11-1.7.0-h7f98852_0\n",
            "  xorg-libxau        conda-forge/linux-64::xorg-libxau-1.0.9-h7f98852_0\n",
            "  xorg-libxdmcp      conda-forge/linux-64::xorg-libxdmcp-1.1.3-h7f98852_0\n",
            "  xorg-libxext       conda-forge/linux-64::xorg-libxext-1.3.4-h7f98852_1\n",
            "  xorg-libxrender    conda-forge/linux-64::xorg-libxrender-0.9.10-h7f98852_1003\n",
            "  xorg-renderproto   conda-forge/linux-64::xorg-renderproto-0.11.1-h7f98852_1002\n",
            "  xorg-xextproto     conda-forge/linux-64::xorg-xextproto-7.3.0-h7f98852_1002\n",
            "  xorg-xproto        conda-forge/linux-64::xorg-xproto-7.0.31-h7f98852_1007\n",
            "\n",
            "The following packages will be UPDATED:\n",
            "\n",
            "  certifi                          2020.12.5-py36h5fab9bb_0 --> 2020.12.5-py37h89c1867_1\n",
            "  cffi                                1.14.4-py36hc120d54_1 --> 1.14.5-py37hc58025e_0\n",
            "  chardet                              4.0.0-py36h5fab9bb_0 --> 4.0.0-py37h89c1867_1\n",
            "  cryptography                         3.3.1-py36h0a59100_0 --> 3.4.4-py37hf1a17b8_0\n",
            "  openssl                                 1.1.1i-h7f98852_0 --> 1.1.1j-h7f98852_0\n",
            "  pycosat                           0.6.3-py36he6145b8_1005 --> 0.6.3-py37h5e8e339_1006\n",
            "  pysocks                              1.7.1-py36h9880bd3_2 --> 1.7.1-py37h89c1867_3\n",
            "  python                          3.6.12-hffdb5ce_0_cpython --> 3.7.10-hffdb5ce_100_cpython\n",
            "  python_abi                                    3.6-1_cp36m --> 3.7-1_cp37m\n",
            "  ruamel_yaml                     0.15.80-py36he6145b8_1003 --> 0.15.80-py37h5e8e339_1004\n",
            "  setuptools                          49.6.0-py36h9880bd3_2 --> 49.6.0-py37h89c1867_3\n",
            "\n",
            "The following packages will be DOWNGRADED:\n",
            "\n",
            "  brotlipy                          0.7.0-py36he6145b8_1001 --> 0.7.0-py37h5e8e339_1001\n",
            "  conda                                4.9.2-py36h5fab9bb_0 --> 4.9.2-py37h89c1867_0\n",
            "  conda-package-han~                   1.7.2-py36he6145b8_0 --> 1.7.2-py37hb5d75c8_0\n",
            "  mamba                                0.7.6-py36hb90a75f_0 --> 0.7.6-py37h0f36c0c_0\n",
            "\n",
            "\n",
            "\n",
            "Downloading and Extracting Packages\n",
            "xorg-libxrender-0.9. | 32 KB     | : 100% 1.0/1 [00:00<00:00,  7.40it/s]               \n",
            "pillow-8.1.1         | 668 KB    | : 100% 1.0/1 [00:00<00:00,  4.83it/s]\n",
            "rdkit-2020.09.2      | 25.7 MB   | : 100% 1.0/1 [00:03<00:00,  3.83s/it]               \n",
            "boost-1.74.0         | 342 KB    | : 100% 1.0/1 [00:00<00:00,  8.21it/s]\n",
            "xorg-xextproto-7.3.0 | 28 KB     | : 100% 1.0/1 [00:00<00:00, 20.20it/s]\n",
            "jpeg-9d              | 264 KB    | : 100% 1.0/1 [00:00<00:00, 11.97it/s]\n",
            "ruamel_yaml-0.15.80  | 270 KB    | : 100% 1.0/1 [00:00<00:00, 10.49it/s]\n",
            "xorg-libxext-1.3.4   | 54 KB     | : 100% 1.0/1 [00:00<00:00, 20.87it/s]\n",
            "libwebp-base-1.2.0   | 808 KB    | : 100% 1.0/1 [00:00<00:00,  5.48it/s]\n",
            "gettext-0.19.8.1     | 3.6 MB    | : 100% 1.0/1 [00:00<00:00,  1.30it/s]\n",
            "certifi-2020.12.5    | 143 KB    | : 100% 1.0/1 [00:00<00:00, 17.77it/s]\n",
            "chardet-4.0.0        | 204 KB    | : 100% 1.0/1 [00:00<00:00, 12.05it/s]\n",
            "python-dateutil-2.8. | 220 KB    | : 100% 1.0/1 [00:00<00:00, 16.88it/s]\n",
            "numpy-1.20.1         | 5.8 MB    | : 100% 1.0/1 [00:01<00:00,  1.04s/it]\n",
            "setuptools-49.6.0    | 947 KB    | : 100% 1.0/1 [00:00<00:00,  4.14it/s]\n",
            "pixman-0.40.0        | 627 KB    | : 100% 1.0/1 [00:00<00:00,  7.39it/s]\n",
            "olefile-0.46         | 32 KB     | : 100% 1.0/1 [00:00<00:00, 24.46it/s]\n",
            "libxcb-1.13          | 395 KB    | : 100% 1.0/1 [00:00<00:00,  7.43it/s]\n",
            "libcblas-3.9.0       | 11 KB     | : 100% 1.0/1 [00:00<00:00, 21.89it/s]\n",
            "cycler-0.10.0        | 9 KB      | : 100% 1.0/1 [00:00<00:00, 25.71it/s]\n",
            "xorg-xproto-7.0.31   | 73 KB     | : 100% 1.0/1 [00:00<00:00, 17.45it/s]\n",
            "pysocks-1.7.1        | 27 KB     | : 100% 1.0/1 [00:00<00:00, 17.36it/s]\n",
            "xorg-libx11-1.7.0    | 923 KB    | : 100% 1.0/1 [00:00<00:00,  5.69it/s]\n",
            "python-3.7.10        | 57.3 MB   | : 100% 1.0/1 [00:07<00:00,  7.17s/it]               \n",
            "pycosat-0.6.3        | 107 KB    | : 100% 1.0/1 [00:00<00:00, 18.72it/s]\n",
            "xorg-libsm-1.2.3     | 26 KB     | : 100% 1.0/1 [00:00<00:00, 21.06it/s]\n",
            "mamba-0.7.6          | 627 KB    | : 100% 1.0/1 [00:00<00:00,  4.71it/s]\n",
            "liblapack-3.9.0      | 11 KB     | : 100% 1.0/1 [00:00<00:00, 16.19it/s]\n",
            "openssl-1.1.1j       | 2.1 MB    | : 100% 1.0/1 [00:00<00:00,  3.01it/s]\n",
            "xorg-renderproto-0.1 | 9 KB      | : 100% 1.0/1 [00:00<00:00, 21.17it/s]\n",
            "pandas-1.2.3         | 11.8 MB   | : 100% 1.0/1 [00:02<00:00,  2.16s/it]\n",
            "tornado-6.1          | 646 KB    | : 100% 1.0/1 [00:00<00:00,  4.91it/s]\n",
            "freetype-2.10.4      | 890 KB    | : 100% 1.0/1 [00:00<00:00,  6.18it/s]\n",
            "xorg-kbproto-1.0.7   | 27 KB     | : 100% 1.0/1 [00:00<00:00, 27.50it/s]\n",
            "xorg-libxdmcp-1.1.3  | 19 KB     | : 100% 1.0/1 [00:00<00:00, 19.33it/s]\n",
            "boost-cpp-1.74.0     | 16.3 MB   | : 100% 1.0/1 [00:04<00:00,  4.99s/it]\n",
            "sqlalchemy-1.3.23    | 1.8 MB    | : 100% 1.0/1 [00:00<00:00,  2.20it/s]\n",
            "libgfortran5-9.3.0   | 2.0 MB    | : 100% 1.0/1 [00:00<00:00,  2.45it/s]\n",
            "libblas-3.9.0        | 11 KB     | : 100% 1.0/1 [00:00<00:00, 24.16it/s]\n",
            "libgfortran-ng-9.3.0 | 22 KB     | : 100% 1.0/1 [00:00<00:00, 18.51it/s]\n",
            "cryptography-3.4.4   | 636 KB    | : 100% 1.0/1 [00:00<00:00,  5.44it/s]\n",
            "libpng-1.6.37        | 306 KB    | : 100% 1.0/1 [00:00<00:00,  7.59it/s]\n",
            "brotlipy-0.7.0       | 341 KB    | : 100% 1.0/1 [00:00<00:00,  9.76it/s]\n",
            "reportlab-3.5.60     | 2.5 MB    | : 100% 1.0/1 [00:00<00:00,  2.36it/s]\n",
            "libglib-2.66.7       | 3.0 MB    | : 100% 1.0/1 [00:00<00:00,  1.80it/s]\n",
            "cffi-1.14.5          | 225 KB    | : 100% 1.0/1 [00:00<00:00, 13.12it/s]\n",
            "kiwisolver-1.3.1     | 78 KB     | : 100% 1.0/1 [00:00<00:00, 20.78it/s]\n",
            "pyparsing-2.4.7      | 60 KB     | : 100% 1.0/1 [00:00<00:00, 19.71it/s]\n",
            "python_abi-3.7       | 4 KB      | : 100% 1.0/1 [00:00<00:00, 23.51it/s]\n",
            "pytz-2021.1          | 239 KB    | : 100% 1.0/1 [00:00<00:00,  8.97it/s]\n",
            "conda-package-handli | 915 KB    | : 100% 1.0/1 [00:00<00:00,  6.43it/s]\n",
            "xorg-libice-1.0.10   | 58 KB     | : 100% 1.0/1 [00:00<00:00, 16.30it/s]\n",
            "cairo-1.16.0         | 1.5 MB    | : 100% 1.0/1 [00:00<00:00,  3.37it/s]\n",
            "matplotlib-base-3.3. | 6.7 MB    | : 100% 1.0/1 [00:01<00:00,  1.07s/it]\n",
            "xorg-libxau-1.0.9    | 13 KB     | : 100% 1.0/1 [00:00<00:00, 24.25it/s]\n",
            "libuuid-2.32.1       | 28 KB     | : 100% 1.0/1 [00:00<00:00, 22.60it/s]\n",
            "pthread-stubs-0.4    | 5 KB      | : 100% 1.0/1 [00:00<00:00, 23.28it/s]\n",
            "fontconfig-2.13.1    | 344 KB    | : 100% 1.0/1 [00:00<00:00,  7.94it/s]\n",
            "pcre-8.44            | 261 KB    | : 100% 1.0/1 [00:00<00:00, 11.31it/s]\n",
            "libtiff-4.2.0        | 633 KB    | : 100% 1.0/1 [00:00<00:00,  7.01it/s]\n",
            "lcms2-2.12           | 443 KB    | : 100% 1.0/1 [00:00<00:00,  9.83it/s]\n",
            "pycairo-1.20.0       | 77 KB     | : 100% 1.0/1 [00:00<00:00, 13.82it/s]\n",
            "conda-4.9.2          | 3.0 MB    | : 100% 1.0/1 [00:00<00:00,  1.63it/s]\n",
            "libopenblas-0.3.12   | 8.9 MB    | : 100% 1.0/1 [00:01<00:00,  1.62s/it]\n",
            "Preparing transaction: | \b\b/ \b\b- \b\b\\ \b\b| \b\b/ \b\b- \b\b\\ \b\b| \b\bdone\n",
            "Verifying transaction: - \b\b\\ \b\b| \b\b/ \b\b- \b\b\\ \b\b| \b\b/ \b\b- \b\b\\ \b\b| \b\b/ \b\b- \b\b\\ \b\b| \b\b/ \b\b- \b\b\\ \b\b| \b\b/ \b\b- \b\b\\ \b\b| \b\b/ \b\b- \b\b\\ \b\b| \b\b/ \b\b- \b\b\\ \b\b| \b\b/ \b\b- \b\b\\ \b\bdone\n",
            "Executing transaction: / \b\b- \b\b\\ \b\b| \b\b/ \b\b- \b\b\\ \b\b| \b\b/ \b\b- \b\b\\ \b\b| \b\b/ \b\b- \b\b\\ \b\b| \b\b/ \b\b- \b\b\\ \b\b| \b\b/ \b\b- \b\b\\ \b\b| \b\b/ \b\b- \b\b\\ \b\b| \b\b/ \b\b- \b\b\\ \b\b| \b\b/ \b\b- \b\b\\ \b\bdone\n"
          ],
          "name": "stdout"
        }
      ]
    },
    {
      "cell_type": "code",
      "metadata": {
        "id": "Dpeli_r0IwW3",
        "colab": {
          "base_uri": "https://localhost:8080/"
        },
        "outputId": "27780f9c-827c-43e9-9805-95775aa12437"
      },
      "source": [
        "!conda install -y -c conda-forge openmm\r\n",
        "!conda install -y -c omnia pdbfixer"
      ],
      "execution_count": 3,
      "outputs": [
        {
          "output_type": "stream",
          "text": [
            "Collecting package metadata (current_repodata.json): - \b\b\\ \b\b| \b\b/ \b\b- \b\b\\ \b\b| \b\b/ \b\b- \b\b\\ \b\b| \b\b/ \b\b- \b\b\\ \b\b| \b\b/ \b\b- \b\b\\ \b\b| \b\b/ \b\b- \b\b\\ \b\b| \b\b/ \b\b- \b\bdone\n",
            "Solving environment: | \b\b/ \b\b- \b\b\\ \b\b| \b\b/ \b\b- \b\b\\ \b\b| \b\b/ \b\b- \b\b\\ \b\b| \b\b/ \b\b- \b\b\\ \b\b| \b\b/ \b\b- \b\b\\ \b\b| \b\b/ \b\b- \b\b\\ \b\b| \b\b/ \b\bdone\n",
            "\n",
            "## Package Plan ##\n",
            "\n",
            "  environment location: /usr/local\n",
            "\n",
            "  added / updated specs:\n",
            "    - openmm\n",
            "\n",
            "\n",
            "The following packages will be downloaded:\n",
            "\n",
            "    package                    |            build\n",
            "    ---------------------------|-----------------\n",
            "    cudatoolkit-11.0.3         |       h15472ef_8       951.9 MB  conda-forge\n",
            "    fftw-3.3.9                 |nompi_h74d3f13_101         6.4 MB  conda-forge\n",
            "    ocl-icd-2.2.14             |       h7f98852_0         118 KB  conda-forge\n",
            "    ocl-icd-system-1.0.0       |                1           4 KB  conda-forge\n",
            "    openmm-7.5.0               |   py37h01de88b_6        10.7 MB  conda-forge\n",
            "    ------------------------------------------------------------\n",
            "                                           Total:       969.2 MB\n",
            "\n",
            "The following NEW packages will be INSTALLED:\n",
            "\n",
            "  cudatoolkit        conda-forge/linux-64::cudatoolkit-11.0.3-h15472ef_8\n",
            "  fftw               conda-forge/linux-64::fftw-3.3.9-nompi_h74d3f13_101\n",
            "  ocl-icd            conda-forge/linux-64::ocl-icd-2.2.14-h7f98852_0\n",
            "  ocl-icd-system     conda-forge/linux-64::ocl-icd-system-1.0.0-1\n",
            "  openmm             conda-forge/linux-64::openmm-7.5.0-py37h01de88b_6\n",
            "\n",
            "\n",
            "\n",
            "Downloading and Extracting Packages\n",
            "ocl-icd-system-1.0.0 | 4 KB      | : 100% 1.0/1 [00:00<00:00,  8.03it/s]\n",
            "cudatoolkit-11.0.3   | 951.9 MB  | : 100% 1.0/1 [01:57<00:00, 117.33s/it]              \n",
            "ocl-icd-2.2.14       | 118 KB    | : 100% 1.0/1 [00:00<00:00,  9.75it/s]\n",
            "openmm-7.5.0         | 10.7 MB   | : 100% 1.0/1 [00:02<00:00,  2.24s/it]\n",
            "fftw-3.3.9           | 6.4 MB    | : 100% 1.0/1 [00:01<00:00,  1.12s/it]               \n",
            "Preparing transaction: \\ \b\bdone\n",
            "Verifying transaction: / \b\b- \b\b\\ \b\bdone\n",
            "Executing transaction: / \b\b- \b\b\\ \b\b| By downloading and using the CUDA Toolkit conda packages, you accept the terms and conditions of the CUDA End User License Agreement (EULA): https://docs.nvidia.com/cuda/eula/index.html\n",
            "\n",
            "\b\b/ \b\b- \b\b\\ \b\bdone\n",
            "Collecting package metadata (current_repodata.json): - \b\b\\ \b\b| \b\b/ \b\b- \b\b\\ \b\b| \b\b/ \b\b- \b\b\\ \b\b| \b\b/ \b\b- \b\b\\ \b\bdone\n",
            "Solving environment: / \b\b- \b\b\\ \b\b| \b\b/ \b\b- \b\b\\ \b\b| \b\b/ \b\b- \b\b\\ \b\b| \b\b/ \b\b- \b\b\\ \b\b| \b\b/ \b\b- \b\b\\ \b\b| \b\b/ \b\b- \b\bdone\n",
            "\n",
            "## Package Plan ##\n",
            "\n",
            "  environment location: /usr/local\n",
            "\n",
            "  added / updated specs:\n",
            "    - pdbfixer\n",
            "\n",
            "\n",
            "The following packages will be downloaded:\n",
            "\n",
            "    package                    |            build\n",
            "    ---------------------------|-----------------\n",
            "    pdbfixer-1.6               |             py_1         167 KB  omnia\n",
            "    ------------------------------------------------------------\n",
            "                                           Total:         167 KB\n",
            "\n",
            "The following NEW packages will be INSTALLED:\n",
            "\n",
            "  pdbfixer           omnia/noarch::pdbfixer-1.6-py_1\n",
            "\n",
            "\n",
            "\n",
            "Downloading and Extracting Packages\n",
            "pdbfixer-1.6         | 167 KB    | : 100% 1.0/1 [00:00<00:00,  1.71it/s]\n",
            "Preparing transaction: | \b\bdone\n",
            "Verifying transaction: - \b\bdone\n",
            "Executing transaction: | \b\b/ \b\b- \b\b\\ \b\bdone\n"
          ],
          "name": "stdout"
        }
      ]
    },
    {
      "cell_type": "code",
      "metadata": {
        "id": "dHUwUcPqI1Ks"
      },
      "source": [
        "import sys\r\n",
        "sys.path.insert(0, \"/usr/local/lib/python3.7/site-packages/\")"
      ],
      "execution_count": 4,
      "outputs": []
    },
    {
      "cell_type": "code",
      "metadata": {
        "id": "2BP6M3Uz2wZ1",
        "colab": {
          "base_uri": "https://localhost:8080/"
        },
        "outputId": "b14c237e-14ee-48ee-fc10-1c7216122bbe"
      },
      "source": [
        "!pip install --pre deepchem"
      ],
      "execution_count": 5,
      "outputs": [
        {
          "output_type": "stream",
          "text": [
            "Collecting deepchem\n",
            "  Downloading deepchem-2.5.0.dev20210305190040-py3-none-any.whl (552 kB)\n",
            "\u001b[K     |████████████████████████████████| 552 kB 6.0 MB/s \n",
            "\u001b[?25hRequirement already satisfied: numpy in /usr/local/lib/python3.7/site-packages (from deepchem) (1.20.1)\n",
            "Requirement already satisfied: pandas in /usr/local/lib/python3.7/site-packages (from deepchem) (1.2.3)\n",
            "Collecting joblib\n",
            "  Downloading joblib-1.0.1-py3-none-any.whl (303 kB)\n",
            "\u001b[K     |████████████████████████████████| 303 kB 8.3 MB/s \n",
            "\u001b[?25hRequirement already satisfied: python-dateutil>=2.7.3 in /usr/local/lib/python3.7/site-packages (from pandas->deepchem) (2.8.1)\n",
            "Requirement already satisfied: pytz>=2017.3 in /usr/local/lib/python3.7/site-packages (from pandas->deepchem) (2021.1)\n",
            "Requirement already satisfied: six>=1.5 in /usr/local/lib/python3.7/site-packages (from python-dateutil>=2.7.3->pandas->deepchem) (1.15.0)\n",
            "Collecting scikit-learn\n",
            "  Downloading scikit_learn-0.24.1-cp37-cp37m-manylinux2010_x86_64.whl (22.3 MB)\n",
            "\u001b[K     |████████████████████████████████| 22.3 MB 1.3 MB/s \n",
            "\u001b[?25hCollecting scipy\n",
            "  Downloading scipy-1.6.1-cp37-cp37m-manylinux1_x86_64.whl (27.4 MB)\n",
            "\u001b[K     |████████████████████████████████| 27.4 MB 38 kB/s \n",
            "\u001b[?25hCollecting threadpoolctl>=2.0.0\n",
            "  Downloading threadpoolctl-2.1.0-py3-none-any.whl (12 kB)\n",
            "Installing collected packages: threadpoolctl, scipy, joblib, scikit-learn, deepchem\n",
            "Successfully installed deepchem-2.5.0.dev20210305190040 joblib-1.0.1 scikit-learn-0.24.1 scipy-1.6.1 threadpoolctl-2.1.0\n"
          ],
          "name": "stdout"
        }
      ]
    },
    {
      "cell_type": "code",
      "metadata": {
        "id": "sAj3Fs5e2xzt",
        "colab": {
          "base_uri": "https://localhost:8080/",
          "height": 35
        },
        "outputId": "a15195ed-4e47-4731-9a84-30598bed39ee"
      },
      "source": [
        "import deepchem as dc\r\n",
        "dc.__version__"
      ],
      "execution_count": 6,
      "outputs": [
        {
          "output_type": "execute_result",
          "data": {
            "application/vnd.google.colaboratory.intrinsic+json": {
              "type": "string"
            },
            "text/plain": [
              "'2.5.0.dev'"
            ]
          },
          "metadata": {
            "tags": []
          },
          "execution_count": 6
        }
      ]
    },
    {
      "cell_type": "code",
      "metadata": {
        "id": "UDwtlk7DrW39",
        "colab": {
          "base_uri": "https://localhost:8080/"
        },
        "outputId": "4bd8fc67-7aa8-4846-d4dd-897a3cbd6967"
      },
      "source": [
        "!wget -c http://deepchem.io.s3-website-us-west-1.amazonaws.com/datasets/lipo.csv\r\n",
        "!wget -c http://deepchem.io.s3-website-us-west-1.amazonaws.com/datasets/hppb.csv\r\n",
        "!wget -c http://deepchem.io.s3-website-us-west-1.amazonaws.com/datasets/clearance.csv"
      ],
      "execution_count": 7,
      "outputs": [
        {
          "output_type": "stream",
          "text": [
            "--2021-03-05 20:18:50--  http://deepchem.io.s3-website-us-west-1.amazonaws.com/datasets/lipo.csv\n",
            "Resolving deepchem.io.s3-website-us-west-1.amazonaws.com (deepchem.io.s3-website-us-west-1.amazonaws.com)... 52.219.113.67\n",
            "Connecting to deepchem.io.s3-website-us-west-1.amazonaws.com (deepchem.io.s3-website-us-west-1.amazonaws.com)|52.219.113.67|:80... connected.\n",
            "HTTP request sent, awaiting response... 200 OK\n",
            "Length: 282597 (276K) [text/csv]\n",
            "Saving to: ‘lipo.csv’\n",
            "\n",
            "lipo.csv            100%[===================>] 275.97K  1.35MB/s    in 0.2s    \n",
            "\n",
            "2021-03-05 20:18:50 (1.35 MB/s) - ‘lipo.csv’ saved [282597/282597]\n",
            "\n",
            "--2021-03-05 20:18:50--  http://deepchem.io.s3-website-us-west-1.amazonaws.com/datasets/hppb.csv\n",
            "Resolving deepchem.io.s3-website-us-west-1.amazonaws.com (deepchem.io.s3-website-us-west-1.amazonaws.com)... 52.219.113.67\n",
            "Connecting to deepchem.io.s3-website-us-west-1.amazonaws.com (deepchem.io.s3-website-us-west-1.amazonaws.com)|52.219.113.67|:80... connected.\n",
            "HTTP request sent, awaiting response... 200 OK\n",
            "Length: 117266 (115K) [text/csv]\n",
            "Saving to: ‘hppb.csv’\n",
            "\n",
            "hppb.csv            100%[===================>] 114.52K   745KB/s    in 0.2s    \n",
            "\n",
            "2021-03-05 20:18:51 (745 KB/s) - ‘hppb.csv’ saved [117266/117266]\n",
            "\n",
            "--2021-03-05 20:18:51--  http://deepchem.io.s3-website-us-west-1.amazonaws.com/datasets/clearance.csv\n",
            "Resolving deepchem.io.s3-website-us-west-1.amazonaws.com (deepchem.io.s3-website-us-west-1.amazonaws.com)... 52.219.113.67\n",
            "Connecting to deepchem.io.s3-website-us-west-1.amazonaws.com (deepchem.io.s3-website-us-west-1.amazonaws.com)|52.219.113.67|:80... connected.\n",
            "HTTP request sent, awaiting response... 200 OK\n",
            "Length: 60306 (59K) [text/csv]\n",
            "Saving to: ‘clearance.csv’\n",
            "\n",
            "clearance.csv       100%[===================>]  58.89K  --.-KB/s    in 0.1s    \n",
            "\n",
            "2021-03-05 20:18:51 (574 KB/s) - ‘clearance.csv’ saved [60306/60306]\n",
            "\n"
          ],
          "name": "stdout"
        }
      ]
    },
    {
      "cell_type": "code",
      "metadata": {
        "id": "LJqZE5TkrcRn"
      },
      "source": [
        "import numpy as np\r\n",
        "np.random.seed(123)\r\n",
        "from sklearn.ensemble import RandomForestRegressor\r\n",
        "from sklearn import svm\r\n",
        "\r\n",
        "import tensorflow as tf\r\n",
        "tf.random.set_seed(123)\r\n",
        "import deepchem as dc\r\n",
        "from deepchem.models.graph_models import GraphConvModel\r\n",
        "\r\n",
        "BATCH_SIZE = 128\r\n",
        "# Set to higher values to get better numbers\r\n",
        "MAX_EPOCH = 50\r\n",
        "LR = 1e-3\r\n",
        "LMBDA = 1e-4"
      ],
      "execution_count": 8,
      "outputs": []
    },
    {
      "cell_type": "code",
      "metadata": {
        "id": "IRUwHe4broQ0"
      },
      "source": [
        "def load_dataset(dataset_file, featurizer='ECFP', split='index'):\r\n",
        "  tasks = ['target']\r\n",
        "\r\n",
        "  if featurizer == 'ECFP':\r\n",
        "    featurizer = dc.feat.CircularFingerprint(size=1024)\r\n",
        "  elif featurizer == 'GraphConv':\r\n",
        "    featurizer = dc.feat.ConvMolFeaturizer()\r\n",
        "\r\n",
        "  loader = dc.data.CSVLoader(\r\n",
        "      tasks=tasks, smiles_field=\"smile\", featurizer=featurizer)\r\n",
        "  dataset = loader.featurize(dataset_file, shard_size=8192)\r\n",
        "\r\n",
        "  transformers = [\r\n",
        "      dc.trans.NormalizationTransformer(transform_y=True, dataset=dataset)\r\n",
        "  ]\r\n",
        "  for transformer in transformers:\r\n",
        "    dataset = transformer.transform(dataset)\r\n",
        "\r\n",
        "  splitters = {\r\n",
        "      'index': dc.splits.IndexSplitter(),\r\n",
        "      'random': dc.splits.RandomSplitter(),\r\n",
        "      'scaffold': dc.splits.ScaffoldSplitter()\r\n",
        "  }\r\n",
        "  splitter = splitters[split]\r\n",
        "  train, valid, test = splitter.train_valid_test_split(dataset)\r\n",
        "  return tasks, (train, valid, test), transformers"
      ],
      "execution_count": 9,
      "outputs": []
    },
    {
      "cell_type": "code",
      "metadata": {
        "id": "QlhS-E7tsFGa"
      },
      "source": [
        "def experiment(dataset_file, method='GraphConv', split='scaffold'):\r\n",
        "  featurizer = 'ECFP'\r\n",
        "  if method == 'GraphConv':\r\n",
        "    featurizer = 'GraphConv'\r\n",
        "  tasks, datasets, transformers = load_dataset(\r\n",
        "      dataset_file, featurizer=featurizer, split=split)\r\n",
        "  train, val, test = datasets\r\n",
        "  print(\"largo del dataset de entrenamiento\", len(train))\r\n",
        "\r\n",
        "  model = None\r\n",
        "  if method == 'GraphConv':\r\n",
        "    #Opciones\r\n",
        "    #GraphConvModel(n_tasks: int, graph_conv_layers: List[int] = [64, 64], \r\n",
        "    #dense_layer_size: int = 128, dropout: float = 0.0, \r\n",
        "    #mode: str = 'classification', number_atom_features: int = 75, \r\n",
        "    #n_classes: int = 2, batch_size: int = 100, \r\n",
        "    #batch_normalize: bool = True, uncertainty: bool = False)\r\n",
        "\r\n",
        "    #Original\r\n",
        "    #model = GraphConvModel(len(tasks), batch_size=BATCH_SIZE, mode=\"regression\")\r\n",
        "\r\n",
        "    #Opcion1\r\n",
        "    #model = GraphConvModel(len(tasks), batch_size=BATCH_SIZE, dropout=0.5, mode=\"regression\")\r\n",
        "\r\n",
        "    #Opcion2\r\n",
        "    #model = GraphConvModel(len(tasks), batch_size=BATCH_SIZE, dropout=0.5, number_atom_features=64, mode=\"regression\")\r\n",
        "\r\n",
        "    #Opcion3\r\n",
        "    model = GraphConvModel(len(tasks), batch_size=BATCH_SIZE, dropout=0.3, dense_layer_size = 256, mode=\"regression\")\r\n",
        "\r\n",
        "    #Opcion4\r\n",
        "    #model = GraphConvModel(len(tasks), graph_conv_layers=[2048, 1024], batch_size=BATCH_SIZE, dense_layer_size = 128, mode=\"regression\")\r\n",
        "\r\n",
        "\r\n",
        "  elif method == 'RF':\r\n",
        "\r\n",
        "    def model_builder_rf(model_dir):\r\n",
        "      sklearn_model = RandomForestRegressor(n_estimators=100)\r\n",
        "      return dc.models.SklearnModel(sklearn_model, model_dir)\r\n",
        "\r\n",
        "    model = dc.models.SingletaskToMultitask(tasks, model_builder_rf)\r\n",
        "  elif method == 'SVR':\r\n",
        "\r\n",
        "    def model_builder_svr(model_dir):\r\n",
        "      sklearn_model = svm.SVR(kernel='linear')\r\n",
        "      return dc.models.SklearnModel(sklearn_model, model_dir)\r\n",
        "\r\n",
        "    model = dc.models.SingletaskToMultitask(tasks, model_builder_svr)\r\n",
        "\r\n",
        "  return model, train, val, test, transformers"
      ],
      "execution_count": 28,
      "outputs": []
    },
    {
      "cell_type": "code",
      "metadata": {
        "id": "6V0o3cOfsGIb"
      },
      "source": [
        "#from keras.utils.vis_utils import plot_model\r\n",
        "import warnings\r\n",
        "warnings.filterwarnings(\"ignore\", category=DeprecationWarning)\r\n",
        "warnings.filterwarnings(\"ignore\", category=FutureWarning)\r\n",
        "warnings.filterwarnings(\"ignore\", category=UserWarning)\r\n",
        "\r\n",
        "\r\n",
        "def benchmark(  MODEL = \"GraphConv\", SPLIT = \"scaffold\",  DATASET = \"hppb.csv\"):\r\n",
        "\r\n",
        "\r\n",
        "  metric = dc.metrics.Metric(dc.metrics.pearson_r2_score, np.mean)\r\n",
        "  \r\n",
        "  print(\"About to build model\")\r\n",
        "  model, train, val, test, transformers = experiment(\r\n",
        "      DATASET, method=MODEL, split=SPLIT)\r\n",
        "  #plot_model(model.model,show_shapes=True, show_layer_names=True)\r\n",
        "  \r\n",
        "  if MODEL == 'GraphConv':\r\n",
        "    print(\"running GraphConv search\")\r\n",
        "    best_val_score = 0.0\r\n",
        "    train_score = 0.0\r\n",
        "    best_epoch = 0\r\n",
        "    for l in range(0, MAX_EPOCH):\r\n",
        "      print(\"epoch %d\" % l, end=\" \")\r\n",
        "      if (l+1) % 10 == 0:\r\n",
        "        print()\r\n",
        "      model.fit(train, nb_epoch=1)\r\n",
        "      latest_train_score = model.evaluate(train, [metric],\r\n",
        "                                          transformers)['mean-pearson_r2_score']\r\n",
        "      latest_val_score = model.evaluate(val, [metric],\r\n",
        "                                        transformers)['mean-pearson_r2_score']\r\n",
        "      if latest_val_score > best_val_score:\r\n",
        "        best_val_score = latest_val_score\r\n",
        "        train_score = latest_train_score\r\n",
        "        best_epoch = l\r\n",
        "    print()\r\n",
        "    print((MODEL, SPLIT, DATASET, train_score, best_val_score, \"en la epoca:\", best_epoch))\r\n",
        "    print(model.model.summary())\r\n",
        "  else:\r\n",
        "    model.fit(train)\r\n",
        "    train_score = model.evaluate(train, [metric],\r\n",
        "                                 transformers)['mean-pearson_r2_score']\r\n",
        "    val_score = model.evaluate(val, [metric],\r\n",
        "                               transformers)['mean-pearson_r2_score']\r\n",
        "    print()   \r\n",
        "    print((MODEL, SPLIT, DATASET, train_score, val_score))"
      ],
      "execution_count": 29,
      "outputs": []
    },
    {
      "cell_type": "code",
      "metadata": {
        "id": "01NSdimVuZ47",
        "colab": {
          "base_uri": "https://localhost:8080/"
        },
        "outputId": "f034f836-a797-41cb-b52f-04f031f8afe9"
      },
      "source": [
        "benchmark()"
      ],
      "execution_count": 30,
      "outputs": [
        {
          "output_type": "stream",
          "text": [
            "smiles_field is deprecated and will be removed in a future version of DeepChem.Use feature_field instead.\n"
          ],
          "name": "stderr"
        },
        {
          "output_type": "stream",
          "text": [
            "About to build model\n",
            "largo del dataset de entrenamiento 1291\n",
            "running GraphConv search\n",
            "epoch 0 epoch 1 epoch 2 epoch 3 epoch 4 epoch 5 epoch 6 epoch 7 epoch 8 epoch 9 \n",
            "epoch 10 epoch 11 epoch 12 epoch 13 epoch 14 epoch 15 epoch 16 epoch 17 epoch 18 epoch 19 \n",
            "epoch 20 epoch 21 epoch 22 epoch 23 epoch 24 epoch 25 epoch 26 epoch 27 epoch 28 epoch 29 \n",
            "epoch 30 epoch 31 epoch 32 epoch 33 epoch 34 epoch 35 epoch 36 epoch 37 epoch 38 epoch 39 \n",
            "epoch 40 epoch 41 epoch 42 epoch 43 epoch 44 epoch 45 epoch 46 epoch 47 epoch 48 epoch 49 \n",
            "\n",
            "('GraphConv', 'scaffold', 'hppb.csv', 0.3526140832917565, 0.1764931122208606, 'en la epoca:', 47)\n",
            "Model: \"private__graph_conv_keras_model_7\"\n",
            "_________________________________________________________________\n",
            "Layer (type)                 Output Shape              Param #   \n",
            "=================================================================\n",
            "graph_conv_14 (GraphConv)    multiple                  102144    \n",
            "_________________________________________________________________\n",
            "graph_conv_15 (GraphConv)    multiple                  87360     \n",
            "_________________________________________________________________\n",
            "batch_normalization_21 (Batc multiple                  256       \n",
            "_________________________________________________________________\n",
            "batch_normalization_22 (Batc multiple                  256       \n",
            "_________________________________________________________________\n",
            "batch_normalization_23 (Batc multiple                  1024      \n",
            "_________________________________________________________________\n",
            "dropout_12 (Dropout)         multiple                  0         \n",
            "_________________________________________________________________\n",
            "dropout_13 (Dropout)         multiple                  0         \n",
            "_________________________________________________________________\n",
            "dropout_14 (Dropout)         multiple                  0         \n",
            "_________________________________________________________________\n",
            "graph_pool_14 (GraphPool)    multiple                  0         \n",
            "_________________________________________________________________\n",
            "graph_pool_15 (GraphPool)    multiple                  0         \n",
            "_________________________________________________________________\n",
            "dense_13 (Dense)             multiple                  16640     \n",
            "_________________________________________________________________\n",
            "graph_gather_6 (GraphGather) multiple                  0         \n",
            "_________________________________________________________________\n",
            "trim_graph_output_6 (TrimGra multiple                  0         \n",
            "_________________________________________________________________\n",
            "dense_14 (Dense)             multiple                  513       \n",
            "=================================================================\n",
            "Total params: 208,193\n",
            "Trainable params: 207,425\n",
            "Non-trainable params: 768\n",
            "_________________________________________________________________\n",
            "None\n"
          ],
          "name": "stdout"
        }
      ]
    },
    {
      "cell_type": "markdown",
      "metadata": {
        "id": "4i0ztN9W0sEI"
      },
      "source": [
        ""
      ]
    },
    {
      "cell_type": "code",
      "metadata": {
        "id": "HELYCQ-py1O0"
      },
      "source": [
        "benchmark(  \"GraphConv\", \"scaffold\",  \"lipo.csv\")"
      ],
      "execution_count": null,
      "outputs": []
    },
    {
      "cell_type": "code",
      "metadata": {
        "id": "66HH-pkB0M_Z"
      },
      "source": [
        "benchmark(\"RF\", \"scaffold\",  \"lipo.csv\")"
      ],
      "execution_count": null,
      "outputs": []
    },
    {
      "cell_type": "code",
      "metadata": {
        "id": "DKLNd9DL0QPs"
      },
      "source": [
        "benchmark(  \"SVR\", \"scaffold\",  \"lipo.csv\")"
      ],
      "execution_count": null,
      "outputs": []
    },
    {
      "cell_type": "code",
      "metadata": {
        "id": "vhdiYEKllaP4"
      },
      "source": [
        ""
      ],
      "execution_count": null,
      "outputs": []
    }
  ]
}