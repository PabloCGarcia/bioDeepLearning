{
  "nbformat": 4,
  "nbformat_minor": 0,
  "metadata": {
    "colab": {
      "name": "Practico-02A.ipynb",
      "provenance": [],
      "collapsed_sections": [],
      "authorship_tag": "ABX9TyOmobU5vZISgNc1ONgwkSZq",
      "include_colab_link": true
    },
    "kernelspec": {
      "name": "python3",
      "display_name": "Python 3"
    }
  },
  "cells": [
    {
      "cell_type": "markdown",
      "metadata": {
        "id": "view-in-github",
        "colab_type": "text"
      },
      "source": [
        "<a href=\"https://colab.research.google.com/github/PabloCGarcia/bioDeepLearning/blob/main/Practico_02A.ipynb\" target=\"_parent\"><img src=\"https://colab.research.google.com/assets/colab-badge.svg\" alt=\"Open In Colab\"/></a>"
      ]
    },
    {
      "cell_type": "code",
      "metadata": {
        "id": "15VNoS0m8vS8",
        "colab": {
          "base_uri": "https://localhost:8080/"
        },
        "outputId": "d9e2aeb4-cf76-41cf-b298-eee116298910"
      },
      "source": [
        "from google.colab import drive\r\n",
        "drive.mount('/content/drive')"
      ],
      "execution_count": 2,
      "outputs": [
        {
          "output_type": "stream",
          "text": [
            "Mounted at /content/drive\n"
          ],
          "name": "stdout"
        }
      ]
    },
    {
      "cell_type": "code",
      "metadata": {
        "colab": {
          "base_uri": "https://localhost:8080/",
          "height": 204
        },
        "id": "XcsFCVyTD5hQ",
        "outputId": "946eb46a-7d9e-4da1-d44a-3416fdd7c482"
      },
      "source": [
        "import pandas as pd\r\n",
        "\r\n",
        "red_wine = pd.read_csv('/content/drive/MyDrive/winequality-red.csv')\r\n",
        "red_wine.head()"
      ],
      "execution_count": 3,
      "outputs": [
        {
          "output_type": "execute_result",
          "data": {
            "text/html": [
              "<div>\n",
              "<style scoped>\n",
              "    .dataframe tbody tr th:only-of-type {\n",
              "        vertical-align: middle;\n",
              "    }\n",
              "\n",
              "    .dataframe tbody tr th {\n",
              "        vertical-align: top;\n",
              "    }\n",
              "\n",
              "    .dataframe thead th {\n",
              "        text-align: right;\n",
              "    }\n",
              "</style>\n",
              "<table border=\"1\" class=\"dataframe\">\n",
              "  <thead>\n",
              "    <tr style=\"text-align: right;\">\n",
              "      <th></th>\n",
              "      <th>fixed acidity</th>\n",
              "      <th>volatile acidity</th>\n",
              "      <th>citric acid</th>\n",
              "      <th>residual sugar</th>\n",
              "      <th>chlorides</th>\n",
              "      <th>free sulfur dioxide</th>\n",
              "      <th>total sulfur dioxide</th>\n",
              "      <th>density</th>\n",
              "      <th>pH</th>\n",
              "      <th>sulphates</th>\n",
              "      <th>alcohol</th>\n",
              "      <th>quality</th>\n",
              "    </tr>\n",
              "  </thead>\n",
              "  <tbody>\n",
              "    <tr>\n",
              "      <th>0</th>\n",
              "      <td>7.4</td>\n",
              "      <td>0.70</td>\n",
              "      <td>0.00</td>\n",
              "      <td>1.9</td>\n",
              "      <td>0.076</td>\n",
              "      <td>11.0</td>\n",
              "      <td>34.0</td>\n",
              "      <td>0.9978</td>\n",
              "      <td>3.51</td>\n",
              "      <td>0.56</td>\n",
              "      <td>9.4</td>\n",
              "      <td>5</td>\n",
              "    </tr>\n",
              "    <tr>\n",
              "      <th>1</th>\n",
              "      <td>7.8</td>\n",
              "      <td>0.88</td>\n",
              "      <td>0.00</td>\n",
              "      <td>2.6</td>\n",
              "      <td>0.098</td>\n",
              "      <td>25.0</td>\n",
              "      <td>67.0</td>\n",
              "      <td>0.9968</td>\n",
              "      <td>3.20</td>\n",
              "      <td>0.68</td>\n",
              "      <td>9.8</td>\n",
              "      <td>5</td>\n",
              "    </tr>\n",
              "    <tr>\n",
              "      <th>2</th>\n",
              "      <td>7.8</td>\n",
              "      <td>0.76</td>\n",
              "      <td>0.04</td>\n",
              "      <td>2.3</td>\n",
              "      <td>0.092</td>\n",
              "      <td>15.0</td>\n",
              "      <td>54.0</td>\n",
              "      <td>0.9970</td>\n",
              "      <td>3.26</td>\n",
              "      <td>0.65</td>\n",
              "      <td>9.8</td>\n",
              "      <td>5</td>\n",
              "    </tr>\n",
              "    <tr>\n",
              "      <th>3</th>\n",
              "      <td>11.2</td>\n",
              "      <td>0.28</td>\n",
              "      <td>0.56</td>\n",
              "      <td>1.9</td>\n",
              "      <td>0.075</td>\n",
              "      <td>17.0</td>\n",
              "      <td>60.0</td>\n",
              "      <td>0.9980</td>\n",
              "      <td>3.16</td>\n",
              "      <td>0.58</td>\n",
              "      <td>9.8</td>\n",
              "      <td>6</td>\n",
              "    </tr>\n",
              "    <tr>\n",
              "      <th>4</th>\n",
              "      <td>7.4</td>\n",
              "      <td>0.70</td>\n",
              "      <td>0.00</td>\n",
              "      <td>1.9</td>\n",
              "      <td>0.076</td>\n",
              "      <td>11.0</td>\n",
              "      <td>34.0</td>\n",
              "      <td>0.9978</td>\n",
              "      <td>3.51</td>\n",
              "      <td>0.56</td>\n",
              "      <td>9.4</td>\n",
              "      <td>5</td>\n",
              "    </tr>\n",
              "  </tbody>\n",
              "</table>\n",
              "</div>"
            ],
            "text/plain": [
              "   fixed acidity  volatile acidity  citric acid  ...  sulphates  alcohol  quality\n",
              "0            7.4              0.70         0.00  ...       0.56      9.4        5\n",
              "1            7.8              0.88         0.00  ...       0.68      9.8        5\n",
              "2            7.8              0.76         0.04  ...       0.65      9.8        5\n",
              "3           11.2              0.28         0.56  ...       0.58      9.8        6\n",
              "4            7.4              0.70         0.00  ...       0.56      9.4        5\n",
              "\n",
              "[5 rows x 12 columns]"
            ]
          },
          "metadata": {
            "tags": []
          },
          "execution_count": 3
        }
      ]
    },
    {
      "cell_type": "code",
      "metadata": {
        "id": "bUX_agB6Et4l",
        "colab": {
          "base_uri": "https://localhost:8080/"
        },
        "outputId": "16ebdd06-67a6-47cf-b1c3-a743af21f8ce"
      },
      "source": [
        "from sklearn.model_selection import train_test_split\r\n",
        "from sklearn.preprocessing import StandardScaler\r\n",
        "from sklearn.preprocessing import OneHotEncoder\r\n",
        "\r\n",
        "X = red_wine.copy()\r\n",
        "Y = X.pop('quality')\r\n",
        "\r\n",
        "Y.head()"
      ],
      "execution_count": 13,
      "outputs": [
        {
          "output_type": "execute_result",
          "data": {
            "text/plain": [
              "0    5\n",
              "1    5\n",
              "2    5\n",
              "3    6\n",
              "4    5\n",
              "Name: quality, dtype: int64"
            ]
          },
          "metadata": {
            "tags": []
          },
          "execution_count": 13
        }
      ]
    },
    {
      "cell_type": "code",
      "metadata": {
        "id": "Zkg1DfS3_K7I"
      },
      "source": [
        "scaler = StandardScaler()\r\n",
        "scaler.fit(X)\r\n",
        "X = scaler.transform(X)\r\n",
        "\r\n",
        "#enc = OneHotEncoder(handle_unknown='ignore')\r\n",
        "#Y = Y.to_numpy().reshape(-1, 1)\r\n",
        "#enc.fit(Y)\r\n",
        "#Y = enc.transform(Y)\r\n",
        "#Y = Y.toarray().astype('float32')\r\n",
        "\r\n",
        "X_train, X_valid, Y_train, Y_valid = train_test_split(X, Y, test_size=0.2)"
      ],
      "execution_count": 14,
      "outputs": []
    },
    {
      "cell_type": "code",
      "metadata": {
        "colab": {
          "base_uri": "https://localhost:8080/"
        },
        "id": "J3ln5W9a06f3",
        "outputId": "633d485f-0fbd-4318-e406-1bae53a641e0"
      },
      "source": [
        "Y.shape"
      ],
      "execution_count": 15,
      "outputs": [
        {
          "output_type": "execute_result",
          "data": {
            "text/plain": [
              "(1599,)"
            ]
          },
          "metadata": {
            "tags": []
          },
          "execution_count": 15
        }
      ]
    },
    {
      "cell_type": "code",
      "metadata": {
        "colab": {
          "base_uri": "https://localhost:8080/"
        },
        "id": "5tZSmQE-A5Sy",
        "outputId": "5a346601-335b-4ea3-9563-d654e2828fb2"
      },
      "source": [
        "import numpy as np\r\n",
        "np.unique(Y)"
      ],
      "execution_count": 21,
      "outputs": [
        {
          "output_type": "execute_result",
          "data": {
            "text/plain": [
              "array([3, 4, 5, 6, 7, 8])"
            ]
          },
          "metadata": {
            "tags": []
          },
          "execution_count": 21
        }
      ]
    },
    {
      "cell_type": "code",
      "metadata": {
        "id": "TVXzmBqBD_Wl"
      },
      "source": [
        "from tensorflow import keras\r\n",
        "from tensorflow.keras import layers\r\n",
        "\r\n",
        "model = keras.Sequential([\r\n",
        "    layers.Dense(units=512, activation='relu', input_shape=[11]),\r\n",
        "    layers.Dense(units=512, activation='relu'),\r\n",
        "    layers.Dense(units=512, activation='relu'),\r\n",
        "    layers.Dense(units=9, activation=\"softmax\"),\r\n",
        "])\r\n"
      ],
      "execution_count": 42,
      "outputs": []
    },
    {
      "cell_type": "code",
      "metadata": {
        "id": "ziQTAmkuEQDw"
      },
      "source": [
        "model.compile(\r\n",
        "            optimizer=keras.optimizers.Adadelta(),\r\n",
        "            loss='sparse_categorical_crossentropy',\r\n",
        "            metrics=['sparse_categorical_accuracy'])"
      ],
      "execution_count": 43,
      "outputs": []
    },
    {
      "cell_type": "code",
      "metadata": {
        "id": "NzZikYuWEuE3",
        "colab": {
          "base_uri": "https://localhost:8080/"
        },
        "outputId": "cdc8a443-8917-4bb4-fde3-d2e58696dbed"
      },
      "source": [
        "history = model.fit(\r\n",
        "    X_train, Y_train,\r\n",
        "    validation_data=(X_valid, Y_valid),\r\n",
        "    batch_size=100,\r\n",
        "    epochs=100,\r\n",
        ")"
      ],
      "execution_count": 44,
      "outputs": [
        {
          "output_type": "stream",
          "text": [
            "Epoch 1/100\n",
            "13/13 [==============================] - 1s 30ms/step - loss: 2.2913 - sparse_categorical_accuracy: 0.0124 - val_loss: 2.2870 - val_sparse_categorical_accuracy: 0.0156\n",
            "Epoch 2/100\n",
            "13/13 [==============================] - 0s 18ms/step - loss: 2.2849 - sparse_categorical_accuracy: 0.0111 - val_loss: 2.2819 - val_sparse_categorical_accuracy: 0.0156\n",
            "Epoch 3/100\n",
            "13/13 [==============================] - 0s 17ms/step - loss: 2.2842 - sparse_categorical_accuracy: 0.0134 - val_loss: 2.2768 - val_sparse_categorical_accuracy: 0.0156\n",
            "Epoch 4/100\n",
            "13/13 [==============================] - 0s 18ms/step - loss: 2.2763 - sparse_categorical_accuracy: 0.0153 - val_loss: 2.2716 - val_sparse_categorical_accuracy: 0.0156\n",
            "Epoch 5/100\n",
            "13/13 [==============================] - 0s 18ms/step - loss: 2.2723 - sparse_categorical_accuracy: 0.0073 - val_loss: 2.2665 - val_sparse_categorical_accuracy: 0.0156\n",
            "Epoch 6/100\n",
            "13/13 [==============================] - 0s 18ms/step - loss: 2.2622 - sparse_categorical_accuracy: 0.0139 - val_loss: 2.2613 - val_sparse_categorical_accuracy: 0.0156\n",
            "Epoch 7/100\n",
            "13/13 [==============================] - 0s 18ms/step - loss: 2.2646 - sparse_categorical_accuracy: 0.0121 - val_loss: 2.2561 - val_sparse_categorical_accuracy: 0.0156\n",
            "Epoch 8/100\n",
            "13/13 [==============================] - 0s 18ms/step - loss: 2.2575 - sparse_categorical_accuracy: 0.0108 - val_loss: 2.2510 - val_sparse_categorical_accuracy: 0.0156\n",
            "Epoch 9/100\n",
            "13/13 [==============================] - 0s 18ms/step - loss: 2.2523 - sparse_categorical_accuracy: 0.0133 - val_loss: 2.2458 - val_sparse_categorical_accuracy: 0.0156\n",
            "Epoch 10/100\n",
            "13/13 [==============================] - 0s 18ms/step - loss: 2.2418 - sparse_categorical_accuracy: 0.0133 - val_loss: 2.2406 - val_sparse_categorical_accuracy: 0.0156\n",
            "Epoch 11/100\n",
            "13/13 [==============================] - 0s 17ms/step - loss: 2.2442 - sparse_categorical_accuracy: 0.0151 - val_loss: 2.2354 - val_sparse_categorical_accuracy: 0.0156\n",
            "Epoch 12/100\n",
            "13/13 [==============================] - 0s 17ms/step - loss: 2.2334 - sparse_categorical_accuracy: 0.0165 - val_loss: 2.2302 - val_sparse_categorical_accuracy: 0.0188\n",
            "Epoch 13/100\n",
            "13/13 [==============================] - 0s 19ms/step - loss: 2.2318 - sparse_categorical_accuracy: 0.0158 - val_loss: 2.2250 - val_sparse_categorical_accuracy: 0.0219\n",
            "Epoch 14/100\n",
            "13/13 [==============================] - 0s 18ms/step - loss: 2.2290 - sparse_categorical_accuracy: 0.0099 - val_loss: 2.2198 - val_sparse_categorical_accuracy: 0.0219\n",
            "Epoch 15/100\n",
            "13/13 [==============================] - 0s 18ms/step - loss: 2.2201 - sparse_categorical_accuracy: 0.0249 - val_loss: 2.2146 - val_sparse_categorical_accuracy: 0.0281\n",
            "Epoch 16/100\n",
            "13/13 [==============================] - 0s 18ms/step - loss: 2.2179 - sparse_categorical_accuracy: 0.0297 - val_loss: 2.2094 - val_sparse_categorical_accuracy: 0.0406\n",
            "Epoch 17/100\n",
            "13/13 [==============================] - 0s 19ms/step - loss: 2.2119 - sparse_categorical_accuracy: 0.0397 - val_loss: 2.2041 - val_sparse_categorical_accuracy: 0.0469\n",
            "Epoch 18/100\n",
            "13/13 [==============================] - 0s 18ms/step - loss: 2.2068 - sparse_categorical_accuracy: 0.0542 - val_loss: 2.1989 - val_sparse_categorical_accuracy: 0.0844\n",
            "Epoch 19/100\n",
            "13/13 [==============================] - 0s 18ms/step - loss: 2.2067 - sparse_categorical_accuracy: 0.0758 - val_loss: 2.1937 - val_sparse_categorical_accuracy: 0.1063\n",
            "Epoch 20/100\n",
            "13/13 [==============================] - 0s 17ms/step - loss: 2.1944 - sparse_categorical_accuracy: 0.1033 - val_loss: 2.1884 - val_sparse_categorical_accuracy: 0.1375\n",
            "Epoch 21/100\n",
            "13/13 [==============================] - 0s 17ms/step - loss: 2.1909 - sparse_categorical_accuracy: 0.1248 - val_loss: 2.1832 - val_sparse_categorical_accuracy: 0.1719\n",
            "Epoch 22/100\n",
            "13/13 [==============================] - 0s 18ms/step - loss: 2.1885 - sparse_categorical_accuracy: 0.1440 - val_loss: 2.1779 - val_sparse_categorical_accuracy: 0.1875\n",
            "Epoch 23/100\n",
            "13/13 [==============================] - 0s 18ms/step - loss: 2.1809 - sparse_categorical_accuracy: 0.1800 - val_loss: 2.1727 - val_sparse_categorical_accuracy: 0.1969\n",
            "Epoch 24/100\n",
            "13/13 [==============================] - 0s 19ms/step - loss: 2.1767 - sparse_categorical_accuracy: 0.2065 - val_loss: 2.1674 - val_sparse_categorical_accuracy: 0.2250\n",
            "Epoch 25/100\n",
            "13/13 [==============================] - 0s 19ms/step - loss: 2.1690 - sparse_categorical_accuracy: 0.2422 - val_loss: 2.1621 - val_sparse_categorical_accuracy: 0.2531\n",
            "Epoch 26/100\n",
            "13/13 [==============================] - 0s 19ms/step - loss: 2.1669 - sparse_categorical_accuracy: 0.2629 - val_loss: 2.1568 - val_sparse_categorical_accuracy: 0.2844\n",
            "Epoch 27/100\n",
            "13/13 [==============================] - 0s 18ms/step - loss: 2.1593 - sparse_categorical_accuracy: 0.2847 - val_loss: 2.1515 - val_sparse_categorical_accuracy: 0.3125\n",
            "Epoch 28/100\n",
            "13/13 [==============================] - 0s 18ms/step - loss: 2.1521 - sparse_categorical_accuracy: 0.3317 - val_loss: 2.1462 - val_sparse_categorical_accuracy: 0.3250\n",
            "Epoch 29/100\n",
            "13/13 [==============================] - 0s 18ms/step - loss: 2.1522 - sparse_categorical_accuracy: 0.3506 - val_loss: 2.1409 - val_sparse_categorical_accuracy: 0.3438\n",
            "Epoch 30/100\n",
            "13/13 [==============================] - 0s 19ms/step - loss: 2.1480 - sparse_categorical_accuracy: 0.3783 - val_loss: 2.1356 - val_sparse_categorical_accuracy: 0.3719\n",
            "Epoch 31/100\n",
            "13/13 [==============================] - 0s 19ms/step - loss: 2.1431 - sparse_categorical_accuracy: 0.3939 - val_loss: 2.1303 - val_sparse_categorical_accuracy: 0.3938\n",
            "Epoch 32/100\n",
            "13/13 [==============================] - 0s 18ms/step - loss: 2.1360 - sparse_categorical_accuracy: 0.4216 - val_loss: 2.1249 - val_sparse_categorical_accuracy: 0.4125\n",
            "Epoch 33/100\n",
            "13/13 [==============================] - 0s 33ms/step - loss: 2.1293 - sparse_categorical_accuracy: 0.4502 - val_loss: 2.1196 - val_sparse_categorical_accuracy: 0.4344\n",
            "Epoch 34/100\n",
            "13/13 [==============================] - 0s 19ms/step - loss: 2.1259 - sparse_categorical_accuracy: 0.4537 - val_loss: 2.1142 - val_sparse_categorical_accuracy: 0.4375\n",
            "Epoch 35/100\n",
            "13/13 [==============================] - 0s 19ms/step - loss: 2.1222 - sparse_categorical_accuracy: 0.4654 - val_loss: 2.1089 - val_sparse_categorical_accuracy: 0.4594\n",
            "Epoch 36/100\n",
            "13/13 [==============================] - 0s 19ms/step - loss: 2.1161 - sparse_categorical_accuracy: 0.4742 - val_loss: 2.1035 - val_sparse_categorical_accuracy: 0.4719\n",
            "Epoch 37/100\n",
            "13/13 [==============================] - 0s 18ms/step - loss: 2.1113 - sparse_categorical_accuracy: 0.4928 - val_loss: 2.0982 - val_sparse_categorical_accuracy: 0.4781\n",
            "Epoch 38/100\n",
            "13/13 [==============================] - 0s 18ms/step - loss: 2.1089 - sparse_categorical_accuracy: 0.4671 - val_loss: 2.0928 - val_sparse_categorical_accuracy: 0.4844\n",
            "Epoch 39/100\n",
            "13/13 [==============================] - 0s 18ms/step - loss: 2.1001 - sparse_categorical_accuracy: 0.4874 - val_loss: 2.0875 - val_sparse_categorical_accuracy: 0.4844\n",
            "Epoch 40/100\n",
            "13/13 [==============================] - 0s 18ms/step - loss: 2.0934 - sparse_categorical_accuracy: 0.5045 - val_loss: 2.0821 - val_sparse_categorical_accuracy: 0.4969\n",
            "Epoch 41/100\n",
            "13/13 [==============================] - 0s 17ms/step - loss: 2.0854 - sparse_categorical_accuracy: 0.5240 - val_loss: 2.0767 - val_sparse_categorical_accuracy: 0.5031\n",
            "Epoch 42/100\n",
            "13/13 [==============================] - 0s 18ms/step - loss: 2.0830 - sparse_categorical_accuracy: 0.5108 - val_loss: 2.0713 - val_sparse_categorical_accuracy: 0.5094\n",
            "Epoch 43/100\n",
            "13/13 [==============================] - 0s 18ms/step - loss: 2.0759 - sparse_categorical_accuracy: 0.5308 - val_loss: 2.0659 - val_sparse_categorical_accuracy: 0.5063\n",
            "Epoch 44/100\n",
            "13/13 [==============================] - 0s 18ms/step - loss: 2.0762 - sparse_categorical_accuracy: 0.4974 - val_loss: 2.0605 - val_sparse_categorical_accuracy: 0.5063\n",
            "Epoch 45/100\n",
            "13/13 [==============================] - 0s 18ms/step - loss: 2.0644 - sparse_categorical_accuracy: 0.5322 - val_loss: 2.0550 - val_sparse_categorical_accuracy: 0.5063\n",
            "Epoch 46/100\n",
            "13/13 [==============================] - 0s 20ms/step - loss: 2.0676 - sparse_categorical_accuracy: 0.4982 - val_loss: 2.0496 - val_sparse_categorical_accuracy: 0.5094\n",
            "Epoch 47/100\n",
            "13/13 [==============================] - 0s 20ms/step - loss: 2.0549 - sparse_categorical_accuracy: 0.5222 - val_loss: 2.0441 - val_sparse_categorical_accuracy: 0.5094\n",
            "Epoch 48/100\n",
            "13/13 [==============================] - 0s 19ms/step - loss: 2.0567 - sparse_categorical_accuracy: 0.5036 - val_loss: 2.0386 - val_sparse_categorical_accuracy: 0.5125\n",
            "Epoch 49/100\n",
            "13/13 [==============================] - 0s 18ms/step - loss: 2.0490 - sparse_categorical_accuracy: 0.5105 - val_loss: 2.0331 - val_sparse_categorical_accuracy: 0.5125\n",
            "Epoch 50/100\n",
            "13/13 [==============================] - 0s 19ms/step - loss: 2.0385 - sparse_categorical_accuracy: 0.5188 - val_loss: 2.0276 - val_sparse_categorical_accuracy: 0.5125\n",
            "Epoch 51/100\n",
            "13/13 [==============================] - 0s 18ms/step - loss: 2.0312 - sparse_categorical_accuracy: 0.5191 - val_loss: 2.0221 - val_sparse_categorical_accuracy: 0.5156\n",
            "Epoch 52/100\n",
            "13/13 [==============================] - 0s 18ms/step - loss: 2.0326 - sparse_categorical_accuracy: 0.5095 - val_loss: 2.0166 - val_sparse_categorical_accuracy: 0.5156\n",
            "Epoch 53/100\n",
            "13/13 [==============================] - 0s 18ms/step - loss: 2.0244 - sparse_categorical_accuracy: 0.5387 - val_loss: 2.0110 - val_sparse_categorical_accuracy: 0.5156\n",
            "Epoch 54/100\n",
            "13/13 [==============================] - 0s 18ms/step - loss: 2.0220 - sparse_categorical_accuracy: 0.5126 - val_loss: 2.0054 - val_sparse_categorical_accuracy: 0.5188\n",
            "Epoch 55/100\n",
            "13/13 [==============================] - 0s 19ms/step - loss: 2.0165 - sparse_categorical_accuracy: 0.5035 - val_loss: 1.9999 - val_sparse_categorical_accuracy: 0.5219\n",
            "Epoch 56/100\n",
            "13/13 [==============================] - 0s 19ms/step - loss: 2.0080 - sparse_categorical_accuracy: 0.5102 - val_loss: 1.9943 - val_sparse_categorical_accuracy: 0.5219\n",
            "Epoch 57/100\n",
            "13/13 [==============================] - 0s 18ms/step - loss: 2.0095 - sparse_categorical_accuracy: 0.5221 - val_loss: 1.9887 - val_sparse_categorical_accuracy: 0.5219\n",
            "Epoch 58/100\n",
            "13/13 [==============================] - 0s 18ms/step - loss: 1.9920 - sparse_categorical_accuracy: 0.5357 - val_loss: 1.9830 - val_sparse_categorical_accuracy: 0.5250\n",
            "Epoch 59/100\n",
            "13/13 [==============================] - 0s 18ms/step - loss: 1.9953 - sparse_categorical_accuracy: 0.5072 - val_loss: 1.9774 - val_sparse_categorical_accuracy: 0.5250\n",
            "Epoch 60/100\n",
            "13/13 [==============================] - 0s 18ms/step - loss: 1.9919 - sparse_categorical_accuracy: 0.5067 - val_loss: 1.9718 - val_sparse_categorical_accuracy: 0.5250\n",
            "Epoch 61/100\n",
            "13/13 [==============================] - 0s 19ms/step - loss: 1.9824 - sparse_categorical_accuracy: 0.5041 - val_loss: 1.9661 - val_sparse_categorical_accuracy: 0.5250\n",
            "Epoch 62/100\n",
            "13/13 [==============================] - 0s 18ms/step - loss: 1.9761 - sparse_categorical_accuracy: 0.5217 - val_loss: 1.9605 - val_sparse_categorical_accuracy: 0.5250\n",
            "Epoch 63/100\n",
            "13/13 [==============================] - 0s 19ms/step - loss: 1.9677 - sparse_categorical_accuracy: 0.5358 - val_loss: 1.9548 - val_sparse_categorical_accuracy: 0.5250\n",
            "Epoch 64/100\n",
            "13/13 [==============================] - 0s 19ms/step - loss: 1.9656 - sparse_categorical_accuracy: 0.5141 - val_loss: 1.9491 - val_sparse_categorical_accuracy: 0.5250\n",
            "Epoch 65/100\n",
            "13/13 [==============================] - 0s 19ms/step - loss: 1.9593 - sparse_categorical_accuracy: 0.5295 - val_loss: 1.9434 - val_sparse_categorical_accuracy: 0.5281\n",
            "Epoch 66/100\n",
            "13/13 [==============================] - 0s 18ms/step - loss: 1.9583 - sparse_categorical_accuracy: 0.5287 - val_loss: 1.9376 - val_sparse_categorical_accuracy: 0.5281\n",
            "Epoch 67/100\n",
            "13/13 [==============================] - 0s 19ms/step - loss: 1.9498 - sparse_categorical_accuracy: 0.5201 - val_loss: 1.9318 - val_sparse_categorical_accuracy: 0.5281\n",
            "Epoch 68/100\n",
            "13/13 [==============================] - 0s 18ms/step - loss: 1.9440 - sparse_categorical_accuracy: 0.5290 - val_loss: 1.9261 - val_sparse_categorical_accuracy: 0.5281\n",
            "Epoch 69/100\n",
            "13/13 [==============================] - 0s 18ms/step - loss: 1.9392 - sparse_categorical_accuracy: 0.5215 - val_loss: 1.9203 - val_sparse_categorical_accuracy: 0.5281\n",
            "Epoch 70/100\n",
            "13/13 [==============================] - 0s 18ms/step - loss: 1.9334 - sparse_categorical_accuracy: 0.5209 - val_loss: 1.9145 - val_sparse_categorical_accuracy: 0.5281\n",
            "Epoch 71/100\n",
            "13/13 [==============================] - 0s 19ms/step - loss: 1.9211 - sparse_categorical_accuracy: 0.5233 - val_loss: 1.9087 - val_sparse_categorical_accuracy: 0.5312\n",
            "Epoch 72/100\n",
            "13/13 [==============================] - 0s 19ms/step - loss: 1.9245 - sparse_categorical_accuracy: 0.5214 - val_loss: 1.9029 - val_sparse_categorical_accuracy: 0.5312\n",
            "Epoch 73/100\n",
            "13/13 [==============================] - 0s 19ms/step - loss: 1.9100 - sparse_categorical_accuracy: 0.5451 - val_loss: 1.8970 - val_sparse_categorical_accuracy: 0.5344\n",
            "Epoch 74/100\n",
            "13/13 [==============================] - 0s 19ms/step - loss: 1.9173 - sparse_categorical_accuracy: 0.5072 - val_loss: 1.8912 - val_sparse_categorical_accuracy: 0.5375\n",
            "Epoch 75/100\n",
            "13/13 [==============================] - 0s 18ms/step - loss: 1.9154 - sparse_categorical_accuracy: 0.5165 - val_loss: 1.8853 - val_sparse_categorical_accuracy: 0.5375\n",
            "Epoch 76/100\n",
            "13/13 [==============================] - 0s 18ms/step - loss: 1.9013 - sparse_categorical_accuracy: 0.5253 - val_loss: 1.8794 - val_sparse_categorical_accuracy: 0.5375\n",
            "Epoch 77/100\n",
            "13/13 [==============================] - 0s 20ms/step - loss: 1.8951 - sparse_categorical_accuracy: 0.5324 - val_loss: 1.8735 - val_sparse_categorical_accuracy: 0.5375\n",
            "Epoch 78/100\n",
            "13/13 [==============================] - 0s 19ms/step - loss: 1.8897 - sparse_categorical_accuracy: 0.5259 - val_loss: 1.8676 - val_sparse_categorical_accuracy: 0.5375\n",
            "Epoch 79/100\n",
            "13/13 [==============================] - 0s 18ms/step - loss: 1.8795 - sparse_categorical_accuracy: 0.5358 - val_loss: 1.8617 - val_sparse_categorical_accuracy: 0.5344\n",
            "Epoch 80/100\n",
            "13/13 [==============================] - 0s 20ms/step - loss: 1.8768 - sparse_categorical_accuracy: 0.5398 - val_loss: 1.8558 - val_sparse_categorical_accuracy: 0.5344\n",
            "Epoch 81/100\n",
            "13/13 [==============================] - 0s 19ms/step - loss: 1.8706 - sparse_categorical_accuracy: 0.5449 - val_loss: 1.8498 - val_sparse_categorical_accuracy: 0.5344\n",
            "Epoch 82/100\n",
            "13/13 [==============================] - 0s 18ms/step - loss: 1.8686 - sparse_categorical_accuracy: 0.5208 - val_loss: 1.8439 - val_sparse_categorical_accuracy: 0.5281\n",
            "Epoch 83/100\n",
            "13/13 [==============================] - 0s 19ms/step - loss: 1.8558 - sparse_categorical_accuracy: 0.5387 - val_loss: 1.8379 - val_sparse_categorical_accuracy: 0.5219\n",
            "Epoch 84/100\n",
            "13/13 [==============================] - 0s 19ms/step - loss: 1.8513 - sparse_categorical_accuracy: 0.5335 - val_loss: 1.8320 - val_sparse_categorical_accuracy: 0.5188\n",
            "Epoch 85/100\n",
            "13/13 [==============================] - 0s 18ms/step - loss: 1.8467 - sparse_categorical_accuracy: 0.5475 - val_loss: 1.8260 - val_sparse_categorical_accuracy: 0.5219\n",
            "Epoch 86/100\n",
            "13/13 [==============================] - 0s 18ms/step - loss: 1.8357 - sparse_categorical_accuracy: 0.5531 - val_loss: 1.8200 - val_sparse_categorical_accuracy: 0.5312\n",
            "Epoch 87/100\n",
            "13/13 [==============================] - 0s 18ms/step - loss: 1.8432 - sparse_categorical_accuracy: 0.5319 - val_loss: 1.8140 - val_sparse_categorical_accuracy: 0.5312\n",
            "Epoch 88/100\n",
            "13/13 [==============================] - 0s 20ms/step - loss: 1.8299 - sparse_categorical_accuracy: 0.5357 - val_loss: 1.8080 - val_sparse_categorical_accuracy: 0.5312\n",
            "Epoch 89/100\n",
            "13/13 [==============================] - 0s 18ms/step - loss: 1.8207 - sparse_categorical_accuracy: 0.5482 - val_loss: 1.8020 - val_sparse_categorical_accuracy: 0.5312\n",
            "Epoch 90/100\n",
            "13/13 [==============================] - 0s 19ms/step - loss: 1.8188 - sparse_categorical_accuracy: 0.5347 - val_loss: 1.7960 - val_sparse_categorical_accuracy: 0.5312\n",
            "Epoch 91/100\n",
            "13/13 [==============================] - 0s 32ms/step - loss: 1.8045 - sparse_categorical_accuracy: 0.5449 - val_loss: 1.7900 - val_sparse_categorical_accuracy: 0.5312\n",
            "Epoch 92/100\n",
            "13/13 [==============================] - 0s 19ms/step - loss: 1.7998 - sparse_categorical_accuracy: 0.5450 - val_loss: 1.7840 - val_sparse_categorical_accuracy: 0.5344\n",
            "Epoch 93/100\n",
            "13/13 [==============================] - 0s 18ms/step - loss: 1.7900 - sparse_categorical_accuracy: 0.5507 - val_loss: 1.7780 - val_sparse_categorical_accuracy: 0.5344\n",
            "Epoch 94/100\n",
            "13/13 [==============================] - 0s 17ms/step - loss: 1.7911 - sparse_categorical_accuracy: 0.5388 - val_loss: 1.7719 - val_sparse_categorical_accuracy: 0.5344\n",
            "Epoch 95/100\n",
            "13/13 [==============================] - 0s 19ms/step - loss: 1.7837 - sparse_categorical_accuracy: 0.5366 - val_loss: 1.7659 - val_sparse_categorical_accuracy: 0.5344\n",
            "Epoch 96/100\n",
            "13/13 [==============================] - 0s 20ms/step - loss: 1.7752 - sparse_categorical_accuracy: 0.5479 - val_loss: 1.7599 - val_sparse_categorical_accuracy: 0.5344\n",
            "Epoch 97/100\n",
            "13/13 [==============================] - 0s 19ms/step - loss: 1.7695 - sparse_categorical_accuracy: 0.5538 - val_loss: 1.7539 - val_sparse_categorical_accuracy: 0.5312\n",
            "Epoch 98/100\n",
            "13/13 [==============================] - 0s 21ms/step - loss: 1.7625 - sparse_categorical_accuracy: 0.5588 - val_loss: 1.7479 - val_sparse_categorical_accuracy: 0.5344\n",
            "Epoch 99/100\n",
            "13/13 [==============================] - 0s 21ms/step - loss: 1.7699 - sparse_categorical_accuracy: 0.5394 - val_loss: 1.7418 - val_sparse_categorical_accuracy: 0.5344\n",
            "Epoch 100/100\n",
            "13/13 [==============================] - 0s 20ms/step - loss: 1.7571 - sparse_categorical_accuracy: 0.5487 - val_loss: 1.7358 - val_sparse_categorical_accuracy: 0.5312\n"
          ],
          "name": "stdout"
        }
      ]
    },
    {
      "cell_type": "code",
      "metadata": {
        "colab": {
          "base_uri": "https://localhost:8080/",
          "height": 265
        },
        "id": "-MPp4YQjgBU0",
        "outputId": "87313ac9-69e6-407a-f1bd-ffbc27de2f32"
      },
      "source": [
        "import pandas as pd\r\n",
        "history_df = pd.DataFrame(history.history)\r\n",
        "history_df[['loss', 'val_loss']].plot();"
      ],
      "execution_count": 45,
      "outputs": [
        {
          "output_type": "display_data",
          "data": {
            "image/png": "[encoded data removed]",
            "text/plain": [
              "<Figure size 432x288 with 1 Axes>"
            ]
          },
          "metadata": {
            "tags": [],
            "needs_background": "light"
          }
        }
      ]
    },
    {
      "cell_type": "code",
      "metadata": {
        "colab": {
          "base_uri": "https://localhost:8080/"
        },
        "id": "olJRMVyhvNdw",
        "outputId": "b3543604-3f64-466e-c592-84e8c078c52e"
      },
      "source": [
        "Y_pred = model.predict(X_valid)"
      ],
      "execution_count": 50,
      "outputs": [
        {
          "output_type": "execute_result",
          "data": {
            "text/plain": [
              "1377    6\n",
              "503     7\n",
              "1415    5\n",
              "1378    6\n",
              "1370    5\n",
              "Name: quality, dtype: int64"
            ]
          },
          "metadata": {
            "tags": []
          },
          "execution_count": 50
        }
      ]
    },
    {
      "cell_type": "code",
      "metadata": {
        "colab": {
          "base_uri": "https://localhost:8080/"
        },
        "id": "TPJzgZP3k5Ej",
        "outputId": "f1b147fa-977f-4530-bef3-dfd4ddd06cac"
      },
      "source": [
        "print(Y_pred[0])\r\n",
        "np.argmax(Y_pred[0])"
      ],
      "execution_count": 54,
      "outputs": [
        {
          "output_type": "stream",
          "text": [
            "[0.06730346 0.08187468 0.07637952 0.06863711 0.10335622 0.19077082\n",
            " 0.22805527 0.10193133 0.08169159]\n"
          ],
          "name": "stdout"
        },
        {
          "output_type": "execute_result",
          "data": {
            "text/plain": [
              "6"
            ]
          },
          "metadata": {
            "tags": []
          },
          "execution_count": 54
        }
      ]
    },
    {
      "cell_type": "code",
      "metadata": {
        "id": "-HhJWjaolXa1"
      },
      "source": [
        "Y_pred2 = np.apply_along_axis(np.argmax, 1, Y_pred)"
      ],
      "execution_count": 56,
      "outputs": []
    },
    {
      "cell_type": "code",
      "metadata": {
        "colab": {
          "base_uri": "https://localhost:8080/"
        },
        "id": "J7LhS8AMlrFg",
        "outputId": "a8786122-7fda-428d-eaf7-f965213ba11f"
      },
      "source": [
        "from sklearn.metrics import classification_report\r\n",
        "print(classification_report(Y_valid, Y_pred2))"
      ],
      "execution_count": 58,
      "outputs": [
        {
          "output_type": "stream",
          "text": [
            "              precision    recall  f1-score   support\n",
            "\n",
            "           3       0.00      0.00      0.00         1\n",
            "           4       0.00      0.00      0.00        12\n",
            "           5       0.56      0.88      0.68       145\n",
            "           6       0.46      0.34      0.39       124\n",
            "           7       0.00      0.00      0.00        35\n",
            "           8       0.00      0.00      0.00         3\n",
            "\n",
            "    accuracy                           0.53       320\n",
            "   macro avg       0.17      0.20      0.18       320\n",
            "weighted avg       0.43      0.53      0.46       320\n",
            "\n"
          ],
          "name": "stdout"
        },
        {
          "output_type": "stream",
          "text": [
            "/usr/local/lib/python3.6/dist-packages/sklearn/metrics/_classification.py:1272: UndefinedMetricWarning: Precision and F-score are ill-defined and being set to 0.0 in labels with no predicted samples. Use `zero_division` parameter to control this behavior.\n",
            "  _warn_prf(average, modifier, msg_start, len(result))\n"
          ],
          "name": "stderr"
        }
      ]
    }
  ]
}